{
 "cells": [
  {
   "cell_type": "markdown",
   "source": [
    "# Transfer Learning"
   ],
   "metadata": {}
  },
  {
   "cell_type": "markdown",
   "source": [
    "<https://www.kaggle.com/aryan7781/transfer-model-vgg-16>"
   ],
   "metadata": {}
  },
  {
   "cell_type": "code",
   "execution_count": 1,
   "source": [
    "from pathlib import Path\n",
    "\n",
    "BASE_DIR = Path('/Users/efraflores/Desktop/hub/datathon2021/Scripts/data/test/Transfer_Learning')\n",
    "EPOCHS = 4\n",
    "BATCH_SIZE = 1500"
   ],
   "outputs": [],
   "metadata": {}
  },
  {
   "cell_type": "markdown",
   "source": [
    "## Import dataset"
   ],
   "metadata": {}
  },
  {
   "cell_type": "code",
   "execution_count": 2,
   "source": [
    "from tensorflow.keras.datasets import cifar10\n",
    "\n",
    "(X_train, y_train), (X_test, y_test) = cifar10.load_data()\n",
    "print(X_train.shape)"
   ],
   "outputs": [
    {
     "output_type": "stream",
     "name": "stdout",
     "text": [
      "(50000, 32, 32, 3)\n"
     ]
    }
   ],
   "metadata": {}
  },
  {
   "cell_type": "markdown",
   "source": [
    "## Change dim"
   ],
   "metadata": {}
  },
  {
   "cell_type": "code",
   "execution_count": 3,
   "source": [
    "import cv2\n",
    "import numpy as np\n",
    "\n",
    "def gray_to_rgb(X):\n",
    "    \"\"\"Expands the array to match the shape of a RGB image\"\"\"\n",
    "    X = map(lambda x: np.stack((x,)*3, axis=-1), X)\n",
    "    return np.array(list(X))\n",
    "\n",
    "def min_size(X):\n",
    "    \"\"\"Resize the array to match the minimum size of pre-trained model\"\"\"\n",
    "    if X.shape[1] < 32 or X.shape[2] < 32:\n",
    "        X = np.array([cv2.resize(x, dsize=(32,32), interpolation=cv2.INTER_CUBIC) for x in X])\n",
    "    return X"
   ],
   "outputs": [],
   "metadata": {}
  },
  {
   "cell_type": "code",
   "execution_count": 4,
   "source": [
    "# X_train = min_size(gray_to_rgb(X_train))\n",
    "# X_test = min_size(gray_to_rgb(X_test))\n",
    "# print(X_train.shape)"
   ],
   "outputs": [],
   "metadata": {}
  },
  {
   "cell_type": "code",
   "execution_count": 5,
   "source": [
    "from tensorflow.keras.utils import to_categorical\n",
    "\n",
    "# Reshape the target to be an array of 0 and 1 where the class is present\n",
    "y_train = to_categorical(y_train)\n",
    "y_test = to_categorical(y_test)\n",
    "print(y_train.shape)"
   ],
   "outputs": [
    {
     "output_type": "stream",
     "name": "stdout",
     "text": [
      "(50000, 10)\n"
     ]
    }
   ],
   "metadata": {}
  },
  {
   "cell_type": "markdown",
   "source": [
    "## Model"
   ],
   "metadata": {}
  },
  {
   "cell_type": "markdown",
   "source": [
    "### VGG16"
   ],
   "metadata": {}
  },
  {
   "cell_type": "code",
   "execution_count": 6,
   "source": [
    "import os\n",
    "from tensorflow.keras.models import Model\n",
    "from tensorflow.keras.applications import vgg16\n",
    "from tensorflow.keras.layers import Conv2D, MaxPooling2D, Flatten, Dense, Dropout, LSTM, GRU\n",
    "from tensorflow.keras.callbacks import EarlyStopping, ModelCheckpoint\n",
    "\n",
    "os.environ['TF_CPP_MIN_LOG_LEVEL'] = '2'\n",
    "\n",
    "# Get pretrained arquitecture and weights\n",
    "pretrained_model = vgg16.VGG16(include_top=False, input_shape=X_train.shape[1:], pooling='max')\n",
    "pretrained_model.trainable = False\n",
    "\n",
    "# Set the input\n",
    "inputs = pretrained_model.input\n",
    "\n",
    "# Add layers to fine-tuning (learn from your data)\n",
    "x = Dense(128, activation='relu')(pretrained_model.output)\n",
    "x = Dense(128, activation='relu')(x)\n",
    "\n",
    "# If there's a categorical task, final layer should have N units where N is the number of classes\n",
    "outputs = Dense(y_train.shape[-1], activation='softmax')(x)\n",
    "\n",
    "# Set the model, from inputs to outputs\n",
    "model = Model(inputs=inputs, outputs=outputs)\n",
    "\n",
    "# Compile\n",
    "model.compile(optimizer='adam', loss='categorical_crossentropy', metrics='accuracy')\n",
    "# Callbacks\n",
    "early_stopping = EarlyStopping(monitor='val_accuracy', patience=20)\n",
    "checkpoint = ModelCheckpoint(BASE_DIR.joinpath('models','transfer_vgg16_{val_accuracy:.3f}.h5'),\n",
    "                             save_best_only=True,\n",
    "                             save_weights_only=False,\n",
    "                             monitor='val_accuracy')\n",
    "\n",
    "# There shoul be a train and test generator\n",
    "training_history = model.fit(X_train, y_train, epochs=EPOCHS, batch_size=BATCH_SIZE, validation_data=(X_test, y_test), callbacks=[checkpoint, early_stopping])"
   ],
   "outputs": [
    {
     "output_type": "stream",
     "name": "stdout",
     "text": [
      "Epoch 1/4\n",
      "34/34 [==============================] - 190s 6s/step - loss: 5.4746 - accuracy: 0.3180 - val_loss: 2.4861 - val_accuracy: 0.3884\n",
      "Epoch 2/4\n",
      "34/34 [==============================] - 223s 7s/step - loss: 2.0670 - accuracy: 0.4222 - val_loss: 1.8567 - val_accuracy: 0.4370\n",
      "Epoch 3/4\n",
      "34/34 [==============================] - 262s 8s/step - loss: 1.6531 - accuracy: 0.4771 - val_loss: 1.6583 - val_accuracy: 0.4690\n",
      "Epoch 4/4\n",
      "34/34 [==============================] - 267s 8s/step - loss: 1.4673 - accuracy: 0.5152 - val_loss: 1.5500 - val_accuracy: 0.4988\n"
     ]
    }
   ],
   "metadata": {}
  },
  {
   "cell_type": "markdown",
   "source": [
    "### ResNet50"
   ],
   "metadata": {}
  },
  {
   "cell_type": "code",
   "execution_count": 7,
   "source": [
    "import os\n",
    "from tensorflow.keras.models import Model\n",
    "from tensorflow.keras.applications import resnet50\n",
    "from tensorflow.keras.layers import Conv2D, MaxPooling2D, Flatten, Dense, Dropout, LSTM, GRU\n",
    "from tensorflow.keras.callbacks import EarlyStopping, ModelCheckpoint\n",
    "\n",
    "os.environ['TF_CPP_MIN_LOG_LEVEL'] = '2'\n",
    "\n",
    "# Get pretrained arquitecture and weights\n",
    "pretrained_model = resnet50.ResNet50(include_top=False, input_shape=X_train.shape[1:], pooling='max')\n",
    "pretrained_model.trainable = False\n",
    "\n",
    "# Set the input\n",
    "inputs = pretrained_model.input\n",
    "\n",
    "# Add layers to fine-tuning (learn from your data)\n",
    "x = Dense(128, activation='relu')(pretrained_model.output)\n",
    "x = Dense(128, activation='relu')(x)\n",
    "\n",
    "# If there's a categorical task, final layer should have N units where N is the number of classes\n",
    "outputs = Dense(y_train.shape[-1], activation='softmax')(x)\n",
    "\n",
    "# Set the model, from inputs to outputs\n",
    "model = Model(inputs=inputs, outputs=outputs)\n",
    "\n",
    "# Compile\n",
    "model.compile(optimizer='adam', loss='categorical_crossentropy', metrics='accuracy')\n",
    "# Callbacks\n",
    "early_stopping = EarlyStopping(monitor='val_accuracy', patience=20)\n",
    "checkpoint = ModelCheckpoint(BASE_DIR.joinpath('models','transfer_resnet50_{val_accuracy:.3f}.h5'),\n",
    "                             save_best_only=True,\n",
    "                             save_weights_only=False,\n",
    "                             monitor='val_accuracy')\n",
    "\n",
    "# There shoul be a train and test generator\n",
    "training_history = model.fit(X_train, y_train, epochs=EPOCHS, batch_size=BATCH_SIZE//2, validation_data=(X_test, y_test), callbacks=[checkpoint, early_stopping])"
   ],
   "outputs": [
    {
     "output_type": "stream",
     "name": "stdout",
     "text": [
      "Epoch 1/4\n",
      "67/67 [==============================] - 100s 1s/step - loss: 1.5370 - accuracy: 0.4724 - val_loss: 1.2285 - val_accuracy: 0.5720\n"
     ]
    },
    {
     "output_type": "stream",
     "name": "stderr",
     "text": [
      "/Users/efraflores/Desktop/hub/datathon2021/venv/lib/python3.9/site-packages/keras/utils/generic_utils.py:494: CustomMaskWarning: Custom mask layers require a config and must override get_config. When loading, the custom mask layer must be passed to the custom_objects argument.\n",
      "  warnings.warn('Custom mask layers require a config and must override '\n"
     ]
    },
    {
     "output_type": "stream",
     "name": "stdout",
     "text": [
      "Epoch 2/4\n",
      "67/67 [==============================] - 119s 2s/step - loss: 1.1244 - accuracy: 0.6046 - val_loss: 1.1440 - val_accuracy: 0.5983\n",
      "Epoch 3/4\n",
      "67/67 [==============================] - 95s 1s/step - loss: 1.0086 - accuracy: 0.6463 - val_loss: 1.1037 - val_accuracy: 0.6163\n",
      "Epoch 4/4\n",
      "67/67 [==============================] - 117s 2s/step - loss: 0.9248 - accuracy: 0.6737 - val_loss: 1.1006 - val_accuracy: 0.6150\n"
     ]
    }
   ],
   "metadata": {}
  }
 ],
 "metadata": {
  "orig_nbformat": 4,
  "language_info": {
   "name": "python",
   "version": "3.9.1",
   "mimetype": "text/x-python",
   "codemirror_mode": {
    "name": "ipython",
    "version": 3
   },
   "pygments_lexer": "ipython3",
   "nbconvert_exporter": "python",
   "file_extension": ".py"
  },
  "kernelspec": {
   "name": "python3",
   "display_name": "Python 3.9.1 64-bit ('venv': venv)"
  },
  "interpreter": {
   "hash": "cbfba55dfc4cf98155506794edd6aecf0af75386b66b3e49c98ac37ae2b9007e"
  }
 },
 "nbformat": 4,
 "nbformat_minor": 2
}