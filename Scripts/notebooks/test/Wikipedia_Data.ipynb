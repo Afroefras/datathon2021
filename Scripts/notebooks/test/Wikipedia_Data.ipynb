{
 "cells": [
  {
   "cell_type": "markdown",
   "source": [
    "# Web Scraping from wikipedia"
   ],
   "metadata": {}
  },
  {
   "cell_type": "markdown",
   "source": [
    "## API"
   ],
   "metadata": {}
  },
  {
   "cell_type": "markdown",
   "source": [
    "Documentation here <https://pypi.org/project/Wikipedia-API/>"
   ],
   "metadata": {}
  },
  {
   "cell_type": "code",
   "execution_count": 2,
   "source": [
    "from typing import Dict, List\n",
    "from wikipediaapi import Wikipedia\n",
    "\n",
    "class WikiDict(Wikipedia):\n",
    "    def __init__(self) -> None:\n",
    "        super().__init__(language='es')\n",
    "\n",
    "    def page_to_dict(self, page: str, feature_list=['title','summary','fullurl','sections','links']) -> Dict:\n",
    "        search = self.page(page)\n",
    "        page_dict = {}\n",
    "        for feature in feature_list:\n",
    "            page_dict[feature] = eval(f'search.{feature}')\n",
    "        return page_dict\n",
    "\n",
    "wiki = WikiDict()"
   ],
   "outputs": [],
   "metadata": {}
  },
  {
   "cell_type": "code",
   "execution_count": 37,
   "source": [
    "import pandas as pd\n",
    "\n",
    "df = pd.DataFrame({'Program':['Python','SQL','JavaScript']})\n",
    "df"
   ],
   "outputs": [
    {
     "output_type": "execute_result",
     "data": {
      "text/html": [
       "<div>\n",
       "<style scoped>\n",
       "    .dataframe tbody tr th:only-of-type {\n",
       "        vertical-align: middle;\n",
       "    }\n",
       "\n",
       "    .dataframe tbody tr th {\n",
       "        vertical-align: top;\n",
       "    }\n",
       "\n",
       "    .dataframe thead th {\n",
       "        text-align: right;\n",
       "    }\n",
       "</style>\n",
       "<table border=\"1\" class=\"dataframe\">\n",
       "  <thead>\n",
       "    <tr style=\"text-align: right;\">\n",
       "      <th></th>\n",
       "      <th>Program</th>\n",
       "    </tr>\n",
       "  </thead>\n",
       "  <tbody>\n",
       "    <tr>\n",
       "      <th>0</th>\n",
       "      <td>Python</td>\n",
       "    </tr>\n",
       "    <tr>\n",
       "      <th>1</th>\n",
       "      <td>SQL</td>\n",
       "    </tr>\n",
       "    <tr>\n",
       "      <th>2</th>\n",
       "      <td>JavaScript</td>\n",
       "    </tr>\n",
       "  </tbody>\n",
       "</table>\n",
       "</div>"
      ],
      "text/plain": [
       "      Program\n",
       "0      Python\n",
       "1         SQL\n",
       "2  JavaScript"
      ]
     },
     "metadata": {},
     "execution_count": 37
    }
   ],
   "metadata": {}
  },
  {
   "cell_type": "code",
   "execution_count": 38,
   "source": [
    "df['wiki'] = df['Program'].map(wiki.page_to_dict)\n",
    "df"
   ],
   "outputs": [
    {
     "output_type": "execute_result",
     "data": {
      "text/html": [
       "<div>\n",
       "<style scoped>\n",
       "    .dataframe tbody tr th:only-of-type {\n",
       "        vertical-align: middle;\n",
       "    }\n",
       "\n",
       "    .dataframe tbody tr th {\n",
       "        vertical-align: top;\n",
       "    }\n",
       "\n",
       "    .dataframe thead th {\n",
       "        text-align: right;\n",
       "    }\n",
       "</style>\n",
       "<table border=\"1\" class=\"dataframe\">\n",
       "  <thead>\n",
       "    <tr style=\"text-align: right;\">\n",
       "      <th></th>\n",
       "      <th>Program</th>\n",
       "      <th>wiki</th>\n",
       "    </tr>\n",
       "  </thead>\n",
       "  <tbody>\n",
       "    <tr>\n",
       "      <th>0</th>\n",
       "      <td>Python</td>\n",
       "      <td>{'title': 'Python', 'summary': 'Python es un l...</td>\n",
       "    </tr>\n",
       "    <tr>\n",
       "      <th>1</th>\n",
       "      <td>SQL</td>\n",
       "      <td>{'title': 'SQL', 'summary': 'SQL (por sus sigl...</td>\n",
       "    </tr>\n",
       "    <tr>\n",
       "      <th>2</th>\n",
       "      <td>JavaScript</td>\n",
       "      <td>{'title': 'JavaScript', 'summary': 'JavaScript...</td>\n",
       "    </tr>\n",
       "  </tbody>\n",
       "</table>\n",
       "</div>"
      ],
      "text/plain": [
       "      Program                                               wiki\n",
       "0      Python  {'title': 'Python', 'summary': 'Python es un l...\n",
       "1         SQL  {'title': 'SQL', 'summary': 'SQL (por sus sigl...\n",
       "2  JavaScript  {'title': 'JavaScript', 'summary': 'JavaScript..."
      ]
     },
     "metadata": {},
     "execution_count": 38
    }
   ],
   "metadata": {}
  },
  {
   "cell_type": "code",
   "execution_count": 45,
   "source": [
    "df = df.join(pd.DataFrame(df['wiki'].tolist(), index=df.index))\n",
    "df"
   ],
   "outputs": [
    {
     "output_type": "execute_result",
     "data": {
      "text/html": [
       "<div>\n",
       "<style scoped>\n",
       "    .dataframe tbody tr th:only-of-type {\n",
       "        vertical-align: middle;\n",
       "    }\n",
       "\n",
       "    .dataframe tbody tr th {\n",
       "        vertical-align: top;\n",
       "    }\n",
       "\n",
       "    .dataframe thead th {\n",
       "        text-align: right;\n",
       "    }\n",
       "</style>\n",
       "<table border=\"1\" class=\"dataframe\">\n",
       "  <thead>\n",
       "    <tr style=\"text-align: right;\">\n",
       "      <th></th>\n",
       "      <th>Program</th>\n",
       "      <th>wiki</th>\n",
       "      <th>title</th>\n",
       "      <th>summary</th>\n",
       "      <th>fullurl</th>\n",
       "      <th>sections</th>\n",
       "      <th>links</th>\n",
       "    </tr>\n",
       "  </thead>\n",
       "  <tbody>\n",
       "    <tr>\n",
       "      <th>0</th>\n",
       "      <td>Python</td>\n",
       "      <td>{'title': 'Python', 'summary': 'Python es un l...</td>\n",
       "      <td>Python</td>\n",
       "      <td>Python es un lenguaje de programación interpre...</td>\n",
       "      <td>https://es.wikipedia.org/wiki/Python</td>\n",
       "      <td>[Section: Historia (1):\\nPython fue creado a f...</td>\n",
       "      <td>{'ABC (lenguaje de programación)': ABC (lengua...</td>\n",
       "    </tr>\n",
       "    <tr>\n",
       "      <th>1</th>\n",
       "      <td>SQL</td>\n",
       "      <td>{'title': 'SQL', 'summary': 'SQL (por sus sigl...</td>\n",
       "      <td>SQL</td>\n",
       "      <td>SQL (por sus siglas en inglés Structured Query...</td>\n",
       "      <td>https://es.wikipedia.org/wiki/SQL</td>\n",
       "      <td>[Section: Orígenes y evolución (1):\\nLos oríge...</td>\n",
       "      <td>{'1986': 1986 (id: ??, ns: 0), '1989': 1989 (i...</td>\n",
       "    </tr>\n",
       "    <tr>\n",
       "      <th>2</th>\n",
       "      <td>JavaScript</td>\n",
       "      <td>{'title': 'JavaScript', 'summary': 'JavaScript...</td>\n",
       "      <td>JavaScript</td>\n",
       "      <td>JavaScript (abreviado comúnmente JS) es un len...</td>\n",
       "      <td>https://es.wikipedia.org/wiki/JavaScript</td>\n",
       "      <td>[Section: Historia (1):\\n\\nSubsections (3):\\nS...</td>\n",
       "      <td>{'AJAX': AJAX (id: ??, ns: 0), 'Accesibilidad ...</td>\n",
       "    </tr>\n",
       "  </tbody>\n",
       "</table>\n",
       "</div>"
      ],
      "text/plain": [
       "      Program  ...                                              links\n",
       "0      Python  ...  {'ABC (lenguaje de programación)': ABC (lengua...\n",
       "1         SQL  ...  {'1986': 1986 (id: ??, ns: 0), '1989': 1989 (i...\n",
       "2  JavaScript  ...  {'AJAX': AJAX (id: ??, ns: 0), 'Accesibilidad ...\n",
       "\n",
       "[3 rows x 7 columns]"
      ]
     },
     "metadata": {},
     "execution_count": 45
    }
   ],
   "metadata": {}
  },
  {
   "cell_type": "markdown",
   "source": [
    "## Webscraping"
   ],
   "metadata": {}
  },
  {
   "cell_type": "code",
   "execution_count": null,
   "source": [],
   "outputs": [],
   "metadata": {}
  },
  {
   "cell_type": "code",
   "execution_count": null,
   "source": [
    "# Import Module\n",
    "from bs4 import *\n",
    "import requests\n",
    " \n",
    "# Given URL\n",
    "url = \"https://en.wikipedia.org/wiki/Beautiful_Soup_(HTML_parser)\"\n",
    " \n",
    "# Fetch URL Content\n",
    "r = requests.get(url)\n",
    " \n",
    "# Get body content\n",
    "soup = BeautifulSoup(r.text,'html.parser').select('body')[0]\n",
    " \n",
    "# Initialize variable\n",
    "paragraphs = []\n",
    "images = []\n",
    "link = []\n",
    "heading = []\n",
    "remaining_content = []\n",
    " \n",
    "# Iterate throught all tags\n",
    "for tag in soup.find_all():\n",
    "     \n",
    "    # Check each tag name\n",
    "    # For Paragraph use p tag\n",
    "    if tag.name==\"p\":\n",
    "       \n",
    "        # use text for fetch the content inside p tag\n",
    "        paragraphs.append(tag.text)\n",
    "         \n",
    "    # For Image use img tag\n",
    "    elif tag.name==\"img\":\n",
    "       \n",
    "        # Add url and Image source URL\n",
    "        images.append(url+tag['src'])\n",
    "         \n",
    "    # For Anchor use a tag\n",
    "    elif tag.name==\"a\":\n",
    "       \n",
    "        # convert into string and then check href\n",
    "        # available in tag or not\n",
    "        if \"href\" in str(tag):\n",
    "           \n",
    "          # In href, there might be possible url is not there\n",
    "          # if url is not there\n",
    "            if \"https://en.wikipedia.org/w/\" not in str(tag['href']):\n",
    "                link.append(url+tag['href'])\n",
    "            else:\n",
    "                link.append(tag['href'])\n",
    "                 \n",
    "    # Similarly check for heading\n",
    "    # Six types of heading are there (H1, H2, H3, H4, H5, H6)\n",
    "    # check each tag and fetch text\n",
    "    elif \"h\" in tag.name:\n",
    "        if \"h1\"==tag.name:\n",
    "            heading.append(tag.text)\n",
    "        elif \"h2\"==tag.name:\n",
    "            heading.append(tag.text)\n",
    "        elif \"h3\"==tag.name:\n",
    "            heading.append(tag.text)\n",
    "        elif \"h4\"==tag.name:\n",
    "            heading.append(tag.text)\n",
    "        elif \"h5\"==tag.name:\n",
    "            heading.append(tag.text)\n",
    "        else:\n",
    "            heading.append(tag.text)\n",
    "             \n",
    "    # Remain content will store here\n",
    "    else:\n",
    "        remaining_content.append(tag.text)\n",
    "         \n",
    "print(paragraphs, images, link, heading, remaining_content)"
   ],
   "outputs": [],
   "metadata": {}
  }
 ],
 "metadata": {
  "orig_nbformat": 4,
  "language_info": {
   "name": "python",
   "version": "3.9.1",
   "mimetype": "text/x-python",
   "codemirror_mode": {
    "name": "ipython",
    "version": 3
   },
   "pygments_lexer": "ipython3",
   "nbconvert_exporter": "python",
   "file_extension": ".py"
  },
  "kernelspec": {
   "name": "python3",
   "display_name": "Python 3.9.1 64-bit ('venv': venv)"
  },
  "interpreter": {
   "hash": "cbfba55dfc4cf98155506794edd6aecf0af75386b66b3e49c98ac37ae2b9007e"
  }
 },
 "nbformat": 4,
 "nbformat_minor": 2
}