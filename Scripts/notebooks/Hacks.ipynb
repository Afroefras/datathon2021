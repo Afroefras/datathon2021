{
 "cells": [
  {
   "cell_type": "markdown",
   "source": [
    "# Transfer Learning"
   ],
   "metadata": {}
  },
  {
   "cell_type": "markdown",
   "source": [
    "<https://www.kaggle.com/aryan7781/transfer-model-vgg-16>"
   ],
   "metadata": {}
  },
  {
   "cell_type": "code",
   "execution_count": null,
   "source": [
    "from tensorflow.keras.models import Model\n",
    "from tensorflow.keras.applications import vgg16\n",
    "from tensorflow.keras.layers import Conv2D, MaxPooling2D, Flatten, Dense, Dropout\n",
    "from tensorflow.keras.callbacks import Callback, EarlyStopping\n",
    "\n",
    "# Get pretrained arquitecture and weights\n",
    "pretrained_model = vgg16.VGG16(include_top=False, input_shape=(224, 224, 3), pooling='max')\n",
    "pretrained_model.trainable = False\n",
    "\n",
    "# Set the input\n",
    "inputs = pretrained_model.input\n",
    "\n",
    "# Add layers to fine-tuning (learn from your data)\n",
    "x = Dense(128, activation='relu')(pretrained_model.output)\n",
    "x = Dense(128, activation='relu')(x)\n",
    "\n",
    "# If there's a categorical task, final layer should have N units where N is the number of classes\n",
    "outputs = Dense(9, activation='softmax')(x)\n",
    "\n",
    "# Set the model, from inputs to outputs\n",
    "model = Model(inputs=inputs, outputs=outputs)\n",
    "\n",
    "# Compile\n",
    "model.compile(optimizer='adam', loss='categorical_crossentropy', metrics='accuracy')\n",
    "callbacks_ = [EarlyStopping(monitor='val_accuracy', min_delta=0, patience=1, mode='auto'),]\n",
    "\n",
    "# There shoul be a train and test generator\n",
    "history = model.fit(train_generator, validation_data=valid_generator, epochs=4, callbacks=callbacks_)"
   ],
   "outputs": [],
   "metadata": {}
  }
 ],
 "metadata": {
  "orig_nbformat": 4,
  "language_info": {
   "name": "python",
   "version": "3.9.1"
  },
  "kernelspec": {
   "name": "python3",
   "display_name": "Python 3.9.1 64-bit ('venv': venv)"
  },
  "interpreter": {
   "hash": "cbfba55dfc4cf98155506794edd6aecf0af75386b66b3e49c98ac37ae2b9007e"
  }
 },
 "nbformat": 4,
 "nbformat_minor": 2
}