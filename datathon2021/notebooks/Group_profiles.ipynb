{
 "cells": [
  {
   "cell_type": "markdown",
   "source": [
    "# Group profiles"
   ],
   "metadata": {}
  },
  {
   "cell_type": "markdown",
   "source": [
    "## Parameters"
   ],
   "metadata": {}
  },
  {
   "cell_type": "code",
   "execution_count": 1,
   "source": [
    "BASE_DIR = '/Users/efraflores/Downloads'\n",
    "FOLDER_NAME = 'profiled'"
   ],
   "outputs": [],
   "metadata": {}
  },
  {
   "cell_type": "markdown",
   "source": [
    "## Import"
   ],
   "metadata": {}
  },
  {
   "cell_type": "code",
   "execution_count": 2,
   "source": [
    "from mariachis.models import GroupProfiles\n",
    "\n",
    "gp = GroupProfiles(BASE_DIR,FOLDER_NAME)\n",
    "print(gp)"
   ],
   "outputs": [
    {
     "output_type": "stream",
     "name": "stdout",
     "text": [
      "Path:\t/Users/efraflores/Downloads/profiled\n",
      "With 4 profiled files\n"
     ]
    }
   ],
   "metadata": {}
  },
  {
   "cell_type": "markdown",
   "source": [
    "## Profiles"
   ],
   "metadata": {}
  },
  {
   "cell_type": "code",
   "execution_count": 3,
   "source": [
    "df, pipe_obj = gp.full_pipeline(cluster_kwargs={'n_clusters':3, 'kmeans':False}, index='comunity_code', values='cluster', aggfunc=', '.join)\n",
    "df.reset_index().pivot_table(index='cluster_agg', columns='cluster', aggfunc={0:'count'}, fill_value=0).style.format(\"{:.0f}\").background_gradient('Blues')"
   ],
   "outputs": [
    {
     "output_type": "execute_result",
     "data": {
      "text/html": [
       "<style type=\"text/css\">\n",
       "#T_ddb4b_row0_col0, #T_ddb4b_row12_col0 {\n",
       "  background-color: #dce9f6;\n",
       "  color: #000000;\n",
       "}\n",
       "#T_ddb4b_row0_col1, #T_ddb4b_row0_col2, #T_ddb4b_row1_col1, #T_ddb4b_row1_col2, #T_ddb4b_row2_col0, #T_ddb4b_row2_col1, #T_ddb4b_row3_col0, #T_ddb4b_row4_col1, #T_ddb4b_row4_col2, #T_ddb4b_row5_col0, #T_ddb4b_row5_col1, #T_ddb4b_row6_col1, #T_ddb4b_row6_col2, #T_ddb4b_row8_col1, #T_ddb4b_row8_col2, #T_ddb4b_row9_col0, #T_ddb4b_row9_col1, #T_ddb4b_row10_col1, #T_ddb4b_row10_col2, #T_ddb4b_row11_col0, #T_ddb4b_row12_col1, #T_ddb4b_row12_col2, #T_ddb4b_row13_col0, #T_ddb4b_row13_col2, #T_ddb4b_row14_col1, #T_ddb4b_row14_col2, #T_ddb4b_row15_col0, #T_ddb4b_row15_col2, #T_ddb4b_row16_col0, #T_ddb4b_row16_col1, #T_ddb4b_row17_col0, #T_ddb4b_row18_col0, #T_ddb4b_row18_col1, #T_ddb4b_row19_col0, #T_ddb4b_row19_col2, #T_ddb4b_row20_col0, #T_ddb4b_row20_col2, #T_ddb4b_row21_col0, #T_ddb4b_row21_col1 {\n",
       "  background-color: #f7fbff;\n",
       "  color: #000000;\n",
       "}\n",
       "#T_ddb4b_row1_col0, #T_ddb4b_row7_col1, #T_ddb4b_row7_col2 {\n",
       "  background-color: #08306b;\n",
       "  color: #f1f1f1;\n",
       "}\n",
       "#T_ddb4b_row2_col2, #T_ddb4b_row9_col2, #T_ddb4b_row11_col1, #T_ddb4b_row13_col1, #T_ddb4b_row15_col1, #T_ddb4b_row16_col2, #T_ddb4b_row17_col1, #T_ddb4b_row17_col2, #T_ddb4b_row18_col2, #T_ddb4b_row19_col1, #T_ddb4b_row20_col1, #T_ddb4b_row21_col2 {\n",
       "  background-color: #abd0e6;\n",
       "  color: #000000;\n",
       "}\n",
       "#T_ddb4b_row3_col1, #T_ddb4b_row3_col2, #T_ddb4b_row5_col2, #T_ddb4b_row11_col2 {\n",
       "  background-color: #3787c0;\n",
       "  color: #f1f1f1;\n",
       "}\n",
       "#T_ddb4b_row4_col0 {\n",
       "  background-color: #9cc9e1;\n",
       "  color: #000000;\n",
       "}\n",
       "#T_ddb4b_row6_col0, #T_ddb4b_row8_col0, #T_ddb4b_row14_col0 {\n",
       "  background-color: #eaf2fb;\n",
       "  color: #000000;\n",
       "}\n",
       "#T_ddb4b_row7_col0 {\n",
       "  background-color: #e3eef8;\n",
       "  color: #000000;\n",
       "}\n",
       "#T_ddb4b_row10_col0 {\n",
       "  background-color: #f1f7fd;\n",
       "  color: #000000;\n",
       "}\n",
       "</style>\n",
       "<table id=\"T_ddb4b_\">\n",
       "  <thead>\n",
       "    <tr>\n",
       "      <th class=\"blank level0\" >&nbsp;</th>\n",
       "      <th class=\"col_heading level0 col0\" colspan=\"3\">0</th>\n",
       "    </tr>\n",
       "    <tr>\n",
       "      <th class=\"index_name level1\" >cluster</th>\n",
       "      <th class=\"col_heading level1 col0\" >A</th>\n",
       "      <th class=\"col_heading level1 col1\" >B</th>\n",
       "      <th class=\"col_heading level1 col2\" >C</th>\n",
       "    </tr>\n",
       "    <tr>\n",
       "      <th class=\"index_name level0\" >cluster_agg</th>\n",
       "      <th class=\"blank col0\" >&nbsp;</th>\n",
       "      <th class=\"blank col1\" >&nbsp;</th>\n",
       "      <th class=\"blank col2\" >&nbsp;</th>\n",
       "    </tr>\n",
       "  </thead>\n",
       "  <tbody>\n",
       "    <tr>\n",
       "      <th id=\"T_ddb4b_level0_row0\" class=\"row_heading level0 row0\" >Amantes del vino</th>\n",
       "      <td id=\"T_ddb4b_row0_col0\" class=\"data row0 col0\" >4</td>\n",
       "      <td id=\"T_ddb4b_row0_col1\" class=\"data row0 col1\" >0</td>\n",
       "      <td id=\"T_ddb4b_row0_col2\" class=\"data row0 col2\" >0</td>\n",
       "    </tr>\n",
       "    <tr>\n",
       "      <th id=\"T_ddb4b_level0_row1\" class=\"row_heading level0 row1\" >Ambiente Familiar</th>\n",
       "      <td id=\"T_ddb4b_row1_col0\" class=\"data row1 col0\" >29</td>\n",
       "      <td id=\"T_ddb4b_row1_col1\" class=\"data row1 col1\" >0</td>\n",
       "      <td id=\"T_ddb4b_row1_col2\" class=\"data row1 col2\" >0</td>\n",
       "    </tr>\n",
       "    <tr>\n",
       "      <th id=\"T_ddb4b_level0_row2\" class=\"row_heading level0 row2\" >Ambiente Familiar, Clima radical</th>\n",
       "      <td id=\"T_ddb4b_row2_col0\" class=\"data row2 col0\" >0</td>\n",
       "      <td id=\"T_ddb4b_row2_col1\" class=\"data row2 col1\" >0</td>\n",
       "      <td id=\"T_ddb4b_row2_col2\" class=\"data row2 col2\" >1</td>\n",
       "    </tr>\n",
       "    <tr>\n",
       "      <th id=\"T_ddb4b_level0_row3\" class=\"row_heading level0 row3\" >Ambiente Familiar, Lluvia en invierno</th>\n",
       "      <td id=\"T_ddb4b_row3_col0\" class=\"data row3 col0\" >0</td>\n",
       "      <td id=\"T_ddb4b_row3_col1\" class=\"data row3 col1\" >2</td>\n",
       "      <td id=\"T_ddb4b_row3_col2\" class=\"data row3 col2\" >2</td>\n",
       "    </tr>\n",
       "    <tr>\n",
       "      <th id=\"T_ddb4b_level0_row4\" class=\"row_heading level0 row4\" >Ambiente Familiar, Para ahorrar</th>\n",
       "      <td id=\"T_ddb4b_row4_col0\" class=\"data row4 col0\" >11</td>\n",
       "      <td id=\"T_ddb4b_row4_col1\" class=\"data row4 col1\" >0</td>\n",
       "      <td id=\"T_ddb4b_row4_col2\" class=\"data row4 col2\" >0</td>\n",
       "    </tr>\n",
       "    <tr>\n",
       "      <th id=\"T_ddb4b_level0_row5\" class=\"row_heading level0 row5\" >Ambiente Familiar, Para ahorrar, Mucho viento</th>\n",
       "      <td id=\"T_ddb4b_row5_col0\" class=\"data row5 col0\" >0</td>\n",
       "      <td id=\"T_ddb4b_row5_col1\" class=\"data row5 col1\" >0</td>\n",
       "      <td id=\"T_ddb4b_row5_col2\" class=\"data row5 col2\" >2</td>\n",
       "    </tr>\n",
       "    <tr>\n",
       "      <th id=\"T_ddb4b_level0_row6\" class=\"row_heading level0 row6\" >Ambiente Familiar, Para lujitos</th>\n",
       "      <td id=\"T_ddb4b_row6_col0\" class=\"data row6 col0\" >2</td>\n",
       "      <td id=\"T_ddb4b_row6_col1\" class=\"data row6 col1\" >0</td>\n",
       "      <td id=\"T_ddb4b_row6_col2\" class=\"data row6 col2\" >0</td>\n",
       "    </tr>\n",
       "    <tr>\n",
       "      <th id=\"T_ddb4b_level0_row7\" class=\"row_heading level0 row7\" >Ambiente Familiar, Tropical</th>\n",
       "      <td id=\"T_ddb4b_row7_col0\" class=\"data row7 col0\" >3</td>\n",
       "      <td id=\"T_ddb4b_row7_col1\" class=\"data row7 col1\" >3</td>\n",
       "      <td id=\"T_ddb4b_row7_col2\" class=\"data row7 col2\" >3</td>\n",
       "    </tr>\n",
       "    <tr>\n",
       "      <th id=\"T_ddb4b_level0_row8\" class=\"row_heading level0 row8\" >Catadores de vino</th>\n",
       "      <td id=\"T_ddb4b_row8_col0\" class=\"data row8 col0\" >2</td>\n",
       "      <td id=\"T_ddb4b_row8_col1\" class=\"data row8 col1\" >0</td>\n",
       "      <td id=\"T_ddb4b_row8_col2\" class=\"data row8 col2\" >0</td>\n",
       "    </tr>\n",
       "    <tr>\n",
       "      <th id=\"T_ddb4b_level0_row9\" class=\"row_heading level0 row9\" >Catadores de vino, Clima frío</th>\n",
       "      <td id=\"T_ddb4b_row9_col0\" class=\"data row9 col0\" >0</td>\n",
       "      <td id=\"T_ddb4b_row9_col1\" class=\"data row9 col1\" >0</td>\n",
       "      <td id=\"T_ddb4b_row9_col2\" class=\"data row9 col2\" >1</td>\n",
       "    </tr>\n",
       "    <tr>\n",
       "      <th id=\"T_ddb4b_level0_row10\" class=\"row_heading level0 row10\" >Degustaciones exclusivas</th>\n",
       "      <td id=\"T_ddb4b_row10_col0\" class=\"data row10 col0\" >1</td>\n",
       "      <td id=\"T_ddb4b_row10_col1\" class=\"data row10 col1\" >0</td>\n",
       "      <td id=\"T_ddb4b_row10_col2\" class=\"data row10 col2\" >0</td>\n",
       "    </tr>\n",
       "    <tr>\n",
       "      <th id=\"T_ddb4b_level0_row11\" class=\"row_heading level0 row11\" >Degustaciones exclusivas, Tropical</th>\n",
       "      <td id=\"T_ddb4b_row11_col0\" class=\"data row11 col0\" >0</td>\n",
       "      <td id=\"T_ddb4b_row11_col1\" class=\"data row11 col1\" >1</td>\n",
       "      <td id=\"T_ddb4b_row11_col2\" class=\"data row11 col2\" >2</td>\n",
       "    </tr>\n",
       "    <tr>\n",
       "      <th id=\"T_ddb4b_level0_row12\" class=\"row_heading level0 row12\" >Fiesta loca</th>\n",
       "      <td id=\"T_ddb4b_row12_col0\" class=\"data row12 col0\" >4</td>\n",
       "      <td id=\"T_ddb4b_row12_col1\" class=\"data row12 col1\" >0</td>\n",
       "      <td id=\"T_ddb4b_row12_col2\" class=\"data row12 col2\" >0</td>\n",
       "    </tr>\n",
       "    <tr>\n",
       "      <th id=\"T_ddb4b_level0_row13\" class=\"row_heading level0 row13\" >Fiesta loca, Lluvia en invierno</th>\n",
       "      <td id=\"T_ddb4b_row13_col0\" class=\"data row13 col0\" >0</td>\n",
       "      <td id=\"T_ddb4b_row13_col1\" class=\"data row13 col1\" >1</td>\n",
       "      <td id=\"T_ddb4b_row13_col2\" class=\"data row13 col2\" >0</td>\n",
       "    </tr>\n",
       "    <tr>\n",
       "      <th id=\"T_ddb4b_level0_row14\" class=\"row_heading level0 row14\" >Fiesta loca, Para ahorrar</th>\n",
       "      <td id=\"T_ddb4b_row14_col0\" class=\"data row14 col0\" >2</td>\n",
       "      <td id=\"T_ddb4b_row14_col1\" class=\"data row14 col1\" >0</td>\n",
       "      <td id=\"T_ddb4b_row14_col2\" class=\"data row14 col2\" >0</td>\n",
       "    </tr>\n",
       "    <tr>\n",
       "      <th id=\"T_ddb4b_level0_row15\" class=\"row_heading level0 row15\" >Fiesta loca, Para ahorrar, Sin lluvia</th>\n",
       "      <td id=\"T_ddb4b_row15_col0\" class=\"data row15 col0\" >0</td>\n",
       "      <td id=\"T_ddb4b_row15_col1\" class=\"data row15 col1\" >1</td>\n",
       "      <td id=\"T_ddb4b_row15_col2\" class=\"data row15 col2\" >0</td>\n",
       "    </tr>\n",
       "    <tr>\n",
       "      <th id=\"T_ddb4b_level0_row16\" class=\"row_heading level0 row16\" >Fiesta loca, Para consentirte, Mucho viento, Buceo ecológico</th>\n",
       "      <td id=\"T_ddb4b_row16_col0\" class=\"data row16 col0\" >0</td>\n",
       "      <td id=\"T_ddb4b_row16_col1\" class=\"data row16 col1\" >0</td>\n",
       "      <td id=\"T_ddb4b_row16_col2\" class=\"data row16 col2\" >1</td>\n",
       "    </tr>\n",
       "    <tr>\n",
       "      <th id=\"T_ddb4b_level0_row17\" class=\"row_heading level0 row17\" >Fiesta loca, Tropical</th>\n",
       "      <td id=\"T_ddb4b_row17_col0\" class=\"data row17 col0\" >0</td>\n",
       "      <td id=\"T_ddb4b_row17_col1\" class=\"data row17 col1\" >1</td>\n",
       "      <td id=\"T_ddb4b_row17_col2\" class=\"data row17 col2\" >1</td>\n",
       "    </tr>\n",
       "    <tr>\n",
       "      <th id=\"T_ddb4b_level0_row18\" class=\"row_heading level0 row18\" >Zona Dorada, Clima radical</th>\n",
       "      <td id=\"T_ddb4b_row18_col0\" class=\"data row18 col0\" >0</td>\n",
       "      <td id=\"T_ddb4b_row18_col1\" class=\"data row18 col1\" >0</td>\n",
       "      <td id=\"T_ddb4b_row18_col2\" class=\"data row18 col2\" >1</td>\n",
       "    </tr>\n",
       "    <tr>\n",
       "      <th id=\"T_ddb4b_level0_row19\" class=\"row_heading level0 row19\" >Zona Dorada, Para consentirte, Tropical, Sin aglomeración</th>\n",
       "      <td id=\"T_ddb4b_row19_col0\" class=\"data row19 col0\" >0</td>\n",
       "      <td id=\"T_ddb4b_row19_col1\" class=\"data row19 col1\" >1</td>\n",
       "      <td id=\"T_ddb4b_row19_col2\" class=\"data row19 col2\" >0</td>\n",
       "    </tr>\n",
       "    <tr>\n",
       "      <th id=\"T_ddb4b_level0_row20\" class=\"row_heading level0 row20\" >Zona Dorada, Para mochileros, Tropical, Ambiente total</th>\n",
       "      <td id=\"T_ddb4b_row20_col0\" class=\"data row20 col0\" >0</td>\n",
       "      <td id=\"T_ddb4b_row20_col1\" class=\"data row20 col1\" >1</td>\n",
       "      <td id=\"T_ddb4b_row20_col2\" class=\"data row20 col2\" >0</td>\n",
       "    </tr>\n",
       "    <tr>\n",
       "      <th id=\"T_ddb4b_level0_row21\" class=\"row_heading level0 row21\" >Zona Dorada, Tropical</th>\n",
       "      <td id=\"T_ddb4b_row21_col0\" class=\"data row21 col0\" >0</td>\n",
       "      <td id=\"T_ddb4b_row21_col1\" class=\"data row21 col1\" >0</td>\n",
       "      <td id=\"T_ddb4b_row21_col2\" class=\"data row21 col2\" >1</td>\n",
       "    </tr>\n",
       "  </tbody>\n",
       "</table>\n"
      ],
      "text/plain": [
       "<pandas.io.formats.style.Styler at 0x7fd0e30168b0>"
      ]
     },
     "metadata": {},
     "execution_count": 3
    }
   ],
   "metadata": {}
  },
  {
   "cell_type": "code",
   "execution_count": 16,
   "source": [
    "import cufflinks as cf\n",
    "cf.go_offline()\n",
    "chart_size = cf.Layout(height=700, width=1000)\n",
    "df.iplot(kind='scatter3d', mode='markers', x=0, y=1, z=2, categories='cluster', layout=chart_size)"
   ],
   "outputs": [
    {
     "output_type": "display_data",
     "data": {
      "text/html": [
       "        <script type=\"text/javascript\">\n",
       "        window.PlotlyConfig = {MathJaxConfig: 'local'};\n",
       "        if (window.MathJax) {MathJax.Hub.Config({SVG: {font: \"STIX-Web\"}});}\n",
       "        if (typeof require !== 'undefined') {\n",
       "        require.undef(\"plotly\");\n",
       "        requirejs.config({\n",
       "            paths: {\n",
       "                'plotly': ['https://cdn.plot.ly/plotly-2.4.2.min']\n",
       "            }\n",
       "        });\n",
       "        require(['plotly'], function(Plotly) {\n",
       "            window._Plotly = Plotly;\n",
       "        });\n",
       "        }\n",
       "        </script>\n",
       "        "
      ]
     },
     "metadata": {}
    },
    {
     "output_type": "display_data",
     "data": {
      "application/vnd.plotly.v1+json": {
       "config": {
        "linkText": "Export to plot.ly",
        "plotlyServerURL": "https://plot.ly",
        "showLink": true
       },
       "data": [
        {
         "marker": {
          "color": "rgba(255, 153, 51, 1.0)",
          "line": {
           "width": 1.3
          },
          "opacity": 0.8,
          "size": 12,
          "symbol": "circle"
         },
         "mode": "markers",
         "name": "A",
         "textfont": {
          "color": "#4D5663"
         },
         "type": "scatter3d",
         "x": [
          0.00041930392019357,
          0.0008120516872974215,
          0,
          0.0006291463140014608,
          0.00004614755140947002,
          0.000381647591661316,
          0.0011954847663597779,
          0.00024162859996212926,
          0.002133619250615615,
          0.0008017529549025348,
          0.00016545694492292595,
          0.0014203114013645046,
          0.00040626580924091327,
          0.0014964510197808534,
          0.00027546006148415625,
          0.0003238242713594075,
          0.0005649402957718652,
          0.001124435658131695,
          0.00004328913005696711,
          0.00019591511355315783,
          0.00005310701195915257,
          0.0009171717307905891,
          0.0021288556465666186,
          0.0005117200297516944,
          0.0005209419472333998,
          0.0006047714345288058,
          0.0005151109196496195,
          0.9131542317430603,
          0.913177151846915,
          0.0004654759560484001,
          0.000535133802891552,
          0.000534675947416241,
          0.0005263635576382986,
          0.0006073361487158313,
          0.0005121890936142792,
          0.0004221580784792289,
          0.0006359060746395362,
          0.0005227840629665748,
          0.0006406207577168699,
          0.00047458096915364845,
          0.0005490686467767847,
          0.0005110423924126195,
          0.0006724756437398449,
          0.0005462954881099713,
          0.0005392671309493724,
          0.000710832565511188,
          0.00035286777756948773,
          0.0009216443920727069,
          0.00048697948400960867,
          0.0005632103886145101,
          0.0007294834951095397,
          0.0005172436723177576,
          0.0006104011038554624,
          0.00040161346989897595,
          0.0003179755552807917,
          0.0003975023229962349,
          0.9131344850677461,
          0.001150891531271736
         ],
         "y": [
          0.43829108508590986,
          0.4398332221484334,
          0.439566552563325,
          0.4377259777069875,
          0.43972990996361794,
          0.43898715152927176,
          0.43648353881391566,
          0.43938461158514786,
          0.4339347367266345,
          0.4365517708746227,
          0.44099847624095645,
          0.4351825348888527,
          0.4387220632770588,
          0.43763112278291727,
          0.438964085694549,
          0.43881600984138497,
          0.43987123937355316,
          0.4374041256636329,
          0.44148058890441594,
          0.43941371435154136,
          0.4406023516924115,
          0.43977480193760177,
          0.4394852707886776,
          0.43988185925133644,
          0.439878511571108,
          0.43986948005772625,
          0.4398863073335594,
          0.4396948054133865,
          0.4396830217314124,
          0.44129040836303424,
          0.439888148156764,
          0.4398802463534982,
          0.43988812543567873,
          0.4398678046173604,
          0.43988263489170903,
          0.44130196294241225,
          0.4416442272734224,
          0.43988630639450055,
          0.44126944837601223,
          0.4425028225404315,
          0.4398820064359793,
          0.4398906167348106,
          0.44350921681116534,
          0.43988951311868824,
          0.4398799237739305,
          0.43988493661701983,
          0.44591661227415647,
          0.43977888503980916,
          0.4422187285538727,
          0.4398829622981028,
          0.4421118858504265,
          0.4398885019747126,
          0.4398528745716716,
          0.44058317532002517,
          0.44469387168613245,
          0.44157173948165096,
          0.4396925563500498,
          0.43685506821524095
         ],
         "z": [
          0.31403412280034404,
          0.23841354242369328,
          0.3232526357345525,
          0.3216378713322299,
          0.31250990016695085,
          0.31380777579625574,
          0.24369554904053625,
          0.3048960211601027,
          0.25180529102076626,
          0.3201968527293981,
          0.30357947540985974,
          0.3398889263573586,
          0.3124446297299464,
          0.24581041763335093,
          0.3080967283375682,
          0.3123077962500759,
          0.23885813777903037,
          0.24759598247394835,
          0.2991946464990657,
          0.30452612908645854,
          0.3326863228973499,
          0.23844795254055534,
          0.23681353717212084,
          0.23894102138153656,
          0.23893463575517312,
          0.23876336014568494,
          0.238908624953613,
          0.1772144642554001,
          0.1772169186257853,
          0.23440794131231169,
          0.23884656128525936,
          0.23888956721981108,
          0.23886959983788483,
          0.238765523028998,
          0.2389356916134776,
          0.23446000244727205,
          0.2333071425888337,
          0.2388885785276042,
          0.23406115638599112,
          0.23179292618713637,
          0.23884264351112514,
          0.2388964551919745,
          0.22907940575741084,
          0.2388101714703601,
          0.23887927638746595,
          0.23840441940621365,
          0.22473749314689095,
          0.23841466039339826,
          0.23239465492472258,
          0.2388006308372359,
          0.2320655491523284,
          0.23889143952974298,
          0.2388365105301617,
          0.23633070265046424,
          0.22738762859212347,
          0.2339660597084081,
          0.17727796619119773,
          0.2473113402383373
         ]
        },
        {
         "marker": {
          "color": "rgba(55, 128, 191, 1.0)",
          "line": {
           "width": 1.3
          },
          "opacity": 0.8,
          "size": 12,
          "symbol": "circle"
         },
         "mode": "markers",
         "name": "C",
         "textfont": {
          "color": "#4D5663"
         },
         "type": "scatter3d",
         "x": [
          0.9983258275602331,
          0.9980761847233091,
          0.9466323271933701,
          0.9509638709002823,
          1,
          0.9521090290313294,
          0.9043070197660878,
          0.9746073332293721,
          0.8165604369239243,
          0.6364817049899444,
          0.9325963278100047,
          0.9743935312656182,
          0.9077768565461852,
          0.8147395791098613,
          0.9515708776218239
         ],
         "y": [
          0.7481603397361108,
          0.7497665370163425,
          0.627750981041202,
          0.6562042076677785,
          0.7404006078335092,
          0.6559566548277432,
          0.6180584970962965,
          0.6552857735686817,
          0.5979916679024372,
          1,
          0.5575822936505226,
          0.6544979420567293,
          0.6327671181797813,
          0.5974926242711889,
          0.5546078482417685
         ],
         "z": [
          0.5918715515884037,
          0.5768670670215322,
          0.2787030843660601,
          0.2400676448157707,
          0.6326447926039585,
          0.23838496137746804,
          0.1539908977038818,
          0.2529211515573848,
          0,
          0.053605940549829145,
          0.15470313666059862,
          0.2560987719231959,
          0.16654872509442628,
          0.004489038530448686,
          0.25152984156018754
         ]
        },
        {
         "marker": {
          "color": "rgba(50, 171, 96, 1.0)",
          "line": {
           "width": 1.3
          },
          "opacity": 0.8,
          "size": 12,
          "symbol": "circle"
         },
         "mode": "markers",
         "name": "B",
         "textfont": {
          "color": "#4D5663"
         },
         "type": "scatter3d",
         "x": [
          0.5534440053033389,
          0.8532034473656078,
          0.8368686013872761,
          0.8307869334320197,
          0.8270960687092068,
          0.8272764203858927,
          0.8272184982509059,
          0.8296193033814903,
          0.8465679905245542,
          0.8550895828266292,
          0.8294428504577687
         ],
         "y": [
          0.15300268381841653,
          0.04601352650923529,
          0.019082944156401493,
          0.10551901441998157,
          0.13889703487854888,
          0.14000106455405326,
          0.1397937258133119,
          0,
          0.06415688982912299,
          0.03971683642700119,
          0.0000063239409158755144
         ],
         "z": [
          1,
          0.1923451619509903,
          0.4211558514847936,
          0.365895402657608,
          0.19942866085333624,
          0.19570826665580243,
          0.19617453971578538,
          0.11947123958145911,
          0.18638205018446322,
          0.19642936330253782,
          0.11989888410802649
         ]
        }
       ],
       "layout": {
        "height": 700,
        "template": {
         "data": {
          "bar": [
           {
            "error_x": {
             "color": "#2a3f5f"
            },
            "error_y": {
             "color": "#2a3f5f"
            },
            "marker": {
             "line": {
              "color": "#E5ECF6",
              "width": 0.5
             },
             "pattern": {
              "fillmode": "overlay",
              "size": 10,
              "solidity": 0.2
             }
            },
            "type": "bar"
           }
          ],
          "barpolar": [
           {
            "marker": {
             "line": {
              "color": "#E5ECF6",
              "width": 0.5
             },
             "pattern": {
              "fillmode": "overlay",
              "size": 10,
              "solidity": 0.2
             }
            },
            "type": "barpolar"
           }
          ],
          "carpet": [
           {
            "aaxis": {
             "endlinecolor": "#2a3f5f",
             "gridcolor": "white",
             "linecolor": "white",
             "minorgridcolor": "white",
             "startlinecolor": "#2a3f5f"
            },
            "baxis": {
             "endlinecolor": "#2a3f5f",
             "gridcolor": "white",
             "linecolor": "white",
             "minorgridcolor": "white",
             "startlinecolor": "#2a3f5f"
            },
            "type": "carpet"
           }
          ],
          "choropleth": [
           {
            "colorbar": {
             "outlinewidth": 0,
             "ticks": ""
            },
            "type": "choropleth"
           }
          ],
          "contour": [
           {
            "colorbar": {
             "outlinewidth": 0,
             "ticks": ""
            },
            "colorscale": [
             [
              0,
              "#0d0887"
             ],
             [
              0.1111111111111111,
              "#46039f"
             ],
             [
              0.2222222222222222,
              "#7201a8"
             ],
             [
              0.3333333333333333,
              "#9c179e"
             ],
             [
              0.4444444444444444,
              "#bd3786"
             ],
             [
              0.5555555555555556,
              "#d8576b"
             ],
             [
              0.6666666666666666,
              "#ed7953"
             ],
             [
              0.7777777777777778,
              "#fb9f3a"
             ],
             [
              0.8888888888888888,
              "#fdca26"
             ],
             [
              1,
              "#f0f921"
             ]
            ],
            "type": "contour"
           }
          ],
          "contourcarpet": [
           {
            "colorbar": {
             "outlinewidth": 0,
             "ticks": ""
            },
            "type": "contourcarpet"
           }
          ],
          "heatmap": [
           {
            "colorbar": {
             "outlinewidth": 0,
             "ticks": ""
            },
            "colorscale": [
             [
              0,
              "#0d0887"
             ],
             [
              0.1111111111111111,
              "#46039f"
             ],
             [
              0.2222222222222222,
              "#7201a8"
             ],
             [
              0.3333333333333333,
              "#9c179e"
             ],
             [
              0.4444444444444444,
              "#bd3786"
             ],
             [
              0.5555555555555556,
              "#d8576b"
             ],
             [
              0.6666666666666666,
              "#ed7953"
             ],
             [
              0.7777777777777778,
              "#fb9f3a"
             ],
             [
              0.8888888888888888,
              "#fdca26"
             ],
             [
              1,
              "#f0f921"
             ]
            ],
            "type": "heatmap"
           }
          ],
          "heatmapgl": [
           {
            "colorbar": {
             "outlinewidth": 0,
             "ticks": ""
            },
            "colorscale": [
             [
              0,
              "#0d0887"
             ],
             [
              0.1111111111111111,
              "#46039f"
             ],
             [
              0.2222222222222222,
              "#7201a8"
             ],
             [
              0.3333333333333333,
              "#9c179e"
             ],
             [
              0.4444444444444444,
              "#bd3786"
             ],
             [
              0.5555555555555556,
              "#d8576b"
             ],
             [
              0.6666666666666666,
              "#ed7953"
             ],
             [
              0.7777777777777778,
              "#fb9f3a"
             ],
             [
              0.8888888888888888,
              "#fdca26"
             ],
             [
              1,
              "#f0f921"
             ]
            ],
            "type": "heatmapgl"
           }
          ],
          "histogram": [
           {
            "marker": {
             "pattern": {
              "fillmode": "overlay",
              "size": 10,
              "solidity": 0.2
             }
            },
            "type": "histogram"
           }
          ],
          "histogram2d": [
           {
            "colorbar": {
             "outlinewidth": 0,
             "ticks": ""
            },
            "colorscale": [
             [
              0,
              "#0d0887"
             ],
             [
              0.1111111111111111,
              "#46039f"
             ],
             [
              0.2222222222222222,
              "#7201a8"
             ],
             [
              0.3333333333333333,
              "#9c179e"
             ],
             [
              0.4444444444444444,
              "#bd3786"
             ],
             [
              0.5555555555555556,
              "#d8576b"
             ],
             [
              0.6666666666666666,
              "#ed7953"
             ],
             [
              0.7777777777777778,
              "#fb9f3a"
             ],
             [
              0.8888888888888888,
              "#fdca26"
             ],
             [
              1,
              "#f0f921"
             ]
            ],
            "type": "histogram2d"
           }
          ],
          "histogram2dcontour": [
           {
            "colorbar": {
             "outlinewidth": 0,
             "ticks": ""
            },
            "colorscale": [
             [
              0,
              "#0d0887"
             ],
             [
              0.1111111111111111,
              "#46039f"
             ],
             [
              0.2222222222222222,
              "#7201a8"
             ],
             [
              0.3333333333333333,
              "#9c179e"
             ],
             [
              0.4444444444444444,
              "#bd3786"
             ],
             [
              0.5555555555555556,
              "#d8576b"
             ],
             [
              0.6666666666666666,
              "#ed7953"
             ],
             [
              0.7777777777777778,
              "#fb9f3a"
             ],
             [
              0.8888888888888888,
              "#fdca26"
             ],
             [
              1,
              "#f0f921"
             ]
            ],
            "type": "histogram2dcontour"
           }
          ],
          "mesh3d": [
           {
            "colorbar": {
             "outlinewidth": 0,
             "ticks": ""
            },
            "type": "mesh3d"
           }
          ],
          "parcoords": [
           {
            "line": {
             "colorbar": {
              "outlinewidth": 0,
              "ticks": ""
             }
            },
            "type": "parcoords"
           }
          ],
          "pie": [
           {
            "automargin": true,
            "type": "pie"
           }
          ],
          "scatter": [
           {
            "marker": {
             "colorbar": {
              "outlinewidth": 0,
              "ticks": ""
             }
            },
            "type": "scatter"
           }
          ],
          "scatter3d": [
           {
            "line": {
             "colorbar": {
              "outlinewidth": 0,
              "ticks": ""
             }
            },
            "marker": {
             "colorbar": {
              "outlinewidth": 0,
              "ticks": ""
             }
            },
            "type": "scatter3d"
           }
          ],
          "scattercarpet": [
           {
            "marker": {
             "colorbar": {
              "outlinewidth": 0,
              "ticks": ""
             }
            },
            "type": "scattercarpet"
           }
          ],
          "scattergeo": [
           {
            "marker": {
             "colorbar": {
              "outlinewidth": 0,
              "ticks": ""
             }
            },
            "type": "scattergeo"
           }
          ],
          "scattergl": [
           {
            "marker": {
             "colorbar": {
              "outlinewidth": 0,
              "ticks": ""
             }
            },
            "type": "scattergl"
           }
          ],
          "scattermapbox": [
           {
            "marker": {
             "colorbar": {
              "outlinewidth": 0,
              "ticks": ""
             }
            },
            "type": "scattermapbox"
           }
          ],
          "scatterpolar": [
           {
            "marker": {
             "colorbar": {
              "outlinewidth": 0,
              "ticks": ""
             }
            },
            "type": "scatterpolar"
           }
          ],
          "scatterpolargl": [
           {
            "marker": {
             "colorbar": {
              "outlinewidth": 0,
              "ticks": ""
             }
            },
            "type": "scatterpolargl"
           }
          ],
          "scatterternary": [
           {
            "marker": {
             "colorbar": {
              "outlinewidth": 0,
              "ticks": ""
             }
            },
            "type": "scatterternary"
           }
          ],
          "surface": [
           {
            "colorbar": {
             "outlinewidth": 0,
             "ticks": ""
            },
            "colorscale": [
             [
              0,
              "#0d0887"
             ],
             [
              0.1111111111111111,
              "#46039f"
             ],
             [
              0.2222222222222222,
              "#7201a8"
             ],
             [
              0.3333333333333333,
              "#9c179e"
             ],
             [
              0.4444444444444444,
              "#bd3786"
             ],
             [
              0.5555555555555556,
              "#d8576b"
             ],
             [
              0.6666666666666666,
              "#ed7953"
             ],
             [
              0.7777777777777778,
              "#fb9f3a"
             ],
             [
              0.8888888888888888,
              "#fdca26"
             ],
             [
              1,
              "#f0f921"
             ]
            ],
            "type": "surface"
           }
          ],
          "table": [
           {
            "cells": {
             "fill": {
              "color": "#EBF0F8"
             },
             "line": {
              "color": "white"
             }
            },
            "header": {
             "fill": {
              "color": "#C8D4E3"
             },
             "line": {
              "color": "white"
             }
            },
            "type": "table"
           }
          ]
         },
         "layout": {
          "annotationdefaults": {
           "arrowcolor": "#2a3f5f",
           "arrowhead": 0,
           "arrowwidth": 1
          },
          "autotypenumbers": "strict",
          "coloraxis": {
           "colorbar": {
            "outlinewidth": 0,
            "ticks": ""
           }
          },
          "colorscale": {
           "diverging": [
            [
             0,
             "#8e0152"
            ],
            [
             0.1,
             "#c51b7d"
            ],
            [
             0.2,
             "#de77ae"
            ],
            [
             0.3,
             "#f1b6da"
            ],
            [
             0.4,
             "#fde0ef"
            ],
            [
             0.5,
             "#f7f7f7"
            ],
            [
             0.6,
             "#e6f5d0"
            ],
            [
             0.7,
             "#b8e186"
            ],
            [
             0.8,
             "#7fbc41"
            ],
            [
             0.9,
             "#4d9221"
            ],
            [
             1,
             "#276419"
            ]
           ],
           "sequential": [
            [
             0,
             "#0d0887"
            ],
            [
             0.1111111111111111,
             "#46039f"
            ],
            [
             0.2222222222222222,
             "#7201a8"
            ],
            [
             0.3333333333333333,
             "#9c179e"
            ],
            [
             0.4444444444444444,
             "#bd3786"
            ],
            [
             0.5555555555555556,
             "#d8576b"
            ],
            [
             0.6666666666666666,
             "#ed7953"
            ],
            [
             0.7777777777777778,
             "#fb9f3a"
            ],
            [
             0.8888888888888888,
             "#fdca26"
            ],
            [
             1,
             "#f0f921"
            ]
           ],
           "sequentialminus": [
            [
             0,
             "#0d0887"
            ],
            [
             0.1111111111111111,
             "#46039f"
            ],
            [
             0.2222222222222222,
             "#7201a8"
            ],
            [
             0.3333333333333333,
             "#9c179e"
            ],
            [
             0.4444444444444444,
             "#bd3786"
            ],
            [
             0.5555555555555556,
             "#d8576b"
            ],
            [
             0.6666666666666666,
             "#ed7953"
            ],
            [
             0.7777777777777778,
             "#fb9f3a"
            ],
            [
             0.8888888888888888,
             "#fdca26"
            ],
            [
             1,
             "#f0f921"
            ]
           ]
          },
          "colorway": [
           "#636efa",
           "#EF553B",
           "#00cc96",
           "#ab63fa",
           "#FFA15A",
           "#19d3f3",
           "#FF6692",
           "#B6E880",
           "#FF97FF",
           "#FECB52"
          ],
          "font": {
           "color": "#2a3f5f"
          },
          "geo": {
           "bgcolor": "white",
           "lakecolor": "white",
           "landcolor": "#E5ECF6",
           "showlakes": true,
           "showland": true,
           "subunitcolor": "white"
          },
          "hoverlabel": {
           "align": "left"
          },
          "hovermode": "closest",
          "mapbox": {
           "style": "light"
          },
          "paper_bgcolor": "white",
          "plot_bgcolor": "#E5ECF6",
          "polar": {
           "angularaxis": {
            "gridcolor": "white",
            "linecolor": "white",
            "ticks": ""
           },
           "bgcolor": "#E5ECF6",
           "radialaxis": {
            "gridcolor": "white",
            "linecolor": "white",
            "ticks": ""
           }
          },
          "scene": {
           "xaxis": {
            "backgroundcolor": "#E5ECF6",
            "gridcolor": "white",
            "gridwidth": 2,
            "linecolor": "white",
            "showbackground": true,
            "ticks": "",
            "zerolinecolor": "white"
           },
           "yaxis": {
            "backgroundcolor": "#E5ECF6",
            "gridcolor": "white",
            "gridwidth": 2,
            "linecolor": "white",
            "showbackground": true,
            "ticks": "",
            "zerolinecolor": "white"
           },
           "zaxis": {
            "backgroundcolor": "#E5ECF6",
            "gridcolor": "white",
            "gridwidth": 2,
            "linecolor": "white",
            "showbackground": true,
            "ticks": "",
            "zerolinecolor": "white"
           }
          },
          "shapedefaults": {
           "line": {
            "color": "#2a3f5f"
           }
          },
          "ternary": {
           "aaxis": {
            "gridcolor": "white",
            "linecolor": "white",
            "ticks": ""
           },
           "baxis": {
            "gridcolor": "white",
            "linecolor": "white",
            "ticks": ""
           },
           "bgcolor": "#E5ECF6",
           "caxis": {
            "gridcolor": "white",
            "linecolor": "white",
            "ticks": ""
           }
          },
          "title": {
           "x": 0.05
          },
          "xaxis": {
           "automargin": true,
           "gridcolor": "white",
           "linecolor": "white",
           "ticks": "",
           "title": {
            "standoff": 15
           },
           "zerolinecolor": "white",
           "zerolinewidth": 2
          },
          "yaxis": {
           "automargin": true,
           "gridcolor": "white",
           "linecolor": "white",
           "ticks": "",
           "title": {
            "standoff": 15
           },
           "zerolinecolor": "white",
           "zerolinewidth": 2
          }
         }
        },
        "width": 1000
       }
      },
      "text/html": [
       "<div>                            <div id=\"9a6a335d-6078-4194-a652-5e9d5bf92ff2\" class=\"plotly-graph-div\" style=\"height:700px; width:1000px;\"></div>            <script type=\"text/javascript\">                require([\"plotly\"], function(Plotly) {                    window.PLOTLYENV=window.PLOTLYENV || {};\n",
       "                    window.PLOTLYENV.BASE_URL='https://plot.ly';                                    if (document.getElementById(\"9a6a335d-6078-4194-a652-5e9d5bf92ff2\")) {                    Plotly.newPlot(                        \"9a6a335d-6078-4194-a652-5e9d5bf92ff2\",                        [{\"marker\":{\"color\":\"rgba(255, 153, 51, 1.0)\",\"line\":{\"width\":1.3},\"opacity\":0.8,\"size\":12,\"symbol\":\"circle\"},\"mode\":\"markers\",\"name\":\"A\",\"textfont\":{\"color\":\"#4D5663\"},\"type\":\"scatter3d\",\"x\":[0.00041930392019357,0.0008120516872974215,0.0,0.0006291463140014608,4.614755140947002e-05,0.000381647591661316,0.0011954847663597779,0.00024162859996212926,0.002133619250615615,0.0008017529549025348,0.00016545694492292595,0.0014203114013645046,0.00040626580924091327,0.0014964510197808534,0.00027546006148415625,0.0003238242713594075,0.0005649402957718652,0.001124435658131695,4.328913005696711e-05,0.00019591511355315783,5.310701195915257e-05,0.0009171717307905891,0.0021288556465666186,0.0005117200297516944,0.0005209419472333998,0.0006047714345288058,0.0005151109196496195,0.9131542317430603,0.913177151846915,0.0004654759560484001,0.000535133802891552,0.000534675947416241,0.0005263635576382986,0.0006073361487158313,0.0005121890936142792,0.0004221580784792289,0.0006359060746395362,0.0005227840629665748,0.0006406207577168699,0.00047458096915364845,0.0005490686467767847,0.0005110423924126195,0.0006724756437398449,0.0005462954881099713,0.0005392671309493724,0.000710832565511188,0.00035286777756948773,0.0009216443920727069,0.00048697948400960867,0.0005632103886145101,0.0007294834951095397,0.0005172436723177576,0.0006104011038554624,0.00040161346989897595,0.0003179755552807917,0.0003975023229962349,0.9131344850677461,0.001150891531271736],\"y\":[0.43829108508590986,0.4398332221484334,0.439566552563325,0.4377259777069875,0.43972990996361794,0.43898715152927176,0.43648353881391566,0.43938461158514786,0.4339347367266345,0.4365517708746227,0.44099847624095645,0.4351825348888527,0.4387220632770588,0.43763112278291727,0.438964085694549,0.43881600984138497,0.43987123937355316,0.4374041256636329,0.44148058890441594,0.43941371435154136,0.4406023516924115,0.43977480193760177,0.4394852707886776,0.43988185925133644,0.439878511571108,0.43986948005772625,0.4398863073335594,0.4396948054133865,0.4396830217314124,0.44129040836303424,0.439888148156764,0.4398802463534982,0.43988812543567873,0.4398678046173604,0.43988263489170903,0.44130196294241225,0.4416442272734224,0.43988630639450055,0.44126944837601223,0.4425028225404315,0.4398820064359793,0.4398906167348106,0.44350921681116534,0.43988951311868824,0.4398799237739305,0.43988493661701983,0.44591661227415647,0.43977888503980916,0.4422187285538727,0.4398829622981028,0.4421118858504265,0.4398885019747126,0.4398528745716716,0.44058317532002517,0.44469387168613245,0.44157173948165096,0.4396925563500498,0.43685506821524095],\"z\":[0.31403412280034404,0.23841354242369328,0.3232526357345525,0.3216378713322299,0.31250990016695085,0.31380777579625574,0.24369554904053625,0.3048960211601027,0.25180529102076626,0.3201968527293981,0.30357947540985974,0.3398889263573586,0.3124446297299464,0.24581041763335093,0.3080967283375682,0.3123077962500759,0.23885813777903037,0.24759598247394835,0.2991946464990657,0.30452612908645854,0.3326863228973499,0.23844795254055534,0.23681353717212084,0.23894102138153656,0.23893463575517312,0.23876336014568494,0.238908624953613,0.1772144642554001,0.1772169186257853,0.23440794131231169,0.23884656128525936,0.23888956721981108,0.23886959983788483,0.238765523028998,0.2389356916134776,0.23446000244727205,0.2333071425888337,0.2388885785276042,0.23406115638599112,0.23179292618713637,0.23884264351112514,0.2388964551919745,0.22907940575741084,0.2388101714703601,0.23887927638746595,0.23840441940621365,0.22473749314689095,0.23841466039339826,0.23239465492472258,0.2388006308372359,0.2320655491523284,0.23889143952974298,0.2388365105301617,0.23633070265046424,0.22738762859212347,0.2339660597084081,0.17727796619119773,0.2473113402383373]},{\"marker\":{\"color\":\"rgba(55, 128, 191, 1.0)\",\"line\":{\"width\":1.3},\"opacity\":0.8,\"size\":12,\"symbol\":\"circle\"},\"mode\":\"markers\",\"name\":\"C\",\"textfont\":{\"color\":\"#4D5663\"},\"type\":\"scatter3d\",\"x\":[0.9983258275602331,0.9980761847233091,0.9466323271933701,0.9509638709002823,1.0,0.9521090290313294,0.9043070197660878,0.9746073332293721,0.8165604369239243,0.6364817049899444,0.9325963278100047,0.9743935312656182,0.9077768565461852,0.8147395791098613,0.9515708776218239],\"y\":[0.7481603397361108,0.7497665370163425,0.627750981041202,0.6562042076677785,0.7404006078335092,0.6559566548277432,0.6180584970962965,0.6552857735686817,0.5979916679024372,1.0,0.5575822936505226,0.6544979420567293,0.6327671181797813,0.5974926242711889,0.5546078482417685],\"z\":[0.5918715515884037,0.5768670670215322,0.2787030843660601,0.2400676448157707,0.6326447926039585,0.23838496137746804,0.1539908977038818,0.2529211515573848,0.0,0.053605940549829145,0.15470313666059862,0.2560987719231959,0.16654872509442628,0.004489038530448686,0.25152984156018754]},{\"marker\":{\"color\":\"rgba(50, 171, 96, 1.0)\",\"line\":{\"width\":1.3},\"opacity\":0.8,\"size\":12,\"symbol\":\"circle\"},\"mode\":\"markers\",\"name\":\"B\",\"textfont\":{\"color\":\"#4D5663\"},\"type\":\"scatter3d\",\"x\":[0.5534440053033389,0.8532034473656078,0.8368686013872761,0.8307869334320197,0.8270960687092068,0.8272764203858927,0.8272184982509059,0.8296193033814903,0.8465679905245542,0.8550895828266292,0.8294428504577687],\"y\":[0.15300268381841653,0.04601352650923529,0.019082944156401493,0.10551901441998157,0.13889703487854888,0.14000106455405326,0.1397937258133119,0.0,0.06415688982912299,0.03971683642700119,6.3239409158755144e-06],\"z\":[1.0,0.1923451619509903,0.4211558514847936,0.365895402657608,0.19942866085333624,0.19570826665580243,0.19617453971578538,0.11947123958145911,0.18638205018446322,0.19642936330253782,0.11989888410802649]}],                        {\"height\":700,\"template\":{\"data\":{\"bar\":[{\"error_x\":{\"color\":\"#2a3f5f\"},\"error_y\":{\"color\":\"#2a3f5f\"},\"marker\":{\"line\":{\"color\":\"#E5ECF6\",\"width\":0.5},\"pattern\":{\"fillmode\":\"overlay\",\"size\":10,\"solidity\":0.2}},\"type\":\"bar\"}],\"barpolar\":[{\"marker\":{\"line\":{\"color\":\"#E5ECF6\",\"width\":0.5},\"pattern\":{\"fillmode\":\"overlay\",\"size\":10,\"solidity\":0.2}},\"type\":\"barpolar\"}],\"carpet\":[{\"aaxis\":{\"endlinecolor\":\"#2a3f5f\",\"gridcolor\":\"white\",\"linecolor\":\"white\",\"minorgridcolor\":\"white\",\"startlinecolor\":\"#2a3f5f\"},\"baxis\":{\"endlinecolor\":\"#2a3f5f\",\"gridcolor\":\"white\",\"linecolor\":\"white\",\"minorgridcolor\":\"white\",\"startlinecolor\":\"#2a3f5f\"},\"type\":\"carpet\"}],\"choropleth\":[{\"colorbar\":{\"outlinewidth\":0,\"ticks\":\"\"},\"type\":\"choropleth\"}],\"contour\":[{\"colorbar\":{\"outlinewidth\":0,\"ticks\":\"\"},\"colorscale\":[[0.0,\"#0d0887\"],[0.1111111111111111,\"#46039f\"],[0.2222222222222222,\"#7201a8\"],[0.3333333333333333,\"#9c179e\"],[0.4444444444444444,\"#bd3786\"],[0.5555555555555556,\"#d8576b\"],[0.6666666666666666,\"#ed7953\"],[0.7777777777777778,\"#fb9f3a\"],[0.8888888888888888,\"#fdca26\"],[1.0,\"#f0f921\"]],\"type\":\"contour\"}],\"contourcarpet\":[{\"colorbar\":{\"outlinewidth\":0,\"ticks\":\"\"},\"type\":\"contourcarpet\"}],\"heatmap\":[{\"colorbar\":{\"outlinewidth\":0,\"ticks\":\"\"},\"colorscale\":[[0.0,\"#0d0887\"],[0.1111111111111111,\"#46039f\"],[0.2222222222222222,\"#7201a8\"],[0.3333333333333333,\"#9c179e\"],[0.4444444444444444,\"#bd3786\"],[0.5555555555555556,\"#d8576b\"],[0.6666666666666666,\"#ed7953\"],[0.7777777777777778,\"#fb9f3a\"],[0.8888888888888888,\"#fdca26\"],[1.0,\"#f0f921\"]],\"type\":\"heatmap\"}],\"heatmapgl\":[{\"colorbar\":{\"outlinewidth\":0,\"ticks\":\"\"},\"colorscale\":[[0.0,\"#0d0887\"],[0.1111111111111111,\"#46039f\"],[0.2222222222222222,\"#7201a8\"],[0.3333333333333333,\"#9c179e\"],[0.4444444444444444,\"#bd3786\"],[0.5555555555555556,\"#d8576b\"],[0.6666666666666666,\"#ed7953\"],[0.7777777777777778,\"#fb9f3a\"],[0.8888888888888888,\"#fdca26\"],[1.0,\"#f0f921\"]],\"type\":\"heatmapgl\"}],\"histogram\":[{\"marker\":{\"pattern\":{\"fillmode\":\"overlay\",\"size\":10,\"solidity\":0.2}},\"type\":\"histogram\"}],\"histogram2d\":[{\"colorbar\":{\"outlinewidth\":0,\"ticks\":\"\"},\"colorscale\":[[0.0,\"#0d0887\"],[0.1111111111111111,\"#46039f\"],[0.2222222222222222,\"#7201a8\"],[0.3333333333333333,\"#9c179e\"],[0.4444444444444444,\"#bd3786\"],[0.5555555555555556,\"#d8576b\"],[0.6666666666666666,\"#ed7953\"],[0.7777777777777778,\"#fb9f3a\"],[0.8888888888888888,\"#fdca26\"],[1.0,\"#f0f921\"]],\"type\":\"histogram2d\"}],\"histogram2dcontour\":[{\"colorbar\":{\"outlinewidth\":0,\"ticks\":\"\"},\"colorscale\":[[0.0,\"#0d0887\"],[0.1111111111111111,\"#46039f\"],[0.2222222222222222,\"#7201a8\"],[0.3333333333333333,\"#9c179e\"],[0.4444444444444444,\"#bd3786\"],[0.5555555555555556,\"#d8576b\"],[0.6666666666666666,\"#ed7953\"],[0.7777777777777778,\"#fb9f3a\"],[0.8888888888888888,\"#fdca26\"],[1.0,\"#f0f921\"]],\"type\":\"histogram2dcontour\"}],\"mesh3d\":[{\"colorbar\":{\"outlinewidth\":0,\"ticks\":\"\"},\"type\":\"mesh3d\"}],\"parcoords\":[{\"line\":{\"colorbar\":{\"outlinewidth\":0,\"ticks\":\"\"}},\"type\":\"parcoords\"}],\"pie\":[{\"automargin\":true,\"type\":\"pie\"}],\"scatter\":[{\"marker\":{\"colorbar\":{\"outlinewidth\":0,\"ticks\":\"\"}},\"type\":\"scatter\"}],\"scatter3d\":[{\"line\":{\"colorbar\":{\"outlinewidth\":0,\"ticks\":\"\"}},\"marker\":{\"colorbar\":{\"outlinewidth\":0,\"ticks\":\"\"}},\"type\":\"scatter3d\"}],\"scattercarpet\":[{\"marker\":{\"colorbar\":{\"outlinewidth\":0,\"ticks\":\"\"}},\"type\":\"scattercarpet\"}],\"scattergeo\":[{\"marker\":{\"colorbar\":{\"outlinewidth\":0,\"ticks\":\"\"}},\"type\":\"scattergeo\"}],\"scattergl\":[{\"marker\":{\"colorbar\":{\"outlinewidth\":0,\"ticks\":\"\"}},\"type\":\"scattergl\"}],\"scattermapbox\":[{\"marker\":{\"colorbar\":{\"outlinewidth\":0,\"ticks\":\"\"}},\"type\":\"scattermapbox\"}],\"scatterpolar\":[{\"marker\":{\"colorbar\":{\"outlinewidth\":0,\"ticks\":\"\"}},\"type\":\"scatterpolar\"}],\"scatterpolargl\":[{\"marker\":{\"colorbar\":{\"outlinewidth\":0,\"ticks\":\"\"}},\"type\":\"scatterpolargl\"}],\"scatterternary\":[{\"marker\":{\"colorbar\":{\"outlinewidth\":0,\"ticks\":\"\"}},\"type\":\"scatterternary\"}],\"surface\":[{\"colorbar\":{\"outlinewidth\":0,\"ticks\":\"\"},\"colorscale\":[[0.0,\"#0d0887\"],[0.1111111111111111,\"#46039f\"],[0.2222222222222222,\"#7201a8\"],[0.3333333333333333,\"#9c179e\"],[0.4444444444444444,\"#bd3786\"],[0.5555555555555556,\"#d8576b\"],[0.6666666666666666,\"#ed7953\"],[0.7777777777777778,\"#fb9f3a\"],[0.8888888888888888,\"#fdca26\"],[1.0,\"#f0f921\"]],\"type\":\"surface\"}],\"table\":[{\"cells\":{\"fill\":{\"color\":\"#EBF0F8\"},\"line\":{\"color\":\"white\"}},\"header\":{\"fill\":{\"color\":\"#C8D4E3\"},\"line\":{\"color\":\"white\"}},\"type\":\"table\"}]},\"layout\":{\"annotationdefaults\":{\"arrowcolor\":\"#2a3f5f\",\"arrowhead\":0,\"arrowwidth\":1},\"autotypenumbers\":\"strict\",\"coloraxis\":{\"colorbar\":{\"outlinewidth\":0,\"ticks\":\"\"}},\"colorscale\":{\"diverging\":[[0,\"#8e0152\"],[0.1,\"#c51b7d\"],[0.2,\"#de77ae\"],[0.3,\"#f1b6da\"],[0.4,\"#fde0ef\"],[0.5,\"#f7f7f7\"],[0.6,\"#e6f5d0\"],[0.7,\"#b8e186\"],[0.8,\"#7fbc41\"],[0.9,\"#4d9221\"],[1,\"#276419\"]],\"sequential\":[[0.0,\"#0d0887\"],[0.1111111111111111,\"#46039f\"],[0.2222222222222222,\"#7201a8\"],[0.3333333333333333,\"#9c179e\"],[0.4444444444444444,\"#bd3786\"],[0.5555555555555556,\"#d8576b\"],[0.6666666666666666,\"#ed7953\"],[0.7777777777777778,\"#fb9f3a\"],[0.8888888888888888,\"#fdca26\"],[1.0,\"#f0f921\"]],\"sequentialminus\":[[0.0,\"#0d0887\"],[0.1111111111111111,\"#46039f\"],[0.2222222222222222,\"#7201a8\"],[0.3333333333333333,\"#9c179e\"],[0.4444444444444444,\"#bd3786\"],[0.5555555555555556,\"#d8576b\"],[0.6666666666666666,\"#ed7953\"],[0.7777777777777778,\"#fb9f3a\"],[0.8888888888888888,\"#fdca26\"],[1.0,\"#f0f921\"]]},\"colorway\":[\"#636efa\",\"#EF553B\",\"#00cc96\",\"#ab63fa\",\"#FFA15A\",\"#19d3f3\",\"#FF6692\",\"#B6E880\",\"#FF97FF\",\"#FECB52\"],\"font\":{\"color\":\"#2a3f5f\"},\"geo\":{\"bgcolor\":\"white\",\"lakecolor\":\"white\",\"landcolor\":\"#E5ECF6\",\"showlakes\":true,\"showland\":true,\"subunitcolor\":\"white\"},\"hoverlabel\":{\"align\":\"left\"},\"hovermode\":\"closest\",\"mapbox\":{\"style\":\"light\"},\"paper_bgcolor\":\"white\",\"plot_bgcolor\":\"#E5ECF6\",\"polar\":{\"angularaxis\":{\"gridcolor\":\"white\",\"linecolor\":\"white\",\"ticks\":\"\"},\"bgcolor\":\"#E5ECF6\",\"radialaxis\":{\"gridcolor\":\"white\",\"linecolor\":\"white\",\"ticks\":\"\"}},\"scene\":{\"xaxis\":{\"backgroundcolor\":\"#E5ECF6\",\"gridcolor\":\"white\",\"gridwidth\":2,\"linecolor\":\"white\",\"showbackground\":true,\"ticks\":\"\",\"zerolinecolor\":\"white\"},\"yaxis\":{\"backgroundcolor\":\"#E5ECF6\",\"gridcolor\":\"white\",\"gridwidth\":2,\"linecolor\":\"white\",\"showbackground\":true,\"ticks\":\"\",\"zerolinecolor\":\"white\"},\"zaxis\":{\"backgroundcolor\":\"#E5ECF6\",\"gridcolor\":\"white\",\"gridwidth\":2,\"linecolor\":\"white\",\"showbackground\":true,\"ticks\":\"\",\"zerolinecolor\":\"white\"}},\"shapedefaults\":{\"line\":{\"color\":\"#2a3f5f\"}},\"ternary\":{\"aaxis\":{\"gridcolor\":\"white\",\"linecolor\":\"white\",\"ticks\":\"\"},\"baxis\":{\"gridcolor\":\"white\",\"linecolor\":\"white\",\"ticks\":\"\"},\"bgcolor\":\"#E5ECF6\",\"caxis\":{\"gridcolor\":\"white\",\"linecolor\":\"white\",\"ticks\":\"\"}},\"title\":{\"x\":0.05},\"xaxis\":{\"automargin\":true,\"gridcolor\":\"white\",\"linecolor\":\"white\",\"ticks\":\"\",\"title\":{\"standoff\":15},\"zerolinecolor\":\"white\",\"zerolinewidth\":2},\"yaxis\":{\"automargin\":true,\"gridcolor\":\"white\",\"linecolor\":\"white\",\"ticks\":\"\",\"title\":{\"standoff\":15},\"zerolinecolor\":\"white\",\"zerolinewidth\":2}}},\"width\":1000},                        {\"showLink\": true, \"linkText\": \"Export to plot.ly\", \"plotlyServerURL\": \"https://plot.ly\", \"responsive\": true}                    ).then(function(){\n",
       "                            \n",
       "var gd = document.getElementById('9a6a335d-6078-4194-a652-5e9d5bf92ff2');\n",
       "var x = new MutationObserver(function (mutations, observer) {{\n",
       "        var display = window.getComputedStyle(gd).display;\n",
       "        if (!display || display === 'none') {{\n",
       "            console.log([gd, 'removed!']);\n",
       "            Plotly.purge(gd);\n",
       "            observer.disconnect();\n",
       "        }}\n",
       "}});\n",
       "\n",
       "// Listen for the removal of the full notebook cells\n",
       "var notebookContainer = gd.closest('#notebook-container');\n",
       "if (notebookContainer) {{\n",
       "    x.observe(notebookContainer, {childList: true});\n",
       "}}\n",
       "\n",
       "// Listen for the clearing of the current output cell\n",
       "var outputEl = gd.closest('.output');\n",
       "if (outputEl) {{\n",
       "    x.observe(outputEl, {childList: true});\n",
       "}}\n",
       "\n",
       "                        })                };                });            </script>        </div>"
      ]
     },
     "metadata": {}
    }
   ],
   "metadata": {}
  }
 ],
 "metadata": {
  "orig_nbformat": 4,
  "language_info": {
   "name": "python",
   "version": "3.9.1",
   "mimetype": "text/x-python",
   "codemirror_mode": {
    "name": "ipython",
    "version": 3
   },
   "pygments_lexer": "ipython3",
   "nbconvert_exporter": "python",
   "file_extension": ".py"
  },
  "kernelspec": {
   "name": "python3",
   "display_name": "Python 3.9.1 64-bit ('venv': venv)"
  },
  "interpreter": {
   "hash": "cbfba55dfc4cf98155506794edd6aecf0af75386b66b3e49c98ac37ae2b9007e"
  }
 },
 "nbformat": 4,
 "nbformat_minor": 2
}