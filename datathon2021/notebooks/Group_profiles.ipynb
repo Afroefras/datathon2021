{
 "cells": [
  {
   "cell_type": "markdown",
   "source": [
    "# Group profiles"
   ],
   "metadata": {}
  },
  {
   "cell_type": "markdown",
   "source": [
    "## Parameters"
   ],
   "metadata": {}
  },
  {
   "cell_type": "code",
   "execution_count": 2,
   "source": [
    "BASE_DIR = '/Users/efraflores/Downloads'\n",
    "FOLDER_NAME = 'profiled'"
   ],
   "outputs": [],
   "metadata": {}
  },
  {
   "cell_type": "markdown",
   "source": [
    "## Import"
   ],
   "metadata": {}
  },
  {
   "cell_type": "code",
   "execution_count": 3,
   "source": [
    "from mariachis.models import GroupProfiles\n",
    "\n",
    "gp = GroupProfiles(BASE_DIR,FOLDER_NAME)\n",
    "print(gp)"
   ],
   "outputs": [
    {
     "output_type": "stream",
     "name": "stdout",
     "text": [
      "Path:\t/Users/efraflores/Downloads/profiled\n",
      "With 7 profiled files\n"
     ]
    }
   ],
   "metadata": {}
  },
  {
   "cell_type": "markdown",
   "source": [
    "## Transform"
   ],
   "metadata": {}
  },
  {
   "cell_type": "code",
   "execution_count": 4,
   "source": [
    "df, pipe_obj = gp.full_pipeline(cluster_kwargs={'n_clusters':6, 'kmeans':False}, index='comunity_code', values='cluster', aggfunc=', '.join)\n",
    "df.sample()"
   ],
   "outputs": [
    {
     "output_type": "execute_result",
     "data": {
      "text/html": [
       "<div>\n",
       "<style scoped>\n",
       "    .dataframe tbody tr th:only-of-type {\n",
       "        vertical-align: middle;\n",
       "    }\n",
       "\n",
       "    .dataframe tbody tr th {\n",
       "        vertical-align: top;\n",
       "    }\n",
       "\n",
       "    .dataframe thead th {\n",
       "        text-align: right;\n",
       "    }\n",
       "</style>\n",
       "<table border=\"1\" class=\"dataframe\">\n",
       "  <thead>\n",
       "    <tr style=\"text-align: right;\">\n",
       "      <th></th>\n",
       "      <th></th>\n",
       "      <th>Excursionista_18-29</th>\n",
       "      <th>Excursionista_30-39</th>\n",
       "      <th>Excursionista_40-49</th>\n",
       "      <th>Excursionista_50-59</th>\n",
       "      <th>Excursionista_60-69</th>\n",
       "      <th>Excursionista_70+</th>\n",
       "      <th>Excursionista_ALTO</th>\n",
       "      <th>Excursionista_BAJO</th>\n",
       "      <th>Excursionista_FEMALE</th>\n",
       "      <th>Excursionista_INTERNACIONAL</th>\n",
       "      <th>...</th>\n",
       "      <th>valor_min_velmedia_12</th>\n",
       "      <th>valor_min_velmedia_2</th>\n",
       "      <th>valor_min_velmedia_3</th>\n",
       "      <th>valor_min_velmedia_4</th>\n",
       "      <th>valor_min_velmedia_5</th>\n",
       "      <th>valor_min_velmedia_6</th>\n",
       "      <th>valor_min_velmedia_7</th>\n",
       "      <th>valor_min_velmedia_8</th>\n",
       "      <th>valor_min_velmedia_9</th>\n",
       "      <th>cluster</th>\n",
       "    </tr>\n",
       "    <tr>\n",
       "      <th>comunity_code</th>\n",
       "      <th>cluster_agg</th>\n",
       "      <th></th>\n",
       "      <th></th>\n",
       "      <th></th>\n",
       "      <th></th>\n",
       "      <th></th>\n",
       "      <th></th>\n",
       "      <th></th>\n",
       "      <th></th>\n",
       "      <th></th>\n",
       "      <th></th>\n",
       "      <th></th>\n",
       "      <th></th>\n",
       "      <th></th>\n",
       "      <th></th>\n",
       "      <th></th>\n",
       "      <th></th>\n",
       "      <th></th>\n",
       "      <th></th>\n",
       "      <th></th>\n",
       "      <th></th>\n",
       "      <th></th>\n",
       "    </tr>\n",
       "  </thead>\n",
       "  <tbody>\n",
       "    <tr>\n",
       "      <th>38049</th>\n",
       "      <th>Ambiente Familiar, Viaje familiar</th>\n",
       "      <td>0.0</td>\n",
       "      <td>0.0</td>\n",
       "      <td>0.0</td>\n",
       "      <td>0.0</td>\n",
       "      <td>0.0</td>\n",
       "      <td>0.0</td>\n",
       "      <td>0.0</td>\n",
       "      <td>0.0</td>\n",
       "      <td>0.0</td>\n",
       "      <td>0.0</td>\n",
       "      <td>...</td>\n",
       "      <td>0.0</td>\n",
       "      <td>0.0</td>\n",
       "      <td>0.0</td>\n",
       "      <td>0.0</td>\n",
       "      <td>0.0</td>\n",
       "      <td>0.0</td>\n",
       "      <td>0.0</td>\n",
       "      <td>0.0</td>\n",
       "      <td>0.0</td>\n",
       "      <td>A</td>\n",
       "    </tr>\n",
       "  </tbody>\n",
       "</table>\n",
       "<p>1 rows × 414 columns</p>\n",
       "</div>"
      ],
      "text/plain": [
       "                                                 Excursionista_18-29  \\\n",
       "comunity_code cluster_agg                                              \n",
       "38049         Ambiente Familiar, Viaje familiar                  0.0   \n",
       "\n",
       "                                                 Excursionista_30-39  \\\n",
       "comunity_code cluster_agg                                              \n",
       "38049         Ambiente Familiar, Viaje familiar                  0.0   \n",
       "\n",
       "                                                 Excursionista_40-49  \\\n",
       "comunity_code cluster_agg                                              \n",
       "38049         Ambiente Familiar, Viaje familiar                  0.0   \n",
       "\n",
       "                                                 Excursionista_50-59  \\\n",
       "comunity_code cluster_agg                                              \n",
       "38049         Ambiente Familiar, Viaje familiar                  0.0   \n",
       "\n",
       "                                                 Excursionista_60-69  \\\n",
       "comunity_code cluster_agg                                              \n",
       "38049         Ambiente Familiar, Viaje familiar                  0.0   \n",
       "\n",
       "                                                 Excursionista_70+  \\\n",
       "comunity_code cluster_agg                                            \n",
       "38049         Ambiente Familiar, Viaje familiar                0.0   \n",
       "\n",
       "                                                 Excursionista_ALTO  \\\n",
       "comunity_code cluster_agg                                             \n",
       "38049         Ambiente Familiar, Viaje familiar                 0.0   \n",
       "\n",
       "                                                 Excursionista_BAJO  \\\n",
       "comunity_code cluster_agg                                             \n",
       "38049         Ambiente Familiar, Viaje familiar                 0.0   \n",
       "\n",
       "                                                 Excursionista_FEMALE  \\\n",
       "comunity_code cluster_agg                                               \n",
       "38049         Ambiente Familiar, Viaje familiar                   0.0   \n",
       "\n",
       "                                                 Excursionista_INTERNACIONAL  \\\n",
       "comunity_code cluster_agg                                                      \n",
       "38049         Ambiente Familiar, Viaje familiar                          0.0   \n",
       "\n",
       "                                                 ...  valor_min_velmedia_12  \\\n",
       "comunity_code cluster_agg                        ...                          \n",
       "38049         Ambiente Familiar, Viaje familiar  ...                    0.0   \n",
       "\n",
       "                                                 valor_min_velmedia_2  \\\n",
       "comunity_code cluster_agg                                               \n",
       "38049         Ambiente Familiar, Viaje familiar                   0.0   \n",
       "\n",
       "                                                 valor_min_velmedia_3  \\\n",
       "comunity_code cluster_agg                                               \n",
       "38049         Ambiente Familiar, Viaje familiar                   0.0   \n",
       "\n",
       "                                                 valor_min_velmedia_4  \\\n",
       "comunity_code cluster_agg                                               \n",
       "38049         Ambiente Familiar, Viaje familiar                   0.0   \n",
       "\n",
       "                                                 valor_min_velmedia_5  \\\n",
       "comunity_code cluster_agg                                               \n",
       "38049         Ambiente Familiar, Viaje familiar                   0.0   \n",
       "\n",
       "                                                 valor_min_velmedia_6  \\\n",
       "comunity_code cluster_agg                                               \n",
       "38049         Ambiente Familiar, Viaje familiar                   0.0   \n",
       "\n",
       "                                                 valor_min_velmedia_7  \\\n",
       "comunity_code cluster_agg                                               \n",
       "38049         Ambiente Familiar, Viaje familiar                   0.0   \n",
       "\n",
       "                                                 valor_min_velmedia_8  \\\n",
       "comunity_code cluster_agg                                               \n",
       "38049         Ambiente Familiar, Viaje familiar                   0.0   \n",
       "\n",
       "                                                 valor_min_velmedia_9  cluster  \n",
       "comunity_code cluster_agg                                                       \n",
       "38049         Ambiente Familiar, Viaje familiar                   0.0        A  \n",
       "\n",
       "[1 rows x 414 columns]"
      ]
     },
     "metadata": {},
     "execution_count": 4
    }
   ],
   "metadata": {}
  },
  {
   "cell_type": "code",
   "execution_count": 5,
   "source": [
    "from mariachis.utils import tree_to_code\n",
    "\n",
    "tree_to_code(df, df.columns)"
   ],
   "outputs": [
    {
     "output_type": "stream",
     "name": "stdout",
     "text": [
      "1.0\n",
      "  if mean_cards <= 5.28205943107605:\n",
      "    if Viajeros entrados <= 13746.08642578125:\n",
      "      return [[128.   0.   0.   0.   0.   0.]]\n",
      "    else:  # if Viajeros entrados > 13746.08642578125\n",
      "      return [[0. 0. 0. 0. 2. 0.]]\n",
      "  else:  # if mean_cards > 5.28205943107605\n",
      "    if Valor_count_Bares <= 26.0:\n",
      "      return [[0. 0. 0. 4. 0. 0.]]\n",
      "    else:  # if Valor_count_Bares > 26.0\n",
      "      if valor_mean_tmin_7 <= 18.5:\n",
      "        if valor_mean_tmed_8 <= 11.899999618530273:\n",
      "          return [[0. 0. 0. 0. 0. 1.]]\n",
      "        else:  # if valor_mean_tmed_8 > 11.899999618530273\n",
      "          return [[0. 1. 0. 0. 0. 0.]]\n",
      "      else:  # if valor_mean_tmin_7 > 18.5\n",
      "        return [[0. 0. 2. 0. 0. 0.]]\n"
     ]
    }
   ],
   "metadata": {}
  },
  {
   "cell_type": "markdown",
   "source": [
    "## Profiles"
   ],
   "metadata": {}
  },
  {
   "cell_type": "code",
   "execution_count": 9,
   "source": [
    "from mariachis.utils import profiles\n",
    "\n",
    "prof = profiles(df)\n",
    "\n",
    "for i,var in enumerate(prof.values()):\n",
    "    aux = var.fillna(0)\n",
    "    display(aux.style.format(\"{:.0f}\").background_gradient('Blues'))\n",
    "    aux.T.to_csv(f'Profiles_{i}.csv')"
   ],
   "outputs": [],
   "metadata": {}
  },
  {
   "cell_type": "code",
   "execution_count": 5,
   "source": [
    "cluster_dict = {\n",
    "    'A':'Diversión para toda la familia',\n",
    "    'B':'La mejor fiesta tropical de tu vida',\n",
    "    'C':'Platillos exclusivos y climas variados',\n",
    "    'D':'Ruta del vino, trae tu abrigo',\n",
    "    'E':'Déjate consentir en la zona dorada y el mejor clima',\n",
    "    'F':'Atrévete a la aventura'\n",
    "}\n",
    "\n",
    "df['final_cluster'] = df['cluster'].map(cluster_dict)\n",
    "df['final_cluster'].value_counts(1)"
   ],
   "outputs": [],
   "metadata": {}
  },
  {
   "cell_type": "code",
   "execution_count": 6,
   "source": [
    "# import cufflinks as cf\n",
    "# cf.go_offline()\n",
    "# chart_size = cf.Layout(height=700, width=1100)\n",
    "# df.iplot(kind='scatter3d', mode='markers', x=0, y=1, z=2, categories='final_cluster', layout=chart_size)"
   ],
   "outputs": [],
   "metadata": {}
  },
  {
   "cell_type": "markdown",
   "source": [
    "## Export"
   ],
   "metadata": {}
  },
  {
   "cell_type": "code",
   "execution_count": 7,
   "source": [
    "gp.export_result(df.reset_index(), 'grouped_3D.csv')"
   ],
   "outputs": [
    {
     "output_type": "stream",
     "name": "stdout",
     "text": [
      "Exported succesfully!\n",
      "File:\tgrouped_3D.csv\n",
      "Path:\t/Users/efraflores/Downloads\n"
     ]
    }
   ],
   "metadata": {}
  }
 ],
 "metadata": {
  "orig_nbformat": 4,
  "language_info": {
   "name": "python",
   "version": "3.9.1",
   "mimetype": "text/x-python",
   "codemirror_mode": {
    "name": "ipython",
    "version": 3
   },
   "pygments_lexer": "ipython3",
   "nbconvert_exporter": "python",
   "file_extension": ".py"
  },
  "kernelspec": {
   "name": "python3",
   "display_name": "Python 3.9.1 64-bit ('venv': venv)"
  },
  "interpreter": {
   "hash": "cbfba55dfc4cf98155506794edd6aecf0af75386b66b3e49c98ac37ae2b9007e"
  }
 },
 "nbformat": 4,
 "nbformat_minor": 2
}