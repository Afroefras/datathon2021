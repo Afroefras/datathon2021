{
 "cells": [
  {
   "cell_type": "markdown",
   "source": [
    "# Group profiles"
   ],
   "metadata": {}
  },
  {
   "cell_type": "markdown",
   "source": [
    "## Parameters"
   ],
   "metadata": {}
  },
  {
   "cell_type": "code",
   "execution_count": 1,
   "source": [
    "BASE_DIR = '/Users/efraflores/Downloads'\n",
    "FOLDER_NAME = 'profiled'"
   ],
   "outputs": [],
   "metadata": {}
  },
  {
   "cell_type": "markdown",
   "source": [
    "## Import"
   ],
   "metadata": {}
  },
  {
   "cell_type": "code",
   "execution_count": 2,
   "source": [
    "from mariachis.models import GroupProfiles\n",
    "\n",
    "gp = GroupProfiles(BASE_DIR,FOLDER_NAME)\n",
    "print(gp)"
   ],
   "outputs": [],
   "metadata": {}
  },
  {
   "cell_type": "markdown",
   "source": [
    "## Transform"
   ],
   "metadata": {}
  },
  {
   "cell_type": "code",
   "execution_count": null,
   "source": [
    "df, pipe_obj = gp.full_pipeline(cluster_kwargs={'n_clusters':6, 'kmeans':False}, index='comunity_code', values='cluster', aggfunc=', '.join)"
   ],
   "outputs": [],
   "metadata": {}
  },
  {
   "cell_type": "code",
   "execution_count": null,
   "source": [
    "aux = df.reset_index().pivot_table(index='cluster_agg', columns='cluster', aggfunc={0:'count'}, fill_value=0)\n",
    "aux = aux.sort_values((0,'E'), ascending=False)\n",
    "aux.style.format(\"{:.0f}\").background_gradient('Blues')"
   ],
   "outputs": [],
   "metadata": {}
  },
  {
   "cell_type": "markdown",
   "source": [
    "## Profiles"
   ],
   "metadata": {}
  },
  {
   "cell_type": "code",
   "execution_count": null,
   "source": [
    "df['final_cluster'] = df['cluster'].map({'A':'Diversión para toda la familia', 'B':'La mejor fiesta tropical de tu vida', 'C':'Platillos exclusivos y climas variados', 'D':'Ruta del vino, trae tu abrigo', 'E':'Déjate consentir en la zona dorada y el mejor clima', 'F':'Atrévete a la aventura'})"
   ],
   "outputs": [],
   "metadata": {}
  },
  {
   "cell_type": "code",
   "execution_count": null,
   "source": [
    "import cufflinks as cf\n",
    "cf.go_offline()\n",
    "chart_size = cf.Layout(height=700, width=1100)\n",
    "df.iplot(kind='scatter3d', mode='markers', x=0, y=1, z=2, categories='final_cluster', layout=chart_size)"
   ],
   "outputs": [],
   "metadata": {}
  },
  {
   "cell_type": "markdown",
   "source": [
    "## Export"
   ],
   "metadata": {}
  },
  {
   "cell_type": "code",
   "execution_count": null,
   "source": [
    "gp.export_result(df.reset_index(), 'grouped_3D.csv')"
   ],
   "outputs": [],
   "metadata": {}
  }
 ],
 "metadata": {
  "orig_nbformat": 4,
  "language_info": {
   "name": "python",
   "version": "3.9.1",
   "mimetype": "text/x-python",
   "codemirror_mode": {
    "name": "ipython",
    "version": 3
   },
   "pygments_lexer": "ipython3",
   "nbconvert_exporter": "python",
   "file_extension": ".py"
  },
  "kernelspec": {
   "name": "python3",
   "display_name": "Python 3.9.1 64-bit ('venv': venv)"
  },
  "interpreter": {
   "hash": "cbfba55dfc4cf98155506794edd6aecf0af75386b66b3e49c98ac37ae2b9007e"
  }
 },
 "nbformat": 4,
 "nbformat_minor": 2
}