{
 "cells": [
  {
   "cell_type": "markdown",
   "source": [
    "# Recursos"
   ],
   "metadata": {}
  },
  {
   "cell_type": "markdown",
   "source": [
    "## Parameters"
   ],
   "metadata": {}
  },
  {
   "cell_type": "code",
   "execution_count": 1,
   "source": [
    "BASE_DIR = '/Users/efraflores/Desktop/EF/Contests/Datathon_202109/data/datos'\n",
    "FOLDER_NAME = 'CM07_1'\n",
    "FILE_NAME = 'recursos.csv'\n",
    "CP_FILE = 'Canarias_CP.csv'"
   ],
   "outputs": [],
   "metadata": {}
  },
  {
   "cell_type": "markdown",
   "source": [
    "## Import"
   ],
   "metadata": {}
  },
  {
   "cell_type": "code",
   "execution_count": 2,
   "source": [
    "from mariachis.models import Recursos\n",
    "\n",
    "rec = Recursos(BASE_DIR, FOLDER_NAME, FILE_NAME, CP_FILE)\n",
    "print(rec)"
   ],
   "outputs": [
    {
     "output_type": "stream",
     "name": "stdout",
     "text": [
      "File: /Users/efraflores/Desktop/EF/Contests/Datathon_202109/data/datos/CM07_1/recursos.csv\n"
     ]
    }
   ],
   "metadata": {}
  },
  {
   "cell_type": "markdown",
   "source": [
    "## Transform"
   ],
   "metadata": {}
  },
  {
   "cell_type": "code",
   "execution_count": 3,
   "source": [
    "df = rec.full_pipeline_recursos()\n",
    "df"
   ],
   "outputs": [
    {
     "output_type": "execute_result",
     "data": {
      "text/html": [
       "<div>\n",
       "<style scoped>\n",
       "    .dataframe tbody tr th:only-of-type {\n",
       "        vertical-align: middle;\n",
       "    }\n",
       "\n",
       "    .dataframe tbody tr th {\n",
       "        vertical-align: top;\n",
       "    }\n",
       "\n",
       "    .dataframe thead th {\n",
       "        text-align: right;\n",
       "    }\n",
       "</style>\n",
       "<table border=\"1\" class=\"dataframe\">\n",
       "  <thead>\n",
       "    <tr style=\"text-align: right;\">\n",
       "      <th></th>\n",
       "      <th>comunity_code</th>\n",
       "      <th>comunity</th>\n",
       "      <th>place</th>\n",
       "      <th>Atractivos</th>\n",
       "      <th>Bares</th>\n",
       "      <th>Buceo</th>\n",
       "      <th>Cafés</th>\n",
       "      <th>Restaurantes</th>\n",
       "      <th>Surf</th>\n",
       "      <th>Vela</th>\n",
       "    </tr>\n",
       "  </thead>\n",
       "  <tbody>\n",
       "    <tr>\n",
       "      <th>0</th>\n",
       "      <td>35016</td>\n",
       "      <td>Las Palmas de Gran Canaria</td>\n",
       "      <td>San Lorenzo</td>\n",
       "      <td>0</td>\n",
       "      <td>0</td>\n",
       "      <td>1</td>\n",
       "      <td>0</td>\n",
       "      <td>0</td>\n",
       "      <td>0</td>\n",
       "      <td>0</td>\n",
       "    </tr>\n",
       "    <tr>\n",
       "      <th>1</th>\n",
       "      <td>35016</td>\n",
       "      <td>Las Palmas de Gran Canaria</td>\n",
       "      <td>Siete Puertas</td>\n",
       "      <td>75</td>\n",
       "      <td>22</td>\n",
       "      <td>8</td>\n",
       "      <td>11</td>\n",
       "      <td>35</td>\n",
       "      <td>7</td>\n",
       "      <td>3</td>\n",
       "    </tr>\n",
       "    <tr>\n",
       "      <th>2</th>\n",
       "      <td>35019</td>\n",
       "      <td>San Bartolomé de Tirajana</td>\n",
       "      <td>Pedrazo Bajo</td>\n",
       "      <td>2</td>\n",
       "      <td>0</td>\n",
       "      <td>0</td>\n",
       "      <td>0</td>\n",
       "      <td>0</td>\n",
       "      <td>0</td>\n",
       "      <td>0</td>\n",
       "    </tr>\n",
       "    <tr>\n",
       "      <th>3</th>\n",
       "      <td>35026</td>\n",
       "      <td>Telde</td>\n",
       "      <td>San Juan (Telde)</td>\n",
       "      <td>0</td>\n",
       "      <td>0</td>\n",
       "      <td>1</td>\n",
       "      <td>0</td>\n",
       "      <td>0</td>\n",
       "      <td>0</td>\n",
       "      <td>0</td>\n",
       "    </tr>\n",
       "  </tbody>\n",
       "</table>\n",
       "</div>"
      ],
      "text/plain": [
       "   comunity_code                    comunity             place  Atractivos  \\\n",
       "0          35016  Las Palmas de Gran Canaria       San Lorenzo           0   \n",
       "1          35016  Las Palmas de Gran Canaria     Siete Puertas          75   \n",
       "2          35019   San Bartolomé de Tirajana      Pedrazo Bajo           2   \n",
       "3          35026                       Telde  San Juan (Telde)           0   \n",
       "\n",
       "   Bares  Buceo  Cafés  Restaurantes  Surf  Vela  \n",
       "0      0      1      0             0     0     0  \n",
       "1     22      8     11            35     7     3  \n",
       "2      0      0      0             0     0     0  \n",
       "3      0      1      0             0     0     0  "
      ]
     },
     "metadata": {},
     "execution_count": 3
    }
   ],
   "metadata": {}
  },
  {
   "cell_type": "markdown",
   "source": [
    "## Export"
   ],
   "metadata": {}
  },
  {
   "cell_type": "code",
   "execution_count": 4,
   "source": [
    "rec.export_result(df, 'Finished_')"
   ],
   "outputs": [
    {
     "output_type": "stream",
     "name": "stdout",
     "text": [
      "Exported succesfully!\n",
      "File:\tFinished_\n",
      "Path:\t/Users/efraflores/Desktop/EF/Contests/Datathon_202109/data/datos\n"
     ]
    }
   ],
   "metadata": {}
  }
 ],
 "metadata": {
  "orig_nbformat": 4,
  "language_info": {
   "name": "python",
   "version": "3.9.1",
   "mimetype": "text/x-python",
   "codemirror_mode": {
    "name": "ipython",
    "version": 3
   },
   "pygments_lexer": "ipython3",
   "nbconvert_exporter": "python",
   "file_extension": ".py"
  },
  "kernelspec": {
   "name": "python3",
   "display_name": "Python 3.9.1 64-bit ('venv': venv)"
  },
  "interpreter": {
   "hash": "cbfba55dfc4cf98155506794edd6aecf0af75386b66b3e49c98ac37ae2b9007e"
  }
 },
 "nbformat": 4,
 "nbformat_minor": 2
}