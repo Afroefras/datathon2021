{
 "cells": [
  {
   "cell_type": "markdown",
   "source": [
    "# Group profiles"
   ],
   "metadata": {}
  },
  {
   "cell_type": "markdown",
   "source": [
    "## Parameters"
   ],
   "metadata": {}
  },
  {
   "cell_type": "code",
   "execution_count": 1,
   "source": [
    "BASE_DIR = '/Users/efraflores/Desktop/EF/Contests/Datathon_202109/data/datos'\n",
    "FOLDER_NAME = 'profiled'\n",
    "CATALOG_NAME = 'Canarias_municipios.csv'"
   ],
   "outputs": [],
   "metadata": {}
  },
  {
   "cell_type": "markdown",
   "source": [
    "## Import"
   ],
   "metadata": {}
  },
  {
   "cell_type": "code",
   "execution_count": 2,
   "source": [
    "from mariachis.models import GroupProfiles\n",
    "\n",
    "gp = GroupProfiles(BASE_DIR,FOLDER_NAME)\n",
    "print(gp)"
   ],
   "outputs": [
    {
     "output_type": "stream",
     "name": "stdout",
     "text": [
      "Path:\t/Users/efraflores/Desktop/EF/Contests/Datathon_202109/data/datos/profiled\n",
      "With 7 profiled files\n"
     ]
    }
   ],
   "metadata": {}
  },
  {
   "cell_type": "markdown",
   "source": [
    "## Transform"
   ],
   "metadata": {}
  },
  {
   "cell_type": "code",
   "execution_count": 3,
   "source": [
    "df, pipe_obj = gp.full_pipeline(kbest=22, cluster_kwargs={'n_clusters':6, 'kmeans':False}, index='comunity_code', values='cluster', aggfunc=', '.join)\n",
    "df.sample()"
   ],
   "outputs": [
    {
     "output_type": "execute_result",
     "data": {
      "text/html": [
       "<div>\n",
       "<style scoped>\n",
       "    .dataframe tbody tr th:only-of-type {\n",
       "        vertical-align: middle;\n",
       "    }\n",
       "\n",
       "    .dataframe tbody tr th {\n",
       "        vertical-align: top;\n",
       "    }\n",
       "\n",
       "    .dataframe thead th {\n",
       "        text-align: right;\n",
       "    }\n",
       "</style>\n",
       "<table border=\"1\" class=\"dataframe\">\n",
       "  <thead>\n",
       "    <tr style=\"text-align: right;\">\n",
       "      <th></th>\n",
       "      <th></th>\n",
       "      <th>Gasto por turista y d√≠a_De 1 a 7 noches</th>\n",
       "      <th>Gasto por turista y d√≠a_Hoteleros</th>\n",
       "      <th>Pernoctaciones</th>\n",
       "      <th>Valor_mean_Bares</th>\n",
       "      <th>Valor_mean_Restaurantes</th>\n",
       "      <th>Valor_sum_Bares</th>\n",
       "      <th>Valor_sum_Restaurantes</th>\n",
       "      <th>Viajeros entrados</th>\n",
       "      <th>count_avg_amount</th>\n",
       "      <th>count_cards</th>\n",
       "      <th>...</th>\n",
       "      <th>mean_cards</th>\n",
       "      <th>median_avg_amount</th>\n",
       "      <th>median_cards</th>\n",
       "      <th>min_cards</th>\n",
       "      <th>sum_avg_amount</th>\n",
       "      <th>valor_max_prec_10</th>\n",
       "      <th>valor_mean_prec_10</th>\n",
       "      <th>valor_median_prec_10</th>\n",
       "      <th>valor_min_prec_10</th>\n",
       "      <th>cluster</th>\n",
       "    </tr>\n",
       "    <tr>\n",
       "      <th>comunity_code</th>\n",
       "      <th>cluster_agg</th>\n",
       "      <th></th>\n",
       "      <th></th>\n",
       "      <th></th>\n",
       "      <th></th>\n",
       "      <th></th>\n",
       "      <th></th>\n",
       "      <th></th>\n",
       "      <th></th>\n",
       "      <th></th>\n",
       "      <th></th>\n",
       "      <th></th>\n",
       "      <th></th>\n",
       "      <th></th>\n",
       "      <th></th>\n",
       "      <th></th>\n",
       "      <th></th>\n",
       "      <th></th>\n",
       "      <th></th>\n",
       "      <th></th>\n",
       "      <th></th>\n",
       "      <th></th>\n",
       "    </tr>\n",
       "  </thead>\n",
       "  <tbody>\n",
       "    <tr>\n",
       "      <th>38002</th>\n",
       "      <th>Ambiente Familiar</th>\n",
       "      <td>0.0</td>\n",
       "      <td>0.0</td>\n",
       "      <td>0.0</td>\n",
       "      <td>7.7</td>\n",
       "      <td>9.0</td>\n",
       "      <td>154.0</td>\n",
       "      <td>180.0</td>\n",
       "      <td>0.0</td>\n",
       "      <td>0.0</td>\n",
       "      <td>0.0</td>\n",
       "      <td>...</td>\n",
       "      <td>0.0</td>\n",
       "      <td>0.0</td>\n",
       "      <td>0.0</td>\n",
       "      <td>0.0</td>\n",
       "      <td>0.0</td>\n",
       "      <td>0.0</td>\n",
       "      <td>0.0</td>\n",
       "      <td>0.0</td>\n",
       "      <td>0.0</td>\n",
       "      <td>A</td>\n",
       "    </tr>\n",
       "  </tbody>\n",
       "</table>\n",
       "<p>1 rows × 23 columns</p>\n",
       "</div>"
      ],
      "text/plain": [
       "                                 Gasto por turista y d√≠a_De 1 a 7 noches  \\\n",
       "comunity_code cluster_agg                                                   \n",
       "38002         Ambiente Familiar                                       0.0   \n",
       "\n",
       "                                 Gasto por turista y d√≠a_Hoteleros  \\\n",
       "comunity_code cluster_agg                                             \n",
       "38002         Ambiente Familiar                                 0.0   \n",
       "\n",
       "                                 Pernoctaciones  Valor_mean_Bares  \\\n",
       "comunity_code cluster_agg                                           \n",
       "38002         Ambiente Familiar             0.0               7.7   \n",
       "\n",
       "                                 Valor_mean_Restaurantes  Valor_sum_Bares  \\\n",
       "comunity_code cluster_agg                                                   \n",
       "38002         Ambiente Familiar                      9.0            154.0   \n",
       "\n",
       "                                 Valor_sum_Restaurantes  Viajeros entrados  \\\n",
       "comunity_code cluster_agg                                                    \n",
       "38002         Ambiente Familiar                   180.0                0.0   \n",
       "\n",
       "                                 count_avg_amount  count_cards  ...  \\\n",
       "comunity_code cluster_agg                                       ...   \n",
       "38002         Ambiente Familiar               0.0          0.0  ...   \n",
       "\n",
       "                                 mean_cards  median_avg_amount  median_cards  \\\n",
       "comunity_code cluster_agg                                                      \n",
       "38002         Ambiente Familiar         0.0                0.0           0.0   \n",
       "\n",
       "                                 min_cards  sum_avg_amount  valor_max_prec_10  \\\n",
       "comunity_code cluster_agg                                                       \n",
       "38002         Ambiente Familiar        0.0             0.0                0.0   \n",
       "\n",
       "                                 valor_mean_prec_10  valor_median_prec_10  \\\n",
       "comunity_code cluster_agg                                                   \n",
       "38002         Ambiente Familiar                 0.0                   0.0   \n",
       "\n",
       "                                 valor_min_prec_10  cluster  \n",
       "comunity_code cluster_agg                                    \n",
       "38002         Ambiente Familiar                0.0        A  \n",
       "\n",
       "[1 rows x 23 columns]"
      ]
     },
     "metadata": {},
     "execution_count": 3
    }
   ],
   "metadata": {}
  },
  {
   "cell_type": "code",
   "execution_count": 4,
   "source": [
    "from mariachis.utils import tree_to_code\n",
    "\n",
    "tree_to_code(df, df.columns)"
   ],
   "outputs": [
    {
     "output_type": "stream",
     "name": "stdout",
     "text": [
      "1.0\n",
      "  if max_cards <= 22.5:\n",
      "    if Valor_sum_Restaurantes <= 9433.5:\n",
      "      return [[128.   0.   0.   0.   0.   0.]]\n",
      "    else:  # if Valor_sum_Restaurantes > 9433.5\n",
      "      return [[0. 0. 0. 0. 2. 0.]]\n",
      "  else:  # if max_cards > 22.5\n",
      "    if count_cards <= 10488.5:\n",
      "      return [[0. 0. 0. 4. 0. 0.]]\n",
      "    else:  # if count_cards > 10488.5\n",
      "      if median_cards <= 17.0:\n",
      "        return [[0. 0. 2. 0. 0. 0.]]\n",
      "      else:  # if median_cards > 17.0\n",
      "        if max_avg_amount <= 425.5900001525879:\n",
      "          return [[0. 0. 0. 0. 0. 1.]]\n",
      "        else:  # if max_avg_amount > 425.5900001525879\n",
      "          return [[0. 1. 0. 0. 0. 0.]]\n"
     ]
    }
   ],
   "metadata": {}
  },
  {
   "cell_type": "markdown",
   "source": [
    "## Profiles"
   ],
   "metadata": {}
  },
  {
   "cell_type": "code",
   "execution_count": 5,
   "source": [
    "from mariachis.utils import profiles\n",
    "\n",
    "prof = profiles(df)\n",
    "\n",
    "for i,var in enumerate(prof.values()):\n",
    "    aux = var.fillna(0)\n",
    "    display(aux.style.format(\"{:.0f}\").background_gradient('Blues'))\n",
    "    # aux.T.to_csv(f'Profiles_{i}.csv')"
   ],
   "outputs": [
    {
     "output_type": "display_data",
     "data": {
      "text/html": [
       "<style type=\"text/css\">\n",
       "#T_5688a_row0_col0 {\n",
       "  background-color: #ebf3fb;\n",
       "  color: #000000;\n",
       "}\n",
       "#T_5688a_row0_col1 {\n",
       "  background-color: #ecf4fb;\n",
       "  color: #000000;\n",
       "}\n",
       "#T_5688a_row0_col2, #T_5688a_row0_col7 {\n",
       "  background-color: #f4f9fe;\n",
       "  color: #000000;\n",
       "}\n",
       "#T_5688a_row0_col3, #T_5688a_row0_col4, #T_5688a_row0_col5, #T_5688a_row0_col6, #T_5688a_row0_col8, #T_5688a_row0_col9, #T_5688a_row0_col11, #T_5688a_row0_col17, #T_5688a_row1_col0, #T_5688a_row1_col1, #T_5688a_row1_col2, #T_5688a_row1_col7, #T_5688a_row2_col2, #T_5688a_row2_col7, #T_5688a_row3_col0, #T_5688a_row3_col1, #T_5688a_row3_col2, #T_5688a_row3_col7, #T_5688a_row4_col8, #T_5688a_row4_col9, #T_5688a_row4_col10, #T_5688a_row4_col11, #T_5688a_row4_col12, #T_5688a_row4_col13, #T_5688a_row4_col14, #T_5688a_row4_col15, #T_5688a_row4_col16, #T_5688a_row4_col17, #T_5688a_row4_col18, #T_5688a_row4_col19, #T_5688a_row4_col20, #T_5688a_row4_col21, #T_5688a_row5_col0, #T_5688a_row5_col1, #T_5688a_row5_col2, #T_5688a_row5_col7, #T_5688a_row5_col18, #T_5688a_row5_col19, #T_5688a_row5_col20, #T_5688a_row5_col21 {\n",
       "  background-color: #f7fbff;\n",
       "  color: #000000;\n",
       "}\n",
       "#T_5688a_row0_col10 {\n",
       "  background-color: #f3f8fe;\n",
       "  color: #000000;\n",
       "}\n",
       "#T_5688a_row0_col12, #T_5688a_row3_col6, #T_5688a_row3_col11 {\n",
       "  background-color: #e7f1fa;\n",
       "  color: #000000;\n",
       "}\n",
       "#T_5688a_row0_col13 {\n",
       "  background-color: #f6faff;\n",
       "  color: #000000;\n",
       "}\n",
       "#T_5688a_row0_col14, #T_5688a_row3_col4 {\n",
       "  background-color: #e8f1fa;\n",
       "  color: #000000;\n",
       "}\n",
       "#T_5688a_row0_col15, #T_5688a_row0_col18, #T_5688a_row0_col19, #T_5688a_row0_col20, #T_5688a_row0_col21 {\n",
       "  background-color: #f5fafe;\n",
       "  color: #000000;\n",
       "}\n",
       "#T_5688a_row0_col16, #T_5688a_row3_col13 {\n",
       "  background-color: #e3eef8;\n",
       "  color: #000000;\n",
       "}\n",
       "#T_5688a_row1_col3, #T_5688a_row1_col5, #T_5688a_row1_col8, #T_5688a_row1_col9, #T_5688a_row1_col10, #T_5688a_row1_col13, #T_5688a_row1_col16, #T_5688a_row1_col17, #T_5688a_row1_col18, #T_5688a_row1_col19, #T_5688a_row1_col20, #T_5688a_row1_col21, #T_5688a_row2_col11, #T_5688a_row2_col12, #T_5688a_row2_col14, #T_5688a_row2_col16, #T_5688a_row3_col16, #T_5688a_row4_col0, #T_5688a_row4_col1, #T_5688a_row4_col2, #T_5688a_row4_col4, #T_5688a_row4_col6, #T_5688a_row4_col7, #T_5688a_row5_col15, #T_5688a_row5_col16 {\n",
       "  background-color: #08306b;\n",
       "  color: #f1f1f1;\n",
       "}\n",
       "#T_5688a_row1_col4 {\n",
       "  background-color: #63a8d3;\n",
       "  color: #f1f1f1;\n",
       "}\n",
       "#T_5688a_row1_col6 {\n",
       "  background-color: #2676b8;\n",
       "  color: #f1f1f1;\n",
       "}\n",
       "#T_5688a_row1_col11 {\n",
       "  background-color: #084f99;\n",
       "  color: #f1f1f1;\n",
       "}\n",
       "#T_5688a_row1_col12 {\n",
       "  background-color: #2474b7;\n",
       "  color: #f1f1f1;\n",
       "}\n",
       "#T_5688a_row1_col14 {\n",
       "  background-color: #1a68ae;\n",
       "  color: #f1f1f1;\n",
       "}\n",
       "#T_5688a_row1_col15 {\n",
       "  background-color: #3c8cc3;\n",
       "  color: #f1f1f1;\n",
       "}\n",
       "#T_5688a_row2_col0, #T_5688a_row2_col1 {\n",
       "  background-color: #4292c6;\n",
       "  color: #f1f1f1;\n",
       "}\n",
       "#T_5688a_row2_col3 {\n",
       "  background-color: #a6cee4;\n",
       "  color: #000000;\n",
       "}\n",
       "#T_5688a_row2_col4 {\n",
       "  background-color: #bfd8ed;\n",
       "  color: #000000;\n",
       "}\n",
       "#T_5688a_row2_col5 {\n",
       "  background-color: #a4cce3;\n",
       "  color: #000000;\n",
       "}\n",
       "#T_5688a_row2_col6 {\n",
       "  background-color: #a3cce3;\n",
       "  color: #000000;\n",
       "}\n",
       "#T_5688a_row2_col8, #T_5688a_row2_col9 {\n",
       "  background-color: #71b1d7;\n",
       "  color: #f1f1f1;\n",
       "}\n",
       "#T_5688a_row2_col10 {\n",
       "  background-color: #64a9d3;\n",
       "  color: #f1f1f1;\n",
       "}\n",
       "#T_5688a_row2_col13 {\n",
       "  background-color: #1561a9;\n",
       "  color: #f1f1f1;\n",
       "}\n",
       "#T_5688a_row2_col15 {\n",
       "  background-color: #7fb9da;\n",
       "  color: #000000;\n",
       "}\n",
       "#T_5688a_row2_col17 {\n",
       "  background-color: #3a8ac2;\n",
       "  color: #f1f1f1;\n",
       "}\n",
       "#T_5688a_row2_col18, #T_5688a_row2_col19, #T_5688a_row2_col20, #T_5688a_row2_col21 {\n",
       "  background-color: #6aaed6;\n",
       "  color: #f1f1f1;\n",
       "}\n",
       "#T_5688a_row3_col3, #T_5688a_row5_col6 {\n",
       "  background-color: #f0f6fd;\n",
       "  color: #000000;\n",
       "}\n",
       "#T_5688a_row3_col5 {\n",
       "  background-color: #f1f7fd;\n",
       "  color: #000000;\n",
       "}\n",
       "#T_5688a_row3_col8, #T_5688a_row3_col9 {\n",
       "  background-color: #d6e5f4;\n",
       "  color: #000000;\n",
       "}\n",
       "#T_5688a_row3_col10 {\n",
       "  background-color: #8abfdd;\n",
       "  color: #000000;\n",
       "}\n",
       "#T_5688a_row3_col12 {\n",
       "  background-color: #08519c;\n",
       "  color: #f1f1f1;\n",
       "}\n",
       "#T_5688a_row3_col14 {\n",
       "  background-color: #1764ab;\n",
       "  color: #f1f1f1;\n",
       "}\n",
       "#T_5688a_row3_col15 {\n",
       "  background-color: #c8dcf0;\n",
       "  color: #000000;\n",
       "}\n",
       "#T_5688a_row3_col17 {\n",
       "  background-color: #d0e1f2;\n",
       "  color: #000000;\n",
       "}\n",
       "#T_5688a_row3_col18, #T_5688a_row3_col19, #T_5688a_row3_col20, #T_5688a_row3_col21 {\n",
       "  background-color: #c6dbef;\n",
       "  color: #000000;\n",
       "}\n",
       "#T_5688a_row4_col3 {\n",
       "  background-color: #083c7d;\n",
       "  color: #f1f1f1;\n",
       "}\n",
       "#T_5688a_row4_col5 {\n",
       "  background-color: #3181bd;\n",
       "  color: #f1f1f1;\n",
       "}\n",
       "#T_5688a_row5_col3 {\n",
       "  background-color: #dfecf7;\n",
       "  color: #000000;\n",
       "}\n",
       "#T_5688a_row5_col4 {\n",
       "  background-color: #eff6fc;\n",
       "  color: #000000;\n",
       "}\n",
       "#T_5688a_row5_col5 {\n",
       "  background-color: #ddeaf7;\n",
       "  color: #000000;\n",
       "}\n",
       "#T_5688a_row5_col8, #T_5688a_row5_col9 {\n",
       "  background-color: #9ac8e0;\n",
       "  color: #000000;\n",
       "}\n",
       "#T_5688a_row5_col10 {\n",
       "  background-color: #deebf7;\n",
       "  color: #000000;\n",
       "}\n",
       "#T_5688a_row5_col11 {\n",
       "  background-color: #dbe9f6;\n",
       "  color: #000000;\n",
       "}\n",
       "#T_5688a_row5_col12 {\n",
       "  background-color: #2f7fbc;\n",
       "  color: #f1f1f1;\n",
       "}\n",
       "#T_5688a_row5_col13 {\n",
       "  background-color: #a5cde3;\n",
       "  color: #000000;\n",
       "}\n",
       "#T_5688a_row5_col14 {\n",
       "  background-color: #206fb4;\n",
       "  color: #f1f1f1;\n",
       "}\n",
       "#T_5688a_row5_col17 {\n",
       "  background-color: #a1cbe2;\n",
       "  color: #000000;\n",
       "}\n",
       "</style>\n",
       "<table id=\"T_5688a_\">\n",
       "  <thead>\n",
       "    <tr>\n",
       "      <th class=\"blank level0\" >&nbsp;</th>\n",
       "      <th class=\"col_heading level0 col0\" >Gasto por turista y d√≠a_De 1 a 7 noches</th>\n",
       "      <th class=\"col_heading level0 col1\" >Gasto por turista y d√≠a_Hoteleros</th>\n",
       "      <th class=\"col_heading level0 col2\" >Pernoctaciones</th>\n",
       "      <th class=\"col_heading level0 col3\" >Valor_mean_Bares</th>\n",
       "      <th class=\"col_heading level0 col4\" >Valor_mean_Restaurantes</th>\n",
       "      <th class=\"col_heading level0 col5\" >Valor_sum_Bares</th>\n",
       "      <th class=\"col_heading level0 col6\" >Valor_sum_Restaurantes</th>\n",
       "      <th class=\"col_heading level0 col7\" >Viajeros entrados</th>\n",
       "      <th class=\"col_heading level0 col8\" >count_avg_amount</th>\n",
       "      <th class=\"col_heading level0 col9\" >count_cards</th>\n",
       "      <th class=\"col_heading level0 col10\" >max_avg_amount</th>\n",
       "      <th class=\"col_heading level0 col11\" >max_cards</th>\n",
       "      <th class=\"col_heading level0 col12\" >mean_avg_amount</th>\n",
       "      <th class=\"col_heading level0 col13\" >mean_cards</th>\n",
       "      <th class=\"col_heading level0 col14\" >median_avg_amount</th>\n",
       "      <th class=\"col_heading level0 col15\" >median_cards</th>\n",
       "      <th class=\"col_heading level0 col16\" >min_cards</th>\n",
       "      <th class=\"col_heading level0 col17\" >sum_avg_amount</th>\n",
       "      <th class=\"col_heading level0 col18\" >valor_max_prec_10</th>\n",
       "      <th class=\"col_heading level0 col19\" >valor_mean_prec_10</th>\n",
       "      <th class=\"col_heading level0 col20\" >valor_median_prec_10</th>\n",
       "      <th class=\"col_heading level0 col21\" >valor_min_prec_10</th>\n",
       "    </tr>\n",
       "    <tr>\n",
       "      <th class=\"index_name level0\" >cluster</th>\n",
       "      <th class=\"blank col0\" >&nbsp;</th>\n",
       "      <th class=\"blank col1\" >&nbsp;</th>\n",
       "      <th class=\"blank col2\" >&nbsp;</th>\n",
       "      <th class=\"blank col3\" >&nbsp;</th>\n",
       "      <th class=\"blank col4\" >&nbsp;</th>\n",
       "      <th class=\"blank col5\" >&nbsp;</th>\n",
       "      <th class=\"blank col6\" >&nbsp;</th>\n",
       "      <th class=\"blank col7\" >&nbsp;</th>\n",
       "      <th class=\"blank col8\" >&nbsp;</th>\n",
       "      <th class=\"blank col9\" >&nbsp;</th>\n",
       "      <th class=\"blank col10\" >&nbsp;</th>\n",
       "      <th class=\"blank col11\" >&nbsp;</th>\n",
       "      <th class=\"blank col12\" >&nbsp;</th>\n",
       "      <th class=\"blank col13\" >&nbsp;</th>\n",
       "      <th class=\"blank col14\" >&nbsp;</th>\n",
       "      <th class=\"blank col15\" >&nbsp;</th>\n",
       "      <th class=\"blank col16\" >&nbsp;</th>\n",
       "      <th class=\"blank col17\" >&nbsp;</th>\n",
       "      <th class=\"blank col18\" >&nbsp;</th>\n",
       "      <th class=\"blank col19\" >&nbsp;</th>\n",
       "      <th class=\"blank col20\" >&nbsp;</th>\n",
       "      <th class=\"blank col21\" >&nbsp;</th>\n",
       "    </tr>\n",
       "  </thead>\n",
       "  <tbody>\n",
       "    <tr>\n",
       "      <th id=\"T_5688a_level0_row0\" class=\"row_heading level0 row0\" >A</th>\n",
       "      <td id=\"T_5688a_row0_col0\" class=\"data row0 col0\" >0</td>\n",
       "      <td id=\"T_5688a_row0_col1\" class=\"data row0 col1\" >0</td>\n",
       "      <td id=\"T_5688a_row0_col2\" class=\"data row0 col2\" >2819</td>\n",
       "      <td id=\"T_5688a_row0_col3\" class=\"data row0 col3\" >59</td>\n",
       "      <td id=\"T_5688a_row0_col4\" class=\"data row0 col4\" >32</td>\n",
       "      <td id=\"T_5688a_row0_col5\" class=\"data row0 col5\" >1317</td>\n",
       "      <td id=\"T_5688a_row0_col6\" class=\"data row0 col6\" >667</td>\n",
       "      <td id=\"T_5688a_row0_col7\" class=\"data row0 col7\" >385</td>\n",
       "      <td id=\"T_5688a_row0_col8\" class=\"data row0 col8\" >100</td>\n",
       "      <td id=\"T_5688a_row0_col9\" class=\"data row0 col9\" >100</td>\n",
       "      <td id=\"T_5688a_row0_col10\" class=\"data row0 col10\" >17</td>\n",
       "      <td id=\"T_5688a_row0_col11\" class=\"data row0 col11\" >1</td>\n",
       "      <td id=\"T_5688a_row0_col12\" class=\"data row0 col12\" >3</td>\n",
       "      <td id=\"T_5688a_row0_col13\" class=\"data row0 col13\" >0</td>\n",
       "      <td id=\"T_5688a_row0_col14\" class=\"data row0 col14\" >2</td>\n",
       "      <td id=\"T_5688a_row0_col15\" class=\"data row0 col15\" >0</td>\n",
       "      <td id=\"T_5688a_row0_col16\" class=\"data row0 col16\" >0</td>\n",
       "      <td id=\"T_5688a_row0_col17\" class=\"data row0 col17\" >2780</td>\n",
       "      <td id=\"T_5688a_row0_col18\" class=\"data row0 col18\" >0</td>\n",
       "      <td id=\"T_5688a_row0_col19\" class=\"data row0 col19\" >0</td>\n",
       "      <td id=\"T_5688a_row0_col20\" class=\"data row0 col20\" >0</td>\n",
       "      <td id=\"T_5688a_row0_col21\" class=\"data row0 col21\" >0</td>\n",
       "    </tr>\n",
       "    <tr>\n",
       "      <th id=\"T_5688a_level0_row1\" class=\"row_heading level0 row1\" >B</th>\n",
       "      <td id=\"T_5688a_row1_col0\" class=\"data row1 col0\" >0</td>\n",
       "      <td id=\"T_5688a_row1_col1\" class=\"data row1 col1\" >0</td>\n",
       "      <td id=\"T_5688a_row1_col2\" class=\"data row1 col2\" >0</td>\n",
       "      <td id=\"T_5688a_row1_col3\" class=\"data row1 col3\" >857</td>\n",
       "      <td id=\"T_5688a_row1_col4\" class=\"data row1 col4\" >358</td>\n",
       "      <td id=\"T_5688a_row1_col5\" class=\"data row1 col5\" >23141</td>\n",
       "      <td id=\"T_5688a_row1_col6\" class=\"data row1 col6\" >9675</td>\n",
       "      <td id=\"T_5688a_row1_col7\" class=\"data row1 col7\" >0</td>\n",
       "      <td id=\"T_5688a_row1_col8\" class=\"data row1 col8\" >35748</td>\n",
       "      <td id=\"T_5688a_row1_col9\" class=\"data row1 col9\" >35748</td>\n",
       "      <td id=\"T_5688a_row1_col10\" class=\"data row1 col10\" >755</td>\n",
       "      <td id=\"T_5688a_row1_col11\" class=\"data row1 col11\" >414</td>\n",
       "      <td id=\"T_5688a_row1_col12\" class=\"data row1 col12\" >28</td>\n",
       "      <td id=\"T_5688a_row1_col13\" class=\"data row1 col13\" >87</td>\n",
       "      <td id=\"T_5688a_row1_col14\" class=\"data row1 col14\" >25</td>\n",
       "      <td id=\"T_5688a_row1_col15\" class=\"data row1 col15\" >20</td>\n",
       "      <td id=\"T_5688a_row1_col16\" class=\"data row1 col16\" >3</td>\n",
       "      <td id=\"T_5688a_row1_col17\" class=\"data row1 col17\" >996159</td>\n",
       "      <td id=\"T_5688a_row1_col18\" class=\"data row1 col18\" >0</td>\n",
       "      <td id=\"T_5688a_row1_col19\" class=\"data row1 col19\" >0</td>\n",
       "      <td id=\"T_5688a_row1_col20\" class=\"data row1 col20\" >0</td>\n",
       "      <td id=\"T_5688a_row1_col21\" class=\"data row1 col21\" >0</td>\n",
       "    </tr>\n",
       "    <tr>\n",
       "      <th id=\"T_5688a_level0_row2\" class=\"row_heading level0 row2\" >C</th>\n",
       "      <td id=\"T_5688a_row2_col0\" class=\"data row2 col0\" >0</td>\n",
       "      <td id=\"T_5688a_row2_col1\" class=\"data row2 col1\" >0</td>\n",
       "      <td id=\"T_5688a_row2_col2\" class=\"data row2 col2\" >0</td>\n",
       "      <td id=\"T_5688a_row2_col3\" class=\"data row2 col3\" >338</td>\n",
       "      <td id=\"T_5688a_row2_col4\" class=\"data row2 col4\" >200</td>\n",
       "      <td id=\"T_5688a_row2_col5\" class=\"data row2 col5\" >9130</td>\n",
       "      <td id=\"T_5688a_row2_col6\" class=\"data row2 col6\" >5126</td>\n",
       "      <td id=\"T_5688a_row2_col7\" class=\"data row2 col7\" >0</td>\n",
       "      <td id=\"T_5688a_row2_col8\" class=\"data row2 col8\" >17346</td>\n",
       "      <td id=\"T_5688a_row2_col9\" class=\"data row2 col9\" >17346</td>\n",
       "      <td id=\"T_5688a_row2_col10\" class=\"data row2 col10\" >393</td>\n",
       "      <td id=\"T_5688a_row2_col11\" class=\"data row2 col11\" >470</td>\n",
       "      <td id=\"T_5688a_row2_col12\" class=\"data row2 col12\" >38</td>\n",
       "      <td id=\"T_5688a_row2_col13\" class=\"data row2 col13\" >71</td>\n",
       "      <td id=\"T_5688a_row2_col14\" class=\"data row2 col14\" >32</td>\n",
       "      <td id=\"T_5688a_row2_col15\" class=\"data row2 col15\" >14</td>\n",
       "      <td id=\"T_5688a_row2_col16\" class=\"data row2 col16\" >3</td>\n",
       "      <td id=\"T_5688a_row2_col17\" class=\"data row2 col17\" >651515</td>\n",
       "      <td id=\"T_5688a_row2_col18\" class=\"data row2 col18\" >0</td>\n",
       "      <td id=\"T_5688a_row2_col19\" class=\"data row2 col19\" >0</td>\n",
       "      <td id=\"T_5688a_row2_col20\" class=\"data row2 col20\" >0</td>\n",
       "      <td id=\"T_5688a_row2_col21\" class=\"data row2 col21\" >0</td>\n",
       "    </tr>\n",
       "    <tr>\n",
       "      <th id=\"T_5688a_level0_row3\" class=\"row_heading level0 row3\" >D</th>\n",
       "      <td id=\"T_5688a_row3_col0\" class=\"data row3 col0\" >0</td>\n",
       "      <td id=\"T_5688a_row3_col1\" class=\"data row3 col1\" >0</td>\n",
       "      <td id=\"T_5688a_row3_col2\" class=\"data row3 col2\" >0</td>\n",
       "      <td id=\"T_5688a_row3_col3\" class=\"data row3 col3\" >88</td>\n",
       "      <td id=\"T_5688a_row3_col4\" class=\"data row3 col4\" >79</td>\n",
       "      <td id=\"T_5688a_row3_col5\" class=\"data row3 col5\" >2012</td>\n",
       "      <td id=\"T_5688a_row3_col6\" class=\"data row3 col6\" >1658</td>\n",
       "      <td id=\"T_5688a_row3_col7\" class=\"data row3 col7\" >0</td>\n",
       "      <td id=\"T_5688a_row3_col8\" class=\"data row3 col8\" >6108</td>\n",
       "      <td id=\"T_5688a_row3_col9\" class=\"data row3 col9\" >6108</td>\n",
       "      <td id=\"T_5688a_row3_col10\" class=\"data row3 col10\" >319</td>\n",
       "      <td id=\"T_5688a_row3_col11\" class=\"data row3 col11\" >38</td>\n",
       "      <td id=\"T_5688a_row3_col12\" class=\"data row3 col12\" >33</td>\n",
       "      <td id=\"T_5688a_row3_col13\" class=\"data row3 col13\" >9</td>\n",
       "      <td id=\"T_5688a_row3_col14\" class=\"data row3 col14\" >26</td>\n",
       "      <td id=\"T_5688a_row3_col15\" class=\"data row3 col15\" >8</td>\n",
       "      <td id=\"T_5688a_row3_col16\" class=\"data row3 col16\" >3</td>\n",
       "      <td id=\"T_5688a_row3_col17\" class=\"data row3 col17\" >201502</td>\n",
       "      <td id=\"T_5688a_row3_col18\" class=\"data row3 col18\" >0</td>\n",
       "      <td id=\"T_5688a_row3_col19\" class=\"data row3 col19\" >0</td>\n",
       "      <td id=\"T_5688a_row3_col20\" class=\"data row3 col20\" >0</td>\n",
       "      <td id=\"T_5688a_row3_col21\" class=\"data row3 col21\" >0</td>\n",
       "    </tr>\n",
       "    <tr>\n",
       "      <th id=\"T_5688a_level0_row4\" class=\"row_heading level0 row4\" >E</th>\n",
       "      <td id=\"T_5688a_row4_col0\" class=\"data row4 col0\" >1</td>\n",
       "      <td id=\"T_5688a_row4_col1\" class=\"data row4 col1\" >1</td>\n",
       "      <td id=\"T_5688a_row4_col2\" class=\"data row4 col2\" >164455</td>\n",
       "      <td id=\"T_5688a_row4_col3\" class=\"data row4 col3\" >819</td>\n",
       "      <td id=\"T_5688a_row4_col4\" class=\"data row4 col4\" >652</td>\n",
       "      <td id=\"T_5688a_row4_col5\" class=\"data row4 col5\" >16370</td>\n",
       "      <td id=\"T_5688a_row4_col6\" class=\"data row4 col6\" >13044</td>\n",
       "      <td id=\"T_5688a_row4_col7\" class=\"data row4 col7\" >20585</td>\n",
       "      <td id=\"T_5688a_row4_col8\" class=\"data row4 col8\" >0</td>\n",
       "      <td id=\"T_5688a_row4_col9\" class=\"data row4 col9\" >0</td>\n",
       "      <td id=\"T_5688a_row4_col10\" class=\"data row4 col10\" >0</td>\n",
       "      <td id=\"T_5688a_row4_col11\" class=\"data row4 col11\" >0</td>\n",
       "      <td id=\"T_5688a_row4_col12\" class=\"data row4 col12\" >0</td>\n",
       "      <td id=\"T_5688a_row4_col13\" class=\"data row4 col13\" >0</td>\n",
       "      <td id=\"T_5688a_row4_col14\" class=\"data row4 col14\" >0</td>\n",
       "      <td id=\"T_5688a_row4_col15\" class=\"data row4 col15\" >0</td>\n",
       "      <td id=\"T_5688a_row4_col16\" class=\"data row4 col16\" >0</td>\n",
       "      <td id=\"T_5688a_row4_col17\" class=\"data row4 col17\" >0</td>\n",
       "      <td id=\"T_5688a_row4_col18\" class=\"data row4 col18\" >0</td>\n",
       "      <td id=\"T_5688a_row4_col19\" class=\"data row4 col19\" >0</td>\n",
       "      <td id=\"T_5688a_row4_col20\" class=\"data row4 col20\" >0</td>\n",
       "      <td id=\"T_5688a_row4_col21\" class=\"data row4 col21\" >0</td>\n",
       "    </tr>\n",
       "    <tr>\n",
       "      <th id=\"T_5688a_level0_row5\" class=\"row_heading level0 row5\" >F</th>\n",
       "      <td id=\"T_5688a_row5_col0\" class=\"data row5 col0\" >0</td>\n",
       "      <td id=\"T_5688a_row5_col1\" class=\"data row5 col1\" >0</td>\n",
       "      <td id=\"T_5688a_row5_col2\" class=\"data row5 col2\" >0</td>\n",
       "      <td id=\"T_5688a_row5_col3\" class=\"data row5 col3\" >153</td>\n",
       "      <td id=\"T_5688a_row5_col4\" class=\"data row5 col4\" >56</td>\n",
       "      <td id=\"T_5688a_row5_col5\" class=\"data row5 col5\" >4133</td>\n",
       "      <td id=\"T_5688a_row5_col6\" class=\"data row5 col6\" >1123</td>\n",
       "      <td id=\"T_5688a_row5_col7\" class=\"data row5 col7\" >0</td>\n",
       "      <td id=\"T_5688a_row5_col8\" class=\"data row5 col8\" >13813</td>\n",
       "      <td id=\"T_5688a_row5_col9\" class=\"data row5 col9\" >13813</td>\n",
       "      <td id=\"T_5688a_row5_col10\" class=\"data row5 col10\" >96</td>\n",
       "      <td id=\"T_5688a_row5_col11\" class=\"data row5 col11\" >67</td>\n",
       "      <td id=\"T_5688a_row5_col12\" class=\"data row5 col12\" >26</td>\n",
       "      <td id=\"T_5688a_row5_col13\" class=\"data row5 col13\" >31</td>\n",
       "      <td id=\"T_5688a_row5_col14\" class=\"data row5 col14\" >25</td>\n",
       "      <td id=\"T_5688a_row5_col15\" class=\"data row5 col15\" >31</td>\n",
       "      <td id=\"T_5688a_row5_col16\" class=\"data row5 col16\" >3</td>\n",
       "      <td id=\"T_5688a_row5_col17\" class=\"data row5 col17\" >365028</td>\n",
       "      <td id=\"T_5688a_row5_col18\" class=\"data row5 col18\" >0</td>\n",
       "      <td id=\"T_5688a_row5_col19\" class=\"data row5 col19\" >0</td>\n",
       "      <td id=\"T_5688a_row5_col20\" class=\"data row5 col20\" >0</td>\n",
       "      <td id=\"T_5688a_row5_col21\" class=\"data row5 col21\" >0</td>\n",
       "    </tr>\n",
       "  </tbody>\n",
       "</table>\n"
      ],
      "text/plain": [
       "<pandas.io.formats.style.Styler at 0x7f975b418640>"
      ]
     },
     "metadata": {}
    },
    {
     "output_type": "display_data",
     "data": {
      "text/html": [
       "<style type=\"text/css\">\n",
       "#T_64668_row0_col0, #T_64668_row1_col1, #T_64668_row2_col2, #T_64668_row3_col3, #T_64668_row4_col4, #T_64668_row5_col5 {\n",
       "  background-color: #08306b;\n",
       "  color: #f1f1f1;\n",
       "}\n",
       "#T_64668_row0_col1, #T_64668_row0_col2, #T_64668_row0_col3, #T_64668_row0_col4, #T_64668_row0_col5, #T_64668_row1_col0, #T_64668_row1_col2, #T_64668_row1_col3, #T_64668_row1_col4, #T_64668_row1_col5, #T_64668_row2_col0, #T_64668_row2_col1, #T_64668_row2_col3, #T_64668_row2_col4, #T_64668_row2_col5, #T_64668_row3_col0, #T_64668_row3_col1, #T_64668_row3_col2, #T_64668_row3_col4, #T_64668_row3_col5, #T_64668_row4_col0, #T_64668_row4_col1, #T_64668_row4_col2, #T_64668_row4_col3, #T_64668_row4_col5, #T_64668_row5_col0, #T_64668_row5_col1, #T_64668_row5_col2, #T_64668_row5_col3, #T_64668_row5_col4 {\n",
       "  background-color: #f7fbff;\n",
       "  color: #000000;\n",
       "}\n",
       "</style>\n",
       "<table id=\"T_64668_\">\n",
       "  <thead>\n",
       "    <tr>\n",
       "      <th class=\"blank level0\" >&nbsp;</th>\n",
       "      <th class=\"col_heading level0 col0\" colspan=\"6\">n</th>\n",
       "    </tr>\n",
       "    <tr>\n",
       "      <th class=\"index_name level1\" >cluster</th>\n",
       "      <th class=\"col_heading level1 col0\" >A</th>\n",
       "      <th class=\"col_heading level1 col1\" >B</th>\n",
       "      <th class=\"col_heading level1 col2\" >C</th>\n",
       "      <th class=\"col_heading level1 col3\" >D</th>\n",
       "      <th class=\"col_heading level1 col4\" >E</th>\n",
       "      <th class=\"col_heading level1 col5\" >F</th>\n",
       "    </tr>\n",
       "    <tr>\n",
       "      <th class=\"index_name level0\" >cluster</th>\n",
       "      <th class=\"blank col0\" >&nbsp;</th>\n",
       "      <th class=\"blank col1\" >&nbsp;</th>\n",
       "      <th class=\"blank col2\" >&nbsp;</th>\n",
       "      <th class=\"blank col3\" >&nbsp;</th>\n",
       "      <th class=\"blank col4\" >&nbsp;</th>\n",
       "      <th class=\"blank col5\" >&nbsp;</th>\n",
       "    </tr>\n",
       "  </thead>\n",
       "  <tbody>\n",
       "    <tr>\n",
       "      <th id=\"T_64668_level0_row0\" class=\"row_heading level0 row0\" >A</th>\n",
       "      <td id=\"T_64668_row0_col0\" class=\"data row0 col0\" >128</td>\n",
       "      <td id=\"T_64668_row0_col1\" class=\"data row0 col1\" >0</td>\n",
       "      <td id=\"T_64668_row0_col2\" class=\"data row0 col2\" >0</td>\n",
       "      <td id=\"T_64668_row0_col3\" class=\"data row0 col3\" >0</td>\n",
       "      <td id=\"T_64668_row0_col4\" class=\"data row0 col4\" >0</td>\n",
       "      <td id=\"T_64668_row0_col5\" class=\"data row0 col5\" >0</td>\n",
       "    </tr>\n",
       "    <tr>\n",
       "      <th id=\"T_64668_level0_row1\" class=\"row_heading level0 row1\" >B</th>\n",
       "      <td id=\"T_64668_row1_col0\" class=\"data row1 col0\" >0</td>\n",
       "      <td id=\"T_64668_row1_col1\" class=\"data row1 col1\" >1</td>\n",
       "      <td id=\"T_64668_row1_col2\" class=\"data row1 col2\" >0</td>\n",
       "      <td id=\"T_64668_row1_col3\" class=\"data row1 col3\" >0</td>\n",
       "      <td id=\"T_64668_row1_col4\" class=\"data row1 col4\" >0</td>\n",
       "      <td id=\"T_64668_row1_col5\" class=\"data row1 col5\" >0</td>\n",
       "    </tr>\n",
       "    <tr>\n",
       "      <th id=\"T_64668_level0_row2\" class=\"row_heading level0 row2\" >C</th>\n",
       "      <td id=\"T_64668_row2_col0\" class=\"data row2 col0\" >0</td>\n",
       "      <td id=\"T_64668_row2_col1\" class=\"data row2 col1\" >0</td>\n",
       "      <td id=\"T_64668_row2_col2\" class=\"data row2 col2\" >2</td>\n",
       "      <td id=\"T_64668_row2_col3\" class=\"data row2 col3\" >0</td>\n",
       "      <td id=\"T_64668_row2_col4\" class=\"data row2 col4\" >0</td>\n",
       "      <td id=\"T_64668_row2_col5\" class=\"data row2 col5\" >0</td>\n",
       "    </tr>\n",
       "    <tr>\n",
       "      <th id=\"T_64668_level0_row3\" class=\"row_heading level0 row3\" >D</th>\n",
       "      <td id=\"T_64668_row3_col0\" class=\"data row3 col0\" >0</td>\n",
       "      <td id=\"T_64668_row3_col1\" class=\"data row3 col1\" >0</td>\n",
       "      <td id=\"T_64668_row3_col2\" class=\"data row3 col2\" >0</td>\n",
       "      <td id=\"T_64668_row3_col3\" class=\"data row3 col3\" >4</td>\n",
       "      <td id=\"T_64668_row3_col4\" class=\"data row3 col4\" >0</td>\n",
       "      <td id=\"T_64668_row3_col5\" class=\"data row3 col5\" >0</td>\n",
       "    </tr>\n",
       "    <tr>\n",
       "      <th id=\"T_64668_level0_row4\" class=\"row_heading level0 row4\" >E</th>\n",
       "      <td id=\"T_64668_row4_col0\" class=\"data row4 col0\" >0</td>\n",
       "      <td id=\"T_64668_row4_col1\" class=\"data row4 col1\" >0</td>\n",
       "      <td id=\"T_64668_row4_col2\" class=\"data row4 col2\" >0</td>\n",
       "      <td id=\"T_64668_row4_col3\" class=\"data row4 col3\" >0</td>\n",
       "      <td id=\"T_64668_row4_col4\" class=\"data row4 col4\" >2</td>\n",
       "      <td id=\"T_64668_row4_col5\" class=\"data row4 col5\" >0</td>\n",
       "    </tr>\n",
       "    <tr>\n",
       "      <th id=\"T_64668_level0_row5\" class=\"row_heading level0 row5\" >F</th>\n",
       "      <td id=\"T_64668_row5_col0\" class=\"data row5 col0\" >0</td>\n",
       "      <td id=\"T_64668_row5_col1\" class=\"data row5 col1\" >0</td>\n",
       "      <td id=\"T_64668_row5_col2\" class=\"data row5 col2\" >0</td>\n",
       "      <td id=\"T_64668_row5_col3\" class=\"data row5 col3\" >0</td>\n",
       "      <td id=\"T_64668_row5_col4\" class=\"data row5 col4\" >0</td>\n",
       "      <td id=\"T_64668_row5_col5\" class=\"data row5 col5\" >1</td>\n",
       "    </tr>\n",
       "  </tbody>\n",
       "</table>\n"
      ],
      "text/plain": [
       "<pandas.io.formats.style.Styler at 0x7f975b420040>"
      ]
     },
     "metadata": {}
    }
   ],
   "metadata": {}
  },
  {
   "cell_type": "code",
   "execution_count": 6,
   "source": [
    "cluster_dict = {\n",
    "    'A':'Diversión para toda la familia',\n",
    "    'B':'La mejor fiesta tropical de tu vida',\n",
    "    'C':'Ruta del vino, trae tu abrigo',\n",
    "    'D':'Platillos exclusivos para tus viajes de trabajo',\n",
    "    'E':'Atrévete a la aventura',\n",
    "    'F':'Déjate consentir en la zona dorada y el mejor clima',\n",
    "}\n",
    "\n",
    "df['final_cluster'] = df['cluster'].map(cluster_dict)\n",
    "df['final_cluster'].value_counts(1)"
   ],
   "outputs": [
    {
     "output_type": "execute_result",
     "data": {
      "text/plain": [
       "Diversión para toda la familia                         0.927536\n",
       "Platillos exclusivos para tus viajes de trabajo        0.028986\n",
       "Ruta del vino, trae tu abrigo                          0.014493\n",
       "Atrévete a la aventura                                 0.014493\n",
       "La mejor fiesta tropical de tu vida                    0.007246\n",
       "Déjate consentir en la zona dorada y el mejor clima    0.007246\n",
       "Name: final_cluster, dtype: float64"
      ]
     },
     "metadata": {},
     "execution_count": 6
    }
   ],
   "metadata": {}
  },
  {
   "cell_type": "code",
   "execution_count": 7,
   "source": [
    "import cufflinks as cf\n",
    "from pandas import DataFrame\n",
    "from sklearn.pipeline import Pipeline\n",
    "from sklearn.decomposition import PCA\n",
    "from sklearn.preprocessing import MinMaxScaler\n",
    "\n",
    "pipe_pca = Pipeline(steps=[('pre_scaler', MinMaxScaler()), ('dim_red', PCA(3))])\n",
    "X = DataFrame(pipe_pca.fit_transform(df.iloc[:,:-3]), index=df.index).join(df['final_cluster'])\n",
    "\n",
    "cf.go_offline()\n",
    "chart_size = cf.Layout(height=700, width=1100)\n",
    "X.iplot(kind='scatter3d', mode='markers', x=0, y=1, z=2, categories='final_cluster', layout=chart_size)"
   ],
   "outputs": [
    {
     "output_type": "display_data",
     "data": {
      "text/html": [
       "        <script type=\"text/javascript\">\n",
       "        window.PlotlyConfig = {MathJaxConfig: 'local'};\n",
       "        if (window.MathJax) {MathJax.Hub.Config({SVG: {font: \"STIX-Web\"}});}\n",
       "        if (typeof require !== 'undefined') {\n",
       "        require.undef(\"plotly\");\n",
       "        requirejs.config({\n",
       "            paths: {\n",
       "                'plotly': ['https://cdn.plot.ly/plotly-2.4.2.min']\n",
       "            }\n",
       "        });\n",
       "        require(['plotly'], function(Plotly) {\n",
       "            window._Plotly = Plotly;\n",
       "        });\n",
       "        }\n",
       "        </script>\n",
       "        "
      ]
     },
     "metadata": {}
    },
    {
     "output_type": "display_data",
     "data": {
      "application/vnd.plotly.v1+json": {
       "config": {
        "linkText": "Export to plot.ly",
        "plotlyServerURL": "https://plot.ly",
        "showLink": true
       },
       "data": [
        {
         "marker": {
          "color": "rgba(255, 153, 51, 1.0)",
          "line": {
           "width": 1.3
          },
          "opacity": 0.8,
          "size": 12,
          "symbol": "circle"
         },
         "mode": "markers",
         "name": "Platillos exclusivos para tus viajes de trabajo",
         "textfont": {
          "color": "#4D5663"
         },
         "type": "scatter3d",
         "x": [
          0.7509833160446368,
          1.9106885678772074,
          0.8664134930678007,
          1.144199323788296
         ],
         "y": [
          -0.37924876392983803,
          -0.42084514265986384,
          -0.3480394156221203,
          -0.10586789215306283
         ],
         "z": [
          -0.5266568840924093,
          0.8335641335973408,
          -0.4984697744578646,
          -0.58282464908253
         ]
        },
        {
         "marker": {
          "color": "rgba(55, 128, 191, 1.0)",
          "line": {
           "width": 1.3
          },
          "opacity": 0.8,
          "size": 12,
          "symbol": "circle"
         },
         "mode": "markers",
         "name": "Diversión para toda la familia",
         "textfont": {
          "color": "#4D5663"
         },
         "type": "scatter3d",
         "x": [
          -0.13088466865194576,
          -0.19430119768869047,
          0.7564441376462485,
          0.6348431253352024,
          0.7384869847645402,
          -0.2147252595075732,
          1.716981099808722,
          0.6737212191587253,
          -0.11583945515312898,
          -0.08733875019855161,
          -0.16376413057482234,
          -0.20438228434754913,
          0.7005805806254011,
          0.7079554895020382,
          0.7241324156884895,
          -0.07489534193354702,
          0.63914161357189,
          0.7205864839544313,
          0.017540691142208974,
          -0.22070307786311105,
          -0.2068132625152851,
          0.6341779838310767,
          0.6035163864145986,
          1.0363124610590995,
          -0.08961154720497459,
          -0.228444184118265,
          -0.22707318075118943,
          -0.22315383459009042,
          -0.21503114907672094,
          -0.2280517186990292,
          -0.22418462629823227,
          -0.22070905099713126,
          -0.2166993765220086,
          -0.18371741296179078,
          -0.2252540514974956,
          -0.22516350054553202,
          -0.22649486620820602,
          -0.21463522293070486,
          -0.22839304635872293,
          -0.15083925529655567,
          -0.22305736452380653,
          -0.18884960480257898,
          -0.1947076574963167,
          -0.22696571273640512,
          -0.19149888166592638,
          0.03133962950939224,
          -0.1958590849124759,
          -0.20566631021394116,
          -0.15331365505463757,
          -0.22314218277844178,
          -0.03630922285130347,
          -0.22871226539691594,
          -0.16996885383931318,
          -0.19513105244075382,
          -0.22370116277711266,
          -0.22450736383098532,
          -0.19216294873241327,
          -0.21752929823322756,
          -0.2002883906998428,
          0.0681482863726176,
          -0.19613488401625445,
          -0.12602683114905247,
          -0.20595817505225303,
          -0.2211783893313703,
          -0.17182538879588838,
          -0.22105813757946544,
          -0.21387262428869405,
          -0.22779301538743868,
          -0.22134954955221658,
          -0.21378955578612588,
          -0.22529055197953687,
          -0.21137781987397272,
          -0.22421879391227362,
          -0.22693517540440383,
          -0.22819873538368962,
          -0.23199713631504934,
          -0.23199713631504934,
          -0.23199713631504934,
          -0.23199713631504934,
          -0.23199713631504934,
          -0.23199713631504934,
          -0.23199713631504934,
          -0.23199713631504934,
          -0.23199713631504934,
          -0.23199713631504934,
          -0.23199713631504934,
          -0.23199713631504934,
          -0.23199713631504934,
          -0.23199713631504934,
          -0.23199713631504934,
          -0.23199713631504934,
          -0.23199713631504934,
          -0.23199713631504934,
          -0.23199713631504934,
          -0.23199713631504934,
          -0.23199713631504934,
          -0.23199713631504934,
          -0.23199713631504934,
          -0.23199713631504934,
          -0.23199713631504934,
          -0.23199713631504934,
          -0.23199713631504934,
          -0.23199713631504934,
          -0.23199713631504934,
          -0.23199713631504934,
          -0.23199713631504934,
          -0.23199713631504934,
          -0.23199713631504934,
          -0.23199713631504934,
          -0.23199713631504934,
          -0.23199713631504934,
          -0.23199713631504934,
          -0.23199713631504934,
          -0.23199713631504934,
          -0.23199713631504928,
          -0.23199713631504928,
          -0.23199713631504928,
          -0.23199713631504928,
          -0.2319971363150492,
          -0.2319971363150492,
          -0.2319971363150492,
          -0.23199713631504915,
          -0.23199713631504915,
          -0.23199713631504912,
          -0.23199713631504912,
          -0.23199713631504912,
          -0.23199713631504915,
          -0.23199713631504915
         ],
         "y": [
          0.6013403236145632,
          0.21672772163036516,
          -0.46872918091388843,
          -0.4159016901730117,
          -0.38588793480535794,
          -0.049113322149789904,
          -0.43552669445574965,
          0.07436977233064827,
          0.5545013383930769,
          0.727403845481489,
          0.11620735810952412,
          -0.014464550615420256,
          -0.4032643019500623,
          -0.3703319179237793,
          -0.39115940184288484,
          0.9327315318673723,
          -0.4144721165547011,
          -0.39954328944773027,
          1.0402161269583463,
          -0.0699027578271584,
          -0.02462207952331385,
          -0.3986614753861168,
          -0.40823752061260865,
          -0.5188207488605365,
          0.9811827454081956,
          -0.0971613749080724,
          -0.09210170564909181,
          -0.07846017929312636,
          -0.0508826662820172,
          -0.09656801279857272,
          -0.0839185803132854,
          -0.07057057555064812,
          -0.05654535136656274,
          0.058466340466726434,
          -0.08761475969501205,
          -0.08606587315532392,
          -0.09171121222547467,
          -0.04930942811734782,
          -0.09711506774548173,
          0.18468806440905766,
          -0.07938153037019689,
          0.04148358142404749,
          0.015109676613136424,
          -0.09297935566603266,
          0.030039928571783184,
          0.7700747807569487,
          0.02380897126554565,
          -0.017097725320789715,
          0.15667692973582856,
          -0.0773338516059538,
          0.8790628215699293,
          -0.09943220464122399,
          0.10102470073760286,
          0.01662293241818481,
          -0.08269939214079697,
          -0.08384677280477426,
          0.032818119033221155,
          -0.059134187648380916,
          -0.0001226630640967566,
          1.0171402881470404,
          0.018876794164101984,
          0.538697574525721,
          -0.017390434217321303,
          -0.07332732915014846,
          0.09901499801086816,
          -0.07297336316400313,
          -0.04589109171116544,
          -0.09606025940366801,
          -0.06970253145630632,
          -0.02956885556494955,
          -0.08630915970317564,
          -0.037274248564266074,
          -0.08162664974233887,
          -0.092651576713551,
          -0.09632231790607013,
          -0.11000760917450578,
          -0.11000760917450578,
          -0.11000760917450578,
          -0.11000760917450578,
          -0.11000760917450578,
          -0.11000760917450578,
          -0.11000760917450578,
          -0.11000760917450578,
          -0.11000760917450578,
          -0.11000760917450578,
          -0.11000760917450578,
          -0.11000760917450578,
          -0.11000760917450578,
          -0.11000760917450578,
          -0.11000760917450578,
          -0.11000760917450578,
          -0.11000760917450578,
          -0.11000760917450578,
          -0.11000760917450578,
          -0.11000760917450578,
          -0.11000760917450578,
          -0.11000760917450578,
          -0.11000760917450578,
          -0.11000760917450578,
          -0.11000760917450578,
          -0.11000760917450578,
          -0.11000760917450578,
          -0.11000760917450578,
          -0.11000760917450578,
          -0.11000760917450578,
          -0.11000760917450578,
          -0.11000760917450578,
          -0.11000760917450578,
          -0.11000760917450578,
          -0.11000760917450578,
          -0.11000760917450578,
          -0.11000760917450578,
          -0.11000760917450578,
          -0.11000760917450578,
          -0.11000760917450578,
          -0.11000760917450578,
          -0.11000760917450578,
          -0.11000760917450578,
          -0.11000760917450579,
          -0.11000760917450579,
          -0.11000760917450579,
          -0.11000760917450579,
          -0.11000760917450579,
          -0.1100076091745058,
          -0.1100076091745058,
          -0.1100076091745058,
          -0.1100076091745058,
          -0.11000760917450582
         ],
         "z": [
          -0.18154851895965263,
          -0.09911662430772748,
          -0.7001171331450295,
          -0.6097359299911144,
          -0.5715414468766427,
          0.07446579310808837,
          0.8301251670178161,
          -0.8133376803229718,
          -0.0691093347009327,
          -0.21369512828384607,
          0.09848390391975254,
          0.07859684703812819,
          -0.5461738592473573,
          -0.5650059969833835,
          -0.5201363207077717,
          -0.2511558602825109,
          -0.5881722708752251,
          -0.5786268875566389,
          -0.13228129343170217,
          0.0732257476416698,
          0.07904974562473052,
          -0.5686657024504151,
          -0.5624647470288598,
          -0.8592252532361436,
          -0.32392872250045157,
          0.07159160868085632,
          0.07166116033463053,
          0.072639791837327,
          0.07532571992797761,
          0.07242189412821998,
          0.07415538876866799,
          0.07383749533829614,
          0.07477299577701949,
          0.08280369145225326,
          0.07386369906284644,
          0.07271701713362234,
          0.0733432049498929,
          0.0752395802153,
          0.07172918179754566,
          0.08757368085260901,
          0.07385535213634732,
          0.08068803260038375,
          0.08489738731750822,
          0.07287432786385428,
          0.08213313747020484,
          0.16762178732606195,
          0.0807525501993531,
          0.07653615501188984,
          0.0976093638335105,
          0.07313737319413499,
          -0.043186273006277524,
          0.07279256753055954,
          0.09125447447689967,
          0.08196074130163727,
          0.0747154359375149,
          0.07294209882417554,
          0.0771435898138288,
          0.07403483961318187,
          0.08247605363226489,
          0.08762574566404167,
          0.07626248871085335,
          -0.12354354196619005,
          0.07577789748896167,
          0.07478484288279016,
          0.0865713237697572,
          0.07487607417323276,
          0.07470583122098545,
          0.07285866359152278,
          0.07191343144166902,
          0.06906269032190945,
          0.07253851408708961,
          0.07539177140248028,
          0.07186190249495104,
          0.07267202754738798,
          0.0719244477838053,
          0.07115936330543543,
          0.07115936330543543,
          0.07115936330543543,
          0.07115936330543543,
          0.07115936330543543,
          0.07115936330543543,
          0.07115936330543543,
          0.07115936330543543,
          0.07115936330543543,
          0.07115936330543543,
          0.07115936330543543,
          0.07115936330543543,
          0.07115936330543543,
          0.07115936330543543,
          0.07115936330543543,
          0.07115936330543543,
          0.07115936330543543,
          0.07115936330543543,
          0.07115936330543543,
          0.07115936330543543,
          0.07115936330543543,
          0.07115936330543543,
          0.07115936330543543,
          0.07115936330543543,
          0.07115936330543543,
          0.07115936330543543,
          0.07115936330543543,
          0.07115936330543543,
          0.07115936330543543,
          0.07115936330543543,
          0.07115936330543543,
          0.07115936330543543,
          0.07115936330543543,
          0.07115936330543543,
          0.07115936330543543,
          0.07115936330543543,
          0.07115936330543543,
          0.07115936330543543,
          0.07115936330543543,
          0.07115936330543542,
          0.07115936330543542,
          0.07115936330543543,
          0.07115936330543543,
          0.07115936330543542,
          0.07115936330543542,
          0.07115936330543542,
          0.07115936330543547,
          0.07115936330543547,
          0.07115936330543543,
          0.07115936330543543,
          0.07115936330543543,
          0.07115936330543544,
          0.07115936330543544
         ]
        },
        {
         "marker": {
          "color": "rgba(50, 171, 96, 1.0)",
          "line": {
           "width": 1.3
          },
          "opacity": 0.8,
          "size": 12,
          "symbol": "circle"
         },
         "mode": "markers",
         "name": "La mejor fiesta tropical de tu vida",
         "textfont": {
          "color": "#4D5663"
         },
         "type": "scatter3d",
         "x": [
          3.040968892109861
         ],
         "y": [
          0.7021326070760769
         ],
         "z": [
          1.440008907490064
         ]
        },
        {
         "marker": {
          "color": "rgba(128, 0, 128, 1.0)",
          "line": {
           "width": 1.3
          },
          "opacity": 0.8,
          "size": 12,
          "symbol": "circle"
         },
         "mode": "markers",
         "name": "Ruta del vino, trae tu abrigo",
         "textfont": {
          "color": "#4D5663"
         },
         "type": "scatter3d",
         "x": [
          1.8400528270036407,
          2.4527206542301476
         ],
         "y": [
          1.108895132262669,
          -0.16108193863575432
         ],
         "z": [
          -0.6733369168807497,
          1.1699722888276456
         ]
        },
        {
         "marker": {
          "color": "rgba(219, 64, 82, 1.0)",
          "line": {
           "width": 1.3
          },
          "opacity": 0.8,
          "size": 12,
          "symbol": "circle"
         },
         "mode": "markers",
         "name": "Déjate consentir en la zona dorada y el mejor clima",
         "textfont": {
          "color": "#4D5663"
         },
         "type": "scatter3d",
         "x": [
          1.148858153858608
         ],
         "y": [
          -0.2133178348897125
         ],
         "z": [
          -0.41546712528049345
         ]
        },
        {
         "marker": {
          "color": "rgba(0, 128, 128, 1.0)",
          "line": {
           "width": 1.3
          },
          "opacity": 0.8,
          "size": 12,
          "symbol": "circle"
         },
         "mode": "markers",
         "name": "Atrévete a la aventura",
         "textfont": {
          "color": "#4D5663"
         },
         "type": "scatter3d",
         "x": [
          0.10569821320082393,
          0.19883828810179538
         ],
         "y": [
          2.029937354129673,
          1.9873411857287486
         ],
         "z": [
          -0.4440494526408261,
          -0.15729449207940943
         ]
        }
       ],
       "layout": {
        "height": 700,
        "template": {
         "data": {
          "bar": [
           {
            "error_x": {
             "color": "#2a3f5f"
            },
            "error_y": {
             "color": "#2a3f5f"
            },
            "marker": {
             "line": {
              "color": "#E5ECF6",
              "width": 0.5
             },
             "pattern": {
              "fillmode": "overlay",
              "size": 10,
              "solidity": 0.2
             }
            },
            "type": "bar"
           }
          ],
          "barpolar": [
           {
            "marker": {
             "line": {
              "color": "#E5ECF6",
              "width": 0.5
             },
             "pattern": {
              "fillmode": "overlay",
              "size": 10,
              "solidity": 0.2
             }
            },
            "type": "barpolar"
           }
          ],
          "carpet": [
           {
            "aaxis": {
             "endlinecolor": "#2a3f5f",
             "gridcolor": "white",
             "linecolor": "white",
             "minorgridcolor": "white",
             "startlinecolor": "#2a3f5f"
            },
            "baxis": {
             "endlinecolor": "#2a3f5f",
             "gridcolor": "white",
             "linecolor": "white",
             "minorgridcolor": "white",
             "startlinecolor": "#2a3f5f"
            },
            "type": "carpet"
           }
          ],
          "choropleth": [
           {
            "colorbar": {
             "outlinewidth": 0,
             "ticks": ""
            },
            "type": "choropleth"
           }
          ],
          "contour": [
           {
            "colorbar": {
             "outlinewidth": 0,
             "ticks": ""
            },
            "colorscale": [
             [
              0,
              "#0d0887"
             ],
             [
              0.1111111111111111,
              "#46039f"
             ],
             [
              0.2222222222222222,
              "#7201a8"
             ],
             [
              0.3333333333333333,
              "#9c179e"
             ],
             [
              0.4444444444444444,
              "#bd3786"
             ],
             [
              0.5555555555555556,
              "#d8576b"
             ],
             [
              0.6666666666666666,
              "#ed7953"
             ],
             [
              0.7777777777777778,
              "#fb9f3a"
             ],
             [
              0.8888888888888888,
              "#fdca26"
             ],
             [
              1,
              "#f0f921"
             ]
            ],
            "type": "contour"
           }
          ],
          "contourcarpet": [
           {
            "colorbar": {
             "outlinewidth": 0,
             "ticks": ""
            },
            "type": "contourcarpet"
           }
          ],
          "heatmap": [
           {
            "colorbar": {
             "outlinewidth": 0,
             "ticks": ""
            },
            "colorscale": [
             [
              0,
              "#0d0887"
             ],
             [
              0.1111111111111111,
              "#46039f"
             ],
             [
              0.2222222222222222,
              "#7201a8"
             ],
             [
              0.3333333333333333,
              "#9c179e"
             ],
             [
              0.4444444444444444,
              "#bd3786"
             ],
             [
              0.5555555555555556,
              "#d8576b"
             ],
             [
              0.6666666666666666,
              "#ed7953"
             ],
             [
              0.7777777777777778,
              "#fb9f3a"
             ],
             [
              0.8888888888888888,
              "#fdca26"
             ],
             [
              1,
              "#f0f921"
             ]
            ],
            "type": "heatmap"
           }
          ],
          "heatmapgl": [
           {
            "colorbar": {
             "outlinewidth": 0,
             "ticks": ""
            },
            "colorscale": [
             [
              0,
              "#0d0887"
             ],
             [
              0.1111111111111111,
              "#46039f"
             ],
             [
              0.2222222222222222,
              "#7201a8"
             ],
             [
              0.3333333333333333,
              "#9c179e"
             ],
             [
              0.4444444444444444,
              "#bd3786"
             ],
             [
              0.5555555555555556,
              "#d8576b"
             ],
             [
              0.6666666666666666,
              "#ed7953"
             ],
             [
              0.7777777777777778,
              "#fb9f3a"
             ],
             [
              0.8888888888888888,
              "#fdca26"
             ],
             [
              1,
              "#f0f921"
             ]
            ],
            "type": "heatmapgl"
           }
          ],
          "histogram": [
           {
            "marker": {
             "pattern": {
              "fillmode": "overlay",
              "size": 10,
              "solidity": 0.2
             }
            },
            "type": "histogram"
           }
          ],
          "histogram2d": [
           {
            "colorbar": {
             "outlinewidth": 0,
             "ticks": ""
            },
            "colorscale": [
             [
              0,
              "#0d0887"
             ],
             [
              0.1111111111111111,
              "#46039f"
             ],
             [
              0.2222222222222222,
              "#7201a8"
             ],
             [
              0.3333333333333333,
              "#9c179e"
             ],
             [
              0.4444444444444444,
              "#bd3786"
             ],
             [
              0.5555555555555556,
              "#d8576b"
             ],
             [
              0.6666666666666666,
              "#ed7953"
             ],
             [
              0.7777777777777778,
              "#fb9f3a"
             ],
             [
              0.8888888888888888,
              "#fdca26"
             ],
             [
              1,
              "#f0f921"
             ]
            ],
            "type": "histogram2d"
           }
          ],
          "histogram2dcontour": [
           {
            "colorbar": {
             "outlinewidth": 0,
             "ticks": ""
            },
            "colorscale": [
             [
              0,
              "#0d0887"
             ],
             [
              0.1111111111111111,
              "#46039f"
             ],
             [
              0.2222222222222222,
              "#7201a8"
             ],
             [
              0.3333333333333333,
              "#9c179e"
             ],
             [
              0.4444444444444444,
              "#bd3786"
             ],
             [
              0.5555555555555556,
              "#d8576b"
             ],
             [
              0.6666666666666666,
              "#ed7953"
             ],
             [
              0.7777777777777778,
              "#fb9f3a"
             ],
             [
              0.8888888888888888,
              "#fdca26"
             ],
             [
              1,
              "#f0f921"
             ]
            ],
            "type": "histogram2dcontour"
           }
          ],
          "mesh3d": [
           {
            "colorbar": {
             "outlinewidth": 0,
             "ticks": ""
            },
            "type": "mesh3d"
           }
          ],
          "parcoords": [
           {
            "line": {
             "colorbar": {
              "outlinewidth": 0,
              "ticks": ""
             }
            },
            "type": "parcoords"
           }
          ],
          "pie": [
           {
            "automargin": true,
            "type": "pie"
           }
          ],
          "scatter": [
           {
            "marker": {
             "colorbar": {
              "outlinewidth": 0,
              "ticks": ""
             }
            },
            "type": "scatter"
           }
          ],
          "scatter3d": [
           {
            "line": {
             "colorbar": {
              "outlinewidth": 0,
              "ticks": ""
             }
            },
            "marker": {
             "colorbar": {
              "outlinewidth": 0,
              "ticks": ""
             }
            },
            "type": "scatter3d"
           }
          ],
          "scattercarpet": [
           {
            "marker": {
             "colorbar": {
              "outlinewidth": 0,
              "ticks": ""
             }
            },
            "type": "scattercarpet"
           }
          ],
          "scattergeo": [
           {
            "marker": {
             "colorbar": {
              "outlinewidth": 0,
              "ticks": ""
             }
            },
            "type": "scattergeo"
           }
          ],
          "scattergl": [
           {
            "marker": {
             "colorbar": {
              "outlinewidth": 0,
              "ticks": ""
             }
            },
            "type": "scattergl"
           }
          ],
          "scattermapbox": [
           {
            "marker": {
             "colorbar": {
              "outlinewidth": 0,
              "ticks": ""
             }
            },
            "type": "scattermapbox"
           }
          ],
          "scatterpolar": [
           {
            "marker": {
             "colorbar": {
              "outlinewidth": 0,
              "ticks": ""
             }
            },
            "type": "scatterpolar"
           }
          ],
          "scatterpolargl": [
           {
            "marker": {
             "colorbar": {
              "outlinewidth": 0,
              "ticks": ""
             }
            },
            "type": "scatterpolargl"
           }
          ],
          "scatterternary": [
           {
            "marker": {
             "colorbar": {
              "outlinewidth": 0,
              "ticks": ""
             }
            },
            "type": "scatterternary"
           }
          ],
          "surface": [
           {
            "colorbar": {
             "outlinewidth": 0,
             "ticks": ""
            },
            "colorscale": [
             [
              0,
              "#0d0887"
             ],
             [
              0.1111111111111111,
              "#46039f"
             ],
             [
              0.2222222222222222,
              "#7201a8"
             ],
             [
              0.3333333333333333,
              "#9c179e"
             ],
             [
              0.4444444444444444,
              "#bd3786"
             ],
             [
              0.5555555555555556,
              "#d8576b"
             ],
             [
              0.6666666666666666,
              "#ed7953"
             ],
             [
              0.7777777777777778,
              "#fb9f3a"
             ],
             [
              0.8888888888888888,
              "#fdca26"
             ],
             [
              1,
              "#f0f921"
             ]
            ],
            "type": "surface"
           }
          ],
          "table": [
           {
            "cells": {
             "fill": {
              "color": "#EBF0F8"
             },
             "line": {
              "color": "white"
             }
            },
            "header": {
             "fill": {
              "color": "#C8D4E3"
             },
             "line": {
              "color": "white"
             }
            },
            "type": "table"
           }
          ]
         },
         "layout": {
          "annotationdefaults": {
           "arrowcolor": "#2a3f5f",
           "arrowhead": 0,
           "arrowwidth": 1
          },
          "autotypenumbers": "strict",
          "coloraxis": {
           "colorbar": {
            "outlinewidth": 0,
            "ticks": ""
           }
          },
          "colorscale": {
           "diverging": [
            [
             0,
             "#8e0152"
            ],
            [
             0.1,
             "#c51b7d"
            ],
            [
             0.2,
             "#de77ae"
            ],
            [
             0.3,
             "#f1b6da"
            ],
            [
             0.4,
             "#fde0ef"
            ],
            [
             0.5,
             "#f7f7f7"
            ],
            [
             0.6,
             "#e6f5d0"
            ],
            [
             0.7,
             "#b8e186"
            ],
            [
             0.8,
             "#7fbc41"
            ],
            [
             0.9,
             "#4d9221"
            ],
            [
             1,
             "#276419"
            ]
           ],
           "sequential": [
            [
             0,
             "#0d0887"
            ],
            [
             0.1111111111111111,
             "#46039f"
            ],
            [
             0.2222222222222222,
             "#7201a8"
            ],
            [
             0.3333333333333333,
             "#9c179e"
            ],
            [
             0.4444444444444444,
             "#bd3786"
            ],
            [
             0.5555555555555556,
             "#d8576b"
            ],
            [
             0.6666666666666666,
             "#ed7953"
            ],
            [
             0.7777777777777778,
             "#fb9f3a"
            ],
            [
             0.8888888888888888,
             "#fdca26"
            ],
            [
             1,
             "#f0f921"
            ]
           ],
           "sequentialminus": [
            [
             0,
             "#0d0887"
            ],
            [
             0.1111111111111111,
             "#46039f"
            ],
            [
             0.2222222222222222,
             "#7201a8"
            ],
            [
             0.3333333333333333,
             "#9c179e"
            ],
            [
             0.4444444444444444,
             "#bd3786"
            ],
            [
             0.5555555555555556,
             "#d8576b"
            ],
            [
             0.6666666666666666,
             "#ed7953"
            ],
            [
             0.7777777777777778,
             "#fb9f3a"
            ],
            [
             0.8888888888888888,
             "#fdca26"
            ],
            [
             1,
             "#f0f921"
            ]
           ]
          },
          "colorway": [
           "#636efa",
           "#EF553B",
           "#00cc96",
           "#ab63fa",
           "#FFA15A",
           "#19d3f3",
           "#FF6692",
           "#B6E880",
           "#FF97FF",
           "#FECB52"
          ],
          "font": {
           "color": "#2a3f5f"
          },
          "geo": {
           "bgcolor": "white",
           "lakecolor": "white",
           "landcolor": "#E5ECF6",
           "showlakes": true,
           "showland": true,
           "subunitcolor": "white"
          },
          "hoverlabel": {
           "align": "left"
          },
          "hovermode": "closest",
          "mapbox": {
           "style": "light"
          },
          "paper_bgcolor": "white",
          "plot_bgcolor": "#E5ECF6",
          "polar": {
           "angularaxis": {
            "gridcolor": "white",
            "linecolor": "white",
            "ticks": ""
           },
           "bgcolor": "#E5ECF6",
           "radialaxis": {
            "gridcolor": "white",
            "linecolor": "white",
            "ticks": ""
           }
          },
          "scene": {
           "xaxis": {
            "backgroundcolor": "#E5ECF6",
            "gridcolor": "white",
            "gridwidth": 2,
            "linecolor": "white",
            "showbackground": true,
            "ticks": "",
            "zerolinecolor": "white"
           },
           "yaxis": {
            "backgroundcolor": "#E5ECF6",
            "gridcolor": "white",
            "gridwidth": 2,
            "linecolor": "white",
            "showbackground": true,
            "ticks": "",
            "zerolinecolor": "white"
           },
           "zaxis": {
            "backgroundcolor": "#E5ECF6",
            "gridcolor": "white",
            "gridwidth": 2,
            "linecolor": "white",
            "showbackground": true,
            "ticks": "",
            "zerolinecolor": "white"
           }
          },
          "shapedefaults": {
           "line": {
            "color": "#2a3f5f"
           }
          },
          "ternary": {
           "aaxis": {
            "gridcolor": "white",
            "linecolor": "white",
            "ticks": ""
           },
           "baxis": {
            "gridcolor": "white",
            "linecolor": "white",
            "ticks": ""
           },
           "bgcolor": "#E5ECF6",
           "caxis": {
            "gridcolor": "white",
            "linecolor": "white",
            "ticks": ""
           }
          },
          "title": {
           "x": 0.05
          },
          "xaxis": {
           "automargin": true,
           "gridcolor": "white",
           "linecolor": "white",
           "ticks": "",
           "title": {
            "standoff": 15
           },
           "zerolinecolor": "white",
           "zerolinewidth": 2
          },
          "yaxis": {
           "automargin": true,
           "gridcolor": "white",
           "linecolor": "white",
           "ticks": "",
           "title": {
            "standoff": 15
           },
           "zerolinecolor": "white",
           "zerolinewidth": 2
          }
         }
        },
        "width": 1100
       }
      },
      "text/html": [
       "<div>                            <div id=\"dbf88714-35f6-4ae9-b27b-5bc1ce8d8fe5\" class=\"plotly-graph-div\" style=\"height:700px; width:1100px;\"></div>            <script type=\"text/javascript\">                require([\"plotly\"], function(Plotly) {                    window.PLOTLYENV=window.PLOTLYENV || {};\n",
       "                    window.PLOTLYENV.BASE_URL='https://plot.ly';                                    if (document.getElementById(\"dbf88714-35f6-4ae9-b27b-5bc1ce8d8fe5\")) {                    Plotly.newPlot(                        \"dbf88714-35f6-4ae9-b27b-5bc1ce8d8fe5\",                        [{\"marker\":{\"color\":\"rgba(255, 153, 51, 1.0)\",\"line\":{\"width\":1.3},\"opacity\":0.8,\"size\":12,\"symbol\":\"circle\"},\"mode\":\"markers\",\"name\":\"Platillos exclusivos para tus viajes de trabajo\",\"textfont\":{\"color\":\"#4D5663\"},\"type\":\"scatter3d\",\"x\":[0.7509833160446368,1.9106885678772074,0.8664134930678007,1.144199323788296],\"y\":[-0.37924876392983803,-0.42084514265986384,-0.3480394156221203,-0.10586789215306283],\"z\":[-0.5266568840924093,0.8335641335973408,-0.4984697744578646,-0.58282464908253]},{\"marker\":{\"color\":\"rgba(55, 128, 191, 1.0)\",\"line\":{\"width\":1.3},\"opacity\":0.8,\"size\":12,\"symbol\":\"circle\"},\"mode\":\"markers\",\"name\":\"Diversi\\u00f3n para toda la familia\",\"textfont\":{\"color\":\"#4D5663\"},\"type\":\"scatter3d\",\"x\":[-0.13088466865194576,-0.19430119768869047,0.7564441376462485,0.6348431253352024,0.7384869847645402,-0.2147252595075732,1.716981099808722,0.6737212191587253,-0.11583945515312898,-0.08733875019855161,-0.16376413057482234,-0.20438228434754913,0.7005805806254011,0.7079554895020382,0.7241324156884895,-0.07489534193354702,0.63914161357189,0.7205864839544313,0.017540691142208974,-0.22070307786311105,-0.2068132625152851,0.6341779838310767,0.6035163864145986,1.0363124610590995,-0.08961154720497459,-0.228444184118265,-0.22707318075118943,-0.22315383459009042,-0.21503114907672094,-0.2280517186990292,-0.22418462629823227,-0.22070905099713126,-0.2166993765220086,-0.18371741296179078,-0.2252540514974956,-0.22516350054553202,-0.22649486620820602,-0.21463522293070486,-0.22839304635872293,-0.15083925529655567,-0.22305736452380653,-0.18884960480257898,-0.1947076574963167,-0.22696571273640512,-0.19149888166592638,0.03133962950939224,-0.1958590849124759,-0.20566631021394116,-0.15331365505463757,-0.22314218277844178,-0.03630922285130347,-0.22871226539691594,-0.16996885383931318,-0.19513105244075382,-0.22370116277711266,-0.22450736383098532,-0.19216294873241327,-0.21752929823322756,-0.2002883906998428,0.0681482863726176,-0.19613488401625445,-0.12602683114905247,-0.20595817505225303,-0.2211783893313703,-0.17182538879588838,-0.22105813757946544,-0.21387262428869405,-0.22779301538743868,-0.22134954955221658,-0.21378955578612588,-0.22529055197953687,-0.21137781987397272,-0.22421879391227362,-0.22693517540440383,-0.22819873538368962,-0.23199713631504934,-0.23199713631504934,-0.23199713631504934,-0.23199713631504934,-0.23199713631504934,-0.23199713631504934,-0.23199713631504934,-0.23199713631504934,-0.23199713631504934,-0.23199713631504934,-0.23199713631504934,-0.23199713631504934,-0.23199713631504934,-0.23199713631504934,-0.23199713631504934,-0.23199713631504934,-0.23199713631504934,-0.23199713631504934,-0.23199713631504934,-0.23199713631504934,-0.23199713631504934,-0.23199713631504934,-0.23199713631504934,-0.23199713631504934,-0.23199713631504934,-0.23199713631504934,-0.23199713631504934,-0.23199713631504934,-0.23199713631504934,-0.23199713631504934,-0.23199713631504934,-0.23199713631504934,-0.23199713631504934,-0.23199713631504934,-0.23199713631504934,-0.23199713631504934,-0.23199713631504934,-0.23199713631504934,-0.23199713631504934,-0.23199713631504928,-0.23199713631504928,-0.23199713631504928,-0.23199713631504928,-0.2319971363150492,-0.2319971363150492,-0.2319971363150492,-0.23199713631504915,-0.23199713631504915,-0.23199713631504912,-0.23199713631504912,-0.23199713631504912,-0.23199713631504915,-0.23199713631504915],\"y\":[0.6013403236145632,0.21672772163036516,-0.46872918091388843,-0.4159016901730117,-0.38588793480535794,-0.049113322149789904,-0.43552669445574965,0.07436977233064827,0.5545013383930769,0.727403845481489,0.11620735810952412,-0.014464550615420256,-0.4032643019500623,-0.3703319179237793,-0.39115940184288484,0.9327315318673723,-0.4144721165547011,-0.39954328944773027,1.0402161269583463,-0.0699027578271584,-0.02462207952331385,-0.3986614753861168,-0.40823752061260865,-0.5188207488605365,0.9811827454081956,-0.0971613749080724,-0.09210170564909181,-0.07846017929312636,-0.0508826662820172,-0.09656801279857272,-0.0839185803132854,-0.07057057555064812,-0.05654535136656274,0.058466340466726434,-0.08761475969501205,-0.08606587315532392,-0.09171121222547467,-0.04930942811734782,-0.09711506774548173,0.18468806440905766,-0.07938153037019689,0.04148358142404749,0.015109676613136424,-0.09297935566603266,0.030039928571783184,0.7700747807569487,0.02380897126554565,-0.017097725320789715,0.15667692973582856,-0.0773338516059538,0.8790628215699293,-0.09943220464122399,0.10102470073760286,0.01662293241818481,-0.08269939214079697,-0.08384677280477426,0.032818119033221155,-0.059134187648380916,-0.0001226630640967566,1.0171402881470404,0.018876794164101984,0.538697574525721,-0.017390434217321303,-0.07332732915014846,0.09901499801086816,-0.07297336316400313,-0.04589109171116544,-0.09606025940366801,-0.06970253145630632,-0.02956885556494955,-0.08630915970317564,-0.037274248564266074,-0.08162664974233887,-0.092651576713551,-0.09632231790607013,-0.11000760917450578,-0.11000760917450578,-0.11000760917450578,-0.11000760917450578,-0.11000760917450578,-0.11000760917450578,-0.11000760917450578,-0.11000760917450578,-0.11000760917450578,-0.11000760917450578,-0.11000760917450578,-0.11000760917450578,-0.11000760917450578,-0.11000760917450578,-0.11000760917450578,-0.11000760917450578,-0.11000760917450578,-0.11000760917450578,-0.11000760917450578,-0.11000760917450578,-0.11000760917450578,-0.11000760917450578,-0.11000760917450578,-0.11000760917450578,-0.11000760917450578,-0.11000760917450578,-0.11000760917450578,-0.11000760917450578,-0.11000760917450578,-0.11000760917450578,-0.11000760917450578,-0.11000760917450578,-0.11000760917450578,-0.11000760917450578,-0.11000760917450578,-0.11000760917450578,-0.11000760917450578,-0.11000760917450578,-0.11000760917450578,-0.11000760917450578,-0.11000760917450578,-0.11000760917450578,-0.11000760917450578,-0.11000760917450579,-0.11000760917450579,-0.11000760917450579,-0.11000760917450579,-0.11000760917450579,-0.1100076091745058,-0.1100076091745058,-0.1100076091745058,-0.1100076091745058,-0.11000760917450582],\"z\":[-0.18154851895965263,-0.09911662430772748,-0.7001171331450295,-0.6097359299911144,-0.5715414468766427,0.07446579310808837,0.8301251670178161,-0.8133376803229718,-0.0691093347009327,-0.21369512828384607,0.09848390391975254,0.07859684703812819,-0.5461738592473573,-0.5650059969833835,-0.5201363207077717,-0.2511558602825109,-0.5881722708752251,-0.5786268875566389,-0.13228129343170217,0.0732257476416698,0.07904974562473052,-0.5686657024504151,-0.5624647470288598,-0.8592252532361436,-0.32392872250045157,0.07159160868085632,0.07166116033463053,0.072639791837327,0.07532571992797761,0.07242189412821998,0.07415538876866799,0.07383749533829614,0.07477299577701949,0.08280369145225326,0.07386369906284644,0.07271701713362234,0.0733432049498929,0.0752395802153,0.07172918179754566,0.08757368085260901,0.07385535213634732,0.08068803260038375,0.08489738731750822,0.07287432786385428,0.08213313747020484,0.16762178732606195,0.0807525501993531,0.07653615501188984,0.0976093638335105,0.07313737319413499,-0.043186273006277524,0.07279256753055954,0.09125447447689967,0.08196074130163727,0.0747154359375149,0.07294209882417554,0.0771435898138288,0.07403483961318187,0.08247605363226489,0.08762574566404167,0.07626248871085335,-0.12354354196619005,0.07577789748896167,0.07478484288279016,0.0865713237697572,0.07487607417323276,0.07470583122098545,0.07285866359152278,0.07191343144166902,0.06906269032190945,0.07253851408708961,0.07539177140248028,0.07186190249495104,0.07267202754738798,0.0719244477838053,0.07115936330543543,0.07115936330543543,0.07115936330543543,0.07115936330543543,0.07115936330543543,0.07115936330543543,0.07115936330543543,0.07115936330543543,0.07115936330543543,0.07115936330543543,0.07115936330543543,0.07115936330543543,0.07115936330543543,0.07115936330543543,0.07115936330543543,0.07115936330543543,0.07115936330543543,0.07115936330543543,0.07115936330543543,0.07115936330543543,0.07115936330543543,0.07115936330543543,0.07115936330543543,0.07115936330543543,0.07115936330543543,0.07115936330543543,0.07115936330543543,0.07115936330543543,0.07115936330543543,0.07115936330543543,0.07115936330543543,0.07115936330543543,0.07115936330543543,0.07115936330543543,0.07115936330543543,0.07115936330543543,0.07115936330543543,0.07115936330543543,0.07115936330543543,0.07115936330543542,0.07115936330543542,0.07115936330543543,0.07115936330543543,0.07115936330543542,0.07115936330543542,0.07115936330543542,0.07115936330543547,0.07115936330543547,0.07115936330543543,0.07115936330543543,0.07115936330543543,0.07115936330543544,0.07115936330543544]},{\"marker\":{\"color\":\"rgba(50, 171, 96, 1.0)\",\"line\":{\"width\":1.3},\"opacity\":0.8,\"size\":12,\"symbol\":\"circle\"},\"mode\":\"markers\",\"name\":\"La mejor fiesta tropical de tu vida\",\"textfont\":{\"color\":\"#4D5663\"},\"type\":\"scatter3d\",\"x\":[3.040968892109861],\"y\":[0.7021326070760769],\"z\":[1.440008907490064]},{\"marker\":{\"color\":\"rgba(128, 0, 128, 1.0)\",\"line\":{\"width\":1.3},\"opacity\":0.8,\"size\":12,\"symbol\":\"circle\"},\"mode\":\"markers\",\"name\":\"Ruta del vino, trae tu abrigo\",\"textfont\":{\"color\":\"#4D5663\"},\"type\":\"scatter3d\",\"x\":[1.8400528270036407,2.4527206542301476],\"y\":[1.108895132262669,-0.16108193863575432],\"z\":[-0.6733369168807497,1.1699722888276456]},{\"marker\":{\"color\":\"rgba(219, 64, 82, 1.0)\",\"line\":{\"width\":1.3},\"opacity\":0.8,\"size\":12,\"symbol\":\"circle\"},\"mode\":\"markers\",\"name\":\"D\\u00e9jate consentir en la zona dorada y el mejor clima\",\"textfont\":{\"color\":\"#4D5663\"},\"type\":\"scatter3d\",\"x\":[1.148858153858608],\"y\":[-0.2133178348897125],\"z\":[-0.41546712528049345]},{\"marker\":{\"color\":\"rgba(0, 128, 128, 1.0)\",\"line\":{\"width\":1.3},\"opacity\":0.8,\"size\":12,\"symbol\":\"circle\"},\"mode\":\"markers\",\"name\":\"Atr\\u00e9vete a la aventura\",\"textfont\":{\"color\":\"#4D5663\"},\"type\":\"scatter3d\",\"x\":[0.10569821320082393,0.19883828810179538],\"y\":[2.029937354129673,1.9873411857287486],\"z\":[-0.4440494526408261,-0.15729449207940943]}],                        {\"height\":700,\"template\":{\"data\":{\"bar\":[{\"error_x\":{\"color\":\"#2a3f5f\"},\"error_y\":{\"color\":\"#2a3f5f\"},\"marker\":{\"line\":{\"color\":\"#E5ECF6\",\"width\":0.5},\"pattern\":{\"fillmode\":\"overlay\",\"size\":10,\"solidity\":0.2}},\"type\":\"bar\"}],\"barpolar\":[{\"marker\":{\"line\":{\"color\":\"#E5ECF6\",\"width\":0.5},\"pattern\":{\"fillmode\":\"overlay\",\"size\":10,\"solidity\":0.2}},\"type\":\"barpolar\"}],\"carpet\":[{\"aaxis\":{\"endlinecolor\":\"#2a3f5f\",\"gridcolor\":\"white\",\"linecolor\":\"white\",\"minorgridcolor\":\"white\",\"startlinecolor\":\"#2a3f5f\"},\"baxis\":{\"endlinecolor\":\"#2a3f5f\",\"gridcolor\":\"white\",\"linecolor\":\"white\",\"minorgridcolor\":\"white\",\"startlinecolor\":\"#2a3f5f\"},\"type\":\"carpet\"}],\"choropleth\":[{\"colorbar\":{\"outlinewidth\":0,\"ticks\":\"\"},\"type\":\"choropleth\"}],\"contour\":[{\"colorbar\":{\"outlinewidth\":0,\"ticks\":\"\"},\"colorscale\":[[0.0,\"#0d0887\"],[0.1111111111111111,\"#46039f\"],[0.2222222222222222,\"#7201a8\"],[0.3333333333333333,\"#9c179e\"],[0.4444444444444444,\"#bd3786\"],[0.5555555555555556,\"#d8576b\"],[0.6666666666666666,\"#ed7953\"],[0.7777777777777778,\"#fb9f3a\"],[0.8888888888888888,\"#fdca26\"],[1.0,\"#f0f921\"]],\"type\":\"contour\"}],\"contourcarpet\":[{\"colorbar\":{\"outlinewidth\":0,\"ticks\":\"\"},\"type\":\"contourcarpet\"}],\"heatmap\":[{\"colorbar\":{\"outlinewidth\":0,\"ticks\":\"\"},\"colorscale\":[[0.0,\"#0d0887\"],[0.1111111111111111,\"#46039f\"],[0.2222222222222222,\"#7201a8\"],[0.3333333333333333,\"#9c179e\"],[0.4444444444444444,\"#bd3786\"],[0.5555555555555556,\"#d8576b\"],[0.6666666666666666,\"#ed7953\"],[0.7777777777777778,\"#fb9f3a\"],[0.8888888888888888,\"#fdca26\"],[1.0,\"#f0f921\"]],\"type\":\"heatmap\"}],\"heatmapgl\":[{\"colorbar\":{\"outlinewidth\":0,\"ticks\":\"\"},\"colorscale\":[[0.0,\"#0d0887\"],[0.1111111111111111,\"#46039f\"],[0.2222222222222222,\"#7201a8\"],[0.3333333333333333,\"#9c179e\"],[0.4444444444444444,\"#bd3786\"],[0.5555555555555556,\"#d8576b\"],[0.6666666666666666,\"#ed7953\"],[0.7777777777777778,\"#fb9f3a\"],[0.8888888888888888,\"#fdca26\"],[1.0,\"#f0f921\"]],\"type\":\"heatmapgl\"}],\"histogram\":[{\"marker\":{\"pattern\":{\"fillmode\":\"overlay\",\"size\":10,\"solidity\":0.2}},\"type\":\"histogram\"}],\"histogram2d\":[{\"colorbar\":{\"outlinewidth\":0,\"ticks\":\"\"},\"colorscale\":[[0.0,\"#0d0887\"],[0.1111111111111111,\"#46039f\"],[0.2222222222222222,\"#7201a8\"],[0.3333333333333333,\"#9c179e\"],[0.4444444444444444,\"#bd3786\"],[0.5555555555555556,\"#d8576b\"],[0.6666666666666666,\"#ed7953\"],[0.7777777777777778,\"#fb9f3a\"],[0.8888888888888888,\"#fdca26\"],[1.0,\"#f0f921\"]],\"type\":\"histogram2d\"}],\"histogram2dcontour\":[{\"colorbar\":{\"outlinewidth\":0,\"ticks\":\"\"},\"colorscale\":[[0.0,\"#0d0887\"],[0.1111111111111111,\"#46039f\"],[0.2222222222222222,\"#7201a8\"],[0.3333333333333333,\"#9c179e\"],[0.4444444444444444,\"#bd3786\"],[0.5555555555555556,\"#d8576b\"],[0.6666666666666666,\"#ed7953\"],[0.7777777777777778,\"#fb9f3a\"],[0.8888888888888888,\"#fdca26\"],[1.0,\"#f0f921\"]],\"type\":\"histogram2dcontour\"}],\"mesh3d\":[{\"colorbar\":{\"outlinewidth\":0,\"ticks\":\"\"},\"type\":\"mesh3d\"}],\"parcoords\":[{\"line\":{\"colorbar\":{\"outlinewidth\":0,\"ticks\":\"\"}},\"type\":\"parcoords\"}],\"pie\":[{\"automargin\":true,\"type\":\"pie\"}],\"scatter\":[{\"marker\":{\"colorbar\":{\"outlinewidth\":0,\"ticks\":\"\"}},\"type\":\"scatter\"}],\"scatter3d\":[{\"line\":{\"colorbar\":{\"outlinewidth\":0,\"ticks\":\"\"}},\"marker\":{\"colorbar\":{\"outlinewidth\":0,\"ticks\":\"\"}},\"type\":\"scatter3d\"}],\"scattercarpet\":[{\"marker\":{\"colorbar\":{\"outlinewidth\":0,\"ticks\":\"\"}},\"type\":\"scattercarpet\"}],\"scattergeo\":[{\"marker\":{\"colorbar\":{\"outlinewidth\":0,\"ticks\":\"\"}},\"type\":\"scattergeo\"}],\"scattergl\":[{\"marker\":{\"colorbar\":{\"outlinewidth\":0,\"ticks\":\"\"}},\"type\":\"scattergl\"}],\"scattermapbox\":[{\"marker\":{\"colorbar\":{\"outlinewidth\":0,\"ticks\":\"\"}},\"type\":\"scattermapbox\"}],\"scatterpolar\":[{\"marker\":{\"colorbar\":{\"outlinewidth\":0,\"ticks\":\"\"}},\"type\":\"scatterpolar\"}],\"scatterpolargl\":[{\"marker\":{\"colorbar\":{\"outlinewidth\":0,\"ticks\":\"\"}},\"type\":\"scatterpolargl\"}],\"scatterternary\":[{\"marker\":{\"colorbar\":{\"outlinewidth\":0,\"ticks\":\"\"}},\"type\":\"scatterternary\"}],\"surface\":[{\"colorbar\":{\"outlinewidth\":0,\"ticks\":\"\"},\"colorscale\":[[0.0,\"#0d0887\"],[0.1111111111111111,\"#46039f\"],[0.2222222222222222,\"#7201a8\"],[0.3333333333333333,\"#9c179e\"],[0.4444444444444444,\"#bd3786\"],[0.5555555555555556,\"#d8576b\"],[0.6666666666666666,\"#ed7953\"],[0.7777777777777778,\"#fb9f3a\"],[0.8888888888888888,\"#fdca26\"],[1.0,\"#f0f921\"]],\"type\":\"surface\"}],\"table\":[{\"cells\":{\"fill\":{\"color\":\"#EBF0F8\"},\"line\":{\"color\":\"white\"}},\"header\":{\"fill\":{\"color\":\"#C8D4E3\"},\"line\":{\"color\":\"white\"}},\"type\":\"table\"}]},\"layout\":{\"annotationdefaults\":{\"arrowcolor\":\"#2a3f5f\",\"arrowhead\":0,\"arrowwidth\":1},\"autotypenumbers\":\"strict\",\"coloraxis\":{\"colorbar\":{\"outlinewidth\":0,\"ticks\":\"\"}},\"colorscale\":{\"diverging\":[[0,\"#8e0152\"],[0.1,\"#c51b7d\"],[0.2,\"#de77ae\"],[0.3,\"#f1b6da\"],[0.4,\"#fde0ef\"],[0.5,\"#f7f7f7\"],[0.6,\"#e6f5d0\"],[0.7,\"#b8e186\"],[0.8,\"#7fbc41\"],[0.9,\"#4d9221\"],[1,\"#276419\"]],\"sequential\":[[0.0,\"#0d0887\"],[0.1111111111111111,\"#46039f\"],[0.2222222222222222,\"#7201a8\"],[0.3333333333333333,\"#9c179e\"],[0.4444444444444444,\"#bd3786\"],[0.5555555555555556,\"#d8576b\"],[0.6666666666666666,\"#ed7953\"],[0.7777777777777778,\"#fb9f3a\"],[0.8888888888888888,\"#fdca26\"],[1.0,\"#f0f921\"]],\"sequentialminus\":[[0.0,\"#0d0887\"],[0.1111111111111111,\"#46039f\"],[0.2222222222222222,\"#7201a8\"],[0.3333333333333333,\"#9c179e\"],[0.4444444444444444,\"#bd3786\"],[0.5555555555555556,\"#d8576b\"],[0.6666666666666666,\"#ed7953\"],[0.7777777777777778,\"#fb9f3a\"],[0.8888888888888888,\"#fdca26\"],[1.0,\"#f0f921\"]]},\"colorway\":[\"#636efa\",\"#EF553B\",\"#00cc96\",\"#ab63fa\",\"#FFA15A\",\"#19d3f3\",\"#FF6692\",\"#B6E880\",\"#FF97FF\",\"#FECB52\"],\"font\":{\"color\":\"#2a3f5f\"},\"geo\":{\"bgcolor\":\"white\",\"lakecolor\":\"white\",\"landcolor\":\"#E5ECF6\",\"showlakes\":true,\"showland\":true,\"subunitcolor\":\"white\"},\"hoverlabel\":{\"align\":\"left\"},\"hovermode\":\"closest\",\"mapbox\":{\"style\":\"light\"},\"paper_bgcolor\":\"white\",\"plot_bgcolor\":\"#E5ECF6\",\"polar\":{\"angularaxis\":{\"gridcolor\":\"white\",\"linecolor\":\"white\",\"ticks\":\"\"},\"bgcolor\":\"#E5ECF6\",\"radialaxis\":{\"gridcolor\":\"white\",\"linecolor\":\"white\",\"ticks\":\"\"}},\"scene\":{\"xaxis\":{\"backgroundcolor\":\"#E5ECF6\",\"gridcolor\":\"white\",\"gridwidth\":2,\"linecolor\":\"white\",\"showbackground\":true,\"ticks\":\"\",\"zerolinecolor\":\"white\"},\"yaxis\":{\"backgroundcolor\":\"#E5ECF6\",\"gridcolor\":\"white\",\"gridwidth\":2,\"linecolor\":\"white\",\"showbackground\":true,\"ticks\":\"\",\"zerolinecolor\":\"white\"},\"zaxis\":{\"backgroundcolor\":\"#E5ECF6\",\"gridcolor\":\"white\",\"gridwidth\":2,\"linecolor\":\"white\",\"showbackground\":true,\"ticks\":\"\",\"zerolinecolor\":\"white\"}},\"shapedefaults\":{\"line\":{\"color\":\"#2a3f5f\"}},\"ternary\":{\"aaxis\":{\"gridcolor\":\"white\",\"linecolor\":\"white\",\"ticks\":\"\"},\"baxis\":{\"gridcolor\":\"white\",\"linecolor\":\"white\",\"ticks\":\"\"},\"bgcolor\":\"#E5ECF6\",\"caxis\":{\"gridcolor\":\"white\",\"linecolor\":\"white\",\"ticks\":\"\"}},\"title\":{\"x\":0.05},\"xaxis\":{\"automargin\":true,\"gridcolor\":\"white\",\"linecolor\":\"white\",\"ticks\":\"\",\"title\":{\"standoff\":15},\"zerolinecolor\":\"white\",\"zerolinewidth\":2},\"yaxis\":{\"automargin\":true,\"gridcolor\":\"white\",\"linecolor\":\"white\",\"ticks\":\"\",\"title\":{\"standoff\":15},\"zerolinecolor\":\"white\",\"zerolinewidth\":2}}},\"width\":1100},                        {\"showLink\": true, \"linkText\": \"Export to plot.ly\", \"plotlyServerURL\": \"https://plot.ly\", \"responsive\": true}                    ).then(function(){\n",
       "                            \n",
       "var gd = document.getElementById('dbf88714-35f6-4ae9-b27b-5bc1ce8d8fe5');\n",
       "var x = new MutationObserver(function (mutations, observer) {{\n",
       "        var display = window.getComputedStyle(gd).display;\n",
       "        if (!display || display === 'none') {{\n",
       "            console.log([gd, 'removed!']);\n",
       "            Plotly.purge(gd);\n",
       "            observer.disconnect();\n",
       "        }}\n",
       "}});\n",
       "\n",
       "// Listen for the removal of the full notebook cells\n",
       "var notebookContainer = gd.closest('#notebook-container');\n",
       "if (notebookContainer) {{\n",
       "    x.observe(notebookContainer, {childList: true});\n",
       "}}\n",
       "\n",
       "// Listen for the clearing of the current output cell\n",
       "var outputEl = gd.closest('.output');\n",
       "if (outputEl) {{\n",
       "    x.observe(outputEl, {childList: true});\n",
       "}}\n",
       "\n",
       "                        })                };                });            </script>        </div>"
      ]
     },
     "metadata": {}
    }
   ],
   "metadata": {}
  },
  {
   "cell_type": "markdown",
   "source": [
    "## Merge catalog"
   ],
   "metadata": {}
  },
  {
   "cell_type": "code",
   "execution_count": 8,
   "source": [
    "from pathlib import Path\n",
    "from pandas import read_csv\n",
    "\n",
    "cat = read_csv(Path(BASE_DIR).joinpath(CATALOG_NAME))\n",
    "final = df[['final_cluster']].reset_index().merge(cat)\n",
    "final.sample(2)"
   ],
   "outputs": [
    {
     "output_type": "execute_result",
     "data": {
      "text/html": [
       "<div>\n",
       "<style scoped>\n",
       "    .dataframe tbody tr th:only-of-type {\n",
       "        vertical-align: middle;\n",
       "    }\n",
       "\n",
       "    .dataframe tbody tr th {\n",
       "        vertical-align: top;\n",
       "    }\n",
       "\n",
       "    .dataframe thead th {\n",
       "        text-align: right;\n",
       "    }\n",
       "</style>\n",
       "<table border=\"1\" class=\"dataframe\">\n",
       "  <thead>\n",
       "    <tr style=\"text-align: right;\">\n",
       "      <th></th>\n",
       "      <th>comunity_code</th>\n",
       "      <th>cluster_agg</th>\n",
       "      <th>final_cluster</th>\n",
       "      <th>country</th>\n",
       "      <th>state</th>\n",
       "      <th>state_code</th>\n",
       "      <th>province</th>\n",
       "      <th>province_code</th>\n",
       "      <th>comunity</th>\n",
       "      <th>lat</th>\n",
       "      <th>lng</th>\n",
       "    </tr>\n",
       "  </thead>\n",
       "  <tbody>\n",
       "    <tr>\n",
       "      <th>1</th>\n",
       "      <td>35002</td>\n",
       "      <td>Ambiente Familiar, Para ahorrar, Mucho viento</td>\n",
       "      <td>Platillos exclusivos para tus viajes de trabajo</td>\n",
       "      <td>ES</td>\n",
       "      <td>CN</td>\n",
       "      <td>Canarias</td>\n",
       "      <td>GC</td>\n",
       "      <td>Las Palmas</td>\n",
       "      <td>Agüimes</td>\n",
       "      <td>27.952432</td>\n",
       "      <td>-15.485089</td>\n",
       "    </tr>\n",
       "    <tr>\n",
       "      <th>54</th>\n",
       "      <td>38023</td>\n",
       "      <td>Zona Dorada, Clima radical</td>\n",
       "      <td>Diversión para toda la familia</td>\n",
       "      <td>ES</td>\n",
       "      <td>CN</td>\n",
       "      <td>Canarias</td>\n",
       "      <td>TF</td>\n",
       "      <td>Santa Cruz de Tenerife</td>\n",
       "      <td>San Cristóbal de La Laguna</td>\n",
       "      <td>28.492613</td>\n",
       "      <td>-16.329504</td>\n",
       "    </tr>\n",
       "  </tbody>\n",
       "</table>\n",
       "</div>"
      ],
      "text/plain": [
       "    comunity_code                                    cluster_agg  \\\n",
       "1           35002  Ambiente Familiar, Para ahorrar, Mucho viento   \n",
       "54          38023                     Zona Dorada, Clima radical   \n",
       "\n",
       "                                      final_cluster country state state_code  \\\n",
       "1   Platillos exclusivos para tus viajes de trabajo      ES    CN   Canarias   \n",
       "54                   Diversión para toda la familia      ES    CN   Canarias   \n",
       "\n",
       "   province           province_code                    comunity        lat  \\\n",
       "1        GC              Las Palmas                     Agüimes  27.952432   \n",
       "54       TF  Santa Cruz de Tenerife  San Cristóbal de La Laguna  28.492613   \n",
       "\n",
       "          lng  \n",
       "1  -15.485089  \n",
       "54 -16.329504  "
      ]
     },
     "metadata": {},
     "execution_count": 8
    }
   ],
   "metadata": {}
  },
  {
   "cell_type": "markdown",
   "source": [
    "## Export"
   ],
   "metadata": {}
  },
  {
   "cell_type": "code",
   "execution_count": 9,
   "source": [
    "gp.export_result(final, 'grouped_3D.csv')"
   ],
   "outputs": [
    {
     "output_type": "stream",
     "name": "stdout",
     "text": [
      "Exported succesfully!\n",
      "File:\tgrouped_3D.csv\n",
      "Path:\t/Users/efraflores/Desktop/EF/Contests/Datathon_202109/data/datos\n"
     ]
    }
   ],
   "metadata": {}
  }
 ],
 "metadata": {
  "orig_nbformat": 4,
  "language_info": {
   "name": "python",
   "version": "3.9.1",
   "mimetype": "text/x-python",
   "codemirror_mode": {
    "name": "ipython",
    "version": 3
   },
   "pygments_lexer": "ipython3",
   "nbconvert_exporter": "python",
   "file_extension": ".py"
  },
  "kernelspec": {
   "name": "python3",
   "display_name": "Python 3.9.1 64-bit ('venv': venv)"
  },
  "interpreter": {
   "hash": "cbfba55dfc4cf98155506794edd6aecf0af75386b66b3e49c98ac37ae2b9007e"
  }
 },
 "nbformat": 4,
 "nbformat_minor": 2
}