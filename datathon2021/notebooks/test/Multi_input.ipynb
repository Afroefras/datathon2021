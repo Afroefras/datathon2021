{
 "cells": [
  {
   "cell_type": "markdown",
   "source": [
    "# Web scraping + Sentiment Analysis + DL"
   ],
   "metadata": {}
  },
  {
   "cell_type": "markdown",
   "source": [
    "## Parámetros"
   ],
   "metadata": {}
  },
  {
   "cell_type": "code",
   "execution_count": 1,
   "source": [
    "from pathlib import Path\n",
    "\n",
    "BASE_DIR = Path('/Users/efraflores/Desktop/hub/datathon2021/datathon2021/data/test')\n",
    "FILE_NAME = 'OnlineNewsPopularity.csv'"
   ],
   "outputs": [],
   "metadata": {}
  },
  {
   "cell_type": "markdown",
   "source": [
    "## Entorno"
   ],
   "metadata": {}
  },
  {
   "cell_type": "code",
   "execution_count": 2,
   "source": [
    "# Data Wrangling\n",
    "import numpy as np\n",
    "import pandas as pd\n",
    "from functools import reduce\n",
    "\n",
    "# Web scraping\n",
    "import requests\n",
    "from bs4 import BeautifulSoup\n",
    "from multiprocessing import Pool\n",
    "\n",
    "# Data cleaning\n",
    "import re\n",
    "import unicodedata\n",
    "\n",
    "# Data visualization\n",
    "from IPython.display import Image\n",
    "from tensorflow.keras.utils import plot_model\n",
    "\n",
    "# Data modeling\n",
    "from tensorflow.keras import Model\n",
    "from tensorflow.keras.layers import GRU, Input, Dense, Embedding, concatenate\n",
    "from tensorflow.keras.optimizers import Adam\n",
    "from sklearn.cluster import KMeans\n",
    "from tensorflow.keras.callbacks import EarlyStopping, ModelCheckpoint\n",
    "\n",
    "# Data preprocessing\n",
    "from sklearn.pipeline import Pipeline\n",
    "from sklearn.decomposition import PCA\n",
    "from sklearn.impute import SimpleImputer\n",
    "from sklearn.preprocessing import MinMaxScaler\n",
    "\n",
    "# Text mining\n",
    "from nltk.corpus import stopwords\n",
    "from tensorflow.keras.preprocessing.text import Tokenizer\n",
    "from tensorflow.keras.preprocessing.sequence import pad_sequences\n",
    "from nltk.tokenize import sent_tokenize, word_tokenize \n",
    "from nltk.sentiment.vader import SentimentIntensityAnalyzer\n",
    "\n",
    "# Model performance\n",
    "from tensorflow.keras import metrics\n",
    "from sklearn.metrics import r2_score\n",
    "from sklearn.model_selection import train_test_split"
   ],
   "outputs": [],
   "metadata": {
    "ExecuteTime": {
     "end_time": "2021-07-06T20:46:09.160688Z",
     "start_time": "2021-07-06T20:45:49.404326Z"
    },
    "execution": {
     "iopub.execute_input": "2021-09-04T14:27:11.183544Z",
     "iopub.status.busy": "2021-09-04T14:27:11.183160Z",
     "iopub.status.idle": "2021-09-04T14:27:17.468642Z",
     "shell.execute_reply": "2021-09-04T14:27:17.467296Z",
     "shell.execute_reply.started": "2021-09-04T14:27:11.183498Z"
    },
    "tags": []
   }
  },
  {
   "cell_type": "markdown",
   "source": [
    "## Funciones"
   ],
   "metadata": {}
  },
  {
   "cell_type": "markdown",
   "source": [
    "### Outliers"
   ],
   "metadata": {}
  },
  {
   "cell_type": "code",
   "execution_count": 3,
   "source": [
    "from sklearn.ensemble import IsolationForest\n",
    "\n",
    "def outliers(df,cols):\n",
    "    outlier = IsolationForest(contamination=.04,n_jobs=-1)\n",
    "    df['outlier'] = outlier.fit_predict(df[cols])\n",
    "    df = df[df['outlier']!=-1].drop(columns = 'outlier')\n",
    "    return df"
   ],
   "outputs": [],
   "metadata": {}
  },
  {
   "cell_type": "markdown",
   "source": [
    "### Scrape"
   ],
   "metadata": {}
  },
  {
   "cell_type": "code",
   "execution_count": 4,
   "source": [
    "def scrape(url):\n",
    "    req = requests.get(url)\n",
    "    return url, req.text"
   ],
   "outputs": [],
   "metadata": {
    "ExecuteTime": {
     "end_time": "2021-04-16T00:16:41.277898Z",
     "start_time": "2021-04-16T00:16:41.266949Z"
    },
    "code_folding": [],
    "execution": {
     "iopub.execute_input": "2021-09-04T14:27:25.503004Z",
     "iopub.status.busy": "2021-09-04T14:27:25.501875Z",
     "iopub.status.idle": "2021-09-04T14:27:25.546037Z",
     "shell.execute_reply": "2021-09-04T14:27:25.544315Z",
     "shell.execute_reply.started": "2021-09-04T14:27:25.502865Z"
    },
    "tags": []
   }
  },
  {
   "cell_type": "markdown",
   "source": [
    "### Make pool"
   ],
   "metadata": {}
  },
  {
   "cell_type": "code",
   "execution_count": 5,
   "source": [
    "def make_pool(func, params, threads):\n",
    "    pool = Pool(threads)\n",
    "    data = pool.map(func, params)\n",
    "    pool.close()\n",
    "    pool.join()\n",
    "    del pool\n",
    "    return data"
   ],
   "outputs": [],
   "metadata": {
    "ExecuteTime": {
     "end_time": "2021-04-16T00:26:17.086442Z",
     "start_time": "2021-04-16T00:26:17.082786Z"
    },
    "execution": {
     "iopub.execute_input": "2021-09-04T14:37:15.267572Z",
     "iopub.status.busy": "2021-09-04T14:37:15.267321Z",
     "iopub.status.idle": "2021-09-04T14:37:15.272649Z",
     "shell.execute_reply": "2021-09-04T14:37:15.271656Z",
     "shell.execute_reply.started": "2021-09-04T14:37:15.267543Z"
    },
    "tags": []
   }
  },
  {
   "cell_type": "markdown",
   "source": [
    "### Get data"
   ],
   "metadata": {}
  },
  {
   "cell_type": "code",
   "execution_count": 6,
   "source": [
    "def get_data(soup):\n",
    "    title = soup.find_all(\"h1\")[0].text if len(soup.find_all(\"h1\")) > 0 else ''\n",
    "    subtitles = soup.find_all(\"h2\")\n",
    "    channel = subtitles[0].text if len(subtitles) > 0 else ''\n",
    "    images = len(soup.find_all(\"img\"))\n",
    "    videos = len(soup.find_all(\"iframe\"))\n",
    "    paragraphs = soup.find_all(\"article\")\n",
    "    text = \"\\n\".join([x.text for x in paragraphs])\n",
    "    return title, len(subtitles), channel, images, videos, len(paragraphs), text"
   ],
   "outputs": [],
   "metadata": {
    "ExecuteTime": {
     "end_time": "2021-04-16T00:21:21.645759Z",
     "start_time": "2021-04-16T00:21:21.640416Z"
    },
    "execution": {
     "iopub.execute_input": "2021-09-04T14:41:50.648727Z",
     "iopub.status.busy": "2021-09-04T14:41:50.648490Z",
     "iopub.status.idle": "2021-09-04T14:41:50.655198Z",
     "shell.execute_reply": "2021-09-04T14:41:50.654428Z",
     "shell.execute_reply.started": "2021-09-04T14:41:50.648697Z"
    },
    "tags": []
   }
  },
  {
   "cell_type": "markdown",
   "source": [
    "### Sentiment"
   ],
   "metadata": {}
  },
  {
   "cell_type": "code",
   "execution_count": 7,
   "source": [
    "sid = SentimentIntensityAnalyzer()\n",
    "\n",
    "def sentiment(text):\n",
    "    sentences = sent_tokenize(text)\n",
    "    polarities = list(map(sid.polarity_scores, sentences))\n",
    "    return polarities[0]\n",
    "\n",
    "sentiment('I am very happy!!!')"
   ],
   "outputs": [
    {
     "output_type": "execute_result",
     "data": {
      "text/plain": [
       "{'neg': 0.0, 'neu': 0.304, 'pos': 0.696, 'compound': 0.6785}"
      ]
     },
     "metadata": {},
     "execution_count": 7
    }
   ],
   "metadata": {
    "ExecuteTime": {
     "end_time": "2021-04-16T00:21:24.757463Z",
     "start_time": "2021-04-16T00:21:24.752429Z"
    },
    "execution": {
     "iopub.execute_input": "2021-09-04T14:43:27.817328Z",
     "iopub.status.busy": "2021-09-04T14:43:27.817025Z",
     "iopub.status.idle": "2021-09-04T14:43:27.824008Z",
     "shell.execute_reply": "2021-09-04T14:43:27.823083Z",
     "shell.execute_reply.started": "2021-09-04T14:43:27.817293Z"
    },
    "tags": []
   }
  },
  {
   "cell_type": "markdown",
   "source": [
    "### Text features"
   ],
   "metadata": {}
  },
  {
   "cell_type": "code",
   "execution_count": 8,
   "source": [
    "def text_features(url, text):\n",
    "    sentences = sent_tokenize(text)\n",
    "    words = pd.DataFrame(map(len, map(word_tokenize, sentences)), columns=['n_words'])\n",
    "    words[\"url\"] = url\n",
    "    return words\n",
    "\n",
    "text_features('','I am very happy!')"
   ],
   "outputs": [
    {
     "output_type": "execute_result",
     "data": {
      "text/html": [
       "<div>\n",
       "<style scoped>\n",
       "    .dataframe tbody tr th:only-of-type {\n",
       "        vertical-align: middle;\n",
       "    }\n",
       "\n",
       "    .dataframe tbody tr th {\n",
       "        vertical-align: top;\n",
       "    }\n",
       "\n",
       "    .dataframe thead th {\n",
       "        text-align: right;\n",
       "    }\n",
       "</style>\n",
       "<table border=\"1\" class=\"dataframe\">\n",
       "  <thead>\n",
       "    <tr style=\"text-align: right;\">\n",
       "      <th></th>\n",
       "      <th>n_words</th>\n",
       "      <th>url</th>\n",
       "    </tr>\n",
       "  </thead>\n",
       "  <tbody>\n",
       "    <tr>\n",
       "      <th>0</th>\n",
       "      <td>5</td>\n",
       "      <td></td>\n",
       "    </tr>\n",
       "  </tbody>\n",
       "</table>\n",
       "</div>"
      ],
      "text/plain": [
       "   n_words url\n",
       "0        5    "
      ]
     },
     "metadata": {},
     "execution_count": 8
    }
   ],
   "metadata": {}
  },
  {
   "cell_type": "markdown",
   "source": [
    "### Clean text"
   ],
   "metadata": {}
  },
  {
   "cell_type": "code",
   "execution_count": 9,
   "source": [
    "import re\n",
    "import unicodedata\n",
    "from emoji import demojize\n",
    "from nltk.corpus import stopwords\n",
    "from nltk.stem import WordNetLemmatizer\n",
    "\n",
    "lem = WordNetLemmatizer()\n",
    "\n",
    "def clean_text(text, language='english', pattern=\"[^a-zA-Z\\s]\", add_stopw=[],\n",
    "                lower=False, lemma=False, rem_stopw=False, unique=False, emoji=False):\n",
    "    if emoji: text = demojize(text)\n",
    "    cleaned_text = unicodedata.normalize('NFD',str(text).replace('\\n',' \\n ')).encode('ascii', 'ignore')\n",
    "    cleaned_text = re.sub(pattern,' ',cleaned_text.decode('utf-8'),flags=re.UNICODE)\n",
    "    cleaned_text = [(lem.lemmatize(word,pos='v') if lemma else word) for word in \n",
    "                    (cleaned_text.lower().split() if lower else cleaned_text.split())]\n",
    "    if rem_stopw: cleaned_text = [word for word in cleaned_text if word not in \n",
    "                                  stopwords.words(language)+add_stopw]\n",
    "    return ' '.join((set(cleaned_text) if unique else cleaned_text))\n",
    "\n",
    "#Ex\n",
    "ex = \"I am going to run!!! I ran while I was running??? ...\"\n",
    "print('\\nOriginal:\\t\\t',ex)\n",
    "print('Basic cleaning:\\t\\t',clean_text(ex))\n",
    "print('Changing the pattern:\\t',clean_text(ex,pattern=\"[^a-zA-Z!\\.]\"))\n",
    "print('Without stopwords:\\t',clean_text(ex,rem_stopw=True))\n",
    "print('Lower and lemma:\\t',clean_text(ex,lower=True,lemma=True))\n",
    "print('Super cleaning:\\t\\t',clean_text(ex,add_stopw=['go'],lower=True,rem_stopw=True,lemma=True,unique=True))\n",
    "print(\"\\nIt actually corrects the weird accents, example\\n\\tFROM:\\t ThÈ ÉfrâïsMã's?...\\n\\tTO:\\t\",clean_text(\"ThÈ ÉfrâïsMa's?...\",lower=True))\n",
    "print(\"\\nAnd now, it can translate emojis!!! 😍\",clean_text('😍', emoji=True))"
   ],
   "outputs": [
    {
     "output_type": "stream",
     "name": "stdout",
     "text": [
      "\n",
      "Original:\t\t I am going to run!!! I ran while I was running??? ...\n",
      "Basic cleaning:\t\t I am going to run I ran while I was running\n",
      "Changing the pattern:\t I am going to run!!! I ran while I was running ...\n",
      "Without stopwords:\t I going run I ran I running\n",
      "Lower and lemma:\t i be go to run i run while i be run\n",
      "Super cleaning:\t\t run\n",
      "\n",
      "It actually corrects the weird accents, example\n",
      "\tFROM:\t ThÈ ÉfrâïsMã's?...\n",
      "\tTO:\t the efraisma s\n",
      "\n",
      "And now, it can translate emojis!!! 😍 smiling face with heart eyes\n"
     ]
    }
   ],
   "metadata": {
    "ExecuteTime": {
     "end_time": "2021-04-16T00:22:42.048553Z",
     "start_time": "2021-04-16T00:22:42.038511Z"
    },
    "execution": {
     "iopub.execute_input": "2021-09-04T14:43:32.004411Z",
     "iopub.status.busy": "2021-09-04T14:43:32.004033Z",
     "iopub.status.idle": "2021-09-04T14:43:32.012712Z",
     "shell.execute_reply": "2021-09-04T14:43:32.011536Z",
     "shell.execute_reply.started": "2021-09-04T14:43:32.004364Z"
    },
    "tags": []
   }
  },
  {
   "cell_type": "markdown",
   "source": [
    "### Vectorize text"
   ],
   "metadata": {}
  },
  {
   "cell_type": "code",
   "execution_count": 10,
   "source": [
    "def vectorize_text(text, max_words, max_sequence_length):\n",
    "    tokenizer = Tokenizer(num_words=max_words, filters='!\"#$%&()*+,-./:;<=>?@[\\]^_`{|}~', lower=True)\n",
    "    tokenizer.fit_on_texts(text)\n",
    "    word_index = tokenizer.word_index\n",
    "    print('Found %s unique tokens.' % len(word_index))\n",
    "    X = tokenizer.texts_to_sequences(text)\n",
    "    X = pad_sequences(X, maxlen=max_sequence_length)\n",
    "    return X, tokenizer"
   ],
   "outputs": [],
   "metadata": {
    "execution": {
     "iopub.execute_input": "2021-09-04T14:45:35.943238Z",
     "iopub.status.busy": "2021-09-04T14:45:35.942884Z",
     "iopub.status.idle": "2021-09-04T14:45:35.949432Z",
     "shell.execute_reply": "2021-09-04T14:45:35.948420Z",
     "shell.execute_reply.started": "2021-09-04T14:45:35.943205Z"
    }
   }
  },
  {
   "cell_type": "markdown",
   "source": [
    "## Dataset original"
   ],
   "metadata": {}
  },
  {
   "cell_type": "markdown",
   "source": [
    "### Lectura de datos"
   ],
   "metadata": {}
  },
  {
   "cell_type": "code",
   "execution_count": 11,
   "source": [
    "shares = pd.read_csv(BASE_DIR.joinpath(FILE_NAME))\n",
    "shares.columns = [x.strip() for x in shares.columns]\n",
    "shares.sample()"
   ],
   "outputs": [
    {
     "output_type": "execute_result",
     "data": {
      "text/html": [
       "<div>\n",
       "<style scoped>\n",
       "    .dataframe tbody tr th:only-of-type {\n",
       "        vertical-align: middle;\n",
       "    }\n",
       "\n",
       "    .dataframe tbody tr th {\n",
       "        vertical-align: top;\n",
       "    }\n",
       "\n",
       "    .dataframe thead th {\n",
       "        text-align: right;\n",
       "    }\n",
       "</style>\n",
       "<table border=\"1\" class=\"dataframe\">\n",
       "  <thead>\n",
       "    <tr style=\"text-align: right;\">\n",
       "      <th></th>\n",
       "      <th>url</th>\n",
       "      <th>timedelta</th>\n",
       "      <th>n_tokens_title</th>\n",
       "      <th>n_tokens_content</th>\n",
       "      <th>n_unique_tokens</th>\n",
       "      <th>n_non_stop_words</th>\n",
       "      <th>n_non_stop_unique_tokens</th>\n",
       "      <th>num_hrefs</th>\n",
       "      <th>num_self_hrefs</th>\n",
       "      <th>num_imgs</th>\n",
       "      <th>...</th>\n",
       "      <th>min_positive_polarity</th>\n",
       "      <th>max_positive_polarity</th>\n",
       "      <th>avg_negative_polarity</th>\n",
       "      <th>min_negative_polarity</th>\n",
       "      <th>max_negative_polarity</th>\n",
       "      <th>title_subjectivity</th>\n",
       "      <th>title_sentiment_polarity</th>\n",
       "      <th>abs_title_subjectivity</th>\n",
       "      <th>abs_title_sentiment_polarity</th>\n",
       "      <th>shares</th>\n",
       "    </tr>\n",
       "  </thead>\n",
       "  <tbody>\n",
       "    <tr>\n",
       "      <th>16884</th>\n",
       "      <td>http://mashable.com/2013/12/02/fighting-conten...</td>\n",
       "      <td>402.0</td>\n",
       "      <td>10.0</td>\n",
       "      <td>312.0</td>\n",
       "      <td>0.596552</td>\n",
       "      <td>1.0</td>\n",
       "      <td>0.722222</td>\n",
       "      <td>11.0</td>\n",
       "      <td>9.0</td>\n",
       "      <td>1.0</td>\n",
       "      <td>...</td>\n",
       "      <td>0.136364</td>\n",
       "      <td>1.0</td>\n",
       "      <td>-0.4</td>\n",
       "      <td>-0.4</td>\n",
       "      <td>-0.4</td>\n",
       "      <td>0.0</td>\n",
       "      <td>0.0</td>\n",
       "      <td>0.5</td>\n",
       "      <td>0.0</td>\n",
       "      <td>1400</td>\n",
       "    </tr>\n",
       "  </tbody>\n",
       "</table>\n",
       "<p>1 rows × 61 columns</p>\n",
       "</div>"
      ],
      "text/plain": [
       "                                                     url  timedelta  \\\n",
       "16884  http://mashable.com/2013/12/02/fighting-conten...      402.0   \n",
       "\n",
       "       n_tokens_title  n_tokens_content  n_unique_tokens  n_non_stop_words  \\\n",
       "16884            10.0             312.0         0.596552               1.0   \n",
       "\n",
       "       n_non_stop_unique_tokens  num_hrefs  num_self_hrefs  num_imgs  ...  \\\n",
       "16884                  0.722222       11.0             9.0       1.0  ...   \n",
       "\n",
       "       min_positive_polarity  max_positive_polarity  avg_negative_polarity  \\\n",
       "16884               0.136364                    1.0                   -0.4   \n",
       "\n",
       "       min_negative_polarity  max_negative_polarity  title_subjectivity  \\\n",
       "16884                   -0.4                   -0.4                 0.0   \n",
       "\n",
       "       title_sentiment_polarity  abs_title_subjectivity  \\\n",
       "16884                       0.0                     0.5   \n",
       "\n",
       "       abs_title_sentiment_polarity  shares  \n",
       "16884                           0.0    1400  \n",
       "\n",
       "[1 rows x 61 columns]"
      ]
     },
     "metadata": {},
     "execution_count": 11
    }
   ],
   "metadata": {
    "ExecuteTime": {
     "end_time": "2021-04-16T00:23:37.213953Z",
     "start_time": "2021-04-16T00:23:36.283139Z"
    },
    "execution": {
     "iopub.execute_input": "2021-09-04T14:45:40.772215Z",
     "iopub.status.busy": "2021-09-04T14:45:40.771788Z",
     "iopub.status.idle": "2021-09-04T14:45:41.405530Z",
     "shell.execute_reply": "2021-09-04T14:45:41.404758Z",
     "shell.execute_reply.started": "2021-09-04T14:45:40.772164Z"
    },
    "tags": []
   }
  },
  {
   "cell_type": "markdown",
   "source": [
    "### Outliers"
   ],
   "metadata": {}
  },
  {
   "cell_type": "code",
   "execution_count": 12,
   "source": [
    "shares[\"shares\"] /= shares[\"timedelta\"]\n",
    "shares[\"shares\"].hist()"
   ],
   "outputs": [
    {
     "output_type": "execute_result",
     "data": {
      "text/plain": [
       "<AxesSubplot:>"
      ]
     },
     "metadata": {},
     "execution_count": 12
    },
    {
     "output_type": "display_data",
     "data": {
      "image/png": "[encoded data removed]",
      "text/plain": [
       "<Figure size 432x288 with 1 Axes>"
      ]
     },
     "metadata": {
      "needs_background": "light"
     }
    }
   ],
   "metadata": {
    "ExecuteTime": {
     "end_time": "2021-04-16T00:25:31.775516Z",
     "start_time": "2021-04-16T00:25:30.207596Z"
    },
    "execution": {
     "iopub.execute_input": "2021-09-04T14:51:53.817012Z",
     "iopub.status.busy": "2021-09-04T14:51:53.816540Z",
     "iopub.status.idle": "2021-09-04T14:51:54.510003Z",
     "shell.execute_reply": "2021-09-04T14:51:54.508133Z",
     "shell.execute_reply.started": "2021-09-04T14:51:53.816950Z"
    },
    "tags": []
   }
  },
  {
   "cell_type": "code",
   "execution_count": 13,
   "source": [
    "shares = outliers(shares, ['shares'])\n",
    "shares[\"shares\"].hist()"
   ],
   "outputs": [
    {
     "output_type": "execute_result",
     "data": {
      "text/plain": [
       "<AxesSubplot:>"
      ]
     },
     "metadata": {},
     "execution_count": 13
    },
    {
     "output_type": "display_data",
     "data": {
      "image/png": "[encoded data removed]",
      "text/plain": [
       "<Figure size 432x288 with 1 Axes>"
      ]
     },
     "metadata": {
      "needs_background": "light"
     }
    }
   ],
   "metadata": {}
  },
  {
   "cell_type": "markdown",
   "source": [
    "## Transformar"
   ],
   "metadata": {}
  },
  {
   "cell_type": "markdown",
   "source": [
    "### Obtención de URLs"
   ],
   "metadata": {}
  },
  {
   "cell_type": "code",
   "execution_count": 14,
   "source": [
    "aux = shares.sample(100, random_state=777).copy()\n",
    "aux.sample()"
   ],
   "outputs": [
    {
     "output_type": "execute_result",
     "data": {
      "text/html": [
       "<div>\n",
       "<style scoped>\n",
       "    .dataframe tbody tr th:only-of-type {\n",
       "        vertical-align: middle;\n",
       "    }\n",
       "\n",
       "    .dataframe tbody tr th {\n",
       "        vertical-align: top;\n",
       "    }\n",
       "\n",
       "    .dataframe thead th {\n",
       "        text-align: right;\n",
       "    }\n",
       "</style>\n",
       "<table border=\"1\" class=\"dataframe\">\n",
       "  <thead>\n",
       "    <tr style=\"text-align: right;\">\n",
       "      <th></th>\n",
       "      <th>url</th>\n",
       "      <th>timedelta</th>\n",
       "      <th>n_tokens_title</th>\n",
       "      <th>n_tokens_content</th>\n",
       "      <th>n_unique_tokens</th>\n",
       "      <th>n_non_stop_words</th>\n",
       "      <th>n_non_stop_unique_tokens</th>\n",
       "      <th>num_hrefs</th>\n",
       "      <th>num_self_hrefs</th>\n",
       "      <th>num_imgs</th>\n",
       "      <th>...</th>\n",
       "      <th>min_positive_polarity</th>\n",
       "      <th>max_positive_polarity</th>\n",
       "      <th>avg_negative_polarity</th>\n",
       "      <th>min_negative_polarity</th>\n",
       "      <th>max_negative_polarity</th>\n",
       "      <th>title_subjectivity</th>\n",
       "      <th>title_sentiment_polarity</th>\n",
       "      <th>abs_title_subjectivity</th>\n",
       "      <th>abs_title_sentiment_polarity</th>\n",
       "      <th>shares</th>\n",
       "    </tr>\n",
       "  </thead>\n",
       "  <tbody>\n",
       "    <tr>\n",
       "      <th>23147</th>\n",
       "      <td>http://mashable.com/2014/04/08/discovery-inves...</td>\n",
       "      <td>275.0</td>\n",
       "      <td>13.0</td>\n",
       "      <td>785.0</td>\n",
       "      <td>0.413972</td>\n",
       "      <td>1.0</td>\n",
       "      <td>0.56129</td>\n",
       "      <td>7.0</td>\n",
       "      <td>3.0</td>\n",
       "      <td>2.0</td>\n",
       "      <td>...</td>\n",
       "      <td>0.0625</td>\n",
       "      <td>0.7</td>\n",
       "      <td>-0.217157</td>\n",
       "      <td>-0.8</td>\n",
       "      <td>-0.05</td>\n",
       "      <td>0.4</td>\n",
       "      <td>-0.3</td>\n",
       "      <td>0.1</td>\n",
       "      <td>0.3</td>\n",
       "      <td>4.0</td>\n",
       "    </tr>\n",
       "  </tbody>\n",
       "</table>\n",
       "<p>1 rows × 61 columns</p>\n",
       "</div>"
      ],
      "text/plain": [
       "                                                     url  timedelta  \\\n",
       "23147  http://mashable.com/2014/04/08/discovery-inves...      275.0   \n",
       "\n",
       "       n_tokens_title  n_tokens_content  n_unique_tokens  n_non_stop_words  \\\n",
       "23147            13.0             785.0         0.413972               1.0   \n",
       "\n",
       "       n_non_stop_unique_tokens  num_hrefs  num_self_hrefs  num_imgs  ...  \\\n",
       "23147                   0.56129        7.0             3.0       2.0  ...   \n",
       "\n",
       "       min_positive_polarity  max_positive_polarity  avg_negative_polarity  \\\n",
       "23147                 0.0625                    0.7              -0.217157   \n",
       "\n",
       "       min_negative_polarity  max_negative_polarity  title_subjectivity  \\\n",
       "23147                   -0.8                  -0.05                 0.4   \n",
       "\n",
       "       title_sentiment_polarity  abs_title_subjectivity  \\\n",
       "23147                      -0.3                     0.1   \n",
       "\n",
       "       abs_title_sentiment_polarity  shares  \n",
       "23147                           0.3     4.0  \n",
       "\n",
       "[1 rows x 61 columns]"
      ]
     },
     "metadata": {},
     "execution_count": 14
    }
   ],
   "metadata": {
    "ExecuteTime": {
     "end_time": "2021-04-16T00:26:01.428600Z",
     "start_time": "2021-04-16T00:26:01.230226Z"
    },
    "execution": {
     "iopub.execute_input": "2021-09-04T14:52:06.736060Z",
     "iopub.status.busy": "2021-09-04T14:52:06.735573Z",
     "iopub.status.idle": "2021-09-04T14:52:06.847122Z",
     "shell.execute_reply": "2021-09-04T14:52:06.846314Z",
     "shell.execute_reply.started": "2021-09-04T14:52:06.736002Z"
    },
    "tags": []
   }
  },
  {
   "cell_type": "markdown",
   "source": [
    "### Pool Function"
   ],
   "metadata": {}
  },
  {
   "cell_type": "code",
   "execution_count": 15,
   "source": [
    "# Import from a .py file to make Pool work\n",
    "from PoolFunctions import scrape as py_scrape\n",
    "\n",
    "scrapped = [(url, BeautifulSoup(text)) for url, text in make_pool(func=py_scrape, params=aux[\"url\"].tolist(), threads=32)]\n",
    "str(scrapped[0][1])[:222]"
   ],
   "outputs": [
    {
     "output_type": "execute_result",
     "data": {
      "text/plain": [
       "'<!DOCTYPE html>\\n\\n<html lang=\"en\">\\n<head>\\n<title>\\'The Hobbit: The Desolation of Smaug\\' Trailer Is Finally Here</title>\\n<meta charset=\"utf-8\"/>\\n<link href=\"https://mashable.com/archive/hobbit-desolation-smaug-trailer\" rel=\"c'"
      ]
     },
     "metadata": {},
     "execution_count": 15
    }
   ],
   "metadata": {}
  },
  {
   "cell_type": "code",
   "execution_count": 16,
   "source": [
    "text_data = [(url, get_data(soup)) for url, soup in scrapped]\n",
    "df = pd.DataFrame([{\"url\": url, \"title\": features[0], \"n_headers\": features[1], \"channel\": features[2], \"n_images\": features[3], \"n_videos\": features[4], \"n_paragraphs\": features[5], \"text\": features[6]} for url, features in text_data])\n",
    "df.sample()"
   ],
   "outputs": [
    {
     "output_type": "execute_result",
     "data": {
      "text/html": [
       "<div>\n",
       "<style scoped>\n",
       "    .dataframe tbody tr th:only-of-type {\n",
       "        vertical-align: middle;\n",
       "    }\n",
       "\n",
       "    .dataframe tbody tr th {\n",
       "        vertical-align: top;\n",
       "    }\n",
       "\n",
       "    .dataframe thead th {\n",
       "        text-align: right;\n",
       "    }\n",
       "</style>\n",
       "<table border=\"1\" class=\"dataframe\">\n",
       "  <thead>\n",
       "    <tr style=\"text-align: right;\">\n",
       "      <th></th>\n",
       "      <th>url</th>\n",
       "      <th>title</th>\n",
       "      <th>n_headers</th>\n",
       "      <th>channel</th>\n",
       "      <th>n_images</th>\n",
       "      <th>n_videos</th>\n",
       "      <th>n_paragraphs</th>\n",
       "      <th>text</th>\n",
       "    </tr>\n",
       "  </thead>\n",
       "  <tbody>\n",
       "    <tr>\n",
       "      <th>47</th>\n",
       "      <td>http://mashable.com/2014/05/09/pussy-riot-occu...</td>\n",
       "      <td>Pussy Riot Visits NYC Jail to Support Occupy W...</td>\n",
       "      <td>0</td>\n",
       "      <td></td>\n",
       "      <td>5</td>\n",
       "      <td>1</td>\n",
       "      <td>1</td>\n",
       "      <td>\\nRIKERS ISLAND, New York -- Two members of th...</td>\n",
       "    </tr>\n",
       "  </tbody>\n",
       "</table>\n",
       "</div>"
      ],
      "text/plain": [
       "                                                  url  \\\n",
       "47  http://mashable.com/2014/05/09/pussy-riot-occu...   \n",
       "\n",
       "                                                title  n_headers channel  \\\n",
       "47  Pussy Riot Visits NYC Jail to Support Occupy W...          0           \n",
       "\n",
       "    n_images  n_videos  n_paragraphs  \\\n",
       "47         5         1             1   \n",
       "\n",
       "                                                 text  \n",
       "47  \\nRIKERS ISLAND, New York -- Two members of th...  "
      ]
     },
     "metadata": {},
     "execution_count": 16
    }
   ],
   "metadata": {
    "ExecuteTime": {
     "end_time": "2021-04-16T00:30:08.425287Z",
     "start_time": "2021-04-16T00:30:08.409319Z"
    },
    "execution": {
     "iopub.execute_input": "2021-09-04T14:56:11.989640Z",
     "iopub.status.busy": "2021-09-04T14:56:11.989409Z",
     "iopub.status.idle": "2021-09-04T14:56:12.027824Z",
     "shell.execute_reply": "2021-09-04T14:56:12.027218Z",
     "shell.execute_reply.started": "2021-09-04T14:56:11.989614Z"
    },
    "tags": []
   }
  },
  {
   "cell_type": "code",
   "execution_count": 17,
   "source": [
    "print(df.loc[0, \"text\"])"
   ],
   "outputs": [
    {
     "output_type": "stream",
     "name": "stdout",
     "text": [
      "\n",
      "\"Was that an earthquake?\" asks a terrified dwarf in the first teaser trailer for The Hobbit: The Desolation of Smaug, this winter's follow-up to 2012's An Unexpected Journey in the three-part film adaptation of the The Hobbit novel.\n",
      "\"That, my lad, was a dragon,\" elder dwarf Balin responds perilously.\n",
      "SEE ALSO: Real Google Interns Say 'The Internship' Movie Kind of Nails It\n",
      "And not just any dragon. It's Smaug, a destructive fire-breathing legend of Middle-earth. Smaug calls Lonely Mountain home, where a treasure trove of gold awaits anyone who dares overtake his fiery guard. Therein lies the gist of trailer from Warner Bros.\n",
      "\"If you awaken that beast, you will destroy us all,\" one warns a brave-faced Thorin.\n",
      "Well, then. Good luck to all, particularly Bilbo Baggins, Gandalf and the 13 dwarves as they continue their journey to reclaim dwarf kingdom Erebor.\n",
      "What do you think of the first glimpse of the new Hobbit flick, which arrives in theaters Dec. 13? Watch the trailer above, then let us know in the comments.\n",
      "BONUS: 'Game of Thrones' Traveling Exhibit\n",
      "[nggallery id=10591]\n",
      "Image courtesy of Warner Bros.\n",
      "\n"
     ]
    }
   ],
   "metadata": {
    "ExecuteTime": {
     "end_time": "2021-04-16T00:31:48.994171Z",
     "start_time": "2021-04-16T00:31:48.318122Z"
    },
    "execution": {
     "iopub.execute_input": "2021-09-04T14:57:59.000742Z",
     "iopub.status.busy": "2021-09-04T14:57:59.000331Z",
     "iopub.status.idle": "2021-09-04T14:57:59.005975Z",
     "shell.execute_reply": "2021-09-04T14:57:59.005201Z",
     "shell.execute_reply.started": "2021-09-04T14:57:59.000692Z"
    },
    "tags": []
   }
  },
  {
   "cell_type": "markdown",
   "source": [
    "### Pool Sentiment"
   ],
   "metadata": {}
  },
  {
   "cell_type": "code",
   "execution_count": 18,
   "source": [
    "# Import from a .py file to make Pool work\n",
    "from PoolFunctions import sentiment as py_sentiment\n",
    "\n",
    "for cont in ['title','text']:\n",
    "    df[f'{cont}_sentim'] = [x for x in make_pool(func=py_sentiment, params=df[cont], threads=32)]\n",
    "    sentim = pd.DataFrame(df[f'{cont}_sentim'].tolist(), index=df.index)\n",
    "    sentim.columns = [f'{x}_{cont}' for x in sentim.columns]\n",
    "    df = df.join(sentim).drop(columns=[f'{cont}_sentim'])\n",
    "\n",
    "df.sample()"
   ],
   "outputs": [
    {
     "output_type": "execute_result",
     "data": {
      "text/html": [
       "<div>\n",
       "<style scoped>\n",
       "    .dataframe tbody tr th:only-of-type {\n",
       "        vertical-align: middle;\n",
       "    }\n",
       "\n",
       "    .dataframe tbody tr th {\n",
       "        vertical-align: top;\n",
       "    }\n",
       "\n",
       "    .dataframe thead th {\n",
       "        text-align: right;\n",
       "    }\n",
       "</style>\n",
       "<table border=\"1\" class=\"dataframe\">\n",
       "  <thead>\n",
       "    <tr style=\"text-align: right;\">\n",
       "      <th></th>\n",
       "      <th>url</th>\n",
       "      <th>title</th>\n",
       "      <th>n_headers</th>\n",
       "      <th>channel</th>\n",
       "      <th>n_images</th>\n",
       "      <th>n_videos</th>\n",
       "      <th>n_paragraphs</th>\n",
       "      <th>text</th>\n",
       "      <th>neg_title</th>\n",
       "      <th>neu_title</th>\n",
       "      <th>pos_title</th>\n",
       "      <th>compound_title</th>\n",
       "      <th>neg_text</th>\n",
       "      <th>neu_text</th>\n",
       "      <th>pos_text</th>\n",
       "      <th>compound_text</th>\n",
       "    </tr>\n",
       "  </thead>\n",
       "  <tbody>\n",
       "    <tr>\n",
       "      <th>28</th>\n",
       "      <td>http://mashable.com/2014/06/14/5-cant-miss-app...</td>\n",
       "      <td>5 Can't-Miss Apps: 'Angry Birds Epic' and More</td>\n",
       "      <td>0</td>\n",
       "      <td></td>\n",
       "      <td>1</td>\n",
       "      <td>1</td>\n",
       "      <td>1</td>\n",
       "      <td>\\nBetween Facebook accidentally unveiling Slin...</td>\n",
       "      <td>0.0</td>\n",
       "      <td>0.689</td>\n",
       "      <td>0.311</td>\n",
       "      <td>0.4023</td>\n",
       "      <td>0.131</td>\n",
       "      <td>0.712</td>\n",
       "      <td>0.157</td>\n",
       "      <td>0.4019</td>\n",
       "    </tr>\n",
       "  </tbody>\n",
       "</table>\n",
       "</div>"
      ],
      "text/plain": [
       "                                                  url  \\\n",
       "28  http://mashable.com/2014/06/14/5-cant-miss-app...   \n",
       "\n",
       "                                             title  n_headers channel  \\\n",
       "28  5 Can't-Miss Apps: 'Angry Birds Epic' and More          0           \n",
       "\n",
       "    n_images  n_videos  n_paragraphs  \\\n",
       "28         1         1             1   \n",
       "\n",
       "                                                 text  neg_title  neu_title  \\\n",
       "28  \\nBetween Facebook accidentally unveiling Slin...        0.0      0.689   \n",
       "\n",
       "    pos_title  compound_title  neg_text  neu_text  pos_text  compound_text  \n",
       "28      0.311          0.4023     0.131     0.712     0.157         0.4019  "
      ]
     },
     "metadata": {},
     "execution_count": 18
    }
   ],
   "metadata": {}
  },
  {
   "cell_type": "markdown",
   "source": [
    "## Modelo supervisado"
   ],
   "metadata": {}
  },
  {
   "cell_type": "markdown",
   "source": [
    "### EDA"
   ],
   "metadata": {}
  },
  {
   "cell_type": "code",
   "execution_count": 19,
   "source": [
    "shares = shares[[\"url\", \"shares\"]]"
   ],
   "outputs": [],
   "metadata": {
    "ExecuteTime": {
     "end_time": "2021-04-16T00:40:16.398592Z",
     "start_time": "2021-04-16T00:40:16.371555Z"
    },
    "execution": {
     "iopub.execute_input": "2021-09-04T15:10:42.589300Z",
     "iopub.status.busy": "2021-09-04T15:10:42.588904Z",
     "iopub.status.idle": "2021-09-04T15:10:42.596850Z",
     "shell.execute_reply": "2021-09-04T15:10:42.595736Z",
     "shell.execute_reply.started": "2021-09-04T15:10:42.589254Z"
    }
   }
  },
  {
   "cell_type": "markdown",
   "source": [
    "### Text features"
   ],
   "metadata": {}
  },
  {
   "cell_type": "code",
   "execution_count": 20,
   "source": [
    "df[\"urls\"] = df[\"text\"].str.findall('http[s]?://(?:[a-zA-Z]|[0-9]|[$-_@.#&+])+')\n",
    "df[\"n_urls\"] = df[\"urls\"].str.len()\n",
    "df[\"text_cleaned\"] = df.apply(lambda row: reduce(lambda string, url: string.replace(url, \"\"), row[\"urls\"], row[\"text\"]), axis = 1)\n",
    "df[\"len_title\"] = df[\"title\"].str.len()\n",
    "df[\"n_words_title\"] = df[\"title\"].str.split(\" \").str.len()\n",
    "df[\"avg_len_words_title\"] = df[\"title\"].str.split(\" \").map(lambda x:np.mean([x for x in map(len, x)]))\n",
    "df[\"len_content\"] = df[\"text\"].str.len()\n",
    "df[\"n_words_content\"] = df[\"text\"].str.split(\" \").str.len()\n",
    "df[\"avg_len_words_content\"] = df[\"text\"].str.split(\" \").map(lambda x:np.mean([x for x in map(len, x)]))\n",
    "df.sample()"
   ],
   "outputs": [
    {
     "output_type": "execute_result",
     "data": {
      "text/html": [
       "<div>\n",
       "<style scoped>\n",
       "    .dataframe tbody tr th:only-of-type {\n",
       "        vertical-align: middle;\n",
       "    }\n",
       "\n",
       "    .dataframe tbody tr th {\n",
       "        vertical-align: top;\n",
       "    }\n",
       "\n",
       "    .dataframe thead th {\n",
       "        text-align: right;\n",
       "    }\n",
       "</style>\n",
       "<table border=\"1\" class=\"dataframe\">\n",
       "  <thead>\n",
       "    <tr style=\"text-align: right;\">\n",
       "      <th></th>\n",
       "      <th>url</th>\n",
       "      <th>title</th>\n",
       "      <th>n_headers</th>\n",
       "      <th>channel</th>\n",
       "      <th>n_images</th>\n",
       "      <th>n_videos</th>\n",
       "      <th>n_paragraphs</th>\n",
       "      <th>text</th>\n",
       "      <th>neg_title</th>\n",
       "      <th>neu_title</th>\n",
       "      <th>...</th>\n",
       "      <th>compound_text</th>\n",
       "      <th>urls</th>\n",
       "      <th>n_urls</th>\n",
       "      <th>text_cleaned</th>\n",
       "      <th>len_title</th>\n",
       "      <th>n_words_title</th>\n",
       "      <th>avg_len_words_title</th>\n",
       "      <th>len_content</th>\n",
       "      <th>n_words_content</th>\n",
       "      <th>avg_len_words_content</th>\n",
       "    </tr>\n",
       "  </thead>\n",
       "  <tbody>\n",
       "    <tr>\n",
       "      <th>51</th>\n",
       "      <td>http://mashable.com/2013/01/17/twitter-expands...</td>\n",
       "      <td>Twitter Adds Adobe Social, Visible Technologie...</td>\n",
       "      <td>0</td>\n",
       "      <td></td>\n",
       "      <td>1</td>\n",
       "      <td>1</td>\n",
       "      <td>1</td>\n",
       "      <td>\\nTwitter has added nine new partners to its C...</td>\n",
       "      <td>0.0</td>\n",
       "      <td>1.0</td>\n",
       "      <td>...</td>\n",
       "      <td>0.0</td>\n",
       "      <td>[]</td>\n",
       "      <td>0</td>\n",
       "      <td>\\nTwitter has added nine new partners to its C...</td>\n",
       "      <td>59</td>\n",
       "      <td>8</td>\n",
       "      <td>6.5</td>\n",
       "      <td>889</td>\n",
       "      <td>124</td>\n",
       "      <td>6.177419</td>\n",
       "    </tr>\n",
       "  </tbody>\n",
       "</table>\n",
       "<p>1 rows × 25 columns</p>\n",
       "</div>"
      ],
      "text/plain": [
       "                                                  url  \\\n",
       "51  http://mashable.com/2013/01/17/twitter-expands...   \n",
       "\n",
       "                                                title  n_headers channel  \\\n",
       "51  Twitter Adds Adobe Social, Visible Technologie...          0           \n",
       "\n",
       "    n_images  n_videos  n_paragraphs  \\\n",
       "51         1         1             1   \n",
       "\n",
       "                                                 text  neg_title  neu_title  \\\n",
       "51  \\nTwitter has added nine new partners to its C...        0.0        1.0   \n",
       "\n",
       "    ...  compound_text  urls  n_urls  \\\n",
       "51  ...            0.0    []       0   \n",
       "\n",
       "                                         text_cleaned  len_title  \\\n",
       "51  \\nTwitter has added nine new partners to its C...         59   \n",
       "\n",
       "    n_words_title avg_len_words_title  len_content n_words_content  \\\n",
       "51              8                 6.5          889             124   \n",
       "\n",
       "    avg_len_words_content  \n",
       "51               6.177419  \n",
       "\n",
       "[1 rows x 25 columns]"
      ]
     },
     "metadata": {},
     "execution_count": 20
    }
   ],
   "metadata": {
    "execution": {
     "iopub.execute_input": "2021-09-04T15:16:25.501130Z",
     "iopub.status.busy": "2021-09-04T15:16:25.500871Z",
     "iopub.status.idle": "2021-09-04T15:16:25.975745Z",
     "shell.execute_reply": "2021-09-04T15:16:25.974975Z",
     "shell.execute_reply.started": "2021-09-04T15:16:25.501102Z"
    },
    "tags": []
   }
  },
  {
   "cell_type": "markdown",
   "source": [
    "### Clean text"
   ],
   "metadata": {}
  },
  {
   "cell_type": "code",
   "execution_count": 21,
   "source": [
    "stop_words = stopwords.words(\"english\") + [\"url\", \"seealso\", \"mashable\", \"http\", \"ha\", \"hi\", \"will\", \"new\", \"one\"]\n",
    "stop_words = [clean_text(word) for word in stop_words]\n",
    "df[\"text_cleaned\"] = df[\"text_cleaned\"].map(clean_text).map(lambda text: [word for word in text.split() if word not in stop_words]).str.join(\" \")\n",
    "df[\"title_cleaned\"] = df[\"title\"].str.replace(\"\\n\", \" \").map(clean_text).map(lambda text: [word for word in text.split() if word not in stop_words]).str.join(\" \")\n",
    "df = df.merge(shares, on =\"url\")\n",
    "df.sample()"
   ],
   "outputs": [
    {
     "output_type": "execute_result",
     "data": {
      "text/html": [
       "<div>\n",
       "<style scoped>\n",
       "    .dataframe tbody tr th:only-of-type {\n",
       "        vertical-align: middle;\n",
       "    }\n",
       "\n",
       "    .dataframe tbody tr th {\n",
       "        vertical-align: top;\n",
       "    }\n",
       "\n",
       "    .dataframe thead th {\n",
       "        text-align: right;\n",
       "    }\n",
       "</style>\n",
       "<table border=\"1\" class=\"dataframe\">\n",
       "  <thead>\n",
       "    <tr style=\"text-align: right;\">\n",
       "      <th></th>\n",
       "      <th>url</th>\n",
       "      <th>title</th>\n",
       "      <th>n_headers</th>\n",
       "      <th>channel</th>\n",
       "      <th>n_images</th>\n",
       "      <th>n_videos</th>\n",
       "      <th>n_paragraphs</th>\n",
       "      <th>text</th>\n",
       "      <th>neg_title</th>\n",
       "      <th>neu_title</th>\n",
       "      <th>...</th>\n",
       "      <th>n_urls</th>\n",
       "      <th>text_cleaned</th>\n",
       "      <th>len_title</th>\n",
       "      <th>n_words_title</th>\n",
       "      <th>avg_len_words_title</th>\n",
       "      <th>len_content</th>\n",
       "      <th>n_words_content</th>\n",
       "      <th>avg_len_words_content</th>\n",
       "      <th>title_cleaned</th>\n",
       "      <th>shares</th>\n",
       "    </tr>\n",
       "  </thead>\n",
       "  <tbody>\n",
       "    <tr>\n",
       "      <th>2</th>\n",
       "      <td>http://mashable.com/2013/11/05/nfl-mascot-apol...</td>\n",
       "      <td>NFL Mascot Apologizes for Insensitive Tweet Ab...</td>\n",
       "      <td>0</td>\n",
       "      <td></td>\n",
       "      <td>1</td>\n",
       "      <td>1</td>\n",
       "      <td>1</td>\n",
       "      <td>\\nWe live in quite a world.\\nWe live in a worl...</td>\n",
       "      <td>0.46</td>\n",
       "      <td>0.36</td>\n",
       "      <td>...</td>\n",
       "      <td>1</td>\n",
       "      <td>We live quite world We live world thanks Twitt...</td>\n",
       "      <td>57</td>\n",
       "      <td>8</td>\n",
       "      <td>6.25</td>\n",
       "      <td>1651</td>\n",
       "      <td>253</td>\n",
       "      <td>5.529644</td>\n",
       "      <td>NFL Mascot Apologizes Insensitive Tweet About ...</td>\n",
       "      <td>2.564103</td>\n",
       "    </tr>\n",
       "  </tbody>\n",
       "</table>\n",
       "<p>1 rows × 27 columns</p>\n",
       "</div>"
      ],
      "text/plain": [
       "                                                 url  \\\n",
       "2  http://mashable.com/2013/11/05/nfl-mascot-apol...   \n",
       "\n",
       "                                               title  n_headers channel  \\\n",
       "2  NFL Mascot Apologizes for Insensitive Tweet Ab...          0           \n",
       "\n",
       "   n_images  n_videos  n_paragraphs  \\\n",
       "2         1         1             1   \n",
       "\n",
       "                                                text  neg_title  neu_title  \\\n",
       "2  \\nWe live in quite a world.\\nWe live in a worl...       0.46       0.36   \n",
       "\n",
       "   ...  n_urls                                       text_cleaned  len_title  \\\n",
       "2  ...       1  We live quite world We live world thanks Twitt...         57   \n",
       "\n",
       "   n_words_title  avg_len_words_title  len_content n_words_content  \\\n",
       "2              8                 6.25         1651             253   \n",
       "\n",
       "   avg_len_words_content                                      title_cleaned  \\\n",
       "2               5.529644  NFL Mascot Apologizes Insensitive Tweet About ...   \n",
       "\n",
       "     shares  \n",
       "2  2.564103  \n",
       "\n",
       "[1 rows x 27 columns]"
      ]
     },
     "metadata": {},
     "execution_count": 21
    }
   ],
   "metadata": {
    "execution": {
     "iopub.execute_input": "2021-09-04T15:17:03.188734Z",
     "iopub.status.busy": "2021-09-04T15:17:03.188508Z",
     "iopub.status.idle": "2021-09-04T15:17:03.218584Z",
     "shell.execute_reply": "2021-09-04T15:17:03.217666Z",
     "shell.execute_reply.started": "2021-09-04T15:17:03.188708Z"
    },
    "tags": []
   }
  },
  {
   "cell_type": "code",
   "execution_count": 22,
   "source": [
    "df.shape"
   ],
   "outputs": [
    {
     "output_type": "execute_result",
     "data": {
      "text/plain": [
       "(100, 27)"
      ]
     },
     "metadata": {},
     "execution_count": 22
    }
   ],
   "metadata": {
    "ExecuteTime": {
     "end_time": "2021-04-16T00:44:58.136229Z",
     "start_time": "2021-04-16T00:44:58.130960Z"
    },
    "execution": {
     "iopub.execute_input": "2021-09-04T15:19:29.096740Z",
     "iopub.status.busy": "2021-09-04T15:19:29.095892Z",
     "iopub.status.idle": "2021-09-04T15:19:29.101956Z",
     "shell.execute_reply": "2021-09-04T15:19:29.101149Z",
     "shell.execute_reply.started": "2021-09-04T15:19:29.096640Z"
    }
   }
  },
  {
   "cell_type": "markdown",
   "source": [
    "### Modelado"
   ],
   "metadata": {}
  },
  {
   "cell_type": "markdown",
   "source": [
    "#### Input 1: Título"
   ],
   "metadata": {}
  },
  {
   "cell_type": "code",
   "execution_count": 23,
   "source": [
    "X_title = df[\"title_cleaned\"]\n",
    "X_title.str.split().str.len().max()"
   ],
   "outputs": [
    {
     "output_type": "execute_result",
     "data": {
      "text/plain": [
       "13"
      ]
     },
     "metadata": {},
     "execution_count": 23
    }
   ],
   "metadata": {
    "execution": {
     "iopub.execute_input": "2021-09-04T15:20:45.440294Z",
     "iopub.status.busy": "2021-09-04T15:20:45.440036Z",
     "iopub.status.idle": "2021-09-04T15:20:45.450169Z",
     "shell.execute_reply": "2021-09-04T15:20:45.449374Z",
     "shell.execute_reply.started": "2021-09-04T15:20:45.440265Z"
    },
    "tags": []
   }
  },
  {
   "cell_type": "code",
   "execution_count": 24,
   "source": [
    "title_max_words = 5000\n",
    "title_max_sequence_length = 12\n",
    "X_title, tokenizer_title = vectorize_text(X_title, title_max_words, title_max_sequence_length)"
   ],
   "outputs": [
    {
     "output_type": "stream",
     "name": "stdout",
     "text": [
      "Found 606 unique tokens.\n"
     ]
    }
   ],
   "metadata": {
    "execution": {
     "iopub.execute_input": "2021-09-04T15:21:18.468652Z",
     "iopub.status.busy": "2021-09-04T15:21:18.468366Z",
     "iopub.status.idle": "2021-09-04T15:21:18.562821Z",
     "shell.execute_reply": "2021-09-04T15:21:18.562091Z",
     "shell.execute_reply.started": "2021-09-04T15:21:18.468613Z"
    },
    "tags": []
   }
  },
  {
   "cell_type": "markdown",
   "source": [
    "#### Input 2: Contenido"
   ],
   "metadata": {}
  },
  {
   "cell_type": "code",
   "execution_count": 25,
   "source": [
    "X_content = df[\"text_cleaned\"]\n",
    "X_content.str.split().str.len().max()"
   ],
   "outputs": [
    {
     "output_type": "execute_result",
     "data": {
      "text/plain": [
       "1793"
      ]
     },
     "metadata": {},
     "execution_count": 25
    }
   ],
   "metadata": {
    "execution": {
     "iopub.execute_input": "2021-09-04T15:21:29.315996Z",
     "iopub.status.busy": "2021-09-04T15:21:29.315502Z",
     "iopub.status.idle": "2021-09-04T15:21:29.367062Z",
     "shell.execute_reply": "2021-09-04T15:21:29.366099Z",
     "shell.execute_reply.started": "2021-09-04T15:21:29.315944Z"
    },
    "tags": []
   }
  },
  {
   "cell_type": "code",
   "execution_count": 26,
   "source": [
    "content_max_words = 10000\n",
    "content_max_sequence_length = 250\n",
    "X_content, tokenizer_content = vectorize_text(X_content, content_max_words, content_max_sequence_length)"
   ],
   "outputs": [
    {
     "output_type": "stream",
     "name": "stdout",
     "text": [
      "Found 6617 unique tokens.\n"
     ]
    }
   ],
   "metadata": {
    "execution": {
     "iopub.execute_input": "2021-09-04T15:21:46.651088Z",
     "iopub.status.busy": "2021-09-04T15:21:46.650650Z",
     "iopub.status.idle": "2021-09-04T15:21:47.569835Z",
     "shell.execute_reply": "2021-09-04T15:21:47.569073Z",
     "shell.execute_reply.started": "2021-09-04T15:21:46.651032Z"
    },
    "tags": []
   }
  },
  {
   "cell_type": "markdown",
   "source": [
    "#### Input 3: Características numéricas"
   ],
   "metadata": {}
  },
  {
   "cell_type": "code",
   "execution_count": 27,
   "source": [
    "df.columns"
   ],
   "outputs": [
    {
     "output_type": "execute_result",
     "data": {
      "text/plain": [
       "Index(['url', 'title', 'n_headers', 'channel', 'n_images', 'n_videos',\n",
       "       'n_paragraphs', 'text', 'neg_title', 'neu_title', 'pos_title',\n",
       "       'compound_title', 'neg_text', 'neu_text', 'pos_text', 'compound_text',\n",
       "       'urls', 'n_urls', 'text_cleaned', 'len_title', 'n_words_title',\n",
       "       'avg_len_words_title', 'len_content', 'n_words_content',\n",
       "       'avg_len_words_content', 'title_cleaned', 'shares'],\n",
       "      dtype='object')"
      ]
     },
     "metadata": {},
     "execution_count": 27
    }
   ],
   "metadata": {}
  },
  {
   "cell_type": "code",
   "execution_count": 28,
   "source": [
    "ls_features = ['n_images',\n",
    "               'n_videos',\n",
    "               'compound_title',\n",
    "               'compound_text',\n",
    "               'n_urls',\n",
    "               'len_title',\n",
    "               'avg_len_words_title',\n",
    "               'len_content',\n",
    "               'avg_len_words_content']\n",
    "\n",
    "X_features = df[ls_features]\n",
    "X_features.sample()"
   ],
   "outputs": [
    {
     "output_type": "execute_result",
     "data": {
      "text/html": [
       "<div>\n",
       "<style scoped>\n",
       "    .dataframe tbody tr th:only-of-type {\n",
       "        vertical-align: middle;\n",
       "    }\n",
       "\n",
       "    .dataframe tbody tr th {\n",
       "        vertical-align: top;\n",
       "    }\n",
       "\n",
       "    .dataframe thead th {\n",
       "        text-align: right;\n",
       "    }\n",
       "</style>\n",
       "<table border=\"1\" class=\"dataframe\">\n",
       "  <thead>\n",
       "    <tr style=\"text-align: right;\">\n",
       "      <th></th>\n",
       "      <th>n_images</th>\n",
       "      <th>n_videos</th>\n",
       "      <th>compound_title</th>\n",
       "      <th>compound_text</th>\n",
       "      <th>n_urls</th>\n",
       "      <th>len_title</th>\n",
       "      <th>avg_len_words_title</th>\n",
       "      <th>len_content</th>\n",
       "      <th>avg_len_words_content</th>\n",
       "    </tr>\n",
       "  </thead>\n",
       "  <tbody>\n",
       "    <tr>\n",
       "      <th>36</th>\n",
       "      <td>1</td>\n",
       "      <td>1</td>\n",
       "      <td>0.3818</td>\n",
       "      <td>0.431</td>\n",
       "      <td>0</td>\n",
       "      <td>57</td>\n",
       "      <td>5.444444</td>\n",
       "      <td>1729</td>\n",
       "      <td>5.383764</td>\n",
       "    </tr>\n",
       "  </tbody>\n",
       "</table>\n",
       "</div>"
      ],
      "text/plain": [
       "    n_images  n_videos  compound_title  compound_text  n_urls  len_title  \\\n",
       "36         1         1          0.3818          0.431       0         57   \n",
       "\n",
       "    avg_len_words_title  len_content  avg_len_words_content  \n",
       "36             5.444444         1729               5.383764  "
      ]
     },
     "metadata": {},
     "execution_count": 28
    }
   ],
   "metadata": {
    "execution": {
     "iopub.execute_input": "2021-09-04T15:22:28.917594Z",
     "iopub.status.busy": "2021-09-04T15:22:28.917288Z",
     "iopub.status.idle": "2021-09-04T15:22:28.922393Z",
     "shell.execute_reply": "2021-09-04T15:22:28.921441Z",
     "shell.execute_reply.started": "2021-09-04T15:22:28.917558Z"
    },
    "tags": []
   }
  },
  {
   "cell_type": "code",
   "execution_count": 29,
   "source": [
    "pipe = Pipeline([(\"imputer\", SimpleImputer(strategy=\"median\")), (\"scaler\", MinMaxScaler())])\n",
    "X_features = pipe.fit_transform(X_features)\n",
    "X_features[0]"
   ],
   "outputs": [
    {
     "output_type": "execute_result",
     "data": {
      "text/plain": [
       "array([0.        , 0.        , 0.49395123, 0.48743025, 0.        ,\n",
       "       0.63793103, 0.51943463, 0.05277889, 0.41225542])"
      ]
     },
     "metadata": {},
     "execution_count": 29
    }
   ],
   "metadata": {
    "execution": {
     "iopub.execute_input": "2021-09-04T15:22:45.309319Z",
     "iopub.status.busy": "2021-09-04T15:22:45.308828Z",
     "iopub.status.idle": "2021-09-04T15:22:45.314853Z",
     "shell.execute_reply": "2021-09-04T15:22:45.313987Z",
     "shell.execute_reply.started": "2021-09-04T15:22:45.309261Z"
    },
    "tags": []
   }
  },
  {
   "cell_type": "code",
   "execution_count": 30,
   "source": [
    "X_title.shape, X_content.shape, X_features.shape"
   ],
   "outputs": [
    {
     "output_type": "execute_result",
     "data": {
      "text/plain": [
       "((100, 12), (100, 250), (100, 9))"
      ]
     },
     "metadata": {},
     "execution_count": 30
    }
   ],
   "metadata": {
    "execution": {
     "iopub.execute_input": "2021-09-04T15:22:53.512928Z",
     "iopub.status.busy": "2021-09-04T15:22:53.512634Z",
     "iopub.status.idle": "2021-09-04T15:22:53.518741Z",
     "shell.execute_reply": "2021-09-04T15:22:53.517710Z",
     "shell.execute_reply.started": "2021-09-04T15:22:53.512895Z"
    },
    "tags": []
   }
  },
  {
   "cell_type": "markdown",
   "source": [
    "#### Variable objetivo"
   ],
   "metadata": {}
  },
  {
   "cell_type": "code",
   "execution_count": 31,
   "source": [
    "y = df[[\"shares\"]]\n",
    "sc = MinMaxScaler()\n",
    "y = sc.fit_transform(y).ravel()"
   ],
   "outputs": [],
   "metadata": {
    "execution": {
     "iopub.execute_input": "2021-09-04T15:23:32.898911Z",
     "iopub.status.busy": "2021-09-04T15:23:32.898466Z",
     "iopub.status.idle": "2021-09-04T15:23:32.906173Z",
     "shell.execute_reply": "2021-09-04T15:23:32.904849Z",
     "shell.execute_reply.started": "2021-09-04T15:23:32.898860Z"
    },
    "tags": []
   }
  },
  {
   "cell_type": "markdown",
   "source": [
    "### Arquitectura "
   ],
   "metadata": {}
  },
  {
   "cell_type": "code",
   "execution_count": 32,
   "source": [
    "import os\n",
    "os.environ['TF_CPP_MIN_LOG_LEVEL'] = '2'\n",
    "\n",
    "# Título\n",
    "title_input = Input(shape=(None,), name=\"title\")\n",
    "title_embedding = Embedding(title_max_words, 64)(title_input)\n",
    "title_features = GRU(32)(title_embedding)\n",
    "\n",
    "# Contenido\n",
    "content_input = Input(shape=(None,), name=\"content\")\n",
    "content_embedding = Embedding(content_max_words, 128)(content_input)\n",
    "content_features = GRU(64)(content_embedding)\n",
    "\n",
    "# Numérico\n",
    "features_input = Input(shape=(X_features.shape[1],), name=\"features\")\n",
    "features_network = Dense(64, activation=\"tanh\")(features_input)\n",
    "\n",
    "# Unir tres input\n",
    "x = concatenate([title_features, content_features, features_network])\n",
    "\n",
    "# Capa densa\n",
    "x = Dense(100, activation=\"sigmoid\")(x)\n",
    "\n",
    "# Capa de salida\n",
    "pred = Dense(1, activation=\"linear\")(x)"
   ],
   "outputs": [],
   "metadata": {
    "execution": {
     "iopub.execute_input": "2021-09-04T15:24:38.108402Z",
     "iopub.status.busy": "2021-09-04T15:24:38.107786Z",
     "iopub.status.idle": "2021-09-04T15:24:38.395247Z",
     "shell.execute_reply": "2021-09-04T15:24:38.394518Z",
     "shell.execute_reply.started": "2021-09-04T15:24:38.108296Z"
    },
    "tags": []
   }
  },
  {
   "cell_type": "markdown",
   "source": [
    "#### Métricas de performance"
   ],
   "metadata": {
    "tags": []
   }
  },
  {
   "cell_type": "code",
   "execution_count": 33,
   "source": [
    "kmetrics = [\n",
    "    metrics.RootMeanSquaredError(name='rms'),\n",
    "    metrics.MeanAbsoluteError(name='mae'),\n",
    "    metrics.MeanAbsolutePercentageError(name=\"pema\")\n",
    "]   "
   ],
   "outputs": [],
   "metadata": {
    "execution": {
     "iopub.execute_input": "2021-09-04T15:26:55.028812Z",
     "iopub.status.busy": "2021-09-04T15:26:55.028324Z",
     "iopub.status.idle": "2021-09-04T15:26:55.060276Z",
     "shell.execute_reply": "2021-09-04T15:26:55.059283Z",
     "shell.execute_reply.started": "2021-09-04T15:26:55.028749Z"
    },
    "tags": []
   }
  },
  {
   "cell_type": "markdown",
   "source": [
    "#### Creación de modelo"
   ],
   "metadata": {}
  },
  {
   "cell_type": "code",
   "execution_count": 34,
   "source": [
    "model = Model(inputs=[title_input, content_input, features_input], outputs=pred)\n",
    "plot_model(model, \"multi_input_model.png\", show_shapes=True)"
   ],
   "outputs": [
    {
     "output_type": "execute_result",
     "data": {
      "image/png": "[encoded data removed]",
      "text/plain": [
       "<IPython.core.display.Image object>"
      ]
     },
     "metadata": {},
     "execution_count": 34
    }
   ],
   "metadata": {
    "execution": {
     "iopub.execute_input": "2021-09-04T15:27:28.173476Z",
     "iopub.status.busy": "2021-09-04T15:27:28.173200Z",
     "iopub.status.idle": "2021-09-04T15:27:28.182543Z",
     "shell.execute_reply": "2021-09-04T15:27:28.181802Z",
     "shell.execute_reply.started": "2021-09-04T15:27:28.173444Z"
    },
    "tags": []
   }
  },
  {
   "cell_type": "markdown",
   "source": [
    "#### Configuración de modelo"
   ],
   "metadata": {
    "tags": []
   }
  },
  {
   "cell_type": "code",
   "execution_count": 35,
   "source": [
    "model.compile(optimizer=Adam(), loss=[\"mae\"], metrics=kmetrics)"
   ],
   "outputs": [],
   "metadata": {
    "execution": {
     "iopub.execute_input": "2021-09-04T15:53:28.822199Z",
     "iopub.status.busy": "2021-09-04T15:53:28.821977Z",
     "iopub.status.idle": "2021-09-04T15:53:28.836643Z",
     "shell.execute_reply": "2021-09-04T15:53:28.835950Z",
     "shell.execute_reply.started": "2021-09-04T15:53:28.822172Z"
    },
    "tags": []
   }
  },
  {
   "cell_type": "markdown",
   "source": [
    "#### Callbacks"
   ],
   "metadata": {
    "tags": []
   }
  },
  {
   "cell_type": "code",
   "execution_count": 36,
   "source": [
    "early_stopping = EarlyStopping(monitor='val_mae', patience=15, min_delta=0.0001)\n",
    "checkpoint = ModelCheckpoint('models/onp/model_{val_mae:.3f}.h5',\n",
    "                             save_best_only=True,\n",
    "                             save_weights_only=False,\n",
    "                             monitor='val_mae')"
   ],
   "outputs": [],
   "metadata": {
    "execution": {
     "iopub.execute_input": "2021-09-04T15:53:54.705785Z",
     "iopub.status.busy": "2021-09-04T15:53:54.705488Z",
     "iopub.status.idle": "2021-09-04T15:53:54.710495Z",
     "shell.execute_reply": "2021-09-04T15:53:54.709649Z",
     "shell.execute_reply.started": "2021-09-04T15:53:54.705754Z"
    },
    "tags": []
   }
  },
  {
   "cell_type": "markdown",
   "source": [
    "#### Train-test split"
   ],
   "metadata": {}
  },
  {
   "cell_type": "code",
   "execution_count": 37,
   "source": [
    "Xtitle_train, Xtitle_test, Xcontent_train, Xcontent_test, Xfeatures_train, Xfeatures_test, y_train, y_test = train_test_split(X_title, X_content, X_features, y, train_size=0.7, shuffle=True)"
   ],
   "outputs": [],
   "metadata": {
    "execution": {
     "iopub.execute_input": "2021-09-04T15:55:28.155227Z",
     "iopub.status.busy": "2021-09-04T15:55:28.153957Z",
     "iopub.status.idle": "2021-09-04T15:55:28.189021Z",
     "shell.execute_reply": "2021-09-04T15:55:28.187232Z",
     "shell.execute_reply.started": "2021-09-04T15:55:28.155072Z"
    }
   }
  },
  {
   "cell_type": "markdown",
   "source": [
    "#### Entrenamiento"
   ],
   "metadata": {}
  },
  {
   "cell_type": "code",
   "execution_count": 38,
   "source": [
    "history = model.fit(x={\"title\": Xtitle_train, \"content\": Xcontent_train, \"features\": Xfeatures_train}, \n",
    "                    y=y_train, \n",
    "                    epochs=100,\n",
    "                    validation_data=([Xtitle_test, Xcontent_test, Xfeatures_test], y_test),\n",
    "                    callbacks=[early_stopping, checkpoint])"
   ],
   "outputs": [
    {
     "output_type": "stream",
     "name": "stdout",
     "text": [
      "Epoch 1/100\n",
      "3/3 [==============================] - 4s 365ms/step - loss: 0.5315 - rms: 0.5782 - mae: 0.5315 - pema: 6696972.0000 - val_loss: 0.3493 - val_rms: 0.4287 - val_mae: 0.3493 - val_pema: 527.2204\n",
      "Epoch 2/100\n",
      "3/3 [==============================] - 0s 87ms/step - loss: 0.2609 - rms: 0.3440 - mae: 0.2609 - pema: 3161032.7500 - val_loss: 0.1517 - val_rms: 0.2547 - val_mae: 0.1517 - val_pema: 233.6380\n",
      "Epoch 3/100\n",
      "3/3 [==============================] - 0s 87ms/step - loss: 0.1373 - rms: 0.2243 - mae: 0.1373 - pema: 491555.1562 - val_loss: 0.2267 - val_rms: 0.2665 - val_mae: 0.2267 - val_pema: 617.4127\n",
      "Epoch 4/100\n",
      "3/3 [==============================] - 0s 85ms/step - loss: 0.2142 - rms: 0.2481 - mae: 0.2142 - pema: 2527279.2500 - val_loss: 0.2230 - val_rms: 0.2643 - val_mae: 0.2230 - val_pema: 600.1375\n",
      "Epoch 5/100\n",
      "3/3 [==============================] - 0s 85ms/step - loss: 0.1930 - rms: 0.2342 - mae: 0.1930 - pema: 2135064.0000 - val_loss: 0.1800 - val_rms: 0.2475 - val_mae: 0.1800 - val_pema: 393.9687\n",
      "Epoch 6/100\n",
      "3/3 [==============================] - 0s 85ms/step - loss: 0.1296 - rms: 0.2114 - mae: 0.1296 - pema: 1281981.6250 - val_loss: 0.1497 - val_rms: 0.2737 - val_mae: 0.1497 - val_pema: 128.0963\n",
      "Epoch 7/100\n",
      "3/3 [==============================] - 0s 90ms/step - loss: 0.1255 - rms: 0.2428 - mae: 0.1255 - pema: 723420.0000 - val_loss: 0.1827 - val_rms: 0.3037 - val_mae: 0.1827 - val_pema: 134.9430\n",
      "Epoch 8/100\n",
      "3/3 [==============================] - 0s 87ms/step - loss: 0.1440 - rms: 0.2549 - mae: 0.1440 - pema: 865026.0625 - val_loss: 0.1525 - val_rms: 0.2787 - val_mae: 0.1525 - val_pema: 124.4806\n",
      "Epoch 9/100\n",
      "3/3 [==============================] - 0s 85ms/step - loss: 0.1081 - rms: 0.2248 - mae: 0.1081 - pema: 92379.8125 - val_loss: 0.1593 - val_rms: 0.2541 - val_mae: 0.1593 - val_pema: 273.8556\n",
      "Epoch 10/100\n",
      "3/3 [==============================] - 0s 85ms/step - loss: 0.1145 - rms: 0.2094 - mae: 0.1145 - pema: 711882.5625 - val_loss: 0.1659 - val_rms: 0.2491 - val_mae: 0.1659 - val_pema: 325.9570\n",
      "Epoch 11/100\n",
      "3/3 [==============================] - 0s 84ms/step - loss: 0.1191 - rms: 0.2071 - mae: 0.1191 - pema: 933675.3125 - val_loss: 0.1529 - val_rms: 0.2545 - val_mae: 0.1529 - val_pema: 241.5463\n",
      "Epoch 12/100\n",
      "3/3 [==============================] - 0s 86ms/step - loss: 0.0991 - rms: 0.2110 - mae: 0.0991 - pema: 548153.0000 - val_loss: 0.1504 - val_rms: 0.2763 - val_mae: 0.1504 - val_pema: 116.5298\n",
      "Epoch 13/100\n",
      "3/3 [==============================] - 0s 90ms/step - loss: 0.1076 - rms: 0.2255 - mae: 0.1076 - pema: 457064.8125 - val_loss: 0.1525 - val_rms: 0.2781 - val_mae: 0.1525 - val_pema: 110.2152\n",
      "Epoch 14/100\n",
      "3/3 [==============================] - 0s 86ms/step - loss: 0.1001 - rms: 0.2185 - mae: 0.1001 - pema: 396142.0000 - val_loss: 0.1427 - val_rms: 0.2568 - val_mae: 0.1427 - val_pema: 178.9612\n",
      "Epoch 15/100\n",
      "3/3 [==============================] - 0s 101ms/step - loss: 0.0868 - rms: 0.2003 - mae: 0.0868 - pema: 365193.8750 - val_loss: 0.1420 - val_rms: 0.2513 - val_mae: 0.1420 - val_pema: 197.0101\n",
      "Epoch 16/100\n",
      "3/3 [==============================] - 0s 86ms/step - loss: 0.0817 - rms: 0.1938 - mae: 0.0817 - pema: 300469.1562 - val_loss: 0.1398 - val_rms: 0.2600 - val_mae: 0.1398 - val_pema: 135.7683\n",
      "Epoch 17/100\n",
      "3/3 [==============================] - 0s 85ms/step - loss: 0.0754 - rms: 0.1949 - mae: 0.0754 - pema: 26637.9023 - val_loss: 0.1376 - val_rms: 0.2549 - val_mae: 0.1376 - val_pema: 148.4133\n",
      "Epoch 18/100\n",
      "3/3 [==============================] - 0s 89ms/step - loss: 0.0684 - rms: 0.1831 - mae: 0.0684 - pema: 175640.2500 - val_loss: 0.1399 - val_rms: 0.2514 - val_mae: 0.1399 - val_pema: 176.3826\n",
      "Epoch 19/100\n",
      "3/3 [==============================] - 0s 86ms/step - loss: 0.0630 - rms: 0.1730 - mae: 0.0630 - pema: 437304.1875 - val_loss: 0.1418 - val_rms: 0.2614 - val_mae: 0.1418 - val_pema: 146.8943\n",
      "Epoch 20/100\n",
      "3/3 [==============================] - 0s 86ms/step - loss: 0.0651 - rms: 0.1725 - mae: 0.0651 - pema: 282719.8438 - val_loss: 0.1463 - val_rms: 0.2580 - val_mae: 0.1463 - val_pema: 191.1503\n",
      "Epoch 21/100\n",
      "3/3 [==============================] - 0s 86ms/step - loss: 0.0636 - rms: 0.1619 - mae: 0.0636 - pema: 572513.8750 - val_loss: 0.1495 - val_rms: 0.2552 - val_mae: 0.1495 - val_pema: 218.6070\n",
      "Epoch 22/100\n",
      "3/3 [==============================] - 0s 87ms/step - loss: 0.0606 - rms: 0.1597 - mae: 0.0606 - pema: 509450.0625 - val_loss: 0.1477 - val_rms: 0.2690 - val_mae: 0.1477 - val_pema: 141.1223\n",
      "Epoch 23/100\n",
      "3/3 [==============================] - 0s 89ms/step - loss: 0.0676 - rms: 0.1637 - mae: 0.0676 - pema: 126059.2969 - val_loss: 0.1487 - val_rms: 0.2513 - val_mae: 0.1487 - val_pema: 214.0427\n",
      "Epoch 24/100\n",
      "3/3 [==============================] - 0s 91ms/step - loss: 0.0675 - rms: 0.1477 - mae: 0.0675 - pema: 826260.1875 - val_loss: 0.1524 - val_rms: 0.2463 - val_mae: 0.1524 - val_pema: 249.2814\n",
      "Epoch 25/100\n",
      "3/3 [==============================] - 0s 89ms/step - loss: 0.0613 - rms: 0.1420 - mae: 0.0613 - pema: 98740.2891 - val_loss: 0.1454 - val_rms: 0.2637 - val_mae: 0.1454 - val_pema: 143.9434\n",
      "Epoch 26/100\n",
      "3/3 [==============================] - 0s 90ms/step - loss: 0.0631 - rms: 0.1493 - mae: 0.0631 - pema: 159924.8750 - val_loss: 0.1472 - val_rms: 0.2532 - val_mae: 0.1472 - val_pema: 194.7349\n",
      "Epoch 27/100\n",
      "3/3 [==============================] - 0s 88ms/step - loss: 0.0541 - rms: 0.1292 - mae: 0.0541 - pema: 264360.2188 - val_loss: 0.1521 - val_rms: 0.2487 - val_mae: 0.1521 - val_pema: 239.9326\n",
      "Epoch 28/100\n",
      "3/3 [==============================] - 0s 90ms/step - loss: 0.0529 - rms: 0.1218 - mae: 0.0529 - pema: 7835.5186 - val_loss: 0.1463 - val_rms: 0.2642 - val_mae: 0.1463 - val_pema: 148.9413\n",
      "Epoch 29/100\n",
      "3/3 [==============================] - 0s 88ms/step - loss: 0.0603 - rms: 0.1283 - mae: 0.0603 - pema: 602387.8125 - val_loss: 0.1473 - val_rms: 0.2595 - val_mae: 0.1473 - val_pema: 170.4373\n",
      "Epoch 30/100\n",
      "3/3 [==============================] - 0s 90ms/step - loss: 0.0436 - rms: 0.1078 - mae: 0.0436 - pema: 317089.1250 - val_loss: 0.1565 - val_rms: 0.2465 - val_mae: 0.1565 - val_pema: 271.7086\n",
      "Epoch 31/100\n",
      "3/3 [==============================] - 0s 90ms/step - loss: 0.0525 - rms: 0.0989 - mae: 0.0525 - pema: 147193.0625 - val_loss: 0.1469 - val_rms: 0.2569 - val_mae: 0.1469 - val_pema: 174.6956\n",
      "Epoch 32/100\n",
      "3/3 [==============================] - 0s 103ms/step - loss: 0.0429 - rms: 0.0986 - mae: 0.0429 - pema: 216987.6562 - val_loss: 0.1459 - val_rms: 0.2554 - val_mae: 0.1459 - val_pema: 170.9048\n"
     ]
    }
   ],
   "metadata": {
    "execution": {
     "iopub.execute_input": "2021-09-04T15:56:46.311434Z",
     "iopub.status.busy": "2021-09-04T15:56:46.311039Z",
     "iopub.status.idle": "2021-09-04T15:59:03.348057Z",
     "shell.execute_reply": "2021-09-04T15:59:03.347393Z",
     "shell.execute_reply.started": "2021-09-04T15:56:46.311390Z"
    },
    "scrolled": true,
    "tags": []
   }
  },
  {
   "cell_type": "markdown",
   "source": [
    "#### Análisis de resultados"
   ],
   "metadata": {}
  },
  {
   "cell_type": "code",
   "execution_count": 39,
   "source": [
    "import cufflinks as cf\n",
    "cf.go_offline()\n",
    "\n",
    "results = pd.DataFrame(data = zip(history.history[\"loss\"], history.history[\"val_loss\"], history.history[\"pema\"], history.history[\"val_pema\"]), columns=[\"loss\", \"val_loss\", \"pema\", \"val_pema\"])\n",
    "results.iplot(theme=\"solar\")"
   ],
   "outputs": [
    {
     "output_type": "display_data",
     "data": {
      "text/html": [
       "        <script type=\"text/javascript\">\n",
       "        window.PlotlyConfig = {MathJaxConfig: 'local'};\n",
       "        if (window.MathJax) {MathJax.Hub.Config({SVG: {font: \"STIX-Web\"}});}\n",
       "        if (typeof require !== 'undefined') {\n",
       "        require.undef(\"plotly\");\n",
       "        requirejs.config({\n",
       "            paths: {\n",
       "                'plotly': ['https://cdn.plot.ly/plotly-2.4.2.min']\n",
       "            }\n",
       "        });\n",
       "        require(['plotly'], function(Plotly) {\n",
       "            window._Plotly = Plotly;\n",
       "        });\n",
       "        }\n",
       "        </script>\n",
       "        "
      ]
     },
     "metadata": {}
    },
    {
     "output_type": "display_data",
     "data": {
      "application/vnd.plotly.v1+json": {
       "config": {
        "linkText": "Export to plot.ly",
        "plotlyServerURL": "https://plot.ly",
        "showLink": true
       },
       "data": [
        {
         "line": {
          "color": "rgba(255, 153, 51, 1.0)",
          "dash": "solid",
          "shape": "linear",
          "width": 1.3
         },
         "mode": "lines",
         "name": "loss",
         "text": "",
         "type": "scatter",
         "x": [
          0,
          1,
          2,
          3,
          4,
          5,
          6,
          7,
          8,
          9,
          10,
          11,
          12,
          13,
          14,
          15,
          16,
          17,
          18,
          19,
          20,
          21,
          22,
          23,
          24,
          25,
          26,
          27,
          28,
          29,
          30,
          31
         ],
         "y": [
          0.5315167903900146,
          0.26094725728034973,
          0.1372978538274765,
          0.21415185928344727,
          0.19302766025066376,
          0.12956465780735016,
          0.12549497187137604,
          0.14404357969760895,
          0.10810410976409912,
          0.11451973021030426,
          0.11909253150224686,
          0.09907622635364532,
          0.10759018361568451,
          0.10009881108999252,
          0.08675927668809891,
          0.08173328638076782,
          0.07542101293802261,
          0.06841940432786942,
          0.06297492980957031,
          0.06509198993444443,
          0.06362330168485641,
          0.06057696416974068,
          0.06763754040002823,
          0.06749486923217773,
          0.06127272918820381,
          0.06309130042791367,
          0.054126400500535965,
          0.052901457995176315,
          0.0602981373667717,
          0.04364607110619545,
          0.05254386365413666,
          0.04291682317852974
         ]
        },
        {
         "line": {
          "color": "rgba(55, 128, 191, 1.0)",
          "dash": "solid",
          "shape": "linear",
          "width": 1.3
         },
         "mode": "lines",
         "name": "val_loss",
         "text": "",
         "type": "scatter",
         "x": [
          0,
          1,
          2,
          3,
          4,
          5,
          6,
          7,
          8,
          9,
          10,
          11,
          12,
          13,
          14,
          15,
          16,
          17,
          18,
          19,
          20,
          21,
          22,
          23,
          24,
          25,
          26,
          27,
          28,
          29,
          30,
          31
         ],
         "y": [
          0.3493090867996216,
          0.15173335373401642,
          0.22673913836479187,
          0.22299273312091827,
          0.1800169050693512,
          0.14969679713249207,
          0.18267139792442322,
          0.15251921117305756,
          0.1593492478132248,
          0.16587404906749725,
          0.15287253260612488,
          0.15036147832870483,
          0.15249116718769073,
          0.14267908036708832,
          0.1419515460729599,
          0.13980881869792938,
          0.13756035268306732,
          0.13990822434425354,
          0.141802117228508,
          0.14630727469921112,
          0.14954373240470886,
          0.14765264093875885,
          0.148699089884758,
          0.1523665487766266,
          0.14541146159172058,
          0.147200345993042,
          0.15205341577529907,
          0.14634647965431213,
          0.14727573096752167,
          0.15646760165691376,
          0.14690852165222168,
          0.14591509103775024
         ]
        },
        {
         "line": {
          "color": "rgba(50, 171, 96, 1.0)",
          "dash": "solid",
          "shape": "linear",
          "width": 1.3
         },
         "mode": "lines",
         "name": "pema",
         "text": "",
         "type": "scatter",
         "x": [
          0,
          1,
          2,
          3,
          4,
          5,
          6,
          7,
          8,
          9,
          10,
          11,
          12,
          13,
          14,
          15,
          16,
          17,
          18,
          19,
          20,
          21,
          22,
          23,
          24,
          25,
          26,
          27,
          28,
          29,
          30,
          31
         ],
         "y": [
          6696972,
          3161032.75,
          491555.15625,
          2527279.25,
          2135064,
          1281981.625,
          723420,
          865026.0625,
          92379.8125,
          711882.5625,
          933675.3125,
          548153,
          457064.8125,
          396142,
          365193.875,
          300469.15625,
          26637.90234375,
          175640.25,
          437304.1875,
          282719.84375,
          572513.875,
          509450.0625,
          126059.296875,
          826260.1875,
          98740.2890625,
          159924.875,
          264360.21875,
          7835.5185546875,
          602387.8125,
          317089.125,
          147193.0625,
          216987.65625
         ]
        },
        {
         "line": {
          "color": "rgba(128, 0, 128, 1.0)",
          "dash": "solid",
          "shape": "linear",
          "width": 1.3
         },
         "mode": "lines",
         "name": "val_pema",
         "text": "",
         "type": "scatter",
         "x": [
          0,
          1,
          2,
          3,
          4,
          5,
          6,
          7,
          8,
          9,
          10,
          11,
          12,
          13,
          14,
          15,
          16,
          17,
          18,
          19,
          20,
          21,
          22,
          23,
          24,
          25,
          26,
          27,
          28,
          29,
          30,
          31
         ],
         "y": [
          527.2203979492188,
          233.63803100585938,
          617.4126586914062,
          600.1375122070312,
          393.96868896484375,
          128.09625244140625,
          134.94302368164062,
          124.48055267333984,
          273.8556213378906,
          325.9570007324219,
          241.54627990722656,
          116.5297622680664,
          110.21524810791016,
          178.961181640625,
          197.01014709472656,
          135.76834106445312,
          148.413330078125,
          176.38255310058594,
          146.89431762695312,
          191.15028381347656,
          218.60696411132812,
          141.1222686767578,
          214.04270935058594,
          249.2814483642578,
          143.94342041015625,
          194.73486328125,
          239.93258666992188,
          148.94131469726562,
          170.437255859375,
          271.7086181640625,
          174.69564819335938,
          170.90476989746094
         ]
        }
       ],
       "layout": {
        "legend": {
         "bgcolor": "#151516",
         "font": {
          "color": "#D9D9D9"
         }
        },
        "paper_bgcolor": "#151516",
        "plot_bgcolor": "#151516",
        "template": {
         "data": {
          "bar": [
           {
            "error_x": {
             "color": "#2a3f5f"
            },
            "error_y": {
             "color": "#2a3f5f"
            },
            "marker": {
             "line": {
              "color": "#E5ECF6",
              "width": 0.5
             },
             "pattern": {
              "fillmode": "overlay",
              "size": 10,
              "solidity": 0.2
             }
            },
            "type": "bar"
           }
          ],
          "barpolar": [
           {
            "marker": {
             "line": {
              "color": "#E5ECF6",
              "width": 0.5
             },
             "pattern": {
              "fillmode": "overlay",
              "size": 10,
              "solidity": 0.2
             }
            },
            "type": "barpolar"
           }
          ],
          "carpet": [
           {
            "aaxis": {
             "endlinecolor": "#2a3f5f",
             "gridcolor": "white",
             "linecolor": "white",
             "minorgridcolor": "white",
             "startlinecolor": "#2a3f5f"
            },
            "baxis": {
             "endlinecolor": "#2a3f5f",
             "gridcolor": "white",
             "linecolor": "white",
             "minorgridcolor": "white",
             "startlinecolor": "#2a3f5f"
            },
            "type": "carpet"
           }
          ],
          "choropleth": [
           {
            "colorbar": {
             "outlinewidth": 0,
             "ticks": ""
            },
            "type": "choropleth"
           }
          ],
          "contour": [
           {
            "colorbar": {
             "outlinewidth": 0,
             "ticks": ""
            },
            "colorscale": [
             [
              0,
              "#0d0887"
             ],
             [
              0.1111111111111111,
              "#46039f"
             ],
             [
              0.2222222222222222,
              "#7201a8"
             ],
             [
              0.3333333333333333,
              "#9c179e"
             ],
             [
              0.4444444444444444,
              "#bd3786"
             ],
             [
              0.5555555555555556,
              "#d8576b"
             ],
             [
              0.6666666666666666,
              "#ed7953"
             ],
             [
              0.7777777777777778,
              "#fb9f3a"
             ],
             [
              0.8888888888888888,
              "#fdca26"
             ],
             [
              1,
              "#f0f921"
             ]
            ],
            "type": "contour"
           }
          ],
          "contourcarpet": [
           {
            "colorbar": {
             "outlinewidth": 0,
             "ticks": ""
            },
            "type": "contourcarpet"
           }
          ],
          "heatmap": [
           {
            "colorbar": {
             "outlinewidth": 0,
             "ticks": ""
            },
            "colorscale": [
             [
              0,
              "#0d0887"
             ],
             [
              0.1111111111111111,
              "#46039f"
             ],
             [
              0.2222222222222222,
              "#7201a8"
             ],
             [
              0.3333333333333333,
              "#9c179e"
             ],
             [
              0.4444444444444444,
              "#bd3786"
             ],
             [
              0.5555555555555556,
              "#d8576b"
             ],
             [
              0.6666666666666666,
              "#ed7953"
             ],
             [
              0.7777777777777778,
              "#fb9f3a"
             ],
             [
              0.8888888888888888,
              "#fdca26"
             ],
             [
              1,
              "#f0f921"
             ]
            ],
            "type": "heatmap"
           }
          ],
          "heatmapgl": [
           {
            "colorbar": {
             "outlinewidth": 0,
             "ticks": ""
            },
            "colorscale": [
             [
              0,
              "#0d0887"
             ],
             [
              0.1111111111111111,
              "#46039f"
             ],
             [
              0.2222222222222222,
              "#7201a8"
             ],
             [
              0.3333333333333333,
              "#9c179e"
             ],
             [
              0.4444444444444444,
              "#bd3786"
             ],
             [
              0.5555555555555556,
              "#d8576b"
             ],
             [
              0.6666666666666666,
              "#ed7953"
             ],
             [
              0.7777777777777778,
              "#fb9f3a"
             ],
             [
              0.8888888888888888,
              "#fdca26"
             ],
             [
              1,
              "#f0f921"
             ]
            ],
            "type": "heatmapgl"
           }
          ],
          "histogram": [
           {
            "marker": {
             "pattern": {
              "fillmode": "overlay",
              "size": 10,
              "solidity": 0.2
             }
            },
            "type": "histogram"
           }
          ],
          "histogram2d": [
           {
            "colorbar": {
             "outlinewidth": 0,
             "ticks": ""
            },
            "colorscale": [
             [
              0,
              "#0d0887"
             ],
             [
              0.1111111111111111,
              "#46039f"
             ],
             [
              0.2222222222222222,
              "#7201a8"
             ],
             [
              0.3333333333333333,
              "#9c179e"
             ],
             [
              0.4444444444444444,
              "#bd3786"
             ],
             [
              0.5555555555555556,
              "#d8576b"
             ],
             [
              0.6666666666666666,
              "#ed7953"
             ],
             [
              0.7777777777777778,
              "#fb9f3a"
             ],
             [
              0.8888888888888888,
              "#fdca26"
             ],
             [
              1,
              "#f0f921"
             ]
            ],
            "type": "histogram2d"
           }
          ],
          "histogram2dcontour": [
           {
            "colorbar": {
             "outlinewidth": 0,
             "ticks": ""
            },
            "colorscale": [
             [
              0,
              "#0d0887"
             ],
             [
              0.1111111111111111,
              "#46039f"
             ],
             [
              0.2222222222222222,
              "#7201a8"
             ],
             [
              0.3333333333333333,
              "#9c179e"
             ],
             [
              0.4444444444444444,
              "#bd3786"
             ],
             [
              0.5555555555555556,
              "#d8576b"
             ],
             [
              0.6666666666666666,
              "#ed7953"
             ],
             [
              0.7777777777777778,
              "#fb9f3a"
             ],
             [
              0.8888888888888888,
              "#fdca26"
             ],
             [
              1,
              "#f0f921"
             ]
            ],
            "type": "histogram2dcontour"
           }
          ],
          "mesh3d": [
           {
            "colorbar": {
             "outlinewidth": 0,
             "ticks": ""
            },
            "type": "mesh3d"
           }
          ],
          "parcoords": [
           {
            "line": {
             "colorbar": {
              "outlinewidth": 0,
              "ticks": ""
             }
            },
            "type": "parcoords"
           }
          ],
          "pie": [
           {
            "automargin": true,
            "type": "pie"
           }
          ],
          "scatter": [
           {
            "marker": {
             "colorbar": {
              "outlinewidth": 0,
              "ticks": ""
             }
            },
            "type": "scatter"
           }
          ],
          "scatter3d": [
           {
            "line": {
             "colorbar": {
              "outlinewidth": 0,
              "ticks": ""
             }
            },
            "marker": {
             "colorbar": {
              "outlinewidth": 0,
              "ticks": ""
             }
            },
            "type": "scatter3d"
           }
          ],
          "scattercarpet": [
           {
            "marker": {
             "colorbar": {
              "outlinewidth": 0,
              "ticks": ""
             }
            },
            "type": "scattercarpet"
           }
          ],
          "scattergeo": [
           {
            "marker": {
             "colorbar": {
              "outlinewidth": 0,
              "ticks": ""
             }
            },
            "type": "scattergeo"
           }
          ],
          "scattergl": [
           {
            "marker": {
             "colorbar": {
              "outlinewidth": 0,
              "ticks": ""
             }
            },
            "type": "scattergl"
           }
          ],
          "scattermapbox": [
           {
            "marker": {
             "colorbar": {
              "outlinewidth": 0,
              "ticks": ""
             }
            },
            "type": "scattermapbox"
           }
          ],
          "scatterpolar": [
           {
            "marker": {
             "colorbar": {
              "outlinewidth": 0,
              "ticks": ""
             }
            },
            "type": "scatterpolar"
           }
          ],
          "scatterpolargl": [
           {
            "marker": {
             "colorbar": {
              "outlinewidth": 0,
              "ticks": ""
             }
            },
            "type": "scatterpolargl"
           }
          ],
          "scatterternary": [
           {
            "marker": {
             "colorbar": {
              "outlinewidth": 0,
              "ticks": ""
             }
            },
            "type": "scatterternary"
           }
          ],
          "surface": [
           {
            "colorbar": {
             "outlinewidth": 0,
             "ticks": ""
            },
            "colorscale": [
             [
              0,
              "#0d0887"
             ],
             [
              0.1111111111111111,
              "#46039f"
             ],
             [
              0.2222222222222222,
              "#7201a8"
             ],
             [
              0.3333333333333333,
              "#9c179e"
             ],
             [
              0.4444444444444444,
              "#bd3786"
             ],
             [
              0.5555555555555556,
              "#d8576b"
             ],
             [
              0.6666666666666666,
              "#ed7953"
             ],
             [
              0.7777777777777778,
              "#fb9f3a"
             ],
             [
              0.8888888888888888,
              "#fdca26"
             ],
             [
              1,
              "#f0f921"
             ]
            ],
            "type": "surface"
           }
          ],
          "table": [
           {
            "cells": {
             "fill": {
              "color": "#EBF0F8"
             },
             "line": {
              "color": "white"
             }
            },
            "header": {
             "fill": {
              "color": "#C8D4E3"
             },
             "line": {
              "color": "white"
             }
            },
            "type": "table"
           }
          ]
         },
         "layout": {
          "annotationdefaults": {
           "arrowcolor": "#2a3f5f",
           "arrowhead": 0,
           "arrowwidth": 1
          },
          "autotypenumbers": "strict",
          "coloraxis": {
           "colorbar": {
            "outlinewidth": 0,
            "ticks": ""
           }
          },
          "colorscale": {
           "diverging": [
            [
             0,
             "#8e0152"
            ],
            [
             0.1,
             "#c51b7d"
            ],
            [
             0.2,
             "#de77ae"
            ],
            [
             0.3,
             "#f1b6da"
            ],
            [
             0.4,
             "#fde0ef"
            ],
            [
             0.5,
             "#f7f7f7"
            ],
            [
             0.6,
             "#e6f5d0"
            ],
            [
             0.7,
             "#b8e186"
            ],
            [
             0.8,
             "#7fbc41"
            ],
            [
             0.9,
             "#4d9221"
            ],
            [
             1,
             "#276419"
            ]
           ],
           "sequential": [
            [
             0,
             "#0d0887"
            ],
            [
             0.1111111111111111,
             "#46039f"
            ],
            [
             0.2222222222222222,
             "#7201a8"
            ],
            [
             0.3333333333333333,
             "#9c179e"
            ],
            [
             0.4444444444444444,
             "#bd3786"
            ],
            [
             0.5555555555555556,
             "#d8576b"
            ],
            [
             0.6666666666666666,
             "#ed7953"
            ],
            [
             0.7777777777777778,
             "#fb9f3a"
            ],
            [
             0.8888888888888888,
             "#fdca26"
            ],
            [
             1,
             "#f0f921"
            ]
           ],
           "sequentialminus": [
            [
             0,
             "#0d0887"
            ],
            [
             0.1111111111111111,
             "#46039f"
            ],
            [
             0.2222222222222222,
             "#7201a8"
            ],
            [
             0.3333333333333333,
             "#9c179e"
            ],
            [
             0.4444444444444444,
             "#bd3786"
            ],
            [
             0.5555555555555556,
             "#d8576b"
            ],
            [
             0.6666666666666666,
             "#ed7953"
            ],
            [
             0.7777777777777778,
             "#fb9f3a"
            ],
            [
             0.8888888888888888,
             "#fdca26"
            ],
            [
             1,
             "#f0f921"
            ]
           ]
          },
          "colorway": [
           "#636efa",
           "#EF553B",
           "#00cc96",
           "#ab63fa",
           "#FFA15A",
           "#19d3f3",
           "#FF6692",
           "#B6E880",
           "#FF97FF",
           "#FECB52"
          ],
          "font": {
           "color": "#2a3f5f"
          },
          "geo": {
           "bgcolor": "white",
           "lakecolor": "white",
           "landcolor": "#E5ECF6",
           "showlakes": true,
           "showland": true,
           "subunitcolor": "white"
          },
          "hoverlabel": {
           "align": "left"
          },
          "hovermode": "closest",
          "mapbox": {
           "style": "light"
          },
          "paper_bgcolor": "white",
          "plot_bgcolor": "#E5ECF6",
          "polar": {
           "angularaxis": {
            "gridcolor": "white",
            "linecolor": "white",
            "ticks": ""
           },
           "bgcolor": "#E5ECF6",
           "radialaxis": {
            "gridcolor": "white",
            "linecolor": "white",
            "ticks": ""
           }
          },
          "scene": {
           "xaxis": {
            "backgroundcolor": "#E5ECF6",
            "gridcolor": "white",
            "gridwidth": 2,
            "linecolor": "white",
            "showbackground": true,
            "ticks": "",
            "zerolinecolor": "white"
           },
           "yaxis": {
            "backgroundcolor": "#E5ECF6",
            "gridcolor": "white",
            "gridwidth": 2,
            "linecolor": "white",
            "showbackground": true,
            "ticks": "",
            "zerolinecolor": "white"
           },
           "zaxis": {
            "backgroundcolor": "#E5ECF6",
            "gridcolor": "white",
            "gridwidth": 2,
            "linecolor": "white",
            "showbackground": true,
            "ticks": "",
            "zerolinecolor": "white"
           }
          },
          "shapedefaults": {
           "line": {
            "color": "#2a3f5f"
           }
          },
          "ternary": {
           "aaxis": {
            "gridcolor": "white",
            "linecolor": "white",
            "ticks": ""
           },
           "baxis": {
            "gridcolor": "white",
            "linecolor": "white",
            "ticks": ""
           },
           "bgcolor": "#E5ECF6",
           "caxis": {
            "gridcolor": "white",
            "linecolor": "white",
            "ticks": ""
           }
          },
          "title": {
           "x": 0.05
          },
          "xaxis": {
           "automargin": true,
           "gridcolor": "white",
           "linecolor": "white",
           "ticks": "",
           "title": {
            "standoff": 15
           },
           "zerolinecolor": "white",
           "zerolinewidth": 2
          },
          "yaxis": {
           "automargin": true,
           "gridcolor": "white",
           "linecolor": "white",
           "ticks": "",
           "title": {
            "standoff": 15
           },
           "zerolinecolor": "white",
           "zerolinewidth": 2
          }
         }
        },
        "title": {
         "font": {
          "color": "#D9D9D9"
         }
        },
        "xaxis": {
         "gridcolor": "#434343",
         "showgrid": true,
         "tickfont": {
          "color": "#C2C2C2"
         },
         "title": {
          "font": {
           "color": "#D9D9D9"
          },
          "text": ""
         },
         "zerolinecolor": "#666570"
        },
        "yaxis": {
         "gridcolor": "#434343",
         "showgrid": true,
         "tickfont": {
          "color": "#C2C2C2"
         },
         "title": {
          "font": {
           "color": "#D9D9D9"
          },
          "text": ""
         },
         "zerolinecolor": "#666570"
        }
       }
      },
      "text/html": [
       "<div>                            <div id=\"ab2ad360-9bcd-4cb7-80c3-04ea6843a662\" class=\"plotly-graph-div\" style=\"height:525px; width:100%;\"></div>            <script type=\"text/javascript\">                require([\"plotly\"], function(Plotly) {                    window.PLOTLYENV=window.PLOTLYENV || {};\n",
       "                    window.PLOTLYENV.BASE_URL='https://plot.ly';                                    if (document.getElementById(\"ab2ad360-9bcd-4cb7-80c3-04ea6843a662\")) {                    Plotly.newPlot(                        \"ab2ad360-9bcd-4cb7-80c3-04ea6843a662\",                        [{\"line\":{\"color\":\"rgba(255, 153, 51, 1.0)\",\"dash\":\"solid\",\"shape\":\"linear\",\"width\":1.3},\"mode\":\"lines\",\"name\":\"loss\",\"text\":\"\",\"type\":\"scatter\",\"x\":[0,1,2,3,4,5,6,7,8,9,10,11,12,13,14,15,16,17,18,19,20,21,22,23,24,25,26,27,28,29,30,31],\"y\":[0.5315167903900146,0.26094725728034973,0.1372978538274765,0.21415185928344727,0.19302766025066376,0.12956465780735016,0.12549497187137604,0.14404357969760895,0.10810410976409912,0.11451973021030426,0.11909253150224686,0.09907622635364532,0.10759018361568451,0.10009881108999252,0.08675927668809891,0.08173328638076782,0.07542101293802261,0.06841940432786942,0.06297492980957031,0.06509198993444443,0.06362330168485641,0.06057696416974068,0.06763754040002823,0.06749486923217773,0.06127272918820381,0.06309130042791367,0.054126400500535965,0.052901457995176315,0.0602981373667717,0.04364607110619545,0.05254386365413666,0.04291682317852974]},{\"line\":{\"color\":\"rgba(55, 128, 191, 1.0)\",\"dash\":\"solid\",\"shape\":\"linear\",\"width\":1.3},\"mode\":\"lines\",\"name\":\"val_loss\",\"text\":\"\",\"type\":\"scatter\",\"x\":[0,1,2,3,4,5,6,7,8,9,10,11,12,13,14,15,16,17,18,19,20,21,22,23,24,25,26,27,28,29,30,31],\"y\":[0.3493090867996216,0.15173335373401642,0.22673913836479187,0.22299273312091827,0.1800169050693512,0.14969679713249207,0.18267139792442322,0.15251921117305756,0.1593492478132248,0.16587404906749725,0.15287253260612488,0.15036147832870483,0.15249116718769073,0.14267908036708832,0.1419515460729599,0.13980881869792938,0.13756035268306732,0.13990822434425354,0.141802117228508,0.14630727469921112,0.14954373240470886,0.14765264093875885,0.148699089884758,0.1523665487766266,0.14541146159172058,0.147200345993042,0.15205341577529907,0.14634647965431213,0.14727573096752167,0.15646760165691376,0.14690852165222168,0.14591509103775024]},{\"line\":{\"color\":\"rgba(50, 171, 96, 1.0)\",\"dash\":\"solid\",\"shape\":\"linear\",\"width\":1.3},\"mode\":\"lines\",\"name\":\"pema\",\"text\":\"\",\"type\":\"scatter\",\"x\":[0,1,2,3,4,5,6,7,8,9,10,11,12,13,14,15,16,17,18,19,20,21,22,23,24,25,26,27,28,29,30,31],\"y\":[6696972.0,3161032.75,491555.15625,2527279.25,2135064.0,1281981.625,723420.0,865026.0625,92379.8125,711882.5625,933675.3125,548153.0,457064.8125,396142.0,365193.875,300469.15625,26637.90234375,175640.25,437304.1875,282719.84375,572513.875,509450.0625,126059.296875,826260.1875,98740.2890625,159924.875,264360.21875,7835.5185546875,602387.8125,317089.125,147193.0625,216987.65625]},{\"line\":{\"color\":\"rgba(128, 0, 128, 1.0)\",\"dash\":\"solid\",\"shape\":\"linear\",\"width\":1.3},\"mode\":\"lines\",\"name\":\"val_pema\",\"text\":\"\",\"type\":\"scatter\",\"x\":[0,1,2,3,4,5,6,7,8,9,10,11,12,13,14,15,16,17,18,19,20,21,22,23,24,25,26,27,28,29,30,31],\"y\":[527.2203979492188,233.63803100585938,617.4126586914062,600.1375122070312,393.96868896484375,128.09625244140625,134.94302368164062,124.48055267333984,273.8556213378906,325.9570007324219,241.54627990722656,116.5297622680664,110.21524810791016,178.961181640625,197.01014709472656,135.76834106445312,148.413330078125,176.38255310058594,146.89431762695312,191.15028381347656,218.60696411132812,141.1222686767578,214.04270935058594,249.2814483642578,143.94342041015625,194.73486328125,239.93258666992188,148.94131469726562,170.437255859375,271.7086181640625,174.69564819335938,170.90476989746094]}],                        {\"legend\":{\"bgcolor\":\"#151516\",\"font\":{\"color\":\"#D9D9D9\"}},\"paper_bgcolor\":\"#151516\",\"plot_bgcolor\":\"#151516\",\"template\":{\"data\":{\"bar\":[{\"error_x\":{\"color\":\"#2a3f5f\"},\"error_y\":{\"color\":\"#2a3f5f\"},\"marker\":{\"line\":{\"color\":\"#E5ECF6\",\"width\":0.5},\"pattern\":{\"fillmode\":\"overlay\",\"size\":10,\"solidity\":0.2}},\"type\":\"bar\"}],\"barpolar\":[{\"marker\":{\"line\":{\"color\":\"#E5ECF6\",\"width\":0.5},\"pattern\":{\"fillmode\":\"overlay\",\"size\":10,\"solidity\":0.2}},\"type\":\"barpolar\"}],\"carpet\":[{\"aaxis\":{\"endlinecolor\":\"#2a3f5f\",\"gridcolor\":\"white\",\"linecolor\":\"white\",\"minorgridcolor\":\"white\",\"startlinecolor\":\"#2a3f5f\"},\"baxis\":{\"endlinecolor\":\"#2a3f5f\",\"gridcolor\":\"white\",\"linecolor\":\"white\",\"minorgridcolor\":\"white\",\"startlinecolor\":\"#2a3f5f\"},\"type\":\"carpet\"}],\"choropleth\":[{\"colorbar\":{\"outlinewidth\":0,\"ticks\":\"\"},\"type\":\"choropleth\"}],\"contour\":[{\"colorbar\":{\"outlinewidth\":0,\"ticks\":\"\"},\"colorscale\":[[0.0,\"#0d0887\"],[0.1111111111111111,\"#46039f\"],[0.2222222222222222,\"#7201a8\"],[0.3333333333333333,\"#9c179e\"],[0.4444444444444444,\"#bd3786\"],[0.5555555555555556,\"#d8576b\"],[0.6666666666666666,\"#ed7953\"],[0.7777777777777778,\"#fb9f3a\"],[0.8888888888888888,\"#fdca26\"],[1.0,\"#f0f921\"]],\"type\":\"contour\"}],\"contourcarpet\":[{\"colorbar\":{\"outlinewidth\":0,\"ticks\":\"\"},\"type\":\"contourcarpet\"}],\"heatmap\":[{\"colorbar\":{\"outlinewidth\":0,\"ticks\":\"\"},\"colorscale\":[[0.0,\"#0d0887\"],[0.1111111111111111,\"#46039f\"],[0.2222222222222222,\"#7201a8\"],[0.3333333333333333,\"#9c179e\"],[0.4444444444444444,\"#bd3786\"],[0.5555555555555556,\"#d8576b\"],[0.6666666666666666,\"#ed7953\"],[0.7777777777777778,\"#fb9f3a\"],[0.8888888888888888,\"#fdca26\"],[1.0,\"#f0f921\"]],\"type\":\"heatmap\"}],\"heatmapgl\":[{\"colorbar\":{\"outlinewidth\":0,\"ticks\":\"\"},\"colorscale\":[[0.0,\"#0d0887\"],[0.1111111111111111,\"#46039f\"],[0.2222222222222222,\"#7201a8\"],[0.3333333333333333,\"#9c179e\"],[0.4444444444444444,\"#bd3786\"],[0.5555555555555556,\"#d8576b\"],[0.6666666666666666,\"#ed7953\"],[0.7777777777777778,\"#fb9f3a\"],[0.8888888888888888,\"#fdca26\"],[1.0,\"#f0f921\"]],\"type\":\"heatmapgl\"}],\"histogram\":[{\"marker\":{\"pattern\":{\"fillmode\":\"overlay\",\"size\":10,\"solidity\":0.2}},\"type\":\"histogram\"}],\"histogram2d\":[{\"colorbar\":{\"outlinewidth\":0,\"ticks\":\"\"},\"colorscale\":[[0.0,\"#0d0887\"],[0.1111111111111111,\"#46039f\"],[0.2222222222222222,\"#7201a8\"],[0.3333333333333333,\"#9c179e\"],[0.4444444444444444,\"#bd3786\"],[0.5555555555555556,\"#d8576b\"],[0.6666666666666666,\"#ed7953\"],[0.7777777777777778,\"#fb9f3a\"],[0.8888888888888888,\"#fdca26\"],[1.0,\"#f0f921\"]],\"type\":\"histogram2d\"}],\"histogram2dcontour\":[{\"colorbar\":{\"outlinewidth\":0,\"ticks\":\"\"},\"colorscale\":[[0.0,\"#0d0887\"],[0.1111111111111111,\"#46039f\"],[0.2222222222222222,\"#7201a8\"],[0.3333333333333333,\"#9c179e\"],[0.4444444444444444,\"#bd3786\"],[0.5555555555555556,\"#d8576b\"],[0.6666666666666666,\"#ed7953\"],[0.7777777777777778,\"#fb9f3a\"],[0.8888888888888888,\"#fdca26\"],[1.0,\"#f0f921\"]],\"type\":\"histogram2dcontour\"}],\"mesh3d\":[{\"colorbar\":{\"outlinewidth\":0,\"ticks\":\"\"},\"type\":\"mesh3d\"}],\"parcoords\":[{\"line\":{\"colorbar\":{\"outlinewidth\":0,\"ticks\":\"\"}},\"type\":\"parcoords\"}],\"pie\":[{\"automargin\":true,\"type\":\"pie\"}],\"scatter\":[{\"marker\":{\"colorbar\":{\"outlinewidth\":0,\"ticks\":\"\"}},\"type\":\"scatter\"}],\"scatter3d\":[{\"line\":{\"colorbar\":{\"outlinewidth\":0,\"ticks\":\"\"}},\"marker\":{\"colorbar\":{\"outlinewidth\":0,\"ticks\":\"\"}},\"type\":\"scatter3d\"}],\"scattercarpet\":[{\"marker\":{\"colorbar\":{\"outlinewidth\":0,\"ticks\":\"\"}},\"type\":\"scattercarpet\"}],\"scattergeo\":[{\"marker\":{\"colorbar\":{\"outlinewidth\":0,\"ticks\":\"\"}},\"type\":\"scattergeo\"}],\"scattergl\":[{\"marker\":{\"colorbar\":{\"outlinewidth\":0,\"ticks\":\"\"}},\"type\":\"scattergl\"}],\"scattermapbox\":[{\"marker\":{\"colorbar\":{\"outlinewidth\":0,\"ticks\":\"\"}},\"type\":\"scattermapbox\"}],\"scatterpolar\":[{\"marker\":{\"colorbar\":{\"outlinewidth\":0,\"ticks\":\"\"}},\"type\":\"scatterpolar\"}],\"scatterpolargl\":[{\"marker\":{\"colorbar\":{\"outlinewidth\":0,\"ticks\":\"\"}},\"type\":\"scatterpolargl\"}],\"scatterternary\":[{\"marker\":{\"colorbar\":{\"outlinewidth\":0,\"ticks\":\"\"}},\"type\":\"scatterternary\"}],\"surface\":[{\"colorbar\":{\"outlinewidth\":0,\"ticks\":\"\"},\"colorscale\":[[0.0,\"#0d0887\"],[0.1111111111111111,\"#46039f\"],[0.2222222222222222,\"#7201a8\"],[0.3333333333333333,\"#9c179e\"],[0.4444444444444444,\"#bd3786\"],[0.5555555555555556,\"#d8576b\"],[0.6666666666666666,\"#ed7953\"],[0.7777777777777778,\"#fb9f3a\"],[0.8888888888888888,\"#fdca26\"],[1.0,\"#f0f921\"]],\"type\":\"surface\"}],\"table\":[{\"cells\":{\"fill\":{\"color\":\"#EBF0F8\"},\"line\":{\"color\":\"white\"}},\"header\":{\"fill\":{\"color\":\"#C8D4E3\"},\"line\":{\"color\":\"white\"}},\"type\":\"table\"}]},\"layout\":{\"annotationdefaults\":{\"arrowcolor\":\"#2a3f5f\",\"arrowhead\":0,\"arrowwidth\":1},\"autotypenumbers\":\"strict\",\"coloraxis\":{\"colorbar\":{\"outlinewidth\":0,\"ticks\":\"\"}},\"colorscale\":{\"diverging\":[[0,\"#8e0152\"],[0.1,\"#c51b7d\"],[0.2,\"#de77ae\"],[0.3,\"#f1b6da\"],[0.4,\"#fde0ef\"],[0.5,\"#f7f7f7\"],[0.6,\"#e6f5d0\"],[0.7,\"#b8e186\"],[0.8,\"#7fbc41\"],[0.9,\"#4d9221\"],[1,\"#276419\"]],\"sequential\":[[0.0,\"#0d0887\"],[0.1111111111111111,\"#46039f\"],[0.2222222222222222,\"#7201a8\"],[0.3333333333333333,\"#9c179e\"],[0.4444444444444444,\"#bd3786\"],[0.5555555555555556,\"#d8576b\"],[0.6666666666666666,\"#ed7953\"],[0.7777777777777778,\"#fb9f3a\"],[0.8888888888888888,\"#fdca26\"],[1.0,\"#f0f921\"]],\"sequentialminus\":[[0.0,\"#0d0887\"],[0.1111111111111111,\"#46039f\"],[0.2222222222222222,\"#7201a8\"],[0.3333333333333333,\"#9c179e\"],[0.4444444444444444,\"#bd3786\"],[0.5555555555555556,\"#d8576b\"],[0.6666666666666666,\"#ed7953\"],[0.7777777777777778,\"#fb9f3a\"],[0.8888888888888888,\"#fdca26\"],[1.0,\"#f0f921\"]]},\"colorway\":[\"#636efa\",\"#EF553B\",\"#00cc96\",\"#ab63fa\",\"#FFA15A\",\"#19d3f3\",\"#FF6692\",\"#B6E880\",\"#FF97FF\",\"#FECB52\"],\"font\":{\"color\":\"#2a3f5f\"},\"geo\":{\"bgcolor\":\"white\",\"lakecolor\":\"white\",\"landcolor\":\"#E5ECF6\",\"showlakes\":true,\"showland\":true,\"subunitcolor\":\"white\"},\"hoverlabel\":{\"align\":\"left\"},\"hovermode\":\"closest\",\"mapbox\":{\"style\":\"light\"},\"paper_bgcolor\":\"white\",\"plot_bgcolor\":\"#E5ECF6\",\"polar\":{\"angularaxis\":{\"gridcolor\":\"white\",\"linecolor\":\"white\",\"ticks\":\"\"},\"bgcolor\":\"#E5ECF6\",\"radialaxis\":{\"gridcolor\":\"white\",\"linecolor\":\"white\",\"ticks\":\"\"}},\"scene\":{\"xaxis\":{\"backgroundcolor\":\"#E5ECF6\",\"gridcolor\":\"white\",\"gridwidth\":2,\"linecolor\":\"white\",\"showbackground\":true,\"ticks\":\"\",\"zerolinecolor\":\"white\"},\"yaxis\":{\"backgroundcolor\":\"#E5ECF6\",\"gridcolor\":\"white\",\"gridwidth\":2,\"linecolor\":\"white\",\"showbackground\":true,\"ticks\":\"\",\"zerolinecolor\":\"white\"},\"zaxis\":{\"backgroundcolor\":\"#E5ECF6\",\"gridcolor\":\"white\",\"gridwidth\":2,\"linecolor\":\"white\",\"showbackground\":true,\"ticks\":\"\",\"zerolinecolor\":\"white\"}},\"shapedefaults\":{\"line\":{\"color\":\"#2a3f5f\"}},\"ternary\":{\"aaxis\":{\"gridcolor\":\"white\",\"linecolor\":\"white\",\"ticks\":\"\"},\"baxis\":{\"gridcolor\":\"white\",\"linecolor\":\"white\",\"ticks\":\"\"},\"bgcolor\":\"#E5ECF6\",\"caxis\":{\"gridcolor\":\"white\",\"linecolor\":\"white\",\"ticks\":\"\"}},\"title\":{\"x\":0.05},\"xaxis\":{\"automargin\":true,\"gridcolor\":\"white\",\"linecolor\":\"white\",\"ticks\":\"\",\"title\":{\"standoff\":15},\"zerolinecolor\":\"white\",\"zerolinewidth\":2},\"yaxis\":{\"automargin\":true,\"gridcolor\":\"white\",\"linecolor\":\"white\",\"ticks\":\"\",\"title\":{\"standoff\":15},\"zerolinecolor\":\"white\",\"zerolinewidth\":2}}},\"title\":{\"font\":{\"color\":\"#D9D9D9\"}},\"xaxis\":{\"gridcolor\":\"#434343\",\"showgrid\":true,\"tickfont\":{\"color\":\"#C2C2C2\"},\"title\":{\"font\":{\"color\":\"#D9D9D9\"},\"text\":\"\"},\"zerolinecolor\":\"#666570\"},\"yaxis\":{\"gridcolor\":\"#434343\",\"showgrid\":true,\"tickfont\":{\"color\":\"#C2C2C2\"},\"title\":{\"font\":{\"color\":\"#D9D9D9\"},\"text\":\"\"},\"zerolinecolor\":\"#666570\"}},                        {\"showLink\": true, \"linkText\": \"Export to plot.ly\", \"plotlyServerURL\": \"https://plot.ly\", \"responsive\": true}                    ).then(function(){\n",
       "                            \n",
       "var gd = document.getElementById('ab2ad360-9bcd-4cb7-80c3-04ea6843a662');\n",
       "var x = new MutationObserver(function (mutations, observer) {{\n",
       "        var display = window.getComputedStyle(gd).display;\n",
       "        if (!display || display === 'none') {{\n",
       "            console.log([gd, 'removed!']);\n",
       "            Plotly.purge(gd);\n",
       "            observer.disconnect();\n",
       "        }}\n",
       "}});\n",
       "\n",
       "// Listen for the removal of the full notebook cells\n",
       "var notebookContainer = gd.closest('#notebook-container');\n",
       "if (notebookContainer) {{\n",
       "    x.observe(notebookContainer, {childList: true});\n",
       "}}\n",
       "\n",
       "// Listen for the clearing of the current output cell\n",
       "var outputEl = gd.closest('.output');\n",
       "if (outputEl) {{\n",
       "    x.observe(outputEl, {childList: true});\n",
       "}}\n",
       "\n",
       "                        })                };                });            </script>        </div>"
      ]
     },
     "metadata": {}
    }
   ],
   "metadata": {
    "execution": {
     "iopub.execute_input": "2021-09-04T16:00:25.821059Z",
     "iopub.status.busy": "2021-09-04T16:00:25.820449Z",
     "iopub.status.idle": "2021-09-04T16:00:26.127613Z",
     "shell.execute_reply": "2021-09-04T16:00:26.125362Z",
     "shell.execute_reply.started": "2021-09-04T16:00:25.820989Z"
    },
    "tags": []
   }
  },
  {
   "cell_type": "markdown",
   "source": [
    "#### Predicción"
   ],
   "metadata": {}
  },
  {
   "cell_type": "code",
   "execution_count": 40,
   "source": [
    "loss, *metrics = model.evaluate([Xtitle_test, Xcontent_test, Xfeatures_test], y_test)"
   ],
   "outputs": [
    {
     "output_type": "stream",
     "name": "stdout",
     "text": [
      "1/1 [==============================] - 0s 29ms/step - loss: 0.1459 - rms: 0.2554 - mae: 0.1459 - pema: 170.9048\n"
     ]
    }
   ],
   "metadata": {
    "execution": {
     "iopub.execute_input": "2021-09-04T16:01:26.440880Z",
     "iopub.status.busy": "2021-09-04T16:01:26.440620Z",
     "iopub.status.idle": "2021-09-04T16:01:27.012184Z",
     "shell.execute_reply": "2021-09-04T16:01:27.011055Z",
     "shell.execute_reply.started": "2021-09-04T16:01:26.440849Z"
    },
    "tags": []
   }
  },
  {
   "cell_type": "code",
   "execution_count": 41,
   "source": [
    "loss, metrics"
   ],
   "outputs": [
    {
     "output_type": "execute_result",
     "data": {
      "text/plain": [
       "(0.14591509103775024,\n",
       " [0.2553984522819519, 0.14591509103775024, 170.90476989746094])"
      ]
     },
     "metadata": {},
     "execution_count": 41
    }
   ],
   "metadata": {
    "execution": {
     "iopub.execute_input": "2021-09-04T16:01:57.305942Z",
     "iopub.status.busy": "2021-09-04T16:01:57.305678Z",
     "iopub.status.idle": "2021-09-04T16:01:57.311874Z",
     "shell.execute_reply": "2021-09-04T16:01:57.310821Z",
     "shell.execute_reply.started": "2021-09-04T16:01:57.305912Z"
    }
   }
  },
  {
   "cell_type": "code",
   "execution_count": 42,
   "source": [
    "y_true = sc.inverse_transform(np.expand_dims(y_test, axis=1))\n",
    "y_pred = sc.inverse_transform(model.predict([Xtitle_test, Xcontent_test, Xfeatures_test]))\n",
    "pd.DataFrame(zip(y_true.ravel(), y_pred.ravel())).iplot(kind=\"histogram\", histnorm=\"probability density\", theme=\"solar\")"
   ],
   "outputs": [
    {
     "output_type": "display_data",
     "data": {
      "application/vnd.plotly.v1+json": {
       "config": {
        "linkText": "Export to plot.ly",
        "plotlyServerURL": "https://plot.ly",
        "showLink": true
       },
       "data": [
        {
         "histfunc": "count",
         "histnorm": "probability density",
         "marker": {
          "color": "rgba(255, 153, 51, 1.0)",
          "line": {
           "color": "#D9D9D9",
           "width": 1.3
          }
         },
         "name": "0",
         "opacity": 0.8,
         "orientation": "v",
         "type": "histogram",
         "x": [
          1.5139573070607553,
          65,
          17.171717171717173,
          2.186588921282799,
          1.5214384508990317,
          8.009708737864077,
          2.8425655976676385,
          8.94308943089431,
          7.792207792207792,
          12.06030150753769,
          8.571428571428571,
          7.293666026871401,
          4.380664652567976,
          1.9370932754880694,
          2.8017241379310347,
          26.35135135135135,
          67.44186046511628,
          5.706521739130435,
          1.382228490832158,
          20.792079207920793,
          28.294573643410853,
          26.234567901234566,
          3.665024630541872,
          8.666666666666666,
          5.0761421319796955,
          5.527638190954774,
          31.818181818181817,
          4,
          3.5608308605341246,
          9.615384615384615
         ]
        },
        {
         "histfunc": "count",
         "histnorm": "probability density",
         "marker": {
          "color": "rgba(55, 128, 191, 1.0)",
          "line": {
           "color": "#D9D9D9",
           "width": 1.3
          }
         },
         "name": "1",
         "opacity": 0.8,
         "orientation": "v",
         "type": "histogram",
         "x": [
          5.896193027496338,
          9.896415710449219,
          7.509632587432861,
          3.054816484451294,
          1.55623459815979,
          12.043340682983398,
          9.261037826538086,
          10.473823547363281,
          9.795917510986328,
          16.75845718383789,
          5.679978847503662,
          6.437633037567139,
          2.3897576332092285,
          9.820651054382324,
          7.918666839599609,
          10.444150924682617,
          10.947936058044434,
          10.929556846618652,
          9.147311210632324,
          8.618219375610352,
          9.44854736328125,
          2.101734161376953,
          4.1532135009765625,
          5.301004409790039,
          9.863678932189941,
          3.7067389488220215,
          5.20656681060791,
          5.850992679595947,
          6.770252227783203,
          7.5717692375183105
         ]
        }
       ],
       "layout": {
        "barmode": "overlay",
        "legend": {
         "bgcolor": "#151516",
         "font": {
          "color": "#D9D9D9"
         }
        },
        "paper_bgcolor": "#151516",
        "plot_bgcolor": "#151516",
        "template": {
         "data": {
          "bar": [
           {
            "error_x": {
             "color": "#2a3f5f"
            },
            "error_y": {
             "color": "#2a3f5f"
            },
            "marker": {
             "line": {
              "color": "#E5ECF6",
              "width": 0.5
             },
             "pattern": {
              "fillmode": "overlay",
              "size": 10,
              "solidity": 0.2
             }
            },
            "type": "bar"
           }
          ],
          "barpolar": [
           {
            "marker": {
             "line": {
              "color": "#E5ECF6",
              "width": 0.5
             },
             "pattern": {
              "fillmode": "overlay",
              "size": 10,
              "solidity": 0.2
             }
            },
            "type": "barpolar"
           }
          ],
          "carpet": [
           {
            "aaxis": {
             "endlinecolor": "#2a3f5f",
             "gridcolor": "white",
             "linecolor": "white",
             "minorgridcolor": "white",
             "startlinecolor": "#2a3f5f"
            },
            "baxis": {
             "endlinecolor": "#2a3f5f",
             "gridcolor": "white",
             "linecolor": "white",
             "minorgridcolor": "white",
             "startlinecolor": "#2a3f5f"
            },
            "type": "carpet"
           }
          ],
          "choropleth": [
           {
            "colorbar": {
             "outlinewidth": 0,
             "ticks": ""
            },
            "type": "choropleth"
           }
          ],
          "contour": [
           {
            "colorbar": {
             "outlinewidth": 0,
             "ticks": ""
            },
            "colorscale": [
             [
              0,
              "#0d0887"
             ],
             [
              0.1111111111111111,
              "#46039f"
             ],
             [
              0.2222222222222222,
              "#7201a8"
             ],
             [
              0.3333333333333333,
              "#9c179e"
             ],
             [
              0.4444444444444444,
              "#bd3786"
             ],
             [
              0.5555555555555556,
              "#d8576b"
             ],
             [
              0.6666666666666666,
              "#ed7953"
             ],
             [
              0.7777777777777778,
              "#fb9f3a"
             ],
             [
              0.8888888888888888,
              "#fdca26"
             ],
             [
              1,
              "#f0f921"
             ]
            ],
            "type": "contour"
           }
          ],
          "contourcarpet": [
           {
            "colorbar": {
             "outlinewidth": 0,
             "ticks": ""
            },
            "type": "contourcarpet"
           }
          ],
          "heatmap": [
           {
            "colorbar": {
             "outlinewidth": 0,
             "ticks": ""
            },
            "colorscale": [
             [
              0,
              "#0d0887"
             ],
             [
              0.1111111111111111,
              "#46039f"
             ],
             [
              0.2222222222222222,
              "#7201a8"
             ],
             [
              0.3333333333333333,
              "#9c179e"
             ],
             [
              0.4444444444444444,
              "#bd3786"
             ],
             [
              0.5555555555555556,
              "#d8576b"
             ],
             [
              0.6666666666666666,
              "#ed7953"
             ],
             [
              0.7777777777777778,
              "#fb9f3a"
             ],
             [
              0.8888888888888888,
              "#fdca26"
             ],
             [
              1,
              "#f0f921"
             ]
            ],
            "type": "heatmap"
           }
          ],
          "heatmapgl": [
           {
            "colorbar": {
             "outlinewidth": 0,
             "ticks": ""
            },
            "colorscale": [
             [
              0,
              "#0d0887"
             ],
             [
              0.1111111111111111,
              "#46039f"
             ],
             [
              0.2222222222222222,
              "#7201a8"
             ],
             [
              0.3333333333333333,
              "#9c179e"
             ],
             [
              0.4444444444444444,
              "#bd3786"
             ],
             [
              0.5555555555555556,
              "#d8576b"
             ],
             [
              0.6666666666666666,
              "#ed7953"
             ],
             [
              0.7777777777777778,
              "#fb9f3a"
             ],
             [
              0.8888888888888888,
              "#fdca26"
             ],
             [
              1,
              "#f0f921"
             ]
            ],
            "type": "heatmapgl"
           }
          ],
          "histogram": [
           {
            "marker": {
             "pattern": {
              "fillmode": "overlay",
              "size": 10,
              "solidity": 0.2
             }
            },
            "type": "histogram"
           }
          ],
          "histogram2d": [
           {
            "colorbar": {
             "outlinewidth": 0,
             "ticks": ""
            },
            "colorscale": [
             [
              0,
              "#0d0887"
             ],
             [
              0.1111111111111111,
              "#46039f"
             ],
             [
              0.2222222222222222,
              "#7201a8"
             ],
             [
              0.3333333333333333,
              "#9c179e"
             ],
             [
              0.4444444444444444,
              "#bd3786"
             ],
             [
              0.5555555555555556,
              "#d8576b"
             ],
             [
              0.6666666666666666,
              "#ed7953"
             ],
             [
              0.7777777777777778,
              "#fb9f3a"
             ],
             [
              0.8888888888888888,
              "#fdca26"
             ],
             [
              1,
              "#f0f921"
             ]
            ],
            "type": "histogram2d"
           }
          ],
          "histogram2dcontour": [
           {
            "colorbar": {
             "outlinewidth": 0,
             "ticks": ""
            },
            "colorscale": [
             [
              0,
              "#0d0887"
             ],
             [
              0.1111111111111111,
              "#46039f"
             ],
             [
              0.2222222222222222,
              "#7201a8"
             ],
             [
              0.3333333333333333,
              "#9c179e"
             ],
             [
              0.4444444444444444,
              "#bd3786"
             ],
             [
              0.5555555555555556,
              "#d8576b"
             ],
             [
              0.6666666666666666,
              "#ed7953"
             ],
             [
              0.7777777777777778,
              "#fb9f3a"
             ],
             [
              0.8888888888888888,
              "#fdca26"
             ],
             [
              1,
              "#f0f921"
             ]
            ],
            "type": "histogram2dcontour"
           }
          ],
          "mesh3d": [
           {
            "colorbar": {
             "outlinewidth": 0,
             "ticks": ""
            },
            "type": "mesh3d"
           }
          ],
          "parcoords": [
           {
            "line": {
             "colorbar": {
              "outlinewidth": 0,
              "ticks": ""
             }
            },
            "type": "parcoords"
           }
          ],
          "pie": [
           {
            "automargin": true,
            "type": "pie"
           }
          ],
          "scatter": [
           {
            "marker": {
             "colorbar": {
              "outlinewidth": 0,
              "ticks": ""
             }
            },
            "type": "scatter"
           }
          ],
          "scatter3d": [
           {
            "line": {
             "colorbar": {
              "outlinewidth": 0,
              "ticks": ""
             }
            },
            "marker": {
             "colorbar": {
              "outlinewidth": 0,
              "ticks": ""
             }
            },
            "type": "scatter3d"
           }
          ],
          "scattercarpet": [
           {
            "marker": {
             "colorbar": {
              "outlinewidth": 0,
              "ticks": ""
             }
            },
            "type": "scattercarpet"
           }
          ],
          "scattergeo": [
           {
            "marker": {
             "colorbar": {
              "outlinewidth": 0,
              "ticks": ""
             }
            },
            "type": "scattergeo"
           }
          ],
          "scattergl": [
           {
            "marker": {
             "colorbar": {
              "outlinewidth": 0,
              "ticks": ""
             }
            },
            "type": "scattergl"
           }
          ],
          "scattermapbox": [
           {
            "marker": {
             "colorbar": {
              "outlinewidth": 0,
              "ticks": ""
             }
            },
            "type": "scattermapbox"
           }
          ],
          "scatterpolar": [
           {
            "marker": {
             "colorbar": {
              "outlinewidth": 0,
              "ticks": ""
             }
            },
            "type": "scatterpolar"
           }
          ],
          "scatterpolargl": [
           {
            "marker": {
             "colorbar": {
              "outlinewidth": 0,
              "ticks": ""
             }
            },
            "type": "scatterpolargl"
           }
          ],
          "scatterternary": [
           {
            "marker": {
             "colorbar": {
              "outlinewidth": 0,
              "ticks": ""
             }
            },
            "type": "scatterternary"
           }
          ],
          "surface": [
           {
            "colorbar": {
             "outlinewidth": 0,
             "ticks": ""
            },
            "colorscale": [
             [
              0,
              "#0d0887"
             ],
             [
              0.1111111111111111,
              "#46039f"
             ],
             [
              0.2222222222222222,
              "#7201a8"
             ],
             [
              0.3333333333333333,
              "#9c179e"
             ],
             [
              0.4444444444444444,
              "#bd3786"
             ],
             [
              0.5555555555555556,
              "#d8576b"
             ],
             [
              0.6666666666666666,
              "#ed7953"
             ],
             [
              0.7777777777777778,
              "#fb9f3a"
             ],
             [
              0.8888888888888888,
              "#fdca26"
             ],
             [
              1,
              "#f0f921"
             ]
            ],
            "type": "surface"
           }
          ],
          "table": [
           {
            "cells": {
             "fill": {
              "color": "#EBF0F8"
             },
             "line": {
              "color": "white"
             }
            },
            "header": {
             "fill": {
              "color": "#C8D4E3"
             },
             "line": {
              "color": "white"
             }
            },
            "type": "table"
           }
          ]
         },
         "layout": {
          "annotationdefaults": {
           "arrowcolor": "#2a3f5f",
           "arrowhead": 0,
           "arrowwidth": 1
          },
          "autotypenumbers": "strict",
          "coloraxis": {
           "colorbar": {
            "outlinewidth": 0,
            "ticks": ""
           }
          },
          "colorscale": {
           "diverging": [
            [
             0,
             "#8e0152"
            ],
            [
             0.1,
             "#c51b7d"
            ],
            [
             0.2,
             "#de77ae"
            ],
            [
             0.3,
             "#f1b6da"
            ],
            [
             0.4,
             "#fde0ef"
            ],
            [
             0.5,
             "#f7f7f7"
            ],
            [
             0.6,
             "#e6f5d0"
            ],
            [
             0.7,
             "#b8e186"
            ],
            [
             0.8,
             "#7fbc41"
            ],
            [
             0.9,
             "#4d9221"
            ],
            [
             1,
             "#276419"
            ]
           ],
           "sequential": [
            [
             0,
             "#0d0887"
            ],
            [
             0.1111111111111111,
             "#46039f"
            ],
            [
             0.2222222222222222,
             "#7201a8"
            ],
            [
             0.3333333333333333,
             "#9c179e"
            ],
            [
             0.4444444444444444,
             "#bd3786"
            ],
            [
             0.5555555555555556,
             "#d8576b"
            ],
            [
             0.6666666666666666,
             "#ed7953"
            ],
            [
             0.7777777777777778,
             "#fb9f3a"
            ],
            [
             0.8888888888888888,
             "#fdca26"
            ],
            [
             1,
             "#f0f921"
            ]
           ],
           "sequentialminus": [
            [
             0,
             "#0d0887"
            ],
            [
             0.1111111111111111,
             "#46039f"
            ],
            [
             0.2222222222222222,
             "#7201a8"
            ],
            [
             0.3333333333333333,
             "#9c179e"
            ],
            [
             0.4444444444444444,
             "#bd3786"
            ],
            [
             0.5555555555555556,
             "#d8576b"
            ],
            [
             0.6666666666666666,
             "#ed7953"
            ],
            [
             0.7777777777777778,
             "#fb9f3a"
            ],
            [
             0.8888888888888888,
             "#fdca26"
            ],
            [
             1,
             "#f0f921"
            ]
           ]
          },
          "colorway": [
           "#636efa",
           "#EF553B",
           "#00cc96",
           "#ab63fa",
           "#FFA15A",
           "#19d3f3",
           "#FF6692",
           "#B6E880",
           "#FF97FF",
           "#FECB52"
          ],
          "font": {
           "color": "#2a3f5f"
          },
          "geo": {
           "bgcolor": "white",
           "lakecolor": "white",
           "landcolor": "#E5ECF6",
           "showlakes": true,
           "showland": true,
           "subunitcolor": "white"
          },
          "hoverlabel": {
           "align": "left"
          },
          "hovermode": "closest",
          "mapbox": {
           "style": "light"
          },
          "paper_bgcolor": "white",
          "plot_bgcolor": "#E5ECF6",
          "polar": {
           "angularaxis": {
            "gridcolor": "white",
            "linecolor": "white",
            "ticks": ""
           },
           "bgcolor": "#E5ECF6",
           "radialaxis": {
            "gridcolor": "white",
            "linecolor": "white",
            "ticks": ""
           }
          },
          "scene": {
           "xaxis": {
            "backgroundcolor": "#E5ECF6",
            "gridcolor": "white",
            "gridwidth": 2,
            "linecolor": "white",
            "showbackground": true,
            "ticks": "",
            "zerolinecolor": "white"
           },
           "yaxis": {
            "backgroundcolor": "#E5ECF6",
            "gridcolor": "white",
            "gridwidth": 2,
            "linecolor": "white",
            "showbackground": true,
            "ticks": "",
            "zerolinecolor": "white"
           },
           "zaxis": {
            "backgroundcolor": "#E5ECF6",
            "gridcolor": "white",
            "gridwidth": 2,
            "linecolor": "white",
            "showbackground": true,
            "ticks": "",
            "zerolinecolor": "white"
           }
          },
          "shapedefaults": {
           "line": {
            "color": "#2a3f5f"
           }
          },
          "ternary": {
           "aaxis": {
            "gridcolor": "white",
            "linecolor": "white",
            "ticks": ""
           },
           "baxis": {
            "gridcolor": "white",
            "linecolor": "white",
            "ticks": ""
           },
           "bgcolor": "#E5ECF6",
           "caxis": {
            "gridcolor": "white",
            "linecolor": "white",
            "ticks": ""
           }
          },
          "title": {
           "x": 0.05
          },
          "xaxis": {
           "automargin": true,
           "gridcolor": "white",
           "linecolor": "white",
           "ticks": "",
           "title": {
            "standoff": 15
           },
           "zerolinecolor": "white",
           "zerolinewidth": 2
          },
          "yaxis": {
           "automargin": true,
           "gridcolor": "white",
           "linecolor": "white",
           "ticks": "",
           "title": {
            "standoff": 15
           },
           "zerolinecolor": "white",
           "zerolinewidth": 2
          }
         }
        },
        "title": {
         "font": {
          "color": "#D9D9D9"
         }
        },
        "xaxis": {
         "gridcolor": "#434343",
         "showgrid": true,
         "tickfont": {
          "color": "#C2C2C2"
         },
         "title": {
          "font": {
           "color": "#D9D9D9"
          },
          "text": ""
         },
         "zerolinecolor": "#666570"
        },
        "yaxis": {
         "gridcolor": "#434343",
         "showgrid": true,
         "tickfont": {
          "color": "#C2C2C2"
         },
         "title": {
          "font": {
           "color": "#D9D9D9"
          },
          "text": ""
         },
         "zerolinecolor": "#666570"
        }
       }
      },
      "text/html": [
       "<div>                            <div id=\"8c1caad6-e032-4556-b999-e03bfbf9d9f1\" class=\"plotly-graph-div\" style=\"height:525px; width:100%;\"></div>            <script type=\"text/javascript\">                require([\"plotly\"], function(Plotly) {                    window.PLOTLYENV=window.PLOTLYENV || {};\n",
       "                    window.PLOTLYENV.BASE_URL='https://plot.ly';                                    if (document.getElementById(\"8c1caad6-e032-4556-b999-e03bfbf9d9f1\")) {                    Plotly.newPlot(                        \"8c1caad6-e032-4556-b999-e03bfbf9d9f1\",                        [{\"histfunc\":\"count\",\"histnorm\":\"probability density\",\"marker\":{\"color\":\"rgba(255, 153, 51, 1.0)\",\"line\":{\"color\":\"#D9D9D9\",\"width\":1.3}},\"name\":\"0\",\"opacity\":0.8,\"orientation\":\"v\",\"type\":\"histogram\",\"x\":[1.5139573070607553,65.0,17.171717171717173,2.186588921282799,1.5214384508990317,8.009708737864077,2.8425655976676385,8.94308943089431,7.792207792207792,12.06030150753769,8.571428571428571,7.293666026871401,4.380664652567976,1.9370932754880694,2.8017241379310347,26.35135135135135,67.44186046511628,5.706521739130435,1.382228490832158,20.792079207920793,28.294573643410853,26.234567901234566,3.665024630541872,8.666666666666666,5.0761421319796955,5.527638190954774,31.818181818181817,4.0,3.5608308605341246,9.615384615384615]},{\"histfunc\":\"count\",\"histnorm\":\"probability density\",\"marker\":{\"color\":\"rgba(55, 128, 191, 1.0)\",\"line\":{\"color\":\"#D9D9D9\",\"width\":1.3}},\"name\":\"1\",\"opacity\":0.8,\"orientation\":\"v\",\"type\":\"histogram\",\"x\":[5.896193027496338,9.896415710449219,7.509632587432861,3.054816484451294,1.55623459815979,12.043340682983398,9.261037826538086,10.473823547363281,9.795917510986328,16.75845718383789,5.679978847503662,6.437633037567139,2.3897576332092285,9.820651054382324,7.918666839599609,10.444150924682617,10.947936058044434,10.929556846618652,9.147311210632324,8.618219375610352,9.44854736328125,2.101734161376953,4.1532135009765625,5.301004409790039,9.863678932189941,3.7067389488220215,5.20656681060791,5.850992679595947,6.770252227783203,7.5717692375183105]}],                        {\"barmode\":\"overlay\",\"legend\":{\"bgcolor\":\"#151516\",\"font\":{\"color\":\"#D9D9D9\"}},\"paper_bgcolor\":\"#151516\",\"plot_bgcolor\":\"#151516\",\"template\":{\"data\":{\"bar\":[{\"error_x\":{\"color\":\"#2a3f5f\"},\"error_y\":{\"color\":\"#2a3f5f\"},\"marker\":{\"line\":{\"color\":\"#E5ECF6\",\"width\":0.5},\"pattern\":{\"fillmode\":\"overlay\",\"size\":10,\"solidity\":0.2}},\"type\":\"bar\"}],\"barpolar\":[{\"marker\":{\"line\":{\"color\":\"#E5ECF6\",\"width\":0.5},\"pattern\":{\"fillmode\":\"overlay\",\"size\":10,\"solidity\":0.2}},\"type\":\"barpolar\"}],\"carpet\":[{\"aaxis\":{\"endlinecolor\":\"#2a3f5f\",\"gridcolor\":\"white\",\"linecolor\":\"white\",\"minorgridcolor\":\"white\",\"startlinecolor\":\"#2a3f5f\"},\"baxis\":{\"endlinecolor\":\"#2a3f5f\",\"gridcolor\":\"white\",\"linecolor\":\"white\",\"minorgridcolor\":\"white\",\"startlinecolor\":\"#2a3f5f\"},\"type\":\"carpet\"}],\"choropleth\":[{\"colorbar\":{\"outlinewidth\":0,\"ticks\":\"\"},\"type\":\"choropleth\"}],\"contour\":[{\"colorbar\":{\"outlinewidth\":0,\"ticks\":\"\"},\"colorscale\":[[0.0,\"#0d0887\"],[0.1111111111111111,\"#46039f\"],[0.2222222222222222,\"#7201a8\"],[0.3333333333333333,\"#9c179e\"],[0.4444444444444444,\"#bd3786\"],[0.5555555555555556,\"#d8576b\"],[0.6666666666666666,\"#ed7953\"],[0.7777777777777778,\"#fb9f3a\"],[0.8888888888888888,\"#fdca26\"],[1.0,\"#f0f921\"]],\"type\":\"contour\"}],\"contourcarpet\":[{\"colorbar\":{\"outlinewidth\":0,\"ticks\":\"\"},\"type\":\"contourcarpet\"}],\"heatmap\":[{\"colorbar\":{\"outlinewidth\":0,\"ticks\":\"\"},\"colorscale\":[[0.0,\"#0d0887\"],[0.1111111111111111,\"#46039f\"],[0.2222222222222222,\"#7201a8\"],[0.3333333333333333,\"#9c179e\"],[0.4444444444444444,\"#bd3786\"],[0.5555555555555556,\"#d8576b\"],[0.6666666666666666,\"#ed7953\"],[0.7777777777777778,\"#fb9f3a\"],[0.8888888888888888,\"#fdca26\"],[1.0,\"#f0f921\"]],\"type\":\"heatmap\"}],\"heatmapgl\":[{\"colorbar\":{\"outlinewidth\":0,\"ticks\":\"\"},\"colorscale\":[[0.0,\"#0d0887\"],[0.1111111111111111,\"#46039f\"],[0.2222222222222222,\"#7201a8\"],[0.3333333333333333,\"#9c179e\"],[0.4444444444444444,\"#bd3786\"],[0.5555555555555556,\"#d8576b\"],[0.6666666666666666,\"#ed7953\"],[0.7777777777777778,\"#fb9f3a\"],[0.8888888888888888,\"#fdca26\"],[1.0,\"#f0f921\"]],\"type\":\"heatmapgl\"}],\"histogram\":[{\"marker\":{\"pattern\":{\"fillmode\":\"overlay\",\"size\":10,\"solidity\":0.2}},\"type\":\"histogram\"}],\"histogram2d\":[{\"colorbar\":{\"outlinewidth\":0,\"ticks\":\"\"},\"colorscale\":[[0.0,\"#0d0887\"],[0.1111111111111111,\"#46039f\"],[0.2222222222222222,\"#7201a8\"],[0.3333333333333333,\"#9c179e\"],[0.4444444444444444,\"#bd3786\"],[0.5555555555555556,\"#d8576b\"],[0.6666666666666666,\"#ed7953\"],[0.7777777777777778,\"#fb9f3a\"],[0.8888888888888888,\"#fdca26\"],[1.0,\"#f0f921\"]],\"type\":\"histogram2d\"}],\"histogram2dcontour\":[{\"colorbar\":{\"outlinewidth\":0,\"ticks\":\"\"},\"colorscale\":[[0.0,\"#0d0887\"],[0.1111111111111111,\"#46039f\"],[0.2222222222222222,\"#7201a8\"],[0.3333333333333333,\"#9c179e\"],[0.4444444444444444,\"#bd3786\"],[0.5555555555555556,\"#d8576b\"],[0.6666666666666666,\"#ed7953\"],[0.7777777777777778,\"#fb9f3a\"],[0.8888888888888888,\"#fdca26\"],[1.0,\"#f0f921\"]],\"type\":\"histogram2dcontour\"}],\"mesh3d\":[{\"colorbar\":{\"outlinewidth\":0,\"ticks\":\"\"},\"type\":\"mesh3d\"}],\"parcoords\":[{\"line\":{\"colorbar\":{\"outlinewidth\":0,\"ticks\":\"\"}},\"type\":\"parcoords\"}],\"pie\":[{\"automargin\":true,\"type\":\"pie\"}],\"scatter\":[{\"marker\":{\"colorbar\":{\"outlinewidth\":0,\"ticks\":\"\"}},\"type\":\"scatter\"}],\"scatter3d\":[{\"line\":{\"colorbar\":{\"outlinewidth\":0,\"ticks\":\"\"}},\"marker\":{\"colorbar\":{\"outlinewidth\":0,\"ticks\":\"\"}},\"type\":\"scatter3d\"}],\"scattercarpet\":[{\"marker\":{\"colorbar\":{\"outlinewidth\":0,\"ticks\":\"\"}},\"type\":\"scattercarpet\"}],\"scattergeo\":[{\"marker\":{\"colorbar\":{\"outlinewidth\":0,\"ticks\":\"\"}},\"type\":\"scattergeo\"}],\"scattergl\":[{\"marker\":{\"colorbar\":{\"outlinewidth\":0,\"ticks\":\"\"}},\"type\":\"scattergl\"}],\"scattermapbox\":[{\"marker\":{\"colorbar\":{\"outlinewidth\":0,\"ticks\":\"\"}},\"type\":\"scattermapbox\"}],\"scatterpolar\":[{\"marker\":{\"colorbar\":{\"outlinewidth\":0,\"ticks\":\"\"}},\"type\":\"scatterpolar\"}],\"scatterpolargl\":[{\"marker\":{\"colorbar\":{\"outlinewidth\":0,\"ticks\":\"\"}},\"type\":\"scatterpolargl\"}],\"scatterternary\":[{\"marker\":{\"colorbar\":{\"outlinewidth\":0,\"ticks\":\"\"}},\"type\":\"scatterternary\"}],\"surface\":[{\"colorbar\":{\"outlinewidth\":0,\"ticks\":\"\"},\"colorscale\":[[0.0,\"#0d0887\"],[0.1111111111111111,\"#46039f\"],[0.2222222222222222,\"#7201a8\"],[0.3333333333333333,\"#9c179e\"],[0.4444444444444444,\"#bd3786\"],[0.5555555555555556,\"#d8576b\"],[0.6666666666666666,\"#ed7953\"],[0.7777777777777778,\"#fb9f3a\"],[0.8888888888888888,\"#fdca26\"],[1.0,\"#f0f921\"]],\"type\":\"surface\"}],\"table\":[{\"cells\":{\"fill\":{\"color\":\"#EBF0F8\"},\"line\":{\"color\":\"white\"}},\"header\":{\"fill\":{\"color\":\"#C8D4E3\"},\"line\":{\"color\":\"white\"}},\"type\":\"table\"}]},\"layout\":{\"annotationdefaults\":{\"arrowcolor\":\"#2a3f5f\",\"arrowhead\":0,\"arrowwidth\":1},\"autotypenumbers\":\"strict\",\"coloraxis\":{\"colorbar\":{\"outlinewidth\":0,\"ticks\":\"\"}},\"colorscale\":{\"diverging\":[[0,\"#8e0152\"],[0.1,\"#c51b7d\"],[0.2,\"#de77ae\"],[0.3,\"#f1b6da\"],[0.4,\"#fde0ef\"],[0.5,\"#f7f7f7\"],[0.6,\"#e6f5d0\"],[0.7,\"#b8e186\"],[0.8,\"#7fbc41\"],[0.9,\"#4d9221\"],[1,\"#276419\"]],\"sequential\":[[0.0,\"#0d0887\"],[0.1111111111111111,\"#46039f\"],[0.2222222222222222,\"#7201a8\"],[0.3333333333333333,\"#9c179e\"],[0.4444444444444444,\"#bd3786\"],[0.5555555555555556,\"#d8576b\"],[0.6666666666666666,\"#ed7953\"],[0.7777777777777778,\"#fb9f3a\"],[0.8888888888888888,\"#fdca26\"],[1.0,\"#f0f921\"]],\"sequentialminus\":[[0.0,\"#0d0887\"],[0.1111111111111111,\"#46039f\"],[0.2222222222222222,\"#7201a8\"],[0.3333333333333333,\"#9c179e\"],[0.4444444444444444,\"#bd3786\"],[0.5555555555555556,\"#d8576b\"],[0.6666666666666666,\"#ed7953\"],[0.7777777777777778,\"#fb9f3a\"],[0.8888888888888888,\"#fdca26\"],[1.0,\"#f0f921\"]]},\"colorway\":[\"#636efa\",\"#EF553B\",\"#00cc96\",\"#ab63fa\",\"#FFA15A\",\"#19d3f3\",\"#FF6692\",\"#B6E880\",\"#FF97FF\",\"#FECB52\"],\"font\":{\"color\":\"#2a3f5f\"},\"geo\":{\"bgcolor\":\"white\",\"lakecolor\":\"white\",\"landcolor\":\"#E5ECF6\",\"showlakes\":true,\"showland\":true,\"subunitcolor\":\"white\"},\"hoverlabel\":{\"align\":\"left\"},\"hovermode\":\"closest\",\"mapbox\":{\"style\":\"light\"},\"paper_bgcolor\":\"white\",\"plot_bgcolor\":\"#E5ECF6\",\"polar\":{\"angularaxis\":{\"gridcolor\":\"white\",\"linecolor\":\"white\",\"ticks\":\"\"},\"bgcolor\":\"#E5ECF6\",\"radialaxis\":{\"gridcolor\":\"white\",\"linecolor\":\"white\",\"ticks\":\"\"}},\"scene\":{\"xaxis\":{\"backgroundcolor\":\"#E5ECF6\",\"gridcolor\":\"white\",\"gridwidth\":2,\"linecolor\":\"white\",\"showbackground\":true,\"ticks\":\"\",\"zerolinecolor\":\"white\"},\"yaxis\":{\"backgroundcolor\":\"#E5ECF6\",\"gridcolor\":\"white\",\"gridwidth\":2,\"linecolor\":\"white\",\"showbackground\":true,\"ticks\":\"\",\"zerolinecolor\":\"white\"},\"zaxis\":{\"backgroundcolor\":\"#E5ECF6\",\"gridcolor\":\"white\",\"gridwidth\":2,\"linecolor\":\"white\",\"showbackground\":true,\"ticks\":\"\",\"zerolinecolor\":\"white\"}},\"shapedefaults\":{\"line\":{\"color\":\"#2a3f5f\"}},\"ternary\":{\"aaxis\":{\"gridcolor\":\"white\",\"linecolor\":\"white\",\"ticks\":\"\"},\"baxis\":{\"gridcolor\":\"white\",\"linecolor\":\"white\",\"ticks\":\"\"},\"bgcolor\":\"#E5ECF6\",\"caxis\":{\"gridcolor\":\"white\",\"linecolor\":\"white\",\"ticks\":\"\"}},\"title\":{\"x\":0.05},\"xaxis\":{\"automargin\":true,\"gridcolor\":\"white\",\"linecolor\":\"white\",\"ticks\":\"\",\"title\":{\"standoff\":15},\"zerolinecolor\":\"white\",\"zerolinewidth\":2},\"yaxis\":{\"automargin\":true,\"gridcolor\":\"white\",\"linecolor\":\"white\",\"ticks\":\"\",\"title\":{\"standoff\":15},\"zerolinecolor\":\"white\",\"zerolinewidth\":2}}},\"title\":{\"font\":{\"color\":\"#D9D9D9\"}},\"xaxis\":{\"gridcolor\":\"#434343\",\"showgrid\":true,\"tickfont\":{\"color\":\"#C2C2C2\"},\"title\":{\"font\":{\"color\":\"#D9D9D9\"},\"text\":\"\"},\"zerolinecolor\":\"#666570\"},\"yaxis\":{\"gridcolor\":\"#434343\",\"showgrid\":true,\"tickfont\":{\"color\":\"#C2C2C2\"},\"title\":{\"font\":{\"color\":\"#D9D9D9\"},\"text\":\"\"},\"zerolinecolor\":\"#666570\"}},                        {\"showLink\": true, \"linkText\": \"Export to plot.ly\", \"plotlyServerURL\": \"https://plot.ly\", \"responsive\": true}                    ).then(function(){\n",
       "                            \n",
       "var gd = document.getElementById('8c1caad6-e032-4556-b999-e03bfbf9d9f1');\n",
       "var x = new MutationObserver(function (mutations, observer) {{\n",
       "        var display = window.getComputedStyle(gd).display;\n",
       "        if (!display || display === 'none') {{\n",
       "            console.log([gd, 'removed!']);\n",
       "            Plotly.purge(gd);\n",
       "            observer.disconnect();\n",
       "        }}\n",
       "}});\n",
       "\n",
       "// Listen for the removal of the full notebook cells\n",
       "var notebookContainer = gd.closest('#notebook-container');\n",
       "if (notebookContainer) {{\n",
       "    x.observe(notebookContainer, {childList: true});\n",
       "}}\n",
       "\n",
       "// Listen for the clearing of the current output cell\n",
       "var outputEl = gd.closest('.output');\n",
       "if (outputEl) {{\n",
       "    x.observe(outputEl, {childList: true});\n",
       "}}\n",
       "\n",
       "                        })                };                });            </script>        </div>"
      ]
     },
     "metadata": {}
    }
   ],
   "metadata": {
    "execution": {
     "iopub.execute_input": "2021-09-04T16:02:59.051252Z",
     "iopub.status.busy": "2021-09-04T16:02:59.050963Z",
     "iopub.status.idle": "2021-09-04T16:02:59.142925Z",
     "shell.execute_reply": "2021-09-04T16:02:59.142321Z",
     "shell.execute_reply.started": "2021-09-04T16:02:59.051220Z"
    },
    "tags": []
   }
  },
  {
   "cell_type": "code",
   "execution_count": 43,
   "source": [
    "r2_score(y_pred=y_pred, y_true=y_true)"
   ],
   "outputs": [
    {
     "output_type": "execute_result",
     "data": {
      "text/plain": [
       "-0.06530814449568534"
      ]
     },
     "metadata": {},
     "execution_count": 43
    }
   ],
   "metadata": {
    "execution": {
     "iopub.execute_input": "2021-09-04T16:04:09.980769Z",
     "iopub.status.busy": "2021-09-04T16:04:09.980308Z",
     "iopub.status.idle": "2021-09-04T16:04:09.989217Z",
     "shell.execute_reply": "2021-09-04T16:04:09.987708Z",
     "shell.execute_reply.started": "2021-09-04T16:04:09.980722Z"
    },
    "tags": []
   }
  },
  {
   "cell_type": "markdown",
   "source": [
    "## Modelado no supervisado"
   ],
   "metadata": {}
  },
  {
   "cell_type": "markdown",
   "source": [
    "#### Ingeniería de datos \"profunda\""
   ],
   "metadata": {}
  },
  {
   "cell_type": "code",
   "execution_count": 44,
   "source": [
    "# Just changing the outputs to pre-last layer you'll have trained-weights so it could work as super-feature extraction!\n",
    "model_transformer = Model(inputs=[title_input, content_input, features_input], outputs=x)\n",
    "plot_model(model_transformer, \"model_transformer.png\", show_shapes=True)"
   ],
   "outputs": [
    {
     "output_type": "execute_result",
     "data": {
      "image/png": "[encoded data removed]",
      "text/plain": [
       "<IPython.core.display.Image object>"
      ]
     },
     "metadata": {},
     "execution_count": 44
    }
   ],
   "metadata": {
    "execution": {
     "iopub.execute_input": "2021-09-04T16:08:17.814254Z",
     "iopub.status.busy": "2021-09-04T16:08:17.813992Z",
     "iopub.status.idle": "2021-09-04T16:08:17.822057Z",
     "shell.execute_reply": "2021-09-04T16:08:17.821190Z",
     "shell.execute_reply.started": "2021-09-04T16:08:17.814224Z"
    },
    "tags": []
   }
  },
  {
   "cell_type": "code",
   "execution_count": 45,
   "source": [
    "X_input = [X_title, X_content, X_features]\n",
    "Xt = model_transformer.predict(X_input)\n",
    "Xt.shape"
   ],
   "outputs": [
    {
     "output_type": "execute_result",
     "data": {
      "text/plain": [
       "(100, 100)"
      ]
     },
     "metadata": {},
     "execution_count": 45
    }
   ],
   "metadata": {
    "execution": {
     "iopub.execute_input": "2021-09-04T16:09:37.289415Z",
     "iopub.status.busy": "2021-09-04T16:09:37.289128Z",
     "iopub.status.idle": "2021-09-04T16:09:39.442783Z",
     "shell.execute_reply": "2021-09-04T16:09:39.442147Z",
     "shell.execute_reply.started": "2021-09-04T16:09:37.289381Z"
    },
    "tags": []
   }
  },
  {
   "cell_type": "code",
   "execution_count": 46,
   "source": [
    "sc_x = MinMaxScaler()\n",
    "Xs = pd.DataFrame(data=sc_x.fit_transform(Xt), columns=[f\"x_{i}\" for i in range(Xt.shape[1])])\n",
    "Xs.sample()"
   ],
   "outputs": [
    {
     "output_type": "execute_result",
     "data": {
      "text/html": [
       "<div>\n",
       "<style scoped>\n",
       "    .dataframe tbody tr th:only-of-type {\n",
       "        vertical-align: middle;\n",
       "    }\n",
       "\n",
       "    .dataframe tbody tr th {\n",
       "        vertical-align: top;\n",
       "    }\n",
       "\n",
       "    .dataframe thead th {\n",
       "        text-align: right;\n",
       "    }\n",
       "</style>\n",
       "<table border=\"1\" class=\"dataframe\">\n",
       "  <thead>\n",
       "    <tr style=\"text-align: right;\">\n",
       "      <th></th>\n",
       "      <th>x_0</th>\n",
       "      <th>x_1</th>\n",
       "      <th>x_2</th>\n",
       "      <th>x_3</th>\n",
       "      <th>x_4</th>\n",
       "      <th>x_5</th>\n",
       "      <th>x_6</th>\n",
       "      <th>x_7</th>\n",
       "      <th>x_8</th>\n",
       "      <th>x_9</th>\n",
       "      <th>...</th>\n",
       "      <th>x_90</th>\n",
       "      <th>x_91</th>\n",
       "      <th>x_92</th>\n",
       "      <th>x_93</th>\n",
       "      <th>x_94</th>\n",
       "      <th>x_95</th>\n",
       "      <th>x_96</th>\n",
       "      <th>x_97</th>\n",
       "      <th>x_98</th>\n",
       "      <th>x_99</th>\n",
       "    </tr>\n",
       "  </thead>\n",
       "  <tbody>\n",
       "    <tr>\n",
       "      <th>88</th>\n",
       "      <td>0.580436</td>\n",
       "      <td>0.59232</td>\n",
       "      <td>0.55992</td>\n",
       "      <td>0.5492</td>\n",
       "      <td>0.664891</td>\n",
       "      <td>0.500741</td>\n",
       "      <td>0.618881</td>\n",
       "      <td>0.659772</td>\n",
       "      <td>0.566996</td>\n",
       "      <td>0.684155</td>\n",
       "      <td>...</td>\n",
       "      <td>0.355507</td>\n",
       "      <td>0.351931</td>\n",
       "      <td>0.708499</td>\n",
       "      <td>0.493526</td>\n",
       "      <td>0.508936</td>\n",
       "      <td>0.279589</td>\n",
       "      <td>0.674476</td>\n",
       "      <td>0.83115</td>\n",
       "      <td>0.21151</td>\n",
       "      <td>0.645671</td>\n",
       "    </tr>\n",
       "  </tbody>\n",
       "</table>\n",
       "<p>1 rows × 100 columns</p>\n",
       "</div>"
      ],
      "text/plain": [
       "         x_0      x_1      x_2     x_3       x_4       x_5       x_6  \\\n",
       "88  0.580436  0.59232  0.55992  0.5492  0.664891  0.500741  0.618881   \n",
       "\n",
       "         x_7       x_8       x_9  ...      x_90      x_91      x_92      x_93  \\\n",
       "88  0.659772  0.566996  0.684155  ...  0.355507  0.351931  0.708499  0.493526   \n",
       "\n",
       "        x_94      x_95      x_96     x_97     x_98      x_99  \n",
       "88  0.508936  0.279589  0.674476  0.83115  0.21151  0.645671  \n",
       "\n",
       "[1 rows x 100 columns]"
      ]
     },
     "metadata": {},
     "execution_count": 46
    }
   ],
   "metadata": {
    "ExecuteTime": {
     "end_time": "2021-04-16T00:51:21.923536Z",
     "start_time": "2021-04-16T00:51:21.908529Z"
    },
    "execution": {
     "iopub.execute_input": "2021-09-04T16:10:10.952954Z",
     "iopub.status.busy": "2021-09-04T16:10:10.952653Z",
     "iopub.status.idle": "2021-09-04T16:10:10.961098Z",
     "shell.execute_reply": "2021-09-04T16:10:10.960135Z",
     "shell.execute_reply.started": "2021-09-04T16:10:10.952920Z"
    }
   }
  },
  {
   "cell_type": "markdown",
   "source": [
    "### Visualización"
   ],
   "metadata": {}
  },
  {
   "cell_type": "code",
   "execution_count": 47,
   "source": [
    "pca = PCA(n_components=0.9)\n",
    "pca.fit(Xs)\n",
    "pca.n_components_"
   ],
   "outputs": [
    {
     "output_type": "execute_result",
     "data": {
      "text/plain": [
       "8"
      ]
     },
     "metadata": {},
     "execution_count": 47
    }
   ],
   "metadata": {
    "ExecuteTime": {
     "end_time": "2021-04-16T00:52:04.874939Z",
     "start_time": "2021-04-16T00:52:04.871740Z"
    },
    "execution": {
     "iopub.execute_input": "2021-09-04T16:11:29.885127Z",
     "iopub.status.busy": "2021-09-04T16:11:29.884913Z",
     "iopub.status.idle": "2021-09-04T16:11:29.888664Z",
     "shell.execute_reply": "2021-09-04T16:11:29.887684Z",
     "shell.execute_reply.started": "2021-09-04T16:11:29.885104Z"
    }
   }
  },
  {
   "cell_type": "code",
   "execution_count": 48,
   "source": [
    "pca.explained_variance_ratio_.cumsum()"
   ],
   "outputs": [
    {
     "output_type": "execute_result",
     "data": {
      "text/plain": [
       "array([0.35730702, 0.5232802 , 0.65878296, 0.7438217 , 0.8063557 ,\n",
       "       0.8559248 , 0.89757985, 0.934535  ], dtype=float32)"
      ]
     },
     "metadata": {},
     "execution_count": 48
    }
   ],
   "metadata": {
    "execution": {
     "iopub.execute_input": "2021-09-04T16:12:39.411592Z",
     "iopub.status.busy": "2021-09-04T16:12:39.411189Z",
     "iopub.status.idle": "2021-09-04T16:12:39.419636Z",
     "shell.execute_reply": "2021-09-04T16:12:39.418815Z",
     "shell.execute_reply.started": "2021-09-04T16:12:39.411545Z"
    }
   }
  },
  {
   "cell_type": "code",
   "execution_count": 49,
   "source": [
    "Xp = pd.DataFrame(columns=[f\"p{i+1}\" for i in range(pca.n_components_)], data=pca.transform(Xs))\n",
    "Xp.sample()"
   ],
   "outputs": [
    {
     "output_type": "execute_result",
     "data": {
      "text/html": [
       "<div>\n",
       "<style scoped>\n",
       "    .dataframe tbody tr th:only-of-type {\n",
       "        vertical-align: middle;\n",
       "    }\n",
       "\n",
       "    .dataframe tbody tr th {\n",
       "        vertical-align: top;\n",
       "    }\n",
       "\n",
       "    .dataframe thead th {\n",
       "        text-align: right;\n",
       "    }\n",
       "</style>\n",
       "<table border=\"1\" class=\"dataframe\">\n",
       "  <thead>\n",
       "    <tr style=\"text-align: right;\">\n",
       "      <th></th>\n",
       "      <th>p1</th>\n",
       "      <th>p2</th>\n",
       "      <th>p3</th>\n",
       "      <th>p4</th>\n",
       "      <th>p5</th>\n",
       "      <th>p6</th>\n",
       "      <th>p7</th>\n",
       "      <th>p8</th>\n",
       "    </tr>\n",
       "  </thead>\n",
       "  <tbody>\n",
       "    <tr>\n",
       "      <th>69</th>\n",
       "      <td>-0.679861</td>\n",
       "      <td>0.154963</td>\n",
       "      <td>-0.275789</td>\n",
       "      <td>0.286783</td>\n",
       "      <td>0.907146</td>\n",
       "      <td>-0.205723</td>\n",
       "      <td>-0.011098</td>\n",
       "      <td>-0.539684</td>\n",
       "    </tr>\n",
       "  </tbody>\n",
       "</table>\n",
       "</div>"
      ],
      "text/plain": [
       "          p1        p2        p3        p4        p5        p6        p7  \\\n",
       "69 -0.679861  0.154963 -0.275789  0.286783  0.907146 -0.205723 -0.011098   \n",
       "\n",
       "          p8  \n",
       "69 -0.539684  "
      ]
     },
     "metadata": {},
     "execution_count": 49
    }
   ],
   "metadata": {
    "ExecuteTime": {
     "end_time": "2021-04-16T00:52:12.814921Z",
     "start_time": "2021-04-16T00:52:12.313324Z"
    },
    "execution": {
     "iopub.execute_input": "2021-09-04T16:13:11.071492Z",
     "iopub.status.busy": "2021-09-04T16:13:11.071070Z",
     "iopub.status.idle": "2021-09-04T16:13:11.190848Z",
     "shell.execute_reply": "2021-09-04T16:13:11.190027Z",
     "shell.execute_reply.started": "2021-09-04T16:13:11.071440Z"
    }
   }
  },
  {
   "cell_type": "code",
   "execution_count": 50,
   "source": [
    "Xp.iplot(kind=\"scatter\", x=\"p1\", y=\"p2\", mode=\"markers\", theme=\"solar\")"
   ],
   "outputs": [
    {
     "output_type": "display_data",
     "data": {
      "application/vnd.plotly.v1+json": {
       "config": {
        "linkText": "Export to plot.ly",
        "plotlyServerURL": "https://plot.ly",
        "showLink": true
       },
       "data": [
        {
         "line": {
          "color": "rgba(255, 153, 51, 1.0)",
          "dash": "solid",
          "shape": "linear",
          "width": 1.3
         },
         "marker": {
          "size": 12,
          "symbol": "circle"
         },
         "mode": "markers",
         "name": "p2",
         "text": "",
         "type": "scatter",
         "x": [
          1.3840585947036743,
          0.7095082998275757,
          -0.8347377181053162,
          3.3712430000305176,
          -0.6874758005142212,
          -0.6794062256813049,
          0.30363476276397705,
          -0.7089464664459229,
          -0.9526349902153015,
          0.2009676694869995,
          0.5177438855171204,
          1.0283149480819702,
          0.3524029850959778,
          -0.9970094561576843,
          -0.19487044215202332,
          -0.6727305054664612,
          -0.7071247100830078,
          -0.2762534022331238,
          -0.03810959681868553,
          -0.4763646423816681,
          0.21277856826782227,
          0.8684632182121277,
          -0.11586504429578781,
          -0.7958372831344604,
          -0.601543664932251,
          -0.4964278042316437,
          -0.2061343640089035,
          -0.01465221680700779,
          -0.16528958082199097,
          0.08321192860603333,
          3.7397992610931396,
          -1.1288726329803467,
          0.6149671673774719,
          -0.5182385444641113,
          -1.131271481513977,
          -0.013615836389362812,
          0.16576501727104187,
          4.243227958679199,
          3.682429313659668,
          -0.6946994662284851,
          0.15294864773750305,
          2.3114840984344482,
          -0.5371783971786499,
          -0.3796737492084503,
          0.07775665819644928,
          -0.7139737606048584,
          -0.21783548593521118,
          0.10767491161823273,
          -0.28000056743621826,
          0.24306538701057434,
          -0.3135438859462738,
          -1.1706140041351318,
          -0.6816320419311523,
          0.5179460644721985,
          3.8837239742279053,
          -0.6643319725990295,
          4.204517364501953,
          -0.6306656002998352,
          0.10813607275485992,
          0.11904256790876389,
          -0.5197018980979919,
          -0.6294897794723511,
          -1.0636975765228271,
          0.38803914189338684,
          -0.9255277514457703,
          0.33010855317115784,
          0.260817289352417,
          -1.1585423946380615,
          -1.2579771280288696,
          -0.6798613667488098,
          -0.4834536015987396,
          -0.44446226954460144,
          0.26845458149909973,
          -0.6744973659515381,
          -0.021772297099232674,
          -0.18009337782859802,
          -0.30220988392829895,
          -1.2666963338851929,
          -1.0978456735610962,
          0.007381638512015343,
          -0.3918960988521576,
          0.009534523822367191,
          0.3807390332221985,
          0.46242332458496094,
          -0.5807894468307495,
          -0.07498767971992493,
          -0.5852766633033752,
          -0.8660043478012085,
          0.06369395554065704,
          0.001202028477564454,
          -0.21072018146514893,
          -0.28654229640960693,
          -0.30908721685409546,
          -0.7427963614463806,
          -0.33977368474006653,
          -0.42438939213752747,
          -0.4374801516532898,
          0.5030241012573242,
          -0.8841208219528198,
          -0.3429737985134125
         ],
         "y": [
          -0.4373643696308136,
          -1.3015979528427124,
          -1.1532765626907349,
          0.804111897945404,
          -0.5445942282676697,
          -0.7905316948890686,
          0.01814279519021511,
          0.36518993973731995,
          0.3145787715911865,
          -0.28331121802330017,
          -0.7047143578529358,
          0.038221683353185654,
          -1.3849828243255615,
          0.4411735534667969,
          0.4694703221321106,
          -0.3355429172515869,
          -0.8103354573249817,
          -0.18373404443264008,
          1.5009212493896484,
          -1.3971866369247437,
          -0.5962997674942017,
          0.9408518671989441,
          0.518608033657074,
          1.2544589042663574,
          0.24762459099292755,
          -0.9360513687133789,
          0.2143375128507614,
          -0.4125136137008667,
          1.0985966920852661,
          -0.6967082619667053,
          0.06843861937522888,
          0.28668200969696045,
          0.03427086025476456,
          0.8354824185371399,
          0.798793613910675,
          -0.7991141080856323,
          0.4220333695411682,
          0.08793068677186966,
          -0.24219171702861786,
          0.5901182889938354,
          -2.060065746307373,
          1.2812069654464722,
          -0.6066194772720337,
          -1.2376906871795654,
          -0.23317381739616394,
          0.029034970328211784,
          1.0776952505111694,
          0.44249483942985535,
          0.6052976846694946,
          0.8465761542320251,
          1.4588136672973633,
          -0.665212869644165,
          -0.036983780562877655,
          1.3032176494598389,
          0.2858092784881592,
          -0.05249834433197975,
          -1.169860601425171,
          0.13647907972335815,
          -0.8044497966766357,
          0.03686618432402611,
          -0.35919347405433655,
          2.0823183059692383,
          -0.17985105514526367,
          0.6433695554733276,
          0.07022339105606079,
          -0.16767571866512299,
          -0.6882428526878357,
          0.7868361473083496,
          -0.2190079391002655,
          0.15496303141117096,
          -0.04760541021823883,
          0.3781448006629944,
          -0.5298682451248169,
          -0.6307991743087769,
          -0.6312928199768066,
          0.5036794543266296,
          0.45735687017440796,
          -1.3032997846603394,
          -0.40931135416030884,
          -0.0895097553730011,
          -1.2823394536972046,
          0.3064518868923187,
          0.2006792426109314,
          1.249898910522461,
          -0.8936049342155457,
          0.8557721972465515,
          -0.1763046532869339,
          0.2060462385416031,
          -0.6790484189987183,
          -0.8289922475814819,
          -0.4336005747318268,
          -0.2393323928117752,
          1.1891332864761353,
          0.5127389430999756,
          -0.19360962510108948,
          -0.7488168478012085,
          1.2908867597579956,
          -0.7302912473678589,
          0.8096156716346741,
          0.7865605354309082
         ]
        }
       ],
       "layout": {
        "legend": {
         "bgcolor": "#151516",
         "font": {
          "color": "#D9D9D9"
         }
        },
        "paper_bgcolor": "#151516",
        "plot_bgcolor": "#151516",
        "template": {
         "data": {
          "bar": [
           {
            "error_x": {
             "color": "#2a3f5f"
            },
            "error_y": {
             "color": "#2a3f5f"
            },
            "marker": {
             "line": {
              "color": "#E5ECF6",
              "width": 0.5
             },
             "pattern": {
              "fillmode": "overlay",
              "size": 10,
              "solidity": 0.2
             }
            },
            "type": "bar"
           }
          ],
          "barpolar": [
           {
            "marker": {
             "line": {
              "color": "#E5ECF6",
              "width": 0.5
             },
             "pattern": {
              "fillmode": "overlay",
              "size": 10,
              "solidity": 0.2
             }
            },
            "type": "barpolar"
           }
          ],
          "carpet": [
           {
            "aaxis": {
             "endlinecolor": "#2a3f5f",
             "gridcolor": "white",
             "linecolor": "white",
             "minorgridcolor": "white",
             "startlinecolor": "#2a3f5f"
            },
            "baxis": {
             "endlinecolor": "#2a3f5f",
             "gridcolor": "white",
             "linecolor": "white",
             "minorgridcolor": "white",
             "startlinecolor": "#2a3f5f"
            },
            "type": "carpet"
           }
          ],
          "choropleth": [
           {
            "colorbar": {
             "outlinewidth": 0,
             "ticks": ""
            },
            "type": "choropleth"
           }
          ],
          "contour": [
           {
            "colorbar": {
             "outlinewidth": 0,
             "ticks": ""
            },
            "colorscale": [
             [
              0,
              "#0d0887"
             ],
             [
              0.1111111111111111,
              "#46039f"
             ],
             [
              0.2222222222222222,
              "#7201a8"
             ],
             [
              0.3333333333333333,
              "#9c179e"
             ],
             [
              0.4444444444444444,
              "#bd3786"
             ],
             [
              0.5555555555555556,
              "#d8576b"
             ],
             [
              0.6666666666666666,
              "#ed7953"
             ],
             [
              0.7777777777777778,
              "#fb9f3a"
             ],
             [
              0.8888888888888888,
              "#fdca26"
             ],
             [
              1,
              "#f0f921"
             ]
            ],
            "type": "contour"
           }
          ],
          "contourcarpet": [
           {
            "colorbar": {
             "outlinewidth": 0,
             "ticks": ""
            },
            "type": "contourcarpet"
           }
          ],
          "heatmap": [
           {
            "colorbar": {
             "outlinewidth": 0,
             "ticks": ""
            },
            "colorscale": [
             [
              0,
              "#0d0887"
             ],
             [
              0.1111111111111111,
              "#46039f"
             ],
             [
              0.2222222222222222,
              "#7201a8"
             ],
             [
              0.3333333333333333,
              "#9c179e"
             ],
             [
              0.4444444444444444,
              "#bd3786"
             ],
             [
              0.5555555555555556,
              "#d8576b"
             ],
             [
              0.6666666666666666,
              "#ed7953"
             ],
             [
              0.7777777777777778,
              "#fb9f3a"
             ],
             [
              0.8888888888888888,
              "#fdca26"
             ],
             [
              1,
              "#f0f921"
             ]
            ],
            "type": "heatmap"
           }
          ],
          "heatmapgl": [
           {
            "colorbar": {
             "outlinewidth": 0,
             "ticks": ""
            },
            "colorscale": [
             [
              0,
              "#0d0887"
             ],
             [
              0.1111111111111111,
              "#46039f"
             ],
             [
              0.2222222222222222,
              "#7201a8"
             ],
             [
              0.3333333333333333,
              "#9c179e"
             ],
             [
              0.4444444444444444,
              "#bd3786"
             ],
             [
              0.5555555555555556,
              "#d8576b"
             ],
             [
              0.6666666666666666,
              "#ed7953"
             ],
             [
              0.7777777777777778,
              "#fb9f3a"
             ],
             [
              0.8888888888888888,
              "#fdca26"
             ],
             [
              1,
              "#f0f921"
             ]
            ],
            "type": "heatmapgl"
           }
          ],
          "histogram": [
           {
            "marker": {
             "pattern": {
              "fillmode": "overlay",
              "size": 10,
              "solidity": 0.2
             }
            },
            "type": "histogram"
           }
          ],
          "histogram2d": [
           {
            "colorbar": {
             "outlinewidth": 0,
             "ticks": ""
            },
            "colorscale": [
             [
              0,
              "#0d0887"
             ],
             [
              0.1111111111111111,
              "#46039f"
             ],
             [
              0.2222222222222222,
              "#7201a8"
             ],
             [
              0.3333333333333333,
              "#9c179e"
             ],
             [
              0.4444444444444444,
              "#bd3786"
             ],
             [
              0.5555555555555556,
              "#d8576b"
             ],
             [
              0.6666666666666666,
              "#ed7953"
             ],
             [
              0.7777777777777778,
              "#fb9f3a"
             ],
             [
              0.8888888888888888,
              "#fdca26"
             ],
             [
              1,
              "#f0f921"
             ]
            ],
            "type": "histogram2d"
           }
          ],
          "histogram2dcontour": [
           {
            "colorbar": {
             "outlinewidth": 0,
             "ticks": ""
            },
            "colorscale": [
             [
              0,
              "#0d0887"
             ],
             [
              0.1111111111111111,
              "#46039f"
             ],
             [
              0.2222222222222222,
              "#7201a8"
             ],
             [
              0.3333333333333333,
              "#9c179e"
             ],
             [
              0.4444444444444444,
              "#bd3786"
             ],
             [
              0.5555555555555556,
              "#d8576b"
             ],
             [
              0.6666666666666666,
              "#ed7953"
             ],
             [
              0.7777777777777778,
              "#fb9f3a"
             ],
             [
              0.8888888888888888,
              "#fdca26"
             ],
             [
              1,
              "#f0f921"
             ]
            ],
            "type": "histogram2dcontour"
           }
          ],
          "mesh3d": [
           {
            "colorbar": {
             "outlinewidth": 0,
             "ticks": ""
            },
            "type": "mesh3d"
           }
          ],
          "parcoords": [
           {
            "line": {
             "colorbar": {
              "outlinewidth": 0,
              "ticks": ""
             }
            },
            "type": "parcoords"
           }
          ],
          "pie": [
           {
            "automargin": true,
            "type": "pie"
           }
          ],
          "scatter": [
           {
            "marker": {
             "colorbar": {
              "outlinewidth": 0,
              "ticks": ""
             }
            },
            "type": "scatter"
           }
          ],
          "scatter3d": [
           {
            "line": {
             "colorbar": {
              "outlinewidth": 0,
              "ticks": ""
             }
            },
            "marker": {
             "colorbar": {
              "outlinewidth": 0,
              "ticks": ""
             }
            },
            "type": "scatter3d"
           }
          ],
          "scattercarpet": [
           {
            "marker": {
             "colorbar": {
              "outlinewidth": 0,
              "ticks": ""
             }
            },
            "type": "scattercarpet"
           }
          ],
          "scattergeo": [
           {
            "marker": {
             "colorbar": {
              "outlinewidth": 0,
              "ticks": ""
             }
            },
            "type": "scattergeo"
           }
          ],
          "scattergl": [
           {
            "marker": {
             "colorbar": {
              "outlinewidth": 0,
              "ticks": ""
             }
            },
            "type": "scattergl"
           }
          ],
          "scattermapbox": [
           {
            "marker": {
             "colorbar": {
              "outlinewidth": 0,
              "ticks": ""
             }
            },
            "type": "scattermapbox"
           }
          ],
          "scatterpolar": [
           {
            "marker": {
             "colorbar": {
              "outlinewidth": 0,
              "ticks": ""
             }
            },
            "type": "scatterpolar"
           }
          ],
          "scatterpolargl": [
           {
            "marker": {
             "colorbar": {
              "outlinewidth": 0,
              "ticks": ""
             }
            },
            "type": "scatterpolargl"
           }
          ],
          "scatterternary": [
           {
            "marker": {
             "colorbar": {
              "outlinewidth": 0,
              "ticks": ""
             }
            },
            "type": "scatterternary"
           }
          ],
          "surface": [
           {
            "colorbar": {
             "outlinewidth": 0,
             "ticks": ""
            },
            "colorscale": [
             [
              0,
              "#0d0887"
             ],
             [
              0.1111111111111111,
              "#46039f"
             ],
             [
              0.2222222222222222,
              "#7201a8"
             ],
             [
              0.3333333333333333,
              "#9c179e"
             ],
             [
              0.4444444444444444,
              "#bd3786"
             ],
             [
              0.5555555555555556,
              "#d8576b"
             ],
             [
              0.6666666666666666,
              "#ed7953"
             ],
             [
              0.7777777777777778,
              "#fb9f3a"
             ],
             [
              0.8888888888888888,
              "#fdca26"
             ],
             [
              1,
              "#f0f921"
             ]
            ],
            "type": "surface"
           }
          ],
          "table": [
           {
            "cells": {
             "fill": {
              "color": "#EBF0F8"
             },
             "line": {
              "color": "white"
             }
            },
            "header": {
             "fill": {
              "color": "#C8D4E3"
             },
             "line": {
              "color": "white"
             }
            },
            "type": "table"
           }
          ]
         },
         "layout": {
          "annotationdefaults": {
           "arrowcolor": "#2a3f5f",
           "arrowhead": 0,
           "arrowwidth": 1
          },
          "autotypenumbers": "strict",
          "coloraxis": {
           "colorbar": {
            "outlinewidth": 0,
            "ticks": ""
           }
          },
          "colorscale": {
           "diverging": [
            [
             0,
             "#8e0152"
            ],
            [
             0.1,
             "#c51b7d"
            ],
            [
             0.2,
             "#de77ae"
            ],
            [
             0.3,
             "#f1b6da"
            ],
            [
             0.4,
             "#fde0ef"
            ],
            [
             0.5,
             "#f7f7f7"
            ],
            [
             0.6,
             "#e6f5d0"
            ],
            [
             0.7,
             "#b8e186"
            ],
            [
             0.8,
             "#7fbc41"
            ],
            [
             0.9,
             "#4d9221"
            ],
            [
             1,
             "#276419"
            ]
           ],
           "sequential": [
            [
             0,
             "#0d0887"
            ],
            [
             0.1111111111111111,
             "#46039f"
            ],
            [
             0.2222222222222222,
             "#7201a8"
            ],
            [
             0.3333333333333333,
             "#9c179e"
            ],
            [
             0.4444444444444444,
             "#bd3786"
            ],
            [
             0.5555555555555556,
             "#d8576b"
            ],
            [
             0.6666666666666666,
             "#ed7953"
            ],
            [
             0.7777777777777778,
             "#fb9f3a"
            ],
            [
             0.8888888888888888,
             "#fdca26"
            ],
            [
             1,
             "#f0f921"
            ]
           ],
           "sequentialminus": [
            [
             0,
             "#0d0887"
            ],
            [
             0.1111111111111111,
             "#46039f"
            ],
            [
             0.2222222222222222,
             "#7201a8"
            ],
            [
             0.3333333333333333,
             "#9c179e"
            ],
            [
             0.4444444444444444,
             "#bd3786"
            ],
            [
             0.5555555555555556,
             "#d8576b"
            ],
            [
             0.6666666666666666,
             "#ed7953"
            ],
            [
             0.7777777777777778,
             "#fb9f3a"
            ],
            [
             0.8888888888888888,
             "#fdca26"
            ],
            [
             1,
             "#f0f921"
            ]
           ]
          },
          "colorway": [
           "#636efa",
           "#EF553B",
           "#00cc96",
           "#ab63fa",
           "#FFA15A",
           "#19d3f3",
           "#FF6692",
           "#B6E880",
           "#FF97FF",
           "#FECB52"
          ],
          "font": {
           "color": "#2a3f5f"
          },
          "geo": {
           "bgcolor": "white",
           "lakecolor": "white",
           "landcolor": "#E5ECF6",
           "showlakes": true,
           "showland": true,
           "subunitcolor": "white"
          },
          "hoverlabel": {
           "align": "left"
          },
          "hovermode": "closest",
          "mapbox": {
           "style": "light"
          },
          "paper_bgcolor": "white",
          "plot_bgcolor": "#E5ECF6",
          "polar": {
           "angularaxis": {
            "gridcolor": "white",
            "linecolor": "white",
            "ticks": ""
           },
           "bgcolor": "#E5ECF6",
           "radialaxis": {
            "gridcolor": "white",
            "linecolor": "white",
            "ticks": ""
           }
          },
          "scene": {
           "xaxis": {
            "backgroundcolor": "#E5ECF6",
            "gridcolor": "white",
            "gridwidth": 2,
            "linecolor": "white",
            "showbackground": true,
            "ticks": "",
            "zerolinecolor": "white"
           },
           "yaxis": {
            "backgroundcolor": "#E5ECF6",
            "gridcolor": "white",
            "gridwidth": 2,
            "linecolor": "white",
            "showbackground": true,
            "ticks": "",
            "zerolinecolor": "white"
           },
           "zaxis": {
            "backgroundcolor": "#E5ECF6",
            "gridcolor": "white",
            "gridwidth": 2,
            "linecolor": "white",
            "showbackground": true,
            "ticks": "",
            "zerolinecolor": "white"
           }
          },
          "shapedefaults": {
           "line": {
            "color": "#2a3f5f"
           }
          },
          "ternary": {
           "aaxis": {
            "gridcolor": "white",
            "linecolor": "white",
            "ticks": ""
           },
           "baxis": {
            "gridcolor": "white",
            "linecolor": "white",
            "ticks": ""
           },
           "bgcolor": "#E5ECF6",
           "caxis": {
            "gridcolor": "white",
            "linecolor": "white",
            "ticks": ""
           }
          },
          "title": {
           "x": 0.05
          },
          "xaxis": {
           "automargin": true,
           "gridcolor": "white",
           "linecolor": "white",
           "ticks": "",
           "title": {
            "standoff": 15
           },
           "zerolinecolor": "white",
           "zerolinewidth": 2
          },
          "yaxis": {
           "automargin": true,
           "gridcolor": "white",
           "linecolor": "white",
           "ticks": "",
           "title": {
            "standoff": 15
           },
           "zerolinecolor": "white",
           "zerolinewidth": 2
          }
         }
        },
        "title": {
         "font": {
          "color": "#D9D9D9"
         }
        },
        "xaxis": {
         "gridcolor": "#434343",
         "showgrid": true,
         "tickfont": {
          "color": "#C2C2C2"
         },
         "title": {
          "font": {
           "color": "#D9D9D9"
          },
          "text": ""
         },
         "zerolinecolor": "#666570"
        },
        "yaxis": {
         "gridcolor": "#434343",
         "showgrid": true,
         "tickfont": {
          "color": "#C2C2C2"
         },
         "title": {
          "font": {
           "color": "#D9D9D9"
          },
          "text": ""
         },
         "zerolinecolor": "#666570"
        }
       }
      },
      "text/html": [
       "<div>                            <div id=\"7862a86b-200a-4ec7-a15e-65cad16415f2\" class=\"plotly-graph-div\" style=\"height:525px; width:100%;\"></div>            <script type=\"text/javascript\">                require([\"plotly\"], function(Plotly) {                    window.PLOTLYENV=window.PLOTLYENV || {};\n",
       "                    window.PLOTLYENV.BASE_URL='https://plot.ly';                                    if (document.getElementById(\"7862a86b-200a-4ec7-a15e-65cad16415f2\")) {                    Plotly.newPlot(                        \"7862a86b-200a-4ec7-a15e-65cad16415f2\",                        [{\"line\":{\"color\":\"rgba(255, 153, 51, 1.0)\",\"dash\":\"solid\",\"shape\":\"linear\",\"width\":1.3},\"marker\":{\"size\":12,\"symbol\":\"circle\"},\"mode\":\"markers\",\"name\":\"p2\",\"text\":\"\",\"type\":\"scatter\",\"x\":[1.3840585947036743,0.7095082998275757,-0.8347377181053162,3.3712430000305176,-0.6874758005142212,-0.6794062256813049,0.30363476276397705,-0.7089464664459229,-0.9526349902153015,0.2009676694869995,0.5177438855171204,1.0283149480819702,0.3524029850959778,-0.9970094561576843,-0.19487044215202332,-0.6727305054664612,-0.7071247100830078,-0.2762534022331238,-0.03810959681868553,-0.4763646423816681,0.21277856826782227,0.8684632182121277,-0.11586504429578781,-0.7958372831344604,-0.601543664932251,-0.4964278042316437,-0.2061343640089035,-0.01465221680700779,-0.16528958082199097,0.08321192860603333,3.7397992610931396,-1.1288726329803467,0.6149671673774719,-0.5182385444641113,-1.131271481513977,-0.013615836389362812,0.16576501727104187,4.243227958679199,3.682429313659668,-0.6946994662284851,0.15294864773750305,2.3114840984344482,-0.5371783971786499,-0.3796737492084503,0.07775665819644928,-0.7139737606048584,-0.21783548593521118,0.10767491161823273,-0.28000056743621826,0.24306538701057434,-0.3135438859462738,-1.1706140041351318,-0.6816320419311523,0.5179460644721985,3.8837239742279053,-0.6643319725990295,4.204517364501953,-0.6306656002998352,0.10813607275485992,0.11904256790876389,-0.5197018980979919,-0.6294897794723511,-1.0636975765228271,0.38803914189338684,-0.9255277514457703,0.33010855317115784,0.260817289352417,-1.1585423946380615,-1.2579771280288696,-0.6798613667488098,-0.4834536015987396,-0.44446226954460144,0.26845458149909973,-0.6744973659515381,-0.021772297099232674,-0.18009337782859802,-0.30220988392829895,-1.2666963338851929,-1.0978456735610962,0.007381638512015343,-0.3918960988521576,0.009534523822367191,0.3807390332221985,0.46242332458496094,-0.5807894468307495,-0.07498767971992493,-0.5852766633033752,-0.8660043478012085,0.06369395554065704,0.001202028477564454,-0.21072018146514893,-0.28654229640960693,-0.30908721685409546,-0.7427963614463806,-0.33977368474006653,-0.42438939213752747,-0.4374801516532898,0.5030241012573242,-0.8841208219528198,-0.3429737985134125],\"y\":[-0.4373643696308136,-1.3015979528427124,-1.1532765626907349,0.804111897945404,-0.5445942282676697,-0.7905316948890686,0.01814279519021511,0.36518993973731995,0.3145787715911865,-0.28331121802330017,-0.7047143578529358,0.038221683353185654,-1.3849828243255615,0.4411735534667969,0.4694703221321106,-0.3355429172515869,-0.8103354573249817,-0.18373404443264008,1.5009212493896484,-1.3971866369247437,-0.5962997674942017,0.9408518671989441,0.518608033657074,1.2544589042663574,0.24762459099292755,-0.9360513687133789,0.2143375128507614,-0.4125136137008667,1.0985966920852661,-0.6967082619667053,0.06843861937522888,0.28668200969696045,0.03427086025476456,0.8354824185371399,0.798793613910675,-0.7991141080856323,0.4220333695411682,0.08793068677186966,-0.24219171702861786,0.5901182889938354,-2.060065746307373,1.2812069654464722,-0.6066194772720337,-1.2376906871795654,-0.23317381739616394,0.029034970328211784,1.0776952505111694,0.44249483942985535,0.6052976846694946,0.8465761542320251,1.4588136672973633,-0.665212869644165,-0.036983780562877655,1.3032176494598389,0.2858092784881592,-0.05249834433197975,-1.169860601425171,0.13647907972335815,-0.8044497966766357,0.03686618432402611,-0.35919347405433655,2.0823183059692383,-0.17985105514526367,0.6433695554733276,0.07022339105606079,-0.16767571866512299,-0.6882428526878357,0.7868361473083496,-0.2190079391002655,0.15496303141117096,-0.04760541021823883,0.3781448006629944,-0.5298682451248169,-0.6307991743087769,-0.6312928199768066,0.5036794543266296,0.45735687017440796,-1.3032997846603394,-0.40931135416030884,-0.0895097553730011,-1.2823394536972046,0.3064518868923187,0.2006792426109314,1.249898910522461,-0.8936049342155457,0.8557721972465515,-0.1763046532869339,0.2060462385416031,-0.6790484189987183,-0.8289922475814819,-0.4336005747318268,-0.2393323928117752,1.1891332864761353,0.5127389430999756,-0.19360962510108948,-0.7488168478012085,1.2908867597579956,-0.7302912473678589,0.8096156716346741,0.7865605354309082]}],                        {\"legend\":{\"bgcolor\":\"#151516\",\"font\":{\"color\":\"#D9D9D9\"}},\"paper_bgcolor\":\"#151516\",\"plot_bgcolor\":\"#151516\",\"template\":{\"data\":{\"bar\":[{\"error_x\":{\"color\":\"#2a3f5f\"},\"error_y\":{\"color\":\"#2a3f5f\"},\"marker\":{\"line\":{\"color\":\"#E5ECF6\",\"width\":0.5},\"pattern\":{\"fillmode\":\"overlay\",\"size\":10,\"solidity\":0.2}},\"type\":\"bar\"}],\"barpolar\":[{\"marker\":{\"line\":{\"color\":\"#E5ECF6\",\"width\":0.5},\"pattern\":{\"fillmode\":\"overlay\",\"size\":10,\"solidity\":0.2}},\"type\":\"barpolar\"}],\"carpet\":[{\"aaxis\":{\"endlinecolor\":\"#2a3f5f\",\"gridcolor\":\"white\",\"linecolor\":\"white\",\"minorgridcolor\":\"white\",\"startlinecolor\":\"#2a3f5f\"},\"baxis\":{\"endlinecolor\":\"#2a3f5f\",\"gridcolor\":\"white\",\"linecolor\":\"white\",\"minorgridcolor\":\"white\",\"startlinecolor\":\"#2a3f5f\"},\"type\":\"carpet\"}],\"choropleth\":[{\"colorbar\":{\"outlinewidth\":0,\"ticks\":\"\"},\"type\":\"choropleth\"}],\"contour\":[{\"colorbar\":{\"outlinewidth\":0,\"ticks\":\"\"},\"colorscale\":[[0.0,\"#0d0887\"],[0.1111111111111111,\"#46039f\"],[0.2222222222222222,\"#7201a8\"],[0.3333333333333333,\"#9c179e\"],[0.4444444444444444,\"#bd3786\"],[0.5555555555555556,\"#d8576b\"],[0.6666666666666666,\"#ed7953\"],[0.7777777777777778,\"#fb9f3a\"],[0.8888888888888888,\"#fdca26\"],[1.0,\"#f0f921\"]],\"type\":\"contour\"}],\"contourcarpet\":[{\"colorbar\":{\"outlinewidth\":0,\"ticks\":\"\"},\"type\":\"contourcarpet\"}],\"heatmap\":[{\"colorbar\":{\"outlinewidth\":0,\"ticks\":\"\"},\"colorscale\":[[0.0,\"#0d0887\"],[0.1111111111111111,\"#46039f\"],[0.2222222222222222,\"#7201a8\"],[0.3333333333333333,\"#9c179e\"],[0.4444444444444444,\"#bd3786\"],[0.5555555555555556,\"#d8576b\"],[0.6666666666666666,\"#ed7953\"],[0.7777777777777778,\"#fb9f3a\"],[0.8888888888888888,\"#fdca26\"],[1.0,\"#f0f921\"]],\"type\":\"heatmap\"}],\"heatmapgl\":[{\"colorbar\":{\"outlinewidth\":0,\"ticks\":\"\"},\"colorscale\":[[0.0,\"#0d0887\"],[0.1111111111111111,\"#46039f\"],[0.2222222222222222,\"#7201a8\"],[0.3333333333333333,\"#9c179e\"],[0.4444444444444444,\"#bd3786\"],[0.5555555555555556,\"#d8576b\"],[0.6666666666666666,\"#ed7953\"],[0.7777777777777778,\"#fb9f3a\"],[0.8888888888888888,\"#fdca26\"],[1.0,\"#f0f921\"]],\"type\":\"heatmapgl\"}],\"histogram\":[{\"marker\":{\"pattern\":{\"fillmode\":\"overlay\",\"size\":10,\"solidity\":0.2}},\"type\":\"histogram\"}],\"histogram2d\":[{\"colorbar\":{\"outlinewidth\":0,\"ticks\":\"\"},\"colorscale\":[[0.0,\"#0d0887\"],[0.1111111111111111,\"#46039f\"],[0.2222222222222222,\"#7201a8\"],[0.3333333333333333,\"#9c179e\"],[0.4444444444444444,\"#bd3786\"],[0.5555555555555556,\"#d8576b\"],[0.6666666666666666,\"#ed7953\"],[0.7777777777777778,\"#fb9f3a\"],[0.8888888888888888,\"#fdca26\"],[1.0,\"#f0f921\"]],\"type\":\"histogram2d\"}],\"histogram2dcontour\":[{\"colorbar\":{\"outlinewidth\":0,\"ticks\":\"\"},\"colorscale\":[[0.0,\"#0d0887\"],[0.1111111111111111,\"#46039f\"],[0.2222222222222222,\"#7201a8\"],[0.3333333333333333,\"#9c179e\"],[0.4444444444444444,\"#bd3786\"],[0.5555555555555556,\"#d8576b\"],[0.6666666666666666,\"#ed7953\"],[0.7777777777777778,\"#fb9f3a\"],[0.8888888888888888,\"#fdca26\"],[1.0,\"#f0f921\"]],\"type\":\"histogram2dcontour\"}],\"mesh3d\":[{\"colorbar\":{\"outlinewidth\":0,\"ticks\":\"\"},\"type\":\"mesh3d\"}],\"parcoords\":[{\"line\":{\"colorbar\":{\"outlinewidth\":0,\"ticks\":\"\"}},\"type\":\"parcoords\"}],\"pie\":[{\"automargin\":true,\"type\":\"pie\"}],\"scatter\":[{\"marker\":{\"colorbar\":{\"outlinewidth\":0,\"ticks\":\"\"}},\"type\":\"scatter\"}],\"scatter3d\":[{\"line\":{\"colorbar\":{\"outlinewidth\":0,\"ticks\":\"\"}},\"marker\":{\"colorbar\":{\"outlinewidth\":0,\"ticks\":\"\"}},\"type\":\"scatter3d\"}],\"scattercarpet\":[{\"marker\":{\"colorbar\":{\"outlinewidth\":0,\"ticks\":\"\"}},\"type\":\"scattercarpet\"}],\"scattergeo\":[{\"marker\":{\"colorbar\":{\"outlinewidth\":0,\"ticks\":\"\"}},\"type\":\"scattergeo\"}],\"scattergl\":[{\"marker\":{\"colorbar\":{\"outlinewidth\":0,\"ticks\":\"\"}},\"type\":\"scattergl\"}],\"scattermapbox\":[{\"marker\":{\"colorbar\":{\"outlinewidth\":0,\"ticks\":\"\"}},\"type\":\"scattermapbox\"}],\"scatterpolar\":[{\"marker\":{\"colorbar\":{\"outlinewidth\":0,\"ticks\":\"\"}},\"type\":\"scatterpolar\"}],\"scatterpolargl\":[{\"marker\":{\"colorbar\":{\"outlinewidth\":0,\"ticks\":\"\"}},\"type\":\"scatterpolargl\"}],\"scatterternary\":[{\"marker\":{\"colorbar\":{\"outlinewidth\":0,\"ticks\":\"\"}},\"type\":\"scatterternary\"}],\"surface\":[{\"colorbar\":{\"outlinewidth\":0,\"ticks\":\"\"},\"colorscale\":[[0.0,\"#0d0887\"],[0.1111111111111111,\"#46039f\"],[0.2222222222222222,\"#7201a8\"],[0.3333333333333333,\"#9c179e\"],[0.4444444444444444,\"#bd3786\"],[0.5555555555555556,\"#d8576b\"],[0.6666666666666666,\"#ed7953\"],[0.7777777777777778,\"#fb9f3a\"],[0.8888888888888888,\"#fdca26\"],[1.0,\"#f0f921\"]],\"type\":\"surface\"}],\"table\":[{\"cells\":{\"fill\":{\"color\":\"#EBF0F8\"},\"line\":{\"color\":\"white\"}},\"header\":{\"fill\":{\"color\":\"#C8D4E3\"},\"line\":{\"color\":\"white\"}},\"type\":\"table\"}]},\"layout\":{\"annotationdefaults\":{\"arrowcolor\":\"#2a3f5f\",\"arrowhead\":0,\"arrowwidth\":1},\"autotypenumbers\":\"strict\",\"coloraxis\":{\"colorbar\":{\"outlinewidth\":0,\"ticks\":\"\"}},\"colorscale\":{\"diverging\":[[0,\"#8e0152\"],[0.1,\"#c51b7d\"],[0.2,\"#de77ae\"],[0.3,\"#f1b6da\"],[0.4,\"#fde0ef\"],[0.5,\"#f7f7f7\"],[0.6,\"#e6f5d0\"],[0.7,\"#b8e186\"],[0.8,\"#7fbc41\"],[0.9,\"#4d9221\"],[1,\"#276419\"]],\"sequential\":[[0.0,\"#0d0887\"],[0.1111111111111111,\"#46039f\"],[0.2222222222222222,\"#7201a8\"],[0.3333333333333333,\"#9c179e\"],[0.4444444444444444,\"#bd3786\"],[0.5555555555555556,\"#d8576b\"],[0.6666666666666666,\"#ed7953\"],[0.7777777777777778,\"#fb9f3a\"],[0.8888888888888888,\"#fdca26\"],[1.0,\"#f0f921\"]],\"sequentialminus\":[[0.0,\"#0d0887\"],[0.1111111111111111,\"#46039f\"],[0.2222222222222222,\"#7201a8\"],[0.3333333333333333,\"#9c179e\"],[0.4444444444444444,\"#bd3786\"],[0.5555555555555556,\"#d8576b\"],[0.6666666666666666,\"#ed7953\"],[0.7777777777777778,\"#fb9f3a\"],[0.8888888888888888,\"#fdca26\"],[1.0,\"#f0f921\"]]},\"colorway\":[\"#636efa\",\"#EF553B\",\"#00cc96\",\"#ab63fa\",\"#FFA15A\",\"#19d3f3\",\"#FF6692\",\"#B6E880\",\"#FF97FF\",\"#FECB52\"],\"font\":{\"color\":\"#2a3f5f\"},\"geo\":{\"bgcolor\":\"white\",\"lakecolor\":\"white\",\"landcolor\":\"#E5ECF6\",\"showlakes\":true,\"showland\":true,\"subunitcolor\":\"white\"},\"hoverlabel\":{\"align\":\"left\"},\"hovermode\":\"closest\",\"mapbox\":{\"style\":\"light\"},\"paper_bgcolor\":\"white\",\"plot_bgcolor\":\"#E5ECF6\",\"polar\":{\"angularaxis\":{\"gridcolor\":\"white\",\"linecolor\":\"white\",\"ticks\":\"\"},\"bgcolor\":\"#E5ECF6\",\"radialaxis\":{\"gridcolor\":\"white\",\"linecolor\":\"white\",\"ticks\":\"\"}},\"scene\":{\"xaxis\":{\"backgroundcolor\":\"#E5ECF6\",\"gridcolor\":\"white\",\"gridwidth\":2,\"linecolor\":\"white\",\"showbackground\":true,\"ticks\":\"\",\"zerolinecolor\":\"white\"},\"yaxis\":{\"backgroundcolor\":\"#E5ECF6\",\"gridcolor\":\"white\",\"gridwidth\":2,\"linecolor\":\"white\",\"showbackground\":true,\"ticks\":\"\",\"zerolinecolor\":\"white\"},\"zaxis\":{\"backgroundcolor\":\"#E5ECF6\",\"gridcolor\":\"white\",\"gridwidth\":2,\"linecolor\":\"white\",\"showbackground\":true,\"ticks\":\"\",\"zerolinecolor\":\"white\"}},\"shapedefaults\":{\"line\":{\"color\":\"#2a3f5f\"}},\"ternary\":{\"aaxis\":{\"gridcolor\":\"white\",\"linecolor\":\"white\",\"ticks\":\"\"},\"baxis\":{\"gridcolor\":\"white\",\"linecolor\":\"white\",\"ticks\":\"\"},\"bgcolor\":\"#E5ECF6\",\"caxis\":{\"gridcolor\":\"white\",\"linecolor\":\"white\",\"ticks\":\"\"}},\"title\":{\"x\":0.05},\"xaxis\":{\"automargin\":true,\"gridcolor\":\"white\",\"linecolor\":\"white\",\"ticks\":\"\",\"title\":{\"standoff\":15},\"zerolinecolor\":\"white\",\"zerolinewidth\":2},\"yaxis\":{\"automargin\":true,\"gridcolor\":\"white\",\"linecolor\":\"white\",\"ticks\":\"\",\"title\":{\"standoff\":15},\"zerolinecolor\":\"white\",\"zerolinewidth\":2}}},\"title\":{\"font\":{\"color\":\"#D9D9D9\"}},\"xaxis\":{\"gridcolor\":\"#434343\",\"showgrid\":true,\"tickfont\":{\"color\":\"#C2C2C2\"},\"title\":{\"font\":{\"color\":\"#D9D9D9\"},\"text\":\"\"},\"zerolinecolor\":\"#666570\"},\"yaxis\":{\"gridcolor\":\"#434343\",\"showgrid\":true,\"tickfont\":{\"color\":\"#C2C2C2\"},\"title\":{\"font\":{\"color\":\"#D9D9D9\"},\"text\":\"\"},\"zerolinecolor\":\"#666570\"}},                        {\"showLink\": true, \"linkText\": \"Export to plot.ly\", \"plotlyServerURL\": \"https://plot.ly\", \"responsive\": true}                    ).then(function(){\n",
       "                            \n",
       "var gd = document.getElementById('7862a86b-200a-4ec7-a15e-65cad16415f2');\n",
       "var x = new MutationObserver(function (mutations, observer) {{\n",
       "        var display = window.getComputedStyle(gd).display;\n",
       "        if (!display || display === 'none') {{\n",
       "            console.log([gd, 'removed!']);\n",
       "            Plotly.purge(gd);\n",
       "            observer.disconnect();\n",
       "        }}\n",
       "}});\n",
       "\n",
       "// Listen for the removal of the full notebook cells\n",
       "var notebookContainer = gd.closest('#notebook-container');\n",
       "if (notebookContainer) {{\n",
       "    x.observe(notebookContainer, {childList: true});\n",
       "}}\n",
       "\n",
       "// Listen for the clearing of the current output cell\n",
       "var outputEl = gd.closest('.output');\n",
       "if (outputEl) {{\n",
       "    x.observe(outputEl, {childList: true});\n",
       "}}\n",
       "\n",
       "                        })                };                });            </script>        </div>"
      ]
     },
     "metadata": {}
    }
   ],
   "metadata": {
    "ExecuteTime": {
     "end_time": "2021-04-16T00:53:26.630301Z",
     "start_time": "2021-04-16T00:53:23.576517Z"
    },
    "execution": {
     "iopub.execute_input": "2021-09-04T16:13:38.627595Z",
     "iopub.status.busy": "2021-09-04T16:13:38.627272Z",
     "iopub.status.idle": "2021-09-04T16:13:38.677657Z",
     "shell.execute_reply": "2021-09-04T16:13:38.676668Z",
     "shell.execute_reply.started": "2021-09-04T16:13:38.627562Z"
    },
    "tags": []
   }
  },
  {
   "cell_type": "code",
   "execution_count": 51,
   "source": [
    "Xp.iplot(kind=\"scatter3d\", x=\"p1\", y=\"p2\", z=\"p3\", mode=\"markers\", theme=\"solar\")"
   ],
   "outputs": [
    {
     "output_type": "display_data",
     "data": {
      "application/vnd.plotly.v1+json": {
       "config": {
        "linkText": "Export to plot.ly",
        "plotlyServerURL": "https://plot.ly",
        "showLink": true
       },
       "data": [
        {
         "marker": {
          "color": [
           "rgba(255, 153, 51, 1.0)",
           "rgba(55, 128, 191, 1.0)",
           "rgba(50, 171, 96, 1.0)",
           "rgba(128, 0, 128, 1.0)",
           "rgba(219, 64, 82, 1.0)",
           "rgba(0, 128, 128, 1.0)",
           "rgba(255, 255, 51, 1.0)",
           "rgba(128, 128, 0, 1.0)",
           "rgba(251, 128, 114, 1.0)",
           "rgba(128, 177, 211, 1.0)",
           "rgba(128, 177, 211, 0.9199999999999999)",
           "rgba(255, 153, 51, 0.9199999999999999)",
           "rgba(55, 128, 191, 0.9199999999999999)",
           "rgba(50, 171, 96, 0.9199999999999999)",
           "rgba(128, 0, 128, 0.9199999999999999)",
           "rgba(219, 64, 82, 0.9199999999999999)",
           "rgba(0, 128, 128, 0.9199999999999999)",
           "rgba(255, 255, 51, 0.9199999999999999)",
           "rgba(128, 128, 0, 0.9199999999999999)",
           "rgba(251, 128, 114, 0.9199999999999999)",
           "rgba(251, 128, 114, 0.8399999999999999)",
           "rgba(128, 177, 211, 0.8399999999999999)",
           "rgba(255, 153, 51, 0.8399999999999999)",
           "rgba(55, 128, 191, 0.8399999999999999)",
           "rgba(50, 171, 96, 0.8399999999999999)",
           "rgba(128, 0, 128, 0.8399999999999999)",
           "rgba(219, 64, 82, 0.8399999999999999)",
           "rgba(0, 128, 128, 0.8399999999999999)",
           "rgba(255, 255, 51, 0.8399999999999999)",
           "rgba(128, 128, 0, 0.8399999999999999)",
           "rgba(128, 128, 0, 0.76)",
           "rgba(251, 128, 114, 0.76)",
           "rgba(128, 177, 211, 0.76)",
           "rgba(255, 153, 51, 0.76)",
           "rgba(55, 128, 191, 0.76)",
           "rgba(50, 171, 96, 0.76)",
           "rgba(128, 0, 128, 0.76)",
           "rgba(219, 64, 82, 0.76)",
           "rgba(0, 128, 128, 0.76)",
           "rgba(255, 255, 51, 0.76)",
           "rgba(255, 255, 51, 0.6799999999999999)",
           "rgba(128, 128, 0, 0.6799999999999999)",
           "rgba(251, 128, 114, 0.6799999999999999)",
           "rgba(128, 177, 211, 0.6799999999999999)",
           "rgba(255, 153, 51, 0.6799999999999999)",
           "rgba(55, 128, 191, 0.6799999999999999)",
           "rgba(50, 171, 96, 0.6799999999999999)",
           "rgba(128, 0, 128, 0.6799999999999999)",
           "rgba(219, 64, 82, 0.6799999999999999)",
           "rgba(0, 128, 128, 0.6799999999999999)",
           "rgba(0, 128, 128, 0.5999999999999999)",
           "rgba(255, 255, 51, 0.5999999999999999)",
           "rgba(128, 128, 0, 0.5999999999999999)",
           "rgba(251, 128, 114, 0.5999999999999999)",
           "rgba(128, 177, 211, 0.5999999999999999)",
           "rgba(255, 153, 51, 0.5999999999999999)",
           "rgba(55, 128, 191, 0.5999999999999999)",
           "rgba(50, 171, 96, 0.5999999999999999)",
           "rgba(128, 0, 128, 0.5999999999999999)",
           "rgba(219, 64, 82, 0.5999999999999999)",
           "rgba(219, 64, 82, 0.5199999999999998)",
           "rgba(0, 128, 128, 0.5199999999999998)",
           "rgba(255, 255, 51, 0.5199999999999998)",
           "rgba(128, 128, 0, 0.5199999999999998)",
           "rgba(251, 128, 114, 0.5199999999999998)",
           "rgba(128, 177, 211, 0.5199999999999998)",
           "rgba(255, 153, 51, 0.5199999999999998)",
           "rgba(55, 128, 191, 0.5199999999999998)",
           "rgba(50, 171, 96, 0.5199999999999998)",
           "rgba(128, 0, 128, 0.5199999999999998)",
           "rgba(128, 0, 128, 0.44)",
           "rgba(219, 64, 82, 0.44)",
           "rgba(0, 128, 128, 0.44)",
           "rgba(255, 255, 51, 0.44)",
           "rgba(128, 128, 0, 0.44)",
           "rgba(251, 128, 114, 0.44)",
           "rgba(128, 177, 211, 0.44)",
           "rgba(255, 153, 51, 0.44)",
           "rgba(55, 128, 191, 0.44)",
           "rgba(50, 171, 96, 0.44)",
           "rgba(50, 171, 96, 0.35999999999999993)",
           "rgba(128, 0, 128, 0.35999999999999993)",
           "rgba(219, 64, 82, 0.35999999999999993)",
           "rgba(0, 128, 128, 0.35999999999999993)",
           "rgba(255, 255, 51, 0.35999999999999993)",
           "rgba(128, 128, 0, 0.35999999999999993)",
           "rgba(251, 128, 114, 0.35999999999999993)",
           "rgba(128, 177, 211, 0.35999999999999993)",
           "rgba(255, 153, 51, 0.35999999999999993)",
           "rgba(55, 128, 191, 0.35999999999999993)",
           "rgba(55, 128, 191, 0.27999999999999986)",
           "rgba(50, 171, 96, 0.27999999999999986)",
           "rgba(128, 0, 128, 0.27999999999999986)",
           "rgba(219, 64, 82, 0.27999999999999986)",
           "rgba(0, 128, 128, 0.27999999999999986)",
           "rgba(255, 255, 51, 0.27999999999999986)",
           "rgba(128, 128, 0, 0.27999999999999986)",
           "rgba(251, 128, 114, 0.27999999999999986)",
           "rgba(128, 177, 211, 0.27999999999999986)",
           "rgba(255, 153, 51, 0.27999999999999986)"
          ],
          "opacity": 0.8,
          "size": [
           12,
           12,
           12,
           12,
           12,
           12,
           12,
           12,
           12,
           12,
           12,
           12,
           12,
           12,
           12,
           12,
           12,
           12,
           12,
           12,
           12,
           12,
           12,
           12,
           12,
           12,
           12,
           12,
           12,
           12,
           12,
           12,
           12,
           12,
           12,
           12,
           12,
           12,
           12,
           12,
           12,
           12,
           12,
           12,
           12,
           12,
           12,
           12,
           12,
           12,
           12,
           12,
           12,
           12,
           12,
           12,
           12,
           12,
           12,
           12,
           12,
           12,
           12,
           12,
           12,
           12,
           12,
           12,
           12,
           12,
           12,
           12,
           12,
           12,
           12,
           12,
           12,
           12,
           12,
           12,
           12,
           12,
           12,
           12,
           12,
           12,
           12,
           12,
           12,
           12,
           12,
           12,
           12,
           12,
           12,
           12,
           12,
           12,
           12,
           12
          ],
          "symbol": "circle"
         },
         "mode": "markers",
         "text": [
          "0",
          "1",
          "2",
          "3",
          "4",
          "5",
          "6",
          "7",
          "8",
          "9",
          "10",
          "11",
          "12",
          "13",
          "14",
          "15",
          "16",
          "17",
          "18",
          "19",
          "20",
          "21",
          "22",
          "23",
          "24",
          "25",
          "26",
          "27",
          "28",
          "29",
          "30",
          "31",
          "32",
          "33",
          "34",
          "35",
          "36",
          "37",
          "38",
          "39",
          "40",
          "41",
          "42",
          "43",
          "44",
          "45",
          "46",
          "47",
          "48",
          "49",
          "50",
          "51",
          "52",
          "53",
          "54",
          "55",
          "56",
          "57",
          "58",
          "59",
          "60",
          "61",
          "62",
          "63",
          "64",
          "65",
          "66",
          "67",
          "68",
          "69",
          "70",
          "71",
          "72",
          "73",
          "74",
          "75",
          "76",
          "77",
          "78",
          "79",
          "80",
          "81",
          "82",
          "83",
          "84",
          "85",
          "86",
          "87",
          "88",
          "89",
          "90",
          "91",
          "92",
          "93",
          "94",
          "95",
          "96",
          "97",
          "98",
          "99"
         ],
         "type": "scatter3d",
         "x": [
          1.3840585947036743,
          0.7095082998275757,
          -0.8347377181053162,
          3.3712430000305176,
          -0.6874758005142212,
          -0.6794062256813049,
          0.30363476276397705,
          -0.7089464664459229,
          -0.9526349902153015,
          0.2009676694869995,
          0.5177438855171204,
          1.0283149480819702,
          0.3524029850959778,
          -0.9970094561576843,
          -0.19487044215202332,
          -0.6727305054664612,
          -0.7071247100830078,
          -0.2762534022331238,
          -0.03810959681868553,
          -0.4763646423816681,
          0.21277856826782227,
          0.8684632182121277,
          -0.11586504429578781,
          -0.7958372831344604,
          -0.601543664932251,
          -0.4964278042316437,
          -0.2061343640089035,
          -0.01465221680700779,
          -0.16528958082199097,
          0.08321192860603333,
          3.7397992610931396,
          -1.1288726329803467,
          0.6149671673774719,
          -0.5182385444641113,
          -1.131271481513977,
          -0.013615836389362812,
          0.16576501727104187,
          4.243227958679199,
          3.682429313659668,
          -0.6946994662284851,
          0.15294864773750305,
          2.3114840984344482,
          -0.5371783971786499,
          -0.3796737492084503,
          0.07775665819644928,
          -0.7139737606048584,
          -0.21783548593521118,
          0.10767491161823273,
          -0.28000056743621826,
          0.24306538701057434,
          -0.3135438859462738,
          -1.1706140041351318,
          -0.6816320419311523,
          0.5179460644721985,
          3.8837239742279053,
          -0.6643319725990295,
          4.204517364501953,
          -0.6306656002998352,
          0.10813607275485992,
          0.11904256790876389,
          -0.5197018980979919,
          -0.6294897794723511,
          -1.0636975765228271,
          0.38803914189338684,
          -0.9255277514457703,
          0.33010855317115784,
          0.260817289352417,
          -1.1585423946380615,
          -1.2579771280288696,
          -0.6798613667488098,
          -0.4834536015987396,
          -0.44446226954460144,
          0.26845458149909973,
          -0.6744973659515381,
          -0.021772297099232674,
          -0.18009337782859802,
          -0.30220988392829895,
          -1.2666963338851929,
          -1.0978456735610962,
          0.007381638512015343,
          -0.3918960988521576,
          0.009534523822367191,
          0.3807390332221985,
          0.46242332458496094,
          -0.5807894468307495,
          -0.07498767971992493,
          -0.5852766633033752,
          -0.8660043478012085,
          0.06369395554065704,
          0.001202028477564454,
          -0.21072018146514893,
          -0.28654229640960693,
          -0.30908721685409546,
          -0.7427963614463806,
          -0.33977368474006653,
          -0.42438939213752747,
          -0.4374801516532898,
          0.5030241012573242,
          -0.8841208219528198,
          -0.3429737985134125
         ],
         "y": [
          -0.4373643696308136,
          -1.3015979528427124,
          -1.1532765626907349,
          0.804111897945404,
          -0.5445942282676697,
          -0.7905316948890686,
          0.01814279519021511,
          0.36518993973731995,
          0.3145787715911865,
          -0.28331121802330017,
          -0.7047143578529358,
          0.038221683353185654,
          -1.3849828243255615,
          0.4411735534667969,
          0.4694703221321106,
          -0.3355429172515869,
          -0.8103354573249817,
          -0.18373404443264008,
          1.5009212493896484,
          -1.3971866369247437,
          -0.5962997674942017,
          0.9408518671989441,
          0.518608033657074,
          1.2544589042663574,
          0.24762459099292755,
          -0.9360513687133789,
          0.2143375128507614,
          -0.4125136137008667,
          1.0985966920852661,
          -0.6967082619667053,
          0.06843861937522888,
          0.28668200969696045,
          0.03427086025476456,
          0.8354824185371399,
          0.798793613910675,
          -0.7991141080856323,
          0.4220333695411682,
          0.08793068677186966,
          -0.24219171702861786,
          0.5901182889938354,
          -2.060065746307373,
          1.2812069654464722,
          -0.6066194772720337,
          -1.2376906871795654,
          -0.23317381739616394,
          0.029034970328211784,
          1.0776952505111694,
          0.44249483942985535,
          0.6052976846694946,
          0.8465761542320251,
          1.4588136672973633,
          -0.665212869644165,
          -0.036983780562877655,
          1.3032176494598389,
          0.2858092784881592,
          -0.05249834433197975,
          -1.169860601425171,
          0.13647907972335815,
          -0.8044497966766357,
          0.03686618432402611,
          -0.35919347405433655,
          2.0823183059692383,
          -0.17985105514526367,
          0.6433695554733276,
          0.07022339105606079,
          -0.16767571866512299,
          -0.6882428526878357,
          0.7868361473083496,
          -0.2190079391002655,
          0.15496303141117096,
          -0.04760541021823883,
          0.3781448006629944,
          -0.5298682451248169,
          -0.6307991743087769,
          -0.6312928199768066,
          0.5036794543266296,
          0.45735687017440796,
          -1.3032997846603394,
          -0.40931135416030884,
          -0.0895097553730011,
          -1.2823394536972046,
          0.3064518868923187,
          0.2006792426109314,
          1.249898910522461,
          -0.8936049342155457,
          0.8557721972465515,
          -0.1763046532869339,
          0.2060462385416031,
          -0.6790484189987183,
          -0.8289922475814819,
          -0.4336005747318268,
          -0.2393323928117752,
          1.1891332864761353,
          0.5127389430999756,
          -0.19360962510108948,
          -0.7488168478012085,
          1.2908867597579956,
          -0.7302912473678589,
          0.8096156716346741,
          0.7865605354309082
         ],
         "z": [
          -0.029458915814757347,
          -0.36361321806907654,
          0.8978951573371887,
          0.7535890936851501,
          -0.005997671280056238,
          -0.9600052237510681,
          0.7472952604293823,
          0.42381587624549866,
          -0.33959686756134033,
          -0.22373740375041962,
          -0.6986705660820007,
          0.677722692489624,
          0.5864312052726746,
          -0.20698612928390503,
          -0.6024519801139832,
          -0.08079532533884048,
          -0.2305150330066681,
          0.21512097120285034,
          1.1261674165725708,
          -1.3427097797393799,
          0.6021471619606018,
          0.5781193375587463,
          -1.4731355905532837,
          -0.19170740246772766,
          -0.3499612808227539,
          -0.6936784982681274,
          0.13756169378757477,
          0.15165983140468597,
          0.7638242840766907,
          -0.361795037984848,
          -0.5076364278793335,
          0.47265323996543884,
          -0.793928325176239,
          0.7057266235351562,
          0.45408573746681213,
          -0.5534825325012207,
          -0.1452423334121704,
          -0.051885541528463364,
          0.33661553263664246,
          0.4969039261341095,
          0.9224728941917419,
          0.5813404321670532,
          1.8251550197601318,
          0.6549949049949646,
          0.9079868793487549,
          0.28552117943763733,
          0.24235662817955017,
          -0.8628101348876953,
          1.1833486557006836,
          0.07479264587163925,
          -0.19551505148410797,
          0.8076992630958557,
          -0.08929246664047241,
          -0.5921037197113037,
          -0.5325750708580017,
          0.583372950553894,
          0.13865125179290771,
          -0.3881246745586395,
          1.196816325187683,
          1.078545331954956,
          0.7610828876495361,
          -1.752591848373413,
          -0.36101454496383667,
          -0.023916345089673996,
          -0.5735413432121277,
          -0.7230583429336548,
          -1.0983455181121826,
          -0.5927259922027588,
          0.4304959177970886,
          -0.2757885456085205,
          0.14989864826202393,
          0.41633936762809753,
          1.1982349157333374,
          0.10492007434368134,
          0.0982578694820404,
          0.3345847725868225,
          -0.7157467603683472,
          1.2269235849380493,
          0.2351294457912445,
          -0.2953251600265503,
          -0.5007339119911194,
          0.49555251002311707,
          -1.1462205648422241,
          0.8471867442131042,
          -1.4573360681533813,
          -0.7489057183265686,
          -0.21086765825748444,
          -0.4310854375362396,
          0.3276892900466919,
          -0.7147822380065918,
          -0.6326425075531006,
          -0.17967888712882996,
          0.8376789093017578,
          -0.14480270445346832,
          -0.7006815075874329,
          -0.4929761588573456,
          -0.35304486751556396,
          -1.3963055610656738,
          0.8691056370735168,
          -0.5539354085922241
         ]
        }
       ],
       "layout": {
        "legend": {
         "bgcolor": "#151516",
         "font": {
          "color": "#D9D9D9"
         }
        },
        "paper_bgcolor": "#151516",
        "plot_bgcolor": "#151516",
        "scene": {
         "xaxis": {
          "gridcolor": "#434343",
          "showgrid": true,
          "tickfont": {
           "color": "#C2C2C2"
          },
          "title": {
           "font": {
            "color": "#D9D9D9"
           },
           "text": ""
          },
          "zerolinecolor": "#666570"
         },
         "yaxis": {
          "gridcolor": "#434343",
          "showgrid": true,
          "tickfont": {
           "color": "#C2C2C2"
          },
          "title": {
           "font": {
            "color": "#D9D9D9"
           },
           "text": ""
          },
          "zerolinecolor": "#666570"
         },
         "zaxis": {
          "gridcolor": "#434343",
          "showgrid": true,
          "tickfont": {
           "color": "#C2C2C2"
          },
          "title": {
           "font": {
            "color": "#D9D9D9"
           },
           "text": ""
          },
          "zerolinecolor": "#666570"
         }
        },
        "template": {
         "data": {
          "bar": [
           {
            "error_x": {
             "color": "#2a3f5f"
            },
            "error_y": {
             "color": "#2a3f5f"
            },
            "marker": {
             "line": {
              "color": "#E5ECF6",
              "width": 0.5
             },
             "pattern": {
              "fillmode": "overlay",
              "size": 10,
              "solidity": 0.2
             }
            },
            "type": "bar"
           }
          ],
          "barpolar": [
           {
            "marker": {
             "line": {
              "color": "#E5ECF6",
              "width": 0.5
             },
             "pattern": {
              "fillmode": "overlay",
              "size": 10,
              "solidity": 0.2
             }
            },
            "type": "barpolar"
           }
          ],
          "carpet": [
           {
            "aaxis": {
             "endlinecolor": "#2a3f5f",
             "gridcolor": "white",
             "linecolor": "white",
             "minorgridcolor": "white",
             "startlinecolor": "#2a3f5f"
            },
            "baxis": {
             "endlinecolor": "#2a3f5f",
             "gridcolor": "white",
             "linecolor": "white",
             "minorgridcolor": "white",
             "startlinecolor": "#2a3f5f"
            },
            "type": "carpet"
           }
          ],
          "choropleth": [
           {
            "colorbar": {
             "outlinewidth": 0,
             "ticks": ""
            },
            "type": "choropleth"
           }
          ],
          "contour": [
           {
            "colorbar": {
             "outlinewidth": 0,
             "ticks": ""
            },
            "colorscale": [
             [
              0,
              "#0d0887"
             ],
             [
              0.1111111111111111,
              "#46039f"
             ],
             [
              0.2222222222222222,
              "#7201a8"
             ],
             [
              0.3333333333333333,
              "#9c179e"
             ],
             [
              0.4444444444444444,
              "#bd3786"
             ],
             [
              0.5555555555555556,
              "#d8576b"
             ],
             [
              0.6666666666666666,
              "#ed7953"
             ],
             [
              0.7777777777777778,
              "#fb9f3a"
             ],
             [
              0.8888888888888888,
              "#fdca26"
             ],
             [
              1,
              "#f0f921"
             ]
            ],
            "type": "contour"
           }
          ],
          "contourcarpet": [
           {
            "colorbar": {
             "outlinewidth": 0,
             "ticks": ""
            },
            "type": "contourcarpet"
           }
          ],
          "heatmap": [
           {
            "colorbar": {
             "outlinewidth": 0,
             "ticks": ""
            },
            "colorscale": [
             [
              0,
              "#0d0887"
             ],
             [
              0.1111111111111111,
              "#46039f"
             ],
             [
              0.2222222222222222,
              "#7201a8"
             ],
             [
              0.3333333333333333,
              "#9c179e"
             ],
             [
              0.4444444444444444,
              "#bd3786"
             ],
             [
              0.5555555555555556,
              "#d8576b"
             ],
             [
              0.6666666666666666,
              "#ed7953"
             ],
             [
              0.7777777777777778,
              "#fb9f3a"
             ],
             [
              0.8888888888888888,
              "#fdca26"
             ],
             [
              1,
              "#f0f921"
             ]
            ],
            "type": "heatmap"
           }
          ],
          "heatmapgl": [
           {
            "colorbar": {
             "outlinewidth": 0,
             "ticks": ""
            },
            "colorscale": [
             [
              0,
              "#0d0887"
             ],
             [
              0.1111111111111111,
              "#46039f"
             ],
             [
              0.2222222222222222,
              "#7201a8"
             ],
             [
              0.3333333333333333,
              "#9c179e"
             ],
             [
              0.4444444444444444,
              "#bd3786"
             ],
             [
              0.5555555555555556,
              "#d8576b"
             ],
             [
              0.6666666666666666,
              "#ed7953"
             ],
             [
              0.7777777777777778,
              "#fb9f3a"
             ],
             [
              0.8888888888888888,
              "#fdca26"
             ],
             [
              1,
              "#f0f921"
             ]
            ],
            "type": "heatmapgl"
           }
          ],
          "histogram": [
           {
            "marker": {
             "pattern": {
              "fillmode": "overlay",
              "size": 10,
              "solidity": 0.2
             }
            },
            "type": "histogram"
           }
          ],
          "histogram2d": [
           {
            "colorbar": {
             "outlinewidth": 0,
             "ticks": ""
            },
            "colorscale": [
             [
              0,
              "#0d0887"
             ],
             [
              0.1111111111111111,
              "#46039f"
             ],
             [
              0.2222222222222222,
              "#7201a8"
             ],
             [
              0.3333333333333333,
              "#9c179e"
             ],
             [
              0.4444444444444444,
              "#bd3786"
             ],
             [
              0.5555555555555556,
              "#d8576b"
             ],
             [
              0.6666666666666666,
              "#ed7953"
             ],
             [
              0.7777777777777778,
              "#fb9f3a"
             ],
             [
              0.8888888888888888,
              "#fdca26"
             ],
             [
              1,
              "#f0f921"
             ]
            ],
            "type": "histogram2d"
           }
          ],
          "histogram2dcontour": [
           {
            "colorbar": {
             "outlinewidth": 0,
             "ticks": ""
            },
            "colorscale": [
             [
              0,
              "#0d0887"
             ],
             [
              0.1111111111111111,
              "#46039f"
             ],
             [
              0.2222222222222222,
              "#7201a8"
             ],
             [
              0.3333333333333333,
              "#9c179e"
             ],
             [
              0.4444444444444444,
              "#bd3786"
             ],
             [
              0.5555555555555556,
              "#d8576b"
             ],
             [
              0.6666666666666666,
              "#ed7953"
             ],
             [
              0.7777777777777778,
              "#fb9f3a"
             ],
             [
              0.8888888888888888,
              "#fdca26"
             ],
             [
              1,
              "#f0f921"
             ]
            ],
            "type": "histogram2dcontour"
           }
          ],
          "mesh3d": [
           {
            "colorbar": {
             "outlinewidth": 0,
             "ticks": ""
            },
            "type": "mesh3d"
           }
          ],
          "parcoords": [
           {
            "line": {
             "colorbar": {
              "outlinewidth": 0,
              "ticks": ""
             }
            },
            "type": "parcoords"
           }
          ],
          "pie": [
           {
            "automargin": true,
            "type": "pie"
           }
          ],
          "scatter": [
           {
            "marker": {
             "colorbar": {
              "outlinewidth": 0,
              "ticks": ""
             }
            },
            "type": "scatter"
           }
          ],
          "scatter3d": [
           {
            "line": {
             "colorbar": {
              "outlinewidth": 0,
              "ticks": ""
             }
            },
            "marker": {
             "colorbar": {
              "outlinewidth": 0,
              "ticks": ""
             }
            },
            "type": "scatter3d"
           }
          ],
          "scattercarpet": [
           {
            "marker": {
             "colorbar": {
              "outlinewidth": 0,
              "ticks": ""
             }
            },
            "type": "scattercarpet"
           }
          ],
          "scattergeo": [
           {
            "marker": {
             "colorbar": {
              "outlinewidth": 0,
              "ticks": ""
             }
            },
            "type": "scattergeo"
           }
          ],
          "scattergl": [
           {
            "marker": {
             "colorbar": {
              "outlinewidth": 0,
              "ticks": ""
             }
            },
            "type": "scattergl"
           }
          ],
          "scattermapbox": [
           {
            "marker": {
             "colorbar": {
              "outlinewidth": 0,
              "ticks": ""
             }
            },
            "type": "scattermapbox"
           }
          ],
          "scatterpolar": [
           {
            "marker": {
             "colorbar": {
              "outlinewidth": 0,
              "ticks": ""
             }
            },
            "type": "scatterpolar"
           }
          ],
          "scatterpolargl": [
           {
            "marker": {
             "colorbar": {
              "outlinewidth": 0,
              "ticks": ""
             }
            },
            "type": "scatterpolargl"
           }
          ],
          "scatterternary": [
           {
            "marker": {
             "colorbar": {
              "outlinewidth": 0,
              "ticks": ""
             }
            },
            "type": "scatterternary"
           }
          ],
          "surface": [
           {
            "colorbar": {
             "outlinewidth": 0,
             "ticks": ""
            },
            "colorscale": [
             [
              0,
              "#0d0887"
             ],
             [
              0.1111111111111111,
              "#46039f"
             ],
             [
              0.2222222222222222,
              "#7201a8"
             ],
             [
              0.3333333333333333,
              "#9c179e"
             ],
             [
              0.4444444444444444,
              "#bd3786"
             ],
             [
              0.5555555555555556,
              "#d8576b"
             ],
             [
              0.6666666666666666,
              "#ed7953"
             ],
             [
              0.7777777777777778,
              "#fb9f3a"
             ],
             [
              0.8888888888888888,
              "#fdca26"
             ],
             [
              1,
              "#f0f921"
             ]
            ],
            "type": "surface"
           }
          ],
          "table": [
           {
            "cells": {
             "fill": {
              "color": "#EBF0F8"
             },
             "line": {
              "color": "white"
             }
            },
            "header": {
             "fill": {
              "color": "#C8D4E3"
             },
             "line": {
              "color": "white"
             }
            },
            "type": "table"
           }
          ]
         },
         "layout": {
          "annotationdefaults": {
           "arrowcolor": "#2a3f5f",
           "arrowhead": 0,
           "arrowwidth": 1
          },
          "autotypenumbers": "strict",
          "coloraxis": {
           "colorbar": {
            "outlinewidth": 0,
            "ticks": ""
           }
          },
          "colorscale": {
           "diverging": [
            [
             0,
             "#8e0152"
            ],
            [
             0.1,
             "#c51b7d"
            ],
            [
             0.2,
             "#de77ae"
            ],
            [
             0.3,
             "#f1b6da"
            ],
            [
             0.4,
             "#fde0ef"
            ],
            [
             0.5,
             "#f7f7f7"
            ],
            [
             0.6,
             "#e6f5d0"
            ],
            [
             0.7,
             "#b8e186"
            ],
            [
             0.8,
             "#7fbc41"
            ],
            [
             0.9,
             "#4d9221"
            ],
            [
             1,
             "#276419"
            ]
           ],
           "sequential": [
            [
             0,
             "#0d0887"
            ],
            [
             0.1111111111111111,
             "#46039f"
            ],
            [
             0.2222222222222222,
             "#7201a8"
            ],
            [
             0.3333333333333333,
             "#9c179e"
            ],
            [
             0.4444444444444444,
             "#bd3786"
            ],
            [
             0.5555555555555556,
             "#d8576b"
            ],
            [
             0.6666666666666666,
             "#ed7953"
            ],
            [
             0.7777777777777778,
             "#fb9f3a"
            ],
            [
             0.8888888888888888,
             "#fdca26"
            ],
            [
             1,
             "#f0f921"
            ]
           ],
           "sequentialminus": [
            [
             0,
             "#0d0887"
            ],
            [
             0.1111111111111111,
             "#46039f"
            ],
            [
             0.2222222222222222,
             "#7201a8"
            ],
            [
             0.3333333333333333,
             "#9c179e"
            ],
            [
             0.4444444444444444,
             "#bd3786"
            ],
            [
             0.5555555555555556,
             "#d8576b"
            ],
            [
             0.6666666666666666,
             "#ed7953"
            ],
            [
             0.7777777777777778,
             "#fb9f3a"
            ],
            [
             0.8888888888888888,
             "#fdca26"
            ],
            [
             1,
             "#f0f921"
            ]
           ]
          },
          "colorway": [
           "#636efa",
           "#EF553B",
           "#00cc96",
           "#ab63fa",
           "#FFA15A",
           "#19d3f3",
           "#FF6692",
           "#B6E880",
           "#FF97FF",
           "#FECB52"
          ],
          "font": {
           "color": "#2a3f5f"
          },
          "geo": {
           "bgcolor": "white",
           "lakecolor": "white",
           "landcolor": "#E5ECF6",
           "showlakes": true,
           "showland": true,
           "subunitcolor": "white"
          },
          "hoverlabel": {
           "align": "left"
          },
          "hovermode": "closest",
          "mapbox": {
           "style": "light"
          },
          "paper_bgcolor": "white",
          "plot_bgcolor": "#E5ECF6",
          "polar": {
           "angularaxis": {
            "gridcolor": "white",
            "linecolor": "white",
            "ticks": ""
           },
           "bgcolor": "#E5ECF6",
           "radialaxis": {
            "gridcolor": "white",
            "linecolor": "white",
            "ticks": ""
           }
          },
          "scene": {
           "xaxis": {
            "backgroundcolor": "#E5ECF6",
            "gridcolor": "white",
            "gridwidth": 2,
            "linecolor": "white",
            "showbackground": true,
            "ticks": "",
            "zerolinecolor": "white"
           },
           "yaxis": {
            "backgroundcolor": "#E5ECF6",
            "gridcolor": "white",
            "gridwidth": 2,
            "linecolor": "white",
            "showbackground": true,
            "ticks": "",
            "zerolinecolor": "white"
           },
           "zaxis": {
            "backgroundcolor": "#E5ECF6",
            "gridcolor": "white",
            "gridwidth": 2,
            "linecolor": "white",
            "showbackground": true,
            "ticks": "",
            "zerolinecolor": "white"
           }
          },
          "shapedefaults": {
           "line": {
            "color": "#2a3f5f"
           }
          },
          "ternary": {
           "aaxis": {
            "gridcolor": "white",
            "linecolor": "white",
            "ticks": ""
           },
           "baxis": {
            "gridcolor": "white",
            "linecolor": "white",
            "ticks": ""
           },
           "bgcolor": "#E5ECF6",
           "caxis": {
            "gridcolor": "white",
            "linecolor": "white",
            "ticks": ""
           }
          },
          "title": {
           "x": 0.05
          },
          "xaxis": {
           "automargin": true,
           "gridcolor": "white",
           "linecolor": "white",
           "ticks": "",
           "title": {
            "standoff": 15
           },
           "zerolinecolor": "white",
           "zerolinewidth": 2
          },
          "yaxis": {
           "automargin": true,
           "gridcolor": "white",
           "linecolor": "white",
           "ticks": "",
           "title": {
            "standoff": 15
           },
           "zerolinecolor": "white",
           "zerolinewidth": 2
          }
         }
        },
        "title": {
         "font": {
          "color": "#D9D9D9"
         }
        }
       }
      },
      "text/html": [
       "<div>                            <div id=\"d49f8715-44c6-4c86-9605-4d19781b196e\" class=\"plotly-graph-div\" style=\"height:525px; width:100%;\"></div>            <script type=\"text/javascript\">                require([\"plotly\"], function(Plotly) {                    window.PLOTLYENV=window.PLOTLYENV || {};\n",
       "                    window.PLOTLYENV.BASE_URL='https://plot.ly';                                    if (document.getElementById(\"d49f8715-44c6-4c86-9605-4d19781b196e\")) {                    Plotly.newPlot(                        \"d49f8715-44c6-4c86-9605-4d19781b196e\",                        [{\"marker\":{\"color\":[\"rgba(255, 153, 51, 1.0)\",\"rgba(55, 128, 191, 1.0)\",\"rgba(50, 171, 96, 1.0)\",\"rgba(128, 0, 128, 1.0)\",\"rgba(219, 64, 82, 1.0)\",\"rgba(0, 128, 128, 1.0)\",\"rgba(255, 255, 51, 1.0)\",\"rgba(128, 128, 0, 1.0)\",\"rgba(251, 128, 114, 1.0)\",\"rgba(128, 177, 211, 1.0)\",\"rgba(128, 177, 211, 0.9199999999999999)\",\"rgba(255, 153, 51, 0.9199999999999999)\",\"rgba(55, 128, 191, 0.9199999999999999)\",\"rgba(50, 171, 96, 0.9199999999999999)\",\"rgba(128, 0, 128, 0.9199999999999999)\",\"rgba(219, 64, 82, 0.9199999999999999)\",\"rgba(0, 128, 128, 0.9199999999999999)\",\"rgba(255, 255, 51, 0.9199999999999999)\",\"rgba(128, 128, 0, 0.9199999999999999)\",\"rgba(251, 128, 114, 0.9199999999999999)\",\"rgba(251, 128, 114, 0.8399999999999999)\",\"rgba(128, 177, 211, 0.8399999999999999)\",\"rgba(255, 153, 51, 0.8399999999999999)\",\"rgba(55, 128, 191, 0.8399999999999999)\",\"rgba(50, 171, 96, 0.8399999999999999)\",\"rgba(128, 0, 128, 0.8399999999999999)\",\"rgba(219, 64, 82, 0.8399999999999999)\",\"rgba(0, 128, 128, 0.8399999999999999)\",\"rgba(255, 255, 51, 0.8399999999999999)\",\"rgba(128, 128, 0, 0.8399999999999999)\",\"rgba(128, 128, 0, 0.76)\",\"rgba(251, 128, 114, 0.76)\",\"rgba(128, 177, 211, 0.76)\",\"rgba(255, 153, 51, 0.76)\",\"rgba(55, 128, 191, 0.76)\",\"rgba(50, 171, 96, 0.76)\",\"rgba(128, 0, 128, 0.76)\",\"rgba(219, 64, 82, 0.76)\",\"rgba(0, 128, 128, 0.76)\",\"rgba(255, 255, 51, 0.76)\",\"rgba(255, 255, 51, 0.6799999999999999)\",\"rgba(128, 128, 0, 0.6799999999999999)\",\"rgba(251, 128, 114, 0.6799999999999999)\",\"rgba(128, 177, 211, 0.6799999999999999)\",\"rgba(255, 153, 51, 0.6799999999999999)\",\"rgba(55, 128, 191, 0.6799999999999999)\",\"rgba(50, 171, 96, 0.6799999999999999)\",\"rgba(128, 0, 128, 0.6799999999999999)\",\"rgba(219, 64, 82, 0.6799999999999999)\",\"rgba(0, 128, 128, 0.6799999999999999)\",\"rgba(0, 128, 128, 0.5999999999999999)\",\"rgba(255, 255, 51, 0.5999999999999999)\",\"rgba(128, 128, 0, 0.5999999999999999)\",\"rgba(251, 128, 114, 0.5999999999999999)\",\"rgba(128, 177, 211, 0.5999999999999999)\",\"rgba(255, 153, 51, 0.5999999999999999)\",\"rgba(55, 128, 191, 0.5999999999999999)\",\"rgba(50, 171, 96, 0.5999999999999999)\",\"rgba(128, 0, 128, 0.5999999999999999)\",\"rgba(219, 64, 82, 0.5999999999999999)\",\"rgba(219, 64, 82, 0.5199999999999998)\",\"rgba(0, 128, 128, 0.5199999999999998)\",\"rgba(255, 255, 51, 0.5199999999999998)\",\"rgba(128, 128, 0, 0.5199999999999998)\",\"rgba(251, 128, 114, 0.5199999999999998)\",\"rgba(128, 177, 211, 0.5199999999999998)\",\"rgba(255, 153, 51, 0.5199999999999998)\",\"rgba(55, 128, 191, 0.5199999999999998)\",\"rgba(50, 171, 96, 0.5199999999999998)\",\"rgba(128, 0, 128, 0.5199999999999998)\",\"rgba(128, 0, 128, 0.44)\",\"rgba(219, 64, 82, 0.44)\",\"rgba(0, 128, 128, 0.44)\",\"rgba(255, 255, 51, 0.44)\",\"rgba(128, 128, 0, 0.44)\",\"rgba(251, 128, 114, 0.44)\",\"rgba(128, 177, 211, 0.44)\",\"rgba(255, 153, 51, 0.44)\",\"rgba(55, 128, 191, 0.44)\",\"rgba(50, 171, 96, 0.44)\",\"rgba(50, 171, 96, 0.35999999999999993)\",\"rgba(128, 0, 128, 0.35999999999999993)\",\"rgba(219, 64, 82, 0.35999999999999993)\",\"rgba(0, 128, 128, 0.35999999999999993)\",\"rgba(255, 255, 51, 0.35999999999999993)\",\"rgba(128, 128, 0, 0.35999999999999993)\",\"rgba(251, 128, 114, 0.35999999999999993)\",\"rgba(128, 177, 211, 0.35999999999999993)\",\"rgba(255, 153, 51, 0.35999999999999993)\",\"rgba(55, 128, 191, 0.35999999999999993)\",\"rgba(55, 128, 191, 0.27999999999999986)\",\"rgba(50, 171, 96, 0.27999999999999986)\",\"rgba(128, 0, 128, 0.27999999999999986)\",\"rgba(219, 64, 82, 0.27999999999999986)\",\"rgba(0, 128, 128, 0.27999999999999986)\",\"rgba(255, 255, 51, 0.27999999999999986)\",\"rgba(128, 128, 0, 0.27999999999999986)\",\"rgba(251, 128, 114, 0.27999999999999986)\",\"rgba(128, 177, 211, 0.27999999999999986)\",\"rgba(255, 153, 51, 0.27999999999999986)\"],\"opacity\":0.8,\"size\":[12,12,12,12,12,12,12,12,12,12,12,12,12,12,12,12,12,12,12,12,12,12,12,12,12,12,12,12,12,12,12,12,12,12,12,12,12,12,12,12,12,12,12,12,12,12,12,12,12,12,12,12,12,12,12,12,12,12,12,12,12,12,12,12,12,12,12,12,12,12,12,12,12,12,12,12,12,12,12,12,12,12,12,12,12,12,12,12,12,12,12,12,12,12,12,12,12,12,12,12],\"symbol\":\"circle\"},\"mode\":\"markers\",\"text\":[\"0\",\"1\",\"2\",\"3\",\"4\",\"5\",\"6\",\"7\",\"8\",\"9\",\"10\",\"11\",\"12\",\"13\",\"14\",\"15\",\"16\",\"17\",\"18\",\"19\",\"20\",\"21\",\"22\",\"23\",\"24\",\"25\",\"26\",\"27\",\"28\",\"29\",\"30\",\"31\",\"32\",\"33\",\"34\",\"35\",\"36\",\"37\",\"38\",\"39\",\"40\",\"41\",\"42\",\"43\",\"44\",\"45\",\"46\",\"47\",\"48\",\"49\",\"50\",\"51\",\"52\",\"53\",\"54\",\"55\",\"56\",\"57\",\"58\",\"59\",\"60\",\"61\",\"62\",\"63\",\"64\",\"65\",\"66\",\"67\",\"68\",\"69\",\"70\",\"71\",\"72\",\"73\",\"74\",\"75\",\"76\",\"77\",\"78\",\"79\",\"80\",\"81\",\"82\",\"83\",\"84\",\"85\",\"86\",\"87\",\"88\",\"89\",\"90\",\"91\",\"92\",\"93\",\"94\",\"95\",\"96\",\"97\",\"98\",\"99\"],\"type\":\"scatter3d\",\"x\":[1.3840585947036743,0.7095082998275757,-0.8347377181053162,3.3712430000305176,-0.6874758005142212,-0.6794062256813049,0.30363476276397705,-0.7089464664459229,-0.9526349902153015,0.2009676694869995,0.5177438855171204,1.0283149480819702,0.3524029850959778,-0.9970094561576843,-0.19487044215202332,-0.6727305054664612,-0.7071247100830078,-0.2762534022331238,-0.03810959681868553,-0.4763646423816681,0.21277856826782227,0.8684632182121277,-0.11586504429578781,-0.7958372831344604,-0.601543664932251,-0.4964278042316437,-0.2061343640089035,-0.01465221680700779,-0.16528958082199097,0.08321192860603333,3.7397992610931396,-1.1288726329803467,0.6149671673774719,-0.5182385444641113,-1.131271481513977,-0.013615836389362812,0.16576501727104187,4.243227958679199,3.682429313659668,-0.6946994662284851,0.15294864773750305,2.3114840984344482,-0.5371783971786499,-0.3796737492084503,0.07775665819644928,-0.7139737606048584,-0.21783548593521118,0.10767491161823273,-0.28000056743621826,0.24306538701057434,-0.3135438859462738,-1.1706140041351318,-0.6816320419311523,0.5179460644721985,3.8837239742279053,-0.6643319725990295,4.204517364501953,-0.6306656002998352,0.10813607275485992,0.11904256790876389,-0.5197018980979919,-0.6294897794723511,-1.0636975765228271,0.38803914189338684,-0.9255277514457703,0.33010855317115784,0.260817289352417,-1.1585423946380615,-1.2579771280288696,-0.6798613667488098,-0.4834536015987396,-0.44446226954460144,0.26845458149909973,-0.6744973659515381,-0.021772297099232674,-0.18009337782859802,-0.30220988392829895,-1.2666963338851929,-1.0978456735610962,0.007381638512015343,-0.3918960988521576,0.009534523822367191,0.3807390332221985,0.46242332458496094,-0.5807894468307495,-0.07498767971992493,-0.5852766633033752,-0.8660043478012085,0.06369395554065704,0.001202028477564454,-0.21072018146514893,-0.28654229640960693,-0.30908721685409546,-0.7427963614463806,-0.33977368474006653,-0.42438939213752747,-0.4374801516532898,0.5030241012573242,-0.8841208219528198,-0.3429737985134125],\"y\":[-0.4373643696308136,-1.3015979528427124,-1.1532765626907349,0.804111897945404,-0.5445942282676697,-0.7905316948890686,0.01814279519021511,0.36518993973731995,0.3145787715911865,-0.28331121802330017,-0.7047143578529358,0.038221683353185654,-1.3849828243255615,0.4411735534667969,0.4694703221321106,-0.3355429172515869,-0.8103354573249817,-0.18373404443264008,1.5009212493896484,-1.3971866369247437,-0.5962997674942017,0.9408518671989441,0.518608033657074,1.2544589042663574,0.24762459099292755,-0.9360513687133789,0.2143375128507614,-0.4125136137008667,1.0985966920852661,-0.6967082619667053,0.06843861937522888,0.28668200969696045,0.03427086025476456,0.8354824185371399,0.798793613910675,-0.7991141080856323,0.4220333695411682,0.08793068677186966,-0.24219171702861786,0.5901182889938354,-2.060065746307373,1.2812069654464722,-0.6066194772720337,-1.2376906871795654,-0.23317381739616394,0.029034970328211784,1.0776952505111694,0.44249483942985535,0.6052976846694946,0.8465761542320251,1.4588136672973633,-0.665212869644165,-0.036983780562877655,1.3032176494598389,0.2858092784881592,-0.05249834433197975,-1.169860601425171,0.13647907972335815,-0.8044497966766357,0.03686618432402611,-0.35919347405433655,2.0823183059692383,-0.17985105514526367,0.6433695554733276,0.07022339105606079,-0.16767571866512299,-0.6882428526878357,0.7868361473083496,-0.2190079391002655,0.15496303141117096,-0.04760541021823883,0.3781448006629944,-0.5298682451248169,-0.6307991743087769,-0.6312928199768066,0.5036794543266296,0.45735687017440796,-1.3032997846603394,-0.40931135416030884,-0.0895097553730011,-1.2823394536972046,0.3064518868923187,0.2006792426109314,1.249898910522461,-0.8936049342155457,0.8557721972465515,-0.1763046532869339,0.2060462385416031,-0.6790484189987183,-0.8289922475814819,-0.4336005747318268,-0.2393323928117752,1.1891332864761353,0.5127389430999756,-0.19360962510108948,-0.7488168478012085,1.2908867597579956,-0.7302912473678589,0.8096156716346741,0.7865605354309082],\"z\":[-0.029458915814757347,-0.36361321806907654,0.8978951573371887,0.7535890936851501,-0.005997671280056238,-0.9600052237510681,0.7472952604293823,0.42381587624549866,-0.33959686756134033,-0.22373740375041962,-0.6986705660820007,0.677722692489624,0.5864312052726746,-0.20698612928390503,-0.6024519801139832,-0.08079532533884048,-0.2305150330066681,0.21512097120285034,1.1261674165725708,-1.3427097797393799,0.6021471619606018,0.5781193375587463,-1.4731355905532837,-0.19170740246772766,-0.3499612808227539,-0.6936784982681274,0.13756169378757477,0.15165983140468597,0.7638242840766907,-0.361795037984848,-0.5076364278793335,0.47265323996543884,-0.793928325176239,0.7057266235351562,0.45408573746681213,-0.5534825325012207,-0.1452423334121704,-0.051885541528463364,0.33661553263664246,0.4969039261341095,0.9224728941917419,0.5813404321670532,1.8251550197601318,0.6549949049949646,0.9079868793487549,0.28552117943763733,0.24235662817955017,-0.8628101348876953,1.1833486557006836,0.07479264587163925,-0.19551505148410797,0.8076992630958557,-0.08929246664047241,-0.5921037197113037,-0.5325750708580017,0.583372950553894,0.13865125179290771,-0.3881246745586395,1.196816325187683,1.078545331954956,0.7610828876495361,-1.752591848373413,-0.36101454496383667,-0.023916345089673996,-0.5735413432121277,-0.7230583429336548,-1.0983455181121826,-0.5927259922027588,0.4304959177970886,-0.2757885456085205,0.14989864826202393,0.41633936762809753,1.1982349157333374,0.10492007434368134,0.0982578694820404,0.3345847725868225,-0.7157467603683472,1.2269235849380493,0.2351294457912445,-0.2953251600265503,-0.5007339119911194,0.49555251002311707,-1.1462205648422241,0.8471867442131042,-1.4573360681533813,-0.7489057183265686,-0.21086765825748444,-0.4310854375362396,0.3276892900466919,-0.7147822380065918,-0.6326425075531006,-0.17967888712882996,0.8376789093017578,-0.14480270445346832,-0.7006815075874329,-0.4929761588573456,-0.35304486751556396,-1.3963055610656738,0.8691056370735168,-0.5539354085922241]}],                        {\"legend\":{\"bgcolor\":\"#151516\",\"font\":{\"color\":\"#D9D9D9\"}},\"paper_bgcolor\":\"#151516\",\"plot_bgcolor\":\"#151516\",\"scene\":{\"xaxis\":{\"gridcolor\":\"#434343\",\"showgrid\":true,\"tickfont\":{\"color\":\"#C2C2C2\"},\"title\":{\"font\":{\"color\":\"#D9D9D9\"},\"text\":\"\"},\"zerolinecolor\":\"#666570\"},\"yaxis\":{\"gridcolor\":\"#434343\",\"showgrid\":true,\"tickfont\":{\"color\":\"#C2C2C2\"},\"title\":{\"font\":{\"color\":\"#D9D9D9\"},\"text\":\"\"},\"zerolinecolor\":\"#666570\"},\"zaxis\":{\"gridcolor\":\"#434343\",\"showgrid\":true,\"tickfont\":{\"color\":\"#C2C2C2\"},\"title\":{\"font\":{\"color\":\"#D9D9D9\"},\"text\":\"\"},\"zerolinecolor\":\"#666570\"}},\"template\":{\"data\":{\"bar\":[{\"error_x\":{\"color\":\"#2a3f5f\"},\"error_y\":{\"color\":\"#2a3f5f\"},\"marker\":{\"line\":{\"color\":\"#E5ECF6\",\"width\":0.5},\"pattern\":{\"fillmode\":\"overlay\",\"size\":10,\"solidity\":0.2}},\"type\":\"bar\"}],\"barpolar\":[{\"marker\":{\"line\":{\"color\":\"#E5ECF6\",\"width\":0.5},\"pattern\":{\"fillmode\":\"overlay\",\"size\":10,\"solidity\":0.2}},\"type\":\"barpolar\"}],\"carpet\":[{\"aaxis\":{\"endlinecolor\":\"#2a3f5f\",\"gridcolor\":\"white\",\"linecolor\":\"white\",\"minorgridcolor\":\"white\",\"startlinecolor\":\"#2a3f5f\"},\"baxis\":{\"endlinecolor\":\"#2a3f5f\",\"gridcolor\":\"white\",\"linecolor\":\"white\",\"minorgridcolor\":\"white\",\"startlinecolor\":\"#2a3f5f\"},\"type\":\"carpet\"}],\"choropleth\":[{\"colorbar\":{\"outlinewidth\":0,\"ticks\":\"\"},\"type\":\"choropleth\"}],\"contour\":[{\"colorbar\":{\"outlinewidth\":0,\"ticks\":\"\"},\"colorscale\":[[0.0,\"#0d0887\"],[0.1111111111111111,\"#46039f\"],[0.2222222222222222,\"#7201a8\"],[0.3333333333333333,\"#9c179e\"],[0.4444444444444444,\"#bd3786\"],[0.5555555555555556,\"#d8576b\"],[0.6666666666666666,\"#ed7953\"],[0.7777777777777778,\"#fb9f3a\"],[0.8888888888888888,\"#fdca26\"],[1.0,\"#f0f921\"]],\"type\":\"contour\"}],\"contourcarpet\":[{\"colorbar\":{\"outlinewidth\":0,\"ticks\":\"\"},\"type\":\"contourcarpet\"}],\"heatmap\":[{\"colorbar\":{\"outlinewidth\":0,\"ticks\":\"\"},\"colorscale\":[[0.0,\"#0d0887\"],[0.1111111111111111,\"#46039f\"],[0.2222222222222222,\"#7201a8\"],[0.3333333333333333,\"#9c179e\"],[0.4444444444444444,\"#bd3786\"],[0.5555555555555556,\"#d8576b\"],[0.6666666666666666,\"#ed7953\"],[0.7777777777777778,\"#fb9f3a\"],[0.8888888888888888,\"#fdca26\"],[1.0,\"#f0f921\"]],\"type\":\"heatmap\"}],\"heatmapgl\":[{\"colorbar\":{\"outlinewidth\":0,\"ticks\":\"\"},\"colorscale\":[[0.0,\"#0d0887\"],[0.1111111111111111,\"#46039f\"],[0.2222222222222222,\"#7201a8\"],[0.3333333333333333,\"#9c179e\"],[0.4444444444444444,\"#bd3786\"],[0.5555555555555556,\"#d8576b\"],[0.6666666666666666,\"#ed7953\"],[0.7777777777777778,\"#fb9f3a\"],[0.8888888888888888,\"#fdca26\"],[1.0,\"#f0f921\"]],\"type\":\"heatmapgl\"}],\"histogram\":[{\"marker\":{\"pattern\":{\"fillmode\":\"overlay\",\"size\":10,\"solidity\":0.2}},\"type\":\"histogram\"}],\"histogram2d\":[{\"colorbar\":{\"outlinewidth\":0,\"ticks\":\"\"},\"colorscale\":[[0.0,\"#0d0887\"],[0.1111111111111111,\"#46039f\"],[0.2222222222222222,\"#7201a8\"],[0.3333333333333333,\"#9c179e\"],[0.4444444444444444,\"#bd3786\"],[0.5555555555555556,\"#d8576b\"],[0.6666666666666666,\"#ed7953\"],[0.7777777777777778,\"#fb9f3a\"],[0.8888888888888888,\"#fdca26\"],[1.0,\"#f0f921\"]],\"type\":\"histogram2d\"}],\"histogram2dcontour\":[{\"colorbar\":{\"outlinewidth\":0,\"ticks\":\"\"},\"colorscale\":[[0.0,\"#0d0887\"],[0.1111111111111111,\"#46039f\"],[0.2222222222222222,\"#7201a8\"],[0.3333333333333333,\"#9c179e\"],[0.4444444444444444,\"#bd3786\"],[0.5555555555555556,\"#d8576b\"],[0.6666666666666666,\"#ed7953\"],[0.7777777777777778,\"#fb9f3a\"],[0.8888888888888888,\"#fdca26\"],[1.0,\"#f0f921\"]],\"type\":\"histogram2dcontour\"}],\"mesh3d\":[{\"colorbar\":{\"outlinewidth\":0,\"ticks\":\"\"},\"type\":\"mesh3d\"}],\"parcoords\":[{\"line\":{\"colorbar\":{\"outlinewidth\":0,\"ticks\":\"\"}},\"type\":\"parcoords\"}],\"pie\":[{\"automargin\":true,\"type\":\"pie\"}],\"scatter\":[{\"marker\":{\"colorbar\":{\"outlinewidth\":0,\"ticks\":\"\"}},\"type\":\"scatter\"}],\"scatter3d\":[{\"line\":{\"colorbar\":{\"outlinewidth\":0,\"ticks\":\"\"}},\"marker\":{\"colorbar\":{\"outlinewidth\":0,\"ticks\":\"\"}},\"type\":\"scatter3d\"}],\"scattercarpet\":[{\"marker\":{\"colorbar\":{\"outlinewidth\":0,\"ticks\":\"\"}},\"type\":\"scattercarpet\"}],\"scattergeo\":[{\"marker\":{\"colorbar\":{\"outlinewidth\":0,\"ticks\":\"\"}},\"type\":\"scattergeo\"}],\"scattergl\":[{\"marker\":{\"colorbar\":{\"outlinewidth\":0,\"ticks\":\"\"}},\"type\":\"scattergl\"}],\"scattermapbox\":[{\"marker\":{\"colorbar\":{\"outlinewidth\":0,\"ticks\":\"\"}},\"type\":\"scattermapbox\"}],\"scatterpolar\":[{\"marker\":{\"colorbar\":{\"outlinewidth\":0,\"ticks\":\"\"}},\"type\":\"scatterpolar\"}],\"scatterpolargl\":[{\"marker\":{\"colorbar\":{\"outlinewidth\":0,\"ticks\":\"\"}},\"type\":\"scatterpolargl\"}],\"scatterternary\":[{\"marker\":{\"colorbar\":{\"outlinewidth\":0,\"ticks\":\"\"}},\"type\":\"scatterternary\"}],\"surface\":[{\"colorbar\":{\"outlinewidth\":0,\"ticks\":\"\"},\"colorscale\":[[0.0,\"#0d0887\"],[0.1111111111111111,\"#46039f\"],[0.2222222222222222,\"#7201a8\"],[0.3333333333333333,\"#9c179e\"],[0.4444444444444444,\"#bd3786\"],[0.5555555555555556,\"#d8576b\"],[0.6666666666666666,\"#ed7953\"],[0.7777777777777778,\"#fb9f3a\"],[0.8888888888888888,\"#fdca26\"],[1.0,\"#f0f921\"]],\"type\":\"surface\"}],\"table\":[{\"cells\":{\"fill\":{\"color\":\"#EBF0F8\"},\"line\":{\"color\":\"white\"}},\"header\":{\"fill\":{\"color\":\"#C8D4E3\"},\"line\":{\"color\":\"white\"}},\"type\":\"table\"}]},\"layout\":{\"annotationdefaults\":{\"arrowcolor\":\"#2a3f5f\",\"arrowhead\":0,\"arrowwidth\":1},\"autotypenumbers\":\"strict\",\"coloraxis\":{\"colorbar\":{\"outlinewidth\":0,\"ticks\":\"\"}},\"colorscale\":{\"diverging\":[[0,\"#8e0152\"],[0.1,\"#c51b7d\"],[0.2,\"#de77ae\"],[0.3,\"#f1b6da\"],[0.4,\"#fde0ef\"],[0.5,\"#f7f7f7\"],[0.6,\"#e6f5d0\"],[0.7,\"#b8e186\"],[0.8,\"#7fbc41\"],[0.9,\"#4d9221\"],[1,\"#276419\"]],\"sequential\":[[0.0,\"#0d0887\"],[0.1111111111111111,\"#46039f\"],[0.2222222222222222,\"#7201a8\"],[0.3333333333333333,\"#9c179e\"],[0.4444444444444444,\"#bd3786\"],[0.5555555555555556,\"#d8576b\"],[0.6666666666666666,\"#ed7953\"],[0.7777777777777778,\"#fb9f3a\"],[0.8888888888888888,\"#fdca26\"],[1.0,\"#f0f921\"]],\"sequentialminus\":[[0.0,\"#0d0887\"],[0.1111111111111111,\"#46039f\"],[0.2222222222222222,\"#7201a8\"],[0.3333333333333333,\"#9c179e\"],[0.4444444444444444,\"#bd3786\"],[0.5555555555555556,\"#d8576b\"],[0.6666666666666666,\"#ed7953\"],[0.7777777777777778,\"#fb9f3a\"],[0.8888888888888888,\"#fdca26\"],[1.0,\"#f0f921\"]]},\"colorway\":[\"#636efa\",\"#EF553B\",\"#00cc96\",\"#ab63fa\",\"#FFA15A\",\"#19d3f3\",\"#FF6692\",\"#B6E880\",\"#FF97FF\",\"#FECB52\"],\"font\":{\"color\":\"#2a3f5f\"},\"geo\":{\"bgcolor\":\"white\",\"lakecolor\":\"white\",\"landcolor\":\"#E5ECF6\",\"showlakes\":true,\"showland\":true,\"subunitcolor\":\"white\"},\"hoverlabel\":{\"align\":\"left\"},\"hovermode\":\"closest\",\"mapbox\":{\"style\":\"light\"},\"paper_bgcolor\":\"white\",\"plot_bgcolor\":\"#E5ECF6\",\"polar\":{\"angularaxis\":{\"gridcolor\":\"white\",\"linecolor\":\"white\",\"ticks\":\"\"},\"bgcolor\":\"#E5ECF6\",\"radialaxis\":{\"gridcolor\":\"white\",\"linecolor\":\"white\",\"ticks\":\"\"}},\"scene\":{\"xaxis\":{\"backgroundcolor\":\"#E5ECF6\",\"gridcolor\":\"white\",\"gridwidth\":2,\"linecolor\":\"white\",\"showbackground\":true,\"ticks\":\"\",\"zerolinecolor\":\"white\"},\"yaxis\":{\"backgroundcolor\":\"#E5ECF6\",\"gridcolor\":\"white\",\"gridwidth\":2,\"linecolor\":\"white\",\"showbackground\":true,\"ticks\":\"\",\"zerolinecolor\":\"white\"},\"zaxis\":{\"backgroundcolor\":\"#E5ECF6\",\"gridcolor\":\"white\",\"gridwidth\":2,\"linecolor\":\"white\",\"showbackground\":true,\"ticks\":\"\",\"zerolinecolor\":\"white\"}},\"shapedefaults\":{\"line\":{\"color\":\"#2a3f5f\"}},\"ternary\":{\"aaxis\":{\"gridcolor\":\"white\",\"linecolor\":\"white\",\"ticks\":\"\"},\"baxis\":{\"gridcolor\":\"white\",\"linecolor\":\"white\",\"ticks\":\"\"},\"bgcolor\":\"#E5ECF6\",\"caxis\":{\"gridcolor\":\"white\",\"linecolor\":\"white\",\"ticks\":\"\"}},\"title\":{\"x\":0.05},\"xaxis\":{\"automargin\":true,\"gridcolor\":\"white\",\"linecolor\":\"white\",\"ticks\":\"\",\"title\":{\"standoff\":15},\"zerolinecolor\":\"white\",\"zerolinewidth\":2},\"yaxis\":{\"automargin\":true,\"gridcolor\":\"white\",\"linecolor\":\"white\",\"ticks\":\"\",\"title\":{\"standoff\":15},\"zerolinecolor\":\"white\",\"zerolinewidth\":2}}},\"title\":{\"font\":{\"color\":\"#D9D9D9\"}}},                        {\"showLink\": true, \"linkText\": \"Export to plot.ly\", \"plotlyServerURL\": \"https://plot.ly\", \"responsive\": true}                    ).then(function(){\n",
       "                            \n",
       "var gd = document.getElementById('d49f8715-44c6-4c86-9605-4d19781b196e');\n",
       "var x = new MutationObserver(function (mutations, observer) {{\n",
       "        var display = window.getComputedStyle(gd).display;\n",
       "        if (!display || display === 'none') {{\n",
       "            console.log([gd, 'removed!']);\n",
       "            Plotly.purge(gd);\n",
       "            observer.disconnect();\n",
       "        }}\n",
       "}});\n",
       "\n",
       "// Listen for the removal of the full notebook cells\n",
       "var notebookContainer = gd.closest('#notebook-container');\n",
       "if (notebookContainer) {{\n",
       "    x.observe(notebookContainer, {childList: true});\n",
       "}}\n",
       "\n",
       "// Listen for the clearing of the current output cell\n",
       "var outputEl = gd.closest('.output');\n",
       "if (outputEl) {{\n",
       "    x.observe(outputEl, {childList: true});\n",
       "}}\n",
       "\n",
       "                        })                };                });            </script>        </div>"
      ]
     },
     "metadata": {}
    }
   ],
   "metadata": {
    "execution": {
     "iopub.execute_input": "2021-09-04T16:13:43.518900Z",
     "iopub.status.busy": "2021-09-04T16:13:43.518530Z",
     "iopub.status.idle": "2021-09-04T16:13:44.477347Z",
     "shell.execute_reply": "2021-09-04T16:13:44.476567Z",
     "shell.execute_reply.started": "2021-09-04T16:13:43.518856Z"
    }
   }
  },
  {
   "cell_type": "markdown",
   "source": [
    "### K-Means"
   ],
   "metadata": {}
  },
  {
   "cell_type": "code",
   "execution_count": 52,
   "source": [
    "cluster = KMeans(n_clusters=3, random_state=777)\n",
    "df[\"cl\"] = Xs[\"cl\"] = Xp[\"cl\"] = [str(x) for x in cluster.fit_predict(Xs)]\n",
    "df[\"cl\"].value_counts(True)"
   ],
   "outputs": [
    {
     "output_type": "execute_result",
     "data": {
      "text/plain": [
       "2    0.49\n",
       "0    0.44\n",
       "1    0.07\n",
       "Name: cl, dtype: float64"
      ]
     },
     "metadata": {},
     "execution_count": 52
    }
   ],
   "metadata": {
    "ExecuteTime": {
     "end_time": "2021-04-16T00:54:09.739544Z",
     "start_time": "2021-04-16T00:54:09.736133Z"
    },
    "execution": {
     "iopub.execute_input": "2021-09-04T16:14:27.460318Z",
     "iopub.status.busy": "2021-09-04T16:14:27.459912Z",
     "iopub.status.idle": "2021-09-04T16:14:27.464250Z",
     "shell.execute_reply": "2021-09-04T16:14:27.463285Z",
     "shell.execute_reply.started": "2021-09-04T16:14:27.460274Z"
    }
   }
  },
  {
   "cell_type": "markdown",
   "source": [
    "### Perfilamiento"
   ],
   "metadata": {}
  },
  {
   "cell_type": "code",
   "execution_count": 53,
   "source": [
    "Xp.join(df[[\"title\"]]).iplot(kind=\"scatter\", x=\"p1\", y=\"p2\", mode=\"markers\", categories=\"cl\", text=\"title\", theme=\"solar\")"
   ],
   "outputs": [
    {
     "output_type": "stream",
     "name": "stderr",
     "text": [
      "/Users/efraflores/Desktop/hub/datathon2021/venv/lib/python3.9/site-packages/cufflinks/plotlytools.py:807: FutureWarning:\n",
      "\n",
      "The pandas.np module is deprecated and will be removed from pandas in a future version. Import numpy directly instead\n",
      "\n",
      "/Users/efraflores/Desktop/hub/datathon2021/venv/lib/python3.9/site-packages/cufflinks/plotlytools.py:810: FutureWarning:\n",
      "\n",
      "The pandas.np module is deprecated and will be removed from pandas in a future version. Import numpy directly instead\n",
      "\n"
     ]
    },
    {
     "output_type": "display_data",
     "data": {
      "application/vnd.plotly.v1+json": {
       "config": {
        "linkText": "Export to plot.ly",
        "plotlyServerURL": "https://plot.ly",
        "showLink": true
       },
       "data": [
        {
         "marker": {
          "color": "rgba(255, 153, 51, 1.0)",
          "line": {
           "width": 1.3
          },
          "opacity": 0.8,
          "size": 12,
          "symbol": "circle"
         },
         "mode": "markers",
         "name": "2",
         "text": [
          "'The Hobbit: The Desolation of Smaug' Trailer Is Finally Here",
          "Amazon Takes on Captain America and Blocks Preorders of Disney Titles",
          "NFL Mascot Apologizes for Insensitive Tweet About Suicide",
          "Why Leprechauns Shouldn't Use Social Media",
          "Must Reads: Artisanal Toast, No More Open Internet and More",
          "A 'Boyhood' vs. 'Birdman' Oscar showdown is taking shape already",
          "McCain: U.S. Had 'Won' in Iraq Until Obama Pulled Troops",
          "SEC Suspends Trading of Cynk, the Mysterious Tech Company Briefly Worth $6 Billion",
          "Lyft Won't Back Down After Threats by New York City Regulators",
          "'Fault in Our Stars' author sends books to Ferguson library after director's AMA",
          "China's Online Population Rises by 51 Million in 2012",
          "Google's 'Pay Per Gaze' and the Future of Connected Advertising",
          "Discovery Communications Invests in 24/7 TV Channel for Dogs",
          "Ferry Capsizes in Bangladesh With Hundreds on Board",
          "British Movie Villains Take Center Stage in New Jaguar Super Bowl Ad",
          "Kim Jong-Un's Life Parodied in New 'Draw My Life' Video",
          "Taylor Swift's New Song 'Out of the Woods' Is Already No. 1 on iTunes",
          "Popular YouTube Star PewDiePie Cuts Comments",
          "6 Rules to Live by When Starting a Subscription Business",
          "'Offline' Beer Glass Stops Antisocial Phone Use in Bars",
          "San Francisco 49ers drop Ray McDonald following sexual assault investigation",
          "'Breaking Bad' Vs. 'Homeland': Battle of the Sauls",
          "The Facebook Graveyard: 10 Products the Site Killed",
          "Discuss the Culture of Startups in Our #StartupDiversity Twitter Chat",
          "Twitter Adds Adobe Social, Visible Technologies as Partners",
          "Anti-Selfie Short Film Tells Us Your Behavior Makes Celebs Really Sad",
          "See the Trailer for the Wachowskis' Space Epic, 'Jupiter Ascending'",
          "Airport Scanners No Longer Show Graphic Body Images, TSA Says",
          "Yahoo May Bring Ads to Tumblr Blogs -- With Permission",
          "Google Debuts 'Art Talks' Series to Reveal Stories Behind Masterpieces",
          "Star of Syfy's Zombie Show 'Z Nation' Explains Why It's Not 'The Walking Dead'",
          "Kitchensurfing Raises $15 Million to Bring Private Chefs to Your Home",
          "Adobe's Photoshop Express Now on Windows Phone",
          "14 Freaky Photos From the Frigid 49ers-Packers Game",
          "Carrier Alerts Help Consumers Avoid 'Bill Shock'",
          "Viral Video Recap: Your Chance to Crush Stuff With Schwarzenegger and More",
          "J.J. Abrams' Bad Robot Releases Cryptic 'Stranger' Teaser",
          "France Considering an 'Internet Tax' on Personal Data",
          "8 Places That Are Pricier in Times Square Than the Rest of NYC",
          "Foursquare CEO on Splitting Its App: 'At First, We Thought It Was Crazy'",
          "Outbox Makes Your Snail Mail Digital",
          "This Year May Be the Slowest Start to the U.S. Tornado Season, Ever",
          "AirTHC Lets Colorado Tourists Book Weed-Friendly Rentals",
          "Denis Leary Is Heading Back to TV in 'Sex&Drugs&Rock&Roll' for FX",
          "Project Wing vs. Prime Air: Google's Drones Soar Above Amazon's",
          "30 Overused Buzzwords in Digital Marketing",
          "Google Glass Developers Strive for Hit Apps",
          "Wisdom Teeth Surgery Drugs Take #IceBucketChallenge to Next Level",
          "Must Reads: CNN's MH370 Complex, Motherless on Mother's Day and More"
         ],
         "textfont": {
          "color": "#D9D9D9"
         },
         "type": "scatter",
         "x": [
          1.3840585947036743,
          0.7095082998275757,
          -0.8347377181053162,
          -0.6874758005142212,
          -0.6794062256813049,
          0.30363476276397705,
          0.2009676694869995,
          0.5177438855171204,
          1.0283149480819702,
          0.3524029850959778,
          -0.6727305054664612,
          -0.7071247100830078,
          -0.2762534022331238,
          -0.4763646423816681,
          0.21277856826782227,
          -0.4964278042316437,
          -0.01465221680700779,
          0.08321192860603333,
          0.6149671673774719,
          -0.013615836389362812,
          0.15294864773750305,
          -0.5371783971786499,
          -0.3796737492084503,
          0.07775665819644928,
          -1.1706140041351318,
          0.10813607275485992,
          0.11904256790876389,
          -0.5197018980979919,
          -1.0636975765228271,
          0.33010855317115784,
          0.260817289352417,
          -1.2579771280288696,
          -0.4834536015987396,
          0.26845458149909973,
          -0.6744973659515381,
          -0.021772297099232674,
          -1.2666963338851929,
          -1.0978456735610962,
          0.007381638512015343,
          -0.3918960988521576,
          -0.5807894468307495,
          -0.5852766633033752,
          0.06369395554065704,
          0.001202028477564454,
          -0.21072018146514893,
          -0.28654229640960693,
          -0.33977368474006653,
          -0.42438939213752747,
          0.5030241012573242
         ],
         "y": [
          -0.4373643696308136,
          -1.3015979528427124,
          -1.1532765626907349,
          -0.5445942282676697,
          -0.7905316948890686,
          0.01814279519021511,
          -0.28331121802330017,
          -0.7047143578529358,
          0.038221683353185654,
          -1.3849828243255615,
          -0.3355429172515869,
          -0.8103354573249817,
          -0.18373404443264008,
          -1.3971866369247437,
          -0.5962997674942017,
          -0.9360513687133789,
          -0.4125136137008667,
          -0.6967082619667053,
          0.03427086025476456,
          -0.7991141080856323,
          -2.060065746307373,
          -0.6066194772720337,
          -1.2376906871795654,
          -0.23317381739616394,
          -0.665212869644165,
          -0.8044497966766357,
          0.03686618432402611,
          -0.35919347405433655,
          -0.17985105514526367,
          -0.16767571866512299,
          -0.6882428526878357,
          -0.2190079391002655,
          -0.04760541021823883,
          -0.5298682451248169,
          -0.6307991743087769,
          -0.6312928199768066,
          -1.3032997846603394,
          -0.40931135416030884,
          -0.0895097553730011,
          -1.2823394536972046,
          -0.8936049342155457,
          -0.1763046532869339,
          -0.6790484189987183,
          -0.8289922475814819,
          -0.4336005747318268,
          -0.2393323928117752,
          -0.19360962510108948,
          -0.7488168478012085,
          -0.7302912473678589
         ]
        },
        {
         "marker": {
          "color": "rgba(55, 128, 191, 1.0)",
          "line": {
           "width": 1.3
          },
          "opacity": 0.8,
          "size": 12,
          "symbol": "circle"
         },
         "mode": "markers",
         "name": "1",
         "text": [
          "Gripping 'Game of Thrones' Season 4 Trailers Revealed on Vine",
          "Uber is expanding its carpooling service to New York City",
          "Singer Jessie J to Unveil New Single at UK-Based Facebook Live Event",
          "'Minecraft' is getting a story-based spinoff game",
          "10 Android games worth paying for",
          "How to turn your entire team into brand evangelists",
          "Stella Young dies: 'I'm not your inspiration, thank you very much'"
         ],
         "textfont": {
          "color": "#D9D9D9"
         },
         "type": "scatter",
         "x": [
          3.3712430000305176,
          3.7397992610931396,
          4.243227958679199,
          3.682429313659668,
          2.3114840984344482,
          3.8837239742279053,
          4.204517364501953
         ],
         "y": [
          0.804111897945404,
          0.06843861937522888,
          0.08793068677186966,
          -0.24219171702861786,
          1.2812069654464722,
          0.2858092784881592,
          -1.169860601425171
         ]
        },
        {
         "marker": {
          "color": "rgba(50, 171, 96, 1.0)",
          "line": {
           "width": 1.3
          },
          "opacity": 0.8,
          "size": 12,
          "symbol": "circle"
         },
         "mode": "markers",
         "name": "0",
         "text": [
          "Viral Video Recap: Talking Cats, Flying Dogs and More",
          "Larry Page: Tech Is 'Not a Zero-Sum Game' ",
          "Someone, Please, Get Marco Rubio a Glass of Water",
          "4 Tips for Navigating Your Desktop Like a Boss",
          "'Got Talent' and 'The X Factor' Launch YouTube Channels for Best Videos",
          "This Software Will Let Anyone Create Virtual Reality Games",
          "This Smart Lighter Will Help You Quit Smoking",
          "Did Dove Rip Off This Popular Vine Video?",
          "Amazon Puts Gay Twist on Long-Running Kindle Campaign",
          "10 Online Grocery Services for You to Check Out",
          "5 Can't-Miss Apps: 'Angry Birds Epic' and More",
          "Holy Huskies! UConn Takes 2014 NCAA Men's Basketball Title",
          "Glasses Tricks for Every 4 Eyes",
          "The True Test of Nerd Knowledge",
          "Online Retailers Likely to Skip New Credit Card Surcharge",
          "15 Kids Who Clearly Dressed Themselves",
          "U.S. Navy to Deploy Laser Weapon This Summer",
          "TV Ad Campaign Tries to Put a Friendly Face on DNA Testing",
          "Pussy Riot Visits NYC Jail to Support Occupy Wall Street Hero",
          "15 Captivating Photos of the Government Shutdown",
          "AOL Still Relies on Dial-Up Profit as Its Media Shift Continues",
          "Is This the Greatest Vine of All Time?",
          "Twitter Unveils Exclusive Feature For Verified Users",
          "The Stray Rover on the Far Side of Mars ",
          "Mindy Kaling Tells the Harvard Law Graduating Class They're All Nerds",
          "Indestructible Soccer Ball Brings Sport to Kids Who Need It Most",
          "9 Gift Ideas for Foodies",
          "BatKid Rises: Adorable Make-a-Wish Hero Gets Epic Movie Trailer ",
          "Giphy Wants to Make GIFs More Legit",
          "5 Upcoming Events To Re-Engage You With Your Work",
          "By Popular Demand: Quora Adds Traffic-Tracking Tool for Writers",
          "Google Starts Scanning All Android Apps For Malware",
          "Apple Pay Will Work Outside the U.S., But There's a Catch",
          "50+ Events in Game Design, Business Development and More",
          "Pornhub Gets a Record Label, Wants You to Sing its Anthem",
          "Sometimes Game Glitches Are Just Perfect",
          "This Is What It Looks Like to Get Smashed in the Color Run",
          "James Franco Announces Comedy Central Roast in Instagram Video ",
          "How to Identify a Wannabe Thought Leader",
          "Kid Just Wanted 1 Like on YouTube -- Now He's Reddit's Newest Celeb",
          "Knitted Food Photography Looks Good Enough to Eat",
          "Airbnb vs. New York: A Fight Over What It Means to Share",
          "How to Survive Armageddon With Pinterest",
          "Watch the 'True Blood' Season 6 Trailer "
         ],
         "textfont": {
          "color": "#D9D9D9"
         },
         "type": "scatter",
         "x": [
          -0.7089464664459229,
          -0.9526349902153015,
          -0.9970094561576843,
          -0.19487044215202332,
          -0.03810959681868553,
          0.8684632182121277,
          -0.11586504429578781,
          -0.7958372831344604,
          -0.601543664932251,
          -0.2061343640089035,
          -0.16528958082199097,
          -1.1288726329803467,
          -0.5182385444641113,
          -1.131271481513977,
          0.16576501727104187,
          -0.6946994662284851,
          -0.7139737606048584,
          -0.21783548593521118,
          0.10767491161823273,
          -0.28000056743621826,
          0.24306538701057434,
          -0.3135438859462738,
          -0.6816320419311523,
          0.5179460644721985,
          -0.6643319725990295,
          -0.6306656002998352,
          -0.6294897794723511,
          0.38803914189338684,
          -0.9255277514457703,
          -1.1585423946380615,
          -0.6798613667488098,
          -0.44446226954460144,
          -0.18009337782859802,
          -0.30220988392829895,
          0.009534523822367191,
          0.3807390332221985,
          0.46242332458496094,
          -0.07498767971992493,
          -0.8660043478012085,
          -0.30908721685409546,
          -0.7427963614463806,
          -0.4374801516532898,
          -0.8841208219528198,
          -0.3429737985134125
         ],
         "y": [
          0.36518993973731995,
          0.3145787715911865,
          0.4411735534667969,
          0.4694703221321106,
          1.5009212493896484,
          0.9408518671989441,
          0.518608033657074,
          1.2544589042663574,
          0.24762459099292755,
          0.2143375128507614,
          1.0985966920852661,
          0.28668200969696045,
          0.8354824185371399,
          0.798793613910675,
          0.4220333695411682,
          0.5901182889938354,
          0.029034970328211784,
          1.0776952505111694,
          0.44249483942985535,
          0.6052976846694946,
          0.8465761542320251,
          1.4588136672973633,
          -0.036983780562877655,
          1.3032176494598389,
          -0.05249834433197975,
          0.13647907972335815,
          2.0823183059692383,
          0.6433695554733276,
          0.07022339105606079,
          0.7868361473083496,
          0.15496303141117096,
          0.3781448006629944,
          0.5036794543266296,
          0.45735687017440796,
          0.3064518868923187,
          0.2006792426109314,
          1.249898910522461,
          0.8557721972465515,
          0.2060462385416031,
          1.1891332864761353,
          0.5127389430999756,
          1.2908867597579956,
          0.8096156716346741,
          0.7865605354309082
         ]
        }
       ],
       "layout": {
        "legend": {
         "bgcolor": "#151516",
         "font": {
          "color": "#D9D9D9"
         }
        },
        "paper_bgcolor": "#151516",
        "plot_bgcolor": "#151516",
        "template": {
         "data": {
          "bar": [
           {
            "error_x": {
             "color": "#2a3f5f"
            },
            "error_y": {
             "color": "#2a3f5f"
            },
            "marker": {
             "line": {
              "color": "#E5ECF6",
              "width": 0.5
             },
             "pattern": {
              "fillmode": "overlay",
              "size": 10,
              "solidity": 0.2
             }
            },
            "type": "bar"
           }
          ],
          "barpolar": [
           {
            "marker": {
             "line": {
              "color": "#E5ECF6",
              "width": 0.5
             },
             "pattern": {
              "fillmode": "overlay",
              "size": 10,
              "solidity": 0.2
             }
            },
            "type": "barpolar"
           }
          ],
          "carpet": [
           {
            "aaxis": {
             "endlinecolor": "#2a3f5f",
             "gridcolor": "white",
             "linecolor": "white",
             "minorgridcolor": "white",
             "startlinecolor": "#2a3f5f"
            },
            "baxis": {
             "endlinecolor": "#2a3f5f",
             "gridcolor": "white",
             "linecolor": "white",
             "minorgridcolor": "white",
             "startlinecolor": "#2a3f5f"
            },
            "type": "carpet"
           }
          ],
          "choropleth": [
           {
            "colorbar": {
             "outlinewidth": 0,
             "ticks": ""
            },
            "type": "choropleth"
           }
          ],
          "contour": [
           {
            "colorbar": {
             "outlinewidth": 0,
             "ticks": ""
            },
            "colorscale": [
             [
              0,
              "#0d0887"
             ],
             [
              0.1111111111111111,
              "#46039f"
             ],
             [
              0.2222222222222222,
              "#7201a8"
             ],
             [
              0.3333333333333333,
              "#9c179e"
             ],
             [
              0.4444444444444444,
              "#bd3786"
             ],
             [
              0.5555555555555556,
              "#d8576b"
             ],
             [
              0.6666666666666666,
              "#ed7953"
             ],
             [
              0.7777777777777778,
              "#fb9f3a"
             ],
             [
              0.8888888888888888,
              "#fdca26"
             ],
             [
              1,
              "#f0f921"
             ]
            ],
            "type": "contour"
           }
          ],
          "contourcarpet": [
           {
            "colorbar": {
             "outlinewidth": 0,
             "ticks": ""
            },
            "type": "contourcarpet"
           }
          ],
          "heatmap": [
           {
            "colorbar": {
             "outlinewidth": 0,
             "ticks": ""
            },
            "colorscale": [
             [
              0,
              "#0d0887"
             ],
             [
              0.1111111111111111,
              "#46039f"
             ],
             [
              0.2222222222222222,
              "#7201a8"
             ],
             [
              0.3333333333333333,
              "#9c179e"
             ],
             [
              0.4444444444444444,
              "#bd3786"
             ],
             [
              0.5555555555555556,
              "#d8576b"
             ],
             [
              0.6666666666666666,
              "#ed7953"
             ],
             [
              0.7777777777777778,
              "#fb9f3a"
             ],
             [
              0.8888888888888888,
              "#fdca26"
             ],
             [
              1,
              "#f0f921"
             ]
            ],
            "type": "heatmap"
           }
          ],
          "heatmapgl": [
           {
            "colorbar": {
             "outlinewidth": 0,
             "ticks": ""
            },
            "colorscale": [
             [
              0,
              "#0d0887"
             ],
             [
              0.1111111111111111,
              "#46039f"
             ],
             [
              0.2222222222222222,
              "#7201a8"
             ],
             [
              0.3333333333333333,
              "#9c179e"
             ],
             [
              0.4444444444444444,
              "#bd3786"
             ],
             [
              0.5555555555555556,
              "#d8576b"
             ],
             [
              0.6666666666666666,
              "#ed7953"
             ],
             [
              0.7777777777777778,
              "#fb9f3a"
             ],
             [
              0.8888888888888888,
              "#fdca26"
             ],
             [
              1,
              "#f0f921"
             ]
            ],
            "type": "heatmapgl"
           }
          ],
          "histogram": [
           {
            "marker": {
             "pattern": {
              "fillmode": "overlay",
              "size": 10,
              "solidity": 0.2
             }
            },
            "type": "histogram"
           }
          ],
          "histogram2d": [
           {
            "colorbar": {
             "outlinewidth": 0,
             "ticks": ""
            },
            "colorscale": [
             [
              0,
              "#0d0887"
             ],
             [
              0.1111111111111111,
              "#46039f"
             ],
             [
              0.2222222222222222,
              "#7201a8"
             ],
             [
              0.3333333333333333,
              "#9c179e"
             ],
             [
              0.4444444444444444,
              "#bd3786"
             ],
             [
              0.5555555555555556,
              "#d8576b"
             ],
             [
              0.6666666666666666,
              "#ed7953"
             ],
             [
              0.7777777777777778,
              "#fb9f3a"
             ],
             [
              0.8888888888888888,
              "#fdca26"
             ],
             [
              1,
              "#f0f921"
             ]
            ],
            "type": "histogram2d"
           }
          ],
          "histogram2dcontour": [
           {
            "colorbar": {
             "outlinewidth": 0,
             "ticks": ""
            },
            "colorscale": [
             [
              0,
              "#0d0887"
             ],
             [
              0.1111111111111111,
              "#46039f"
             ],
             [
              0.2222222222222222,
              "#7201a8"
             ],
             [
              0.3333333333333333,
              "#9c179e"
             ],
             [
              0.4444444444444444,
              "#bd3786"
             ],
             [
              0.5555555555555556,
              "#d8576b"
             ],
             [
              0.6666666666666666,
              "#ed7953"
             ],
             [
              0.7777777777777778,
              "#fb9f3a"
             ],
             [
              0.8888888888888888,
              "#fdca26"
             ],
             [
              1,
              "#f0f921"
             ]
            ],
            "type": "histogram2dcontour"
           }
          ],
          "mesh3d": [
           {
            "colorbar": {
             "outlinewidth": 0,
             "ticks": ""
            },
            "type": "mesh3d"
           }
          ],
          "parcoords": [
           {
            "line": {
             "colorbar": {
              "outlinewidth": 0,
              "ticks": ""
             }
            },
            "type": "parcoords"
           }
          ],
          "pie": [
           {
            "automargin": true,
            "type": "pie"
           }
          ],
          "scatter": [
           {
            "marker": {
             "colorbar": {
              "outlinewidth": 0,
              "ticks": ""
             }
            },
            "type": "scatter"
           }
          ],
          "scatter3d": [
           {
            "line": {
             "colorbar": {
              "outlinewidth": 0,
              "ticks": ""
             }
            },
            "marker": {
             "colorbar": {
              "outlinewidth": 0,
              "ticks": ""
             }
            },
            "type": "scatter3d"
           }
          ],
          "scattercarpet": [
           {
            "marker": {
             "colorbar": {
              "outlinewidth": 0,
              "ticks": ""
             }
            },
            "type": "scattercarpet"
           }
          ],
          "scattergeo": [
           {
            "marker": {
             "colorbar": {
              "outlinewidth": 0,
              "ticks": ""
             }
            },
            "type": "scattergeo"
           }
          ],
          "scattergl": [
           {
            "marker": {
             "colorbar": {
              "outlinewidth": 0,
              "ticks": ""
             }
            },
            "type": "scattergl"
           }
          ],
          "scattermapbox": [
           {
            "marker": {
             "colorbar": {
              "outlinewidth": 0,
              "ticks": ""
             }
            },
            "type": "scattermapbox"
           }
          ],
          "scatterpolar": [
           {
            "marker": {
             "colorbar": {
              "outlinewidth": 0,
              "ticks": ""
             }
            },
            "type": "scatterpolar"
           }
          ],
          "scatterpolargl": [
           {
            "marker": {
             "colorbar": {
              "outlinewidth": 0,
              "ticks": ""
             }
            },
            "type": "scatterpolargl"
           }
          ],
          "scatterternary": [
           {
            "marker": {
             "colorbar": {
              "outlinewidth": 0,
              "ticks": ""
             }
            },
            "type": "scatterternary"
           }
          ],
          "surface": [
           {
            "colorbar": {
             "outlinewidth": 0,
             "ticks": ""
            },
            "colorscale": [
             [
              0,
              "#0d0887"
             ],
             [
              0.1111111111111111,
              "#46039f"
             ],
             [
              0.2222222222222222,
              "#7201a8"
             ],
             [
              0.3333333333333333,
              "#9c179e"
             ],
             [
              0.4444444444444444,
              "#bd3786"
             ],
             [
              0.5555555555555556,
              "#d8576b"
             ],
             [
              0.6666666666666666,
              "#ed7953"
             ],
             [
              0.7777777777777778,
              "#fb9f3a"
             ],
             [
              0.8888888888888888,
              "#fdca26"
             ],
             [
              1,
              "#f0f921"
             ]
            ],
            "type": "surface"
           }
          ],
          "table": [
           {
            "cells": {
             "fill": {
              "color": "#EBF0F8"
             },
             "line": {
              "color": "white"
             }
            },
            "header": {
             "fill": {
              "color": "#C8D4E3"
             },
             "line": {
              "color": "white"
             }
            },
            "type": "table"
           }
          ]
         },
         "layout": {
          "annotationdefaults": {
           "arrowcolor": "#2a3f5f",
           "arrowhead": 0,
           "arrowwidth": 1
          },
          "autotypenumbers": "strict",
          "coloraxis": {
           "colorbar": {
            "outlinewidth": 0,
            "ticks": ""
           }
          },
          "colorscale": {
           "diverging": [
            [
             0,
             "#8e0152"
            ],
            [
             0.1,
             "#c51b7d"
            ],
            [
             0.2,
             "#de77ae"
            ],
            [
             0.3,
             "#f1b6da"
            ],
            [
             0.4,
             "#fde0ef"
            ],
            [
             0.5,
             "#f7f7f7"
            ],
            [
             0.6,
             "#e6f5d0"
            ],
            [
             0.7,
             "#b8e186"
            ],
            [
             0.8,
             "#7fbc41"
            ],
            [
             0.9,
             "#4d9221"
            ],
            [
             1,
             "#276419"
            ]
           ],
           "sequential": [
            [
             0,
             "#0d0887"
            ],
            [
             0.1111111111111111,
             "#46039f"
            ],
            [
             0.2222222222222222,
             "#7201a8"
            ],
            [
             0.3333333333333333,
             "#9c179e"
            ],
            [
             0.4444444444444444,
             "#bd3786"
            ],
            [
             0.5555555555555556,
             "#d8576b"
            ],
            [
             0.6666666666666666,
             "#ed7953"
            ],
            [
             0.7777777777777778,
             "#fb9f3a"
            ],
            [
             0.8888888888888888,
             "#fdca26"
            ],
            [
             1,
             "#f0f921"
            ]
           ],
           "sequentialminus": [
            [
             0,
             "#0d0887"
            ],
            [
             0.1111111111111111,
             "#46039f"
            ],
            [
             0.2222222222222222,
             "#7201a8"
            ],
            [
             0.3333333333333333,
             "#9c179e"
            ],
            [
             0.4444444444444444,
             "#bd3786"
            ],
            [
             0.5555555555555556,
             "#d8576b"
            ],
            [
             0.6666666666666666,
             "#ed7953"
            ],
            [
             0.7777777777777778,
             "#fb9f3a"
            ],
            [
             0.8888888888888888,
             "#fdca26"
            ],
            [
             1,
             "#f0f921"
            ]
           ]
          },
          "colorway": [
           "#636efa",
           "#EF553B",
           "#00cc96",
           "#ab63fa",
           "#FFA15A",
           "#19d3f3",
           "#FF6692",
           "#B6E880",
           "#FF97FF",
           "#FECB52"
          ],
          "font": {
           "color": "#2a3f5f"
          },
          "geo": {
           "bgcolor": "white",
           "lakecolor": "white",
           "landcolor": "#E5ECF6",
           "showlakes": true,
           "showland": true,
           "subunitcolor": "white"
          },
          "hoverlabel": {
           "align": "left"
          },
          "hovermode": "closest",
          "mapbox": {
           "style": "light"
          },
          "paper_bgcolor": "white",
          "plot_bgcolor": "#E5ECF6",
          "polar": {
           "angularaxis": {
            "gridcolor": "white",
            "linecolor": "white",
            "ticks": ""
           },
           "bgcolor": "#E5ECF6",
           "radialaxis": {
            "gridcolor": "white",
            "linecolor": "white",
            "ticks": ""
           }
          },
          "scene": {
           "xaxis": {
            "backgroundcolor": "#E5ECF6",
            "gridcolor": "white",
            "gridwidth": 2,
            "linecolor": "white",
            "showbackground": true,
            "ticks": "",
            "zerolinecolor": "white"
           },
           "yaxis": {
            "backgroundcolor": "#E5ECF6",
            "gridcolor": "white",
            "gridwidth": 2,
            "linecolor": "white",
            "showbackground": true,
            "ticks": "",
            "zerolinecolor": "white"
           },
           "zaxis": {
            "backgroundcolor": "#E5ECF6",
            "gridcolor": "white",
            "gridwidth": 2,
            "linecolor": "white",
            "showbackground": true,
            "ticks": "",
            "zerolinecolor": "white"
           }
          },
          "shapedefaults": {
           "line": {
            "color": "#2a3f5f"
           }
          },
          "ternary": {
           "aaxis": {
            "gridcolor": "white",
            "linecolor": "white",
            "ticks": ""
           },
           "baxis": {
            "gridcolor": "white",
            "linecolor": "white",
            "ticks": ""
           },
           "bgcolor": "#E5ECF6",
           "caxis": {
            "gridcolor": "white",
            "linecolor": "white",
            "ticks": ""
           }
          },
          "title": {
           "x": 0.05
          },
          "xaxis": {
           "automargin": true,
           "gridcolor": "white",
           "linecolor": "white",
           "ticks": "",
           "title": {
            "standoff": 15
           },
           "zerolinecolor": "white",
           "zerolinewidth": 2
          },
          "yaxis": {
           "automargin": true,
           "gridcolor": "white",
           "linecolor": "white",
           "ticks": "",
           "title": {
            "standoff": 15
           },
           "zerolinecolor": "white",
           "zerolinewidth": 2
          }
         }
        },
        "title": {
         "font": {
          "color": "#D9D9D9"
         }
        },
        "xaxis": {
         "gridcolor": "#434343",
         "showgrid": true,
         "tickfont": {
          "color": "#C2C2C2"
         },
         "title": {
          "font": {
           "color": "#D9D9D9"
          },
          "text": ""
         },
         "zerolinecolor": "#666570"
        },
        "yaxis": {
         "gridcolor": "#434343",
         "showgrid": true,
         "tickfont": {
          "color": "#C2C2C2"
         },
         "title": {
          "font": {
           "color": "#D9D9D9"
          },
          "text": ""
         },
         "zerolinecolor": "#666570"
        }
       }
      },
      "text/html": [
       "<div>                            <div id=\"7192e87f-64cc-4840-b353-7730a1adf4e2\" class=\"plotly-graph-div\" style=\"height:525px; width:100%;\"></div>            <script type=\"text/javascript\">                require([\"plotly\"], function(Plotly) {                    window.PLOTLYENV=window.PLOTLYENV || {};\n",
       "                    window.PLOTLYENV.BASE_URL='https://plot.ly';                                    if (document.getElementById(\"7192e87f-64cc-4840-b353-7730a1adf4e2\")) {                    Plotly.newPlot(                        \"7192e87f-64cc-4840-b353-7730a1adf4e2\",                        [{\"marker\":{\"color\":\"rgba(255, 153, 51, 1.0)\",\"line\":{\"width\":1.3},\"opacity\":0.8,\"size\":12,\"symbol\":\"circle\"},\"mode\":\"markers\",\"name\":\"2\",\"text\":[\"'The Hobbit: The Desolation of Smaug' Trailer Is Finally Here\",\"Amazon Takes on Captain America and Blocks Preorders of Disney Titles\",\"NFL Mascot Apologizes for Insensitive Tweet About Suicide\",\"Why Leprechauns Shouldn't Use Social Media\",\"Must Reads: Artisanal Toast, No More Open Internet and More\",\"A 'Boyhood' vs. 'Birdman' Oscar showdown is taking shape already\",\"McCain: U.S. Had 'Won' in Iraq Until Obama Pulled Troops\",\"SEC Suspends Trading of Cynk, the Mysterious Tech Company Briefly Worth $6 Billion\",\"Lyft Won't Back Down After Threats by New York City Regulators\",\"'Fault in Our Stars' author sends books to Ferguson library after director's AMA\",\"China's Online Population Rises by 51 Million in 2012\",\"Google's 'Pay Per Gaze' and the Future of Connected Advertising\",\"Discovery Communications Invests in 24/7 TV Channel for Dogs\",\"Ferry Capsizes in Bangladesh With Hundreds on Board\",\"British Movie Villains Take Center Stage in New Jaguar Super Bowl Ad\",\"Kim Jong-Un's Life Parodied in New 'Draw My Life' Video\",\"Taylor Swift's New Song 'Out of the Woods' Is Already No. 1 on iTunes\",\"Popular YouTube Star PewDiePie Cuts Comments\",\"6 Rules to Live by When Starting a Subscription Business\",\"'Offline' Beer Glass Stops Antisocial Phone Use in Bars\",\"San Francisco 49ers drop Ray McDonald following sexual assault investigation\",\"'Breaking Bad' Vs. 'Homeland': Battle of the Sauls\",\"The Facebook Graveyard: 10 Products the Site Killed\",\"Discuss the Culture of Startups in Our #StartupDiversity Twitter Chat\",\"Twitter Adds Adobe Social, Visible Technologies as Partners\",\"Anti-Selfie Short Film Tells Us Your Behavior Makes Celebs Really Sad\",\"See the Trailer for the Wachowskis' Space Epic, 'Jupiter Ascending'\",\"Airport Scanners No Longer Show Graphic Body Images, TSA Says\",\"Yahoo May Bring Ads to Tumblr Blogs -- With Permission\",\"Google Debuts 'Art Talks' Series to Reveal Stories Behind Masterpieces\",\"Star of Syfy's Zombie Show 'Z Nation' Explains Why It's Not 'The Walking Dead'\",\"Kitchensurfing Raises $15 Million to Bring Private Chefs to Your Home\",\"Adobe's Photoshop Express Now on Windows Phone\",\"14 Freaky Photos From the Frigid 49ers-Packers Game\",\"Carrier Alerts Help Consumers Avoid 'Bill Shock'\",\"Viral Video Recap: Your Chance to Crush Stuff With Schwarzenegger and More\",\"J.J. Abrams' Bad Robot Releases Cryptic 'Stranger' Teaser\",\"France Considering an 'Internet Tax' on Personal Data\",\"8 Places That Are Pricier in Times Square Than the Rest of NYC\",\"Foursquare CEO on Splitting Its App: 'At First, We Thought It Was Crazy'\",\"Outbox Makes Your Snail Mail Digital\",\"This Year May Be the Slowest Start to the U.S. Tornado Season, Ever\",\"AirTHC Lets Colorado Tourists Book Weed-Friendly Rentals\",\"Denis Leary Is Heading Back to TV in 'Sex&Drugs&Rock&Roll' for FX\",\"Project Wing vs. Prime Air: Google's Drones Soar Above Amazon's\",\"30 Overused Buzzwords in Digital Marketing\",\"Google Glass Developers Strive for Hit Apps\",\"Wisdom Teeth Surgery Drugs Take #IceBucketChallenge to Next Level\",\"Must Reads: CNN's MH370 Complex, Motherless on Mother's Day and More\"],\"textfont\":{\"color\":\"#D9D9D9\"},\"type\":\"scatter\",\"x\":[1.3840585947036743,0.7095082998275757,-0.8347377181053162,-0.6874758005142212,-0.6794062256813049,0.30363476276397705,0.2009676694869995,0.5177438855171204,1.0283149480819702,0.3524029850959778,-0.6727305054664612,-0.7071247100830078,-0.2762534022331238,-0.4763646423816681,0.21277856826782227,-0.4964278042316437,-0.01465221680700779,0.08321192860603333,0.6149671673774719,-0.013615836389362812,0.15294864773750305,-0.5371783971786499,-0.3796737492084503,0.07775665819644928,-1.1706140041351318,0.10813607275485992,0.11904256790876389,-0.5197018980979919,-1.0636975765228271,0.33010855317115784,0.260817289352417,-1.2579771280288696,-0.4834536015987396,0.26845458149909973,-0.6744973659515381,-0.021772297099232674,-1.2666963338851929,-1.0978456735610962,0.007381638512015343,-0.3918960988521576,-0.5807894468307495,-0.5852766633033752,0.06369395554065704,0.001202028477564454,-0.21072018146514893,-0.28654229640960693,-0.33977368474006653,-0.42438939213752747,0.5030241012573242],\"y\":[-0.4373643696308136,-1.3015979528427124,-1.1532765626907349,-0.5445942282676697,-0.7905316948890686,0.01814279519021511,-0.28331121802330017,-0.7047143578529358,0.038221683353185654,-1.3849828243255615,-0.3355429172515869,-0.8103354573249817,-0.18373404443264008,-1.3971866369247437,-0.5962997674942017,-0.9360513687133789,-0.4125136137008667,-0.6967082619667053,0.03427086025476456,-0.7991141080856323,-2.060065746307373,-0.6066194772720337,-1.2376906871795654,-0.23317381739616394,-0.665212869644165,-0.8044497966766357,0.03686618432402611,-0.35919347405433655,-0.17985105514526367,-0.16767571866512299,-0.6882428526878357,-0.2190079391002655,-0.04760541021823883,-0.5298682451248169,-0.6307991743087769,-0.6312928199768066,-1.3032997846603394,-0.40931135416030884,-0.0895097553730011,-1.2823394536972046,-0.8936049342155457,-0.1763046532869339,-0.6790484189987183,-0.8289922475814819,-0.4336005747318268,-0.2393323928117752,-0.19360962510108948,-0.7488168478012085,-0.7302912473678589]},{\"marker\":{\"color\":\"rgba(55, 128, 191, 1.0)\",\"line\":{\"width\":1.3},\"opacity\":0.8,\"size\":12,\"symbol\":\"circle\"},\"mode\":\"markers\",\"name\":\"1\",\"text\":[\"Gripping 'Game of Thrones' Season 4 Trailers Revealed on Vine\",\"Uber is expanding its carpooling service to New York City\",\"Singer Jessie J to Unveil New Single at UK-Based Facebook Live Event\",\"'Minecraft' is getting a story-based spinoff game\",\"10 Android games worth paying for\",\"How to turn your entire team into brand evangelists\",\"Stella Young dies: 'I'm not your inspiration, thank you very much'\"],\"textfont\":{\"color\":\"#D9D9D9\"},\"type\":\"scatter\",\"x\":[3.3712430000305176,3.7397992610931396,4.243227958679199,3.682429313659668,2.3114840984344482,3.8837239742279053,4.204517364501953],\"y\":[0.804111897945404,0.06843861937522888,0.08793068677186966,-0.24219171702861786,1.2812069654464722,0.2858092784881592,-1.169860601425171]},{\"marker\":{\"color\":\"rgba(50, 171, 96, 1.0)\",\"line\":{\"width\":1.3},\"opacity\":0.8,\"size\":12,\"symbol\":\"circle\"},\"mode\":\"markers\",\"name\":\"0\",\"text\":[\"Viral Video Recap: Talking Cats, Flying Dogs and More\",\"Larry Page: Tech Is 'Not a Zero-Sum Game' \",\"Someone, Please, Get Marco Rubio a Glass of Water\",\"4 Tips for Navigating Your Desktop Like a Boss\",\"'Got Talent' and 'The X Factor' Launch YouTube Channels for Best Videos\",\"This Software Will Let Anyone Create Virtual Reality Games\",\"This Smart Lighter Will Help You Quit Smoking\",\"Did Dove Rip Off This Popular Vine Video?\",\"Amazon Puts Gay Twist on Long-Running Kindle Campaign\",\"10 Online Grocery Services for You to Check Out\",\"5 Can't-Miss Apps: 'Angry Birds Epic' and More\",\"Holy Huskies! UConn Takes 2014 NCAA Men's Basketball Title\",\"Glasses Tricks for Every 4 Eyes\",\"The True Test of Nerd Knowledge\",\"Online Retailers Likely to Skip New Credit Card Surcharge\",\"15 Kids Who Clearly Dressed Themselves\",\"U.S. Navy to Deploy Laser Weapon This Summer\",\"TV Ad Campaign Tries to Put a Friendly Face on DNA Testing\",\"Pussy Riot Visits NYC Jail to Support Occupy Wall Street Hero\",\"15 Captivating Photos of the Government Shutdown\",\"AOL Still Relies on Dial-Up Profit as Its Media Shift Continues\",\"Is This the Greatest Vine of All Time?\",\"Twitter Unveils Exclusive Feature For Verified Users\",\"The Stray Rover on the Far Side of Mars \",\"Mindy Kaling Tells the Harvard Law Graduating Class They're All Nerds\",\"Indestructible Soccer Ball Brings Sport to Kids Who Need It Most\",\"9 Gift Ideas for Foodies\",\"BatKid Rises: Adorable Make-a-Wish Hero Gets Epic Movie Trailer \",\"Giphy Wants to Make GIFs More Legit\",\"5 Upcoming Events To Re-Engage You With Your Work\",\"By Popular Demand: Quora Adds Traffic-Tracking Tool for Writers\",\"Google Starts Scanning All Android Apps For Malware\",\"Apple Pay Will Work Outside the U.S., But There's a Catch\",\"50+ Events in Game Design, Business Development and More\",\"Pornhub Gets a Record Label, Wants You to Sing its Anthem\",\"Sometimes Game Glitches Are Just Perfect\",\"This Is What It Looks Like to Get Smashed in the Color Run\",\"James Franco Announces Comedy Central Roast in Instagram Video \",\"How to Identify a Wannabe Thought Leader\",\"Kid Just Wanted 1 Like on YouTube -- Now He's Reddit's Newest Celeb\",\"Knitted Food Photography Looks Good Enough to Eat\",\"Airbnb vs. New York: A Fight Over What It Means to Share\",\"How to Survive Armageddon With Pinterest\",\"Watch the 'True Blood' Season 6 Trailer \"],\"textfont\":{\"color\":\"#D9D9D9\"},\"type\":\"scatter\",\"x\":[-0.7089464664459229,-0.9526349902153015,-0.9970094561576843,-0.19487044215202332,-0.03810959681868553,0.8684632182121277,-0.11586504429578781,-0.7958372831344604,-0.601543664932251,-0.2061343640089035,-0.16528958082199097,-1.1288726329803467,-0.5182385444641113,-1.131271481513977,0.16576501727104187,-0.6946994662284851,-0.7139737606048584,-0.21783548593521118,0.10767491161823273,-0.28000056743621826,0.24306538701057434,-0.3135438859462738,-0.6816320419311523,0.5179460644721985,-0.6643319725990295,-0.6306656002998352,-0.6294897794723511,0.38803914189338684,-0.9255277514457703,-1.1585423946380615,-0.6798613667488098,-0.44446226954460144,-0.18009337782859802,-0.30220988392829895,0.009534523822367191,0.3807390332221985,0.46242332458496094,-0.07498767971992493,-0.8660043478012085,-0.30908721685409546,-0.7427963614463806,-0.4374801516532898,-0.8841208219528198,-0.3429737985134125],\"y\":[0.36518993973731995,0.3145787715911865,0.4411735534667969,0.4694703221321106,1.5009212493896484,0.9408518671989441,0.518608033657074,1.2544589042663574,0.24762459099292755,0.2143375128507614,1.0985966920852661,0.28668200969696045,0.8354824185371399,0.798793613910675,0.4220333695411682,0.5901182889938354,0.029034970328211784,1.0776952505111694,0.44249483942985535,0.6052976846694946,0.8465761542320251,1.4588136672973633,-0.036983780562877655,1.3032176494598389,-0.05249834433197975,0.13647907972335815,2.0823183059692383,0.6433695554733276,0.07022339105606079,0.7868361473083496,0.15496303141117096,0.3781448006629944,0.5036794543266296,0.45735687017440796,0.3064518868923187,0.2006792426109314,1.249898910522461,0.8557721972465515,0.2060462385416031,1.1891332864761353,0.5127389430999756,1.2908867597579956,0.8096156716346741,0.7865605354309082]}],                        {\"legend\":{\"bgcolor\":\"#151516\",\"font\":{\"color\":\"#D9D9D9\"}},\"paper_bgcolor\":\"#151516\",\"plot_bgcolor\":\"#151516\",\"template\":{\"data\":{\"bar\":[{\"error_x\":{\"color\":\"#2a3f5f\"},\"error_y\":{\"color\":\"#2a3f5f\"},\"marker\":{\"line\":{\"color\":\"#E5ECF6\",\"width\":0.5},\"pattern\":{\"fillmode\":\"overlay\",\"size\":10,\"solidity\":0.2}},\"type\":\"bar\"}],\"barpolar\":[{\"marker\":{\"line\":{\"color\":\"#E5ECF6\",\"width\":0.5},\"pattern\":{\"fillmode\":\"overlay\",\"size\":10,\"solidity\":0.2}},\"type\":\"barpolar\"}],\"carpet\":[{\"aaxis\":{\"endlinecolor\":\"#2a3f5f\",\"gridcolor\":\"white\",\"linecolor\":\"white\",\"minorgridcolor\":\"white\",\"startlinecolor\":\"#2a3f5f\"},\"baxis\":{\"endlinecolor\":\"#2a3f5f\",\"gridcolor\":\"white\",\"linecolor\":\"white\",\"minorgridcolor\":\"white\",\"startlinecolor\":\"#2a3f5f\"},\"type\":\"carpet\"}],\"choropleth\":[{\"colorbar\":{\"outlinewidth\":0,\"ticks\":\"\"},\"type\":\"choropleth\"}],\"contour\":[{\"colorbar\":{\"outlinewidth\":0,\"ticks\":\"\"},\"colorscale\":[[0.0,\"#0d0887\"],[0.1111111111111111,\"#46039f\"],[0.2222222222222222,\"#7201a8\"],[0.3333333333333333,\"#9c179e\"],[0.4444444444444444,\"#bd3786\"],[0.5555555555555556,\"#d8576b\"],[0.6666666666666666,\"#ed7953\"],[0.7777777777777778,\"#fb9f3a\"],[0.8888888888888888,\"#fdca26\"],[1.0,\"#f0f921\"]],\"type\":\"contour\"}],\"contourcarpet\":[{\"colorbar\":{\"outlinewidth\":0,\"ticks\":\"\"},\"type\":\"contourcarpet\"}],\"heatmap\":[{\"colorbar\":{\"outlinewidth\":0,\"ticks\":\"\"},\"colorscale\":[[0.0,\"#0d0887\"],[0.1111111111111111,\"#46039f\"],[0.2222222222222222,\"#7201a8\"],[0.3333333333333333,\"#9c179e\"],[0.4444444444444444,\"#bd3786\"],[0.5555555555555556,\"#d8576b\"],[0.6666666666666666,\"#ed7953\"],[0.7777777777777778,\"#fb9f3a\"],[0.8888888888888888,\"#fdca26\"],[1.0,\"#f0f921\"]],\"type\":\"heatmap\"}],\"heatmapgl\":[{\"colorbar\":{\"outlinewidth\":0,\"ticks\":\"\"},\"colorscale\":[[0.0,\"#0d0887\"],[0.1111111111111111,\"#46039f\"],[0.2222222222222222,\"#7201a8\"],[0.3333333333333333,\"#9c179e\"],[0.4444444444444444,\"#bd3786\"],[0.5555555555555556,\"#d8576b\"],[0.6666666666666666,\"#ed7953\"],[0.7777777777777778,\"#fb9f3a\"],[0.8888888888888888,\"#fdca26\"],[1.0,\"#f0f921\"]],\"type\":\"heatmapgl\"}],\"histogram\":[{\"marker\":{\"pattern\":{\"fillmode\":\"overlay\",\"size\":10,\"solidity\":0.2}},\"type\":\"histogram\"}],\"histogram2d\":[{\"colorbar\":{\"outlinewidth\":0,\"ticks\":\"\"},\"colorscale\":[[0.0,\"#0d0887\"],[0.1111111111111111,\"#46039f\"],[0.2222222222222222,\"#7201a8\"],[0.3333333333333333,\"#9c179e\"],[0.4444444444444444,\"#bd3786\"],[0.5555555555555556,\"#d8576b\"],[0.6666666666666666,\"#ed7953\"],[0.7777777777777778,\"#fb9f3a\"],[0.8888888888888888,\"#fdca26\"],[1.0,\"#f0f921\"]],\"type\":\"histogram2d\"}],\"histogram2dcontour\":[{\"colorbar\":{\"outlinewidth\":0,\"ticks\":\"\"},\"colorscale\":[[0.0,\"#0d0887\"],[0.1111111111111111,\"#46039f\"],[0.2222222222222222,\"#7201a8\"],[0.3333333333333333,\"#9c179e\"],[0.4444444444444444,\"#bd3786\"],[0.5555555555555556,\"#d8576b\"],[0.6666666666666666,\"#ed7953\"],[0.7777777777777778,\"#fb9f3a\"],[0.8888888888888888,\"#fdca26\"],[1.0,\"#f0f921\"]],\"type\":\"histogram2dcontour\"}],\"mesh3d\":[{\"colorbar\":{\"outlinewidth\":0,\"ticks\":\"\"},\"type\":\"mesh3d\"}],\"parcoords\":[{\"line\":{\"colorbar\":{\"outlinewidth\":0,\"ticks\":\"\"}},\"type\":\"parcoords\"}],\"pie\":[{\"automargin\":true,\"type\":\"pie\"}],\"scatter\":[{\"marker\":{\"colorbar\":{\"outlinewidth\":0,\"ticks\":\"\"}},\"type\":\"scatter\"}],\"scatter3d\":[{\"line\":{\"colorbar\":{\"outlinewidth\":0,\"ticks\":\"\"}},\"marker\":{\"colorbar\":{\"outlinewidth\":0,\"ticks\":\"\"}},\"type\":\"scatter3d\"}],\"scattercarpet\":[{\"marker\":{\"colorbar\":{\"outlinewidth\":0,\"ticks\":\"\"}},\"type\":\"scattercarpet\"}],\"scattergeo\":[{\"marker\":{\"colorbar\":{\"outlinewidth\":0,\"ticks\":\"\"}},\"type\":\"scattergeo\"}],\"scattergl\":[{\"marker\":{\"colorbar\":{\"outlinewidth\":0,\"ticks\":\"\"}},\"type\":\"scattergl\"}],\"scattermapbox\":[{\"marker\":{\"colorbar\":{\"outlinewidth\":0,\"ticks\":\"\"}},\"type\":\"scattermapbox\"}],\"scatterpolar\":[{\"marker\":{\"colorbar\":{\"outlinewidth\":0,\"ticks\":\"\"}},\"type\":\"scatterpolar\"}],\"scatterpolargl\":[{\"marker\":{\"colorbar\":{\"outlinewidth\":0,\"ticks\":\"\"}},\"type\":\"scatterpolargl\"}],\"scatterternary\":[{\"marker\":{\"colorbar\":{\"outlinewidth\":0,\"ticks\":\"\"}},\"type\":\"scatterternary\"}],\"surface\":[{\"colorbar\":{\"outlinewidth\":0,\"ticks\":\"\"},\"colorscale\":[[0.0,\"#0d0887\"],[0.1111111111111111,\"#46039f\"],[0.2222222222222222,\"#7201a8\"],[0.3333333333333333,\"#9c179e\"],[0.4444444444444444,\"#bd3786\"],[0.5555555555555556,\"#d8576b\"],[0.6666666666666666,\"#ed7953\"],[0.7777777777777778,\"#fb9f3a\"],[0.8888888888888888,\"#fdca26\"],[1.0,\"#f0f921\"]],\"type\":\"surface\"}],\"table\":[{\"cells\":{\"fill\":{\"color\":\"#EBF0F8\"},\"line\":{\"color\":\"white\"}},\"header\":{\"fill\":{\"color\":\"#C8D4E3\"},\"line\":{\"color\":\"white\"}},\"type\":\"table\"}]},\"layout\":{\"annotationdefaults\":{\"arrowcolor\":\"#2a3f5f\",\"arrowhead\":0,\"arrowwidth\":1},\"autotypenumbers\":\"strict\",\"coloraxis\":{\"colorbar\":{\"outlinewidth\":0,\"ticks\":\"\"}},\"colorscale\":{\"diverging\":[[0,\"#8e0152\"],[0.1,\"#c51b7d\"],[0.2,\"#de77ae\"],[0.3,\"#f1b6da\"],[0.4,\"#fde0ef\"],[0.5,\"#f7f7f7\"],[0.6,\"#e6f5d0\"],[0.7,\"#b8e186\"],[0.8,\"#7fbc41\"],[0.9,\"#4d9221\"],[1,\"#276419\"]],\"sequential\":[[0.0,\"#0d0887\"],[0.1111111111111111,\"#46039f\"],[0.2222222222222222,\"#7201a8\"],[0.3333333333333333,\"#9c179e\"],[0.4444444444444444,\"#bd3786\"],[0.5555555555555556,\"#d8576b\"],[0.6666666666666666,\"#ed7953\"],[0.7777777777777778,\"#fb9f3a\"],[0.8888888888888888,\"#fdca26\"],[1.0,\"#f0f921\"]],\"sequentialminus\":[[0.0,\"#0d0887\"],[0.1111111111111111,\"#46039f\"],[0.2222222222222222,\"#7201a8\"],[0.3333333333333333,\"#9c179e\"],[0.4444444444444444,\"#bd3786\"],[0.5555555555555556,\"#d8576b\"],[0.6666666666666666,\"#ed7953\"],[0.7777777777777778,\"#fb9f3a\"],[0.8888888888888888,\"#fdca26\"],[1.0,\"#f0f921\"]]},\"colorway\":[\"#636efa\",\"#EF553B\",\"#00cc96\",\"#ab63fa\",\"#FFA15A\",\"#19d3f3\",\"#FF6692\",\"#B6E880\",\"#FF97FF\",\"#FECB52\"],\"font\":{\"color\":\"#2a3f5f\"},\"geo\":{\"bgcolor\":\"white\",\"lakecolor\":\"white\",\"landcolor\":\"#E5ECF6\",\"showlakes\":true,\"showland\":true,\"subunitcolor\":\"white\"},\"hoverlabel\":{\"align\":\"left\"},\"hovermode\":\"closest\",\"mapbox\":{\"style\":\"light\"},\"paper_bgcolor\":\"white\",\"plot_bgcolor\":\"#E5ECF6\",\"polar\":{\"angularaxis\":{\"gridcolor\":\"white\",\"linecolor\":\"white\",\"ticks\":\"\"},\"bgcolor\":\"#E5ECF6\",\"radialaxis\":{\"gridcolor\":\"white\",\"linecolor\":\"white\",\"ticks\":\"\"}},\"scene\":{\"xaxis\":{\"backgroundcolor\":\"#E5ECF6\",\"gridcolor\":\"white\",\"gridwidth\":2,\"linecolor\":\"white\",\"showbackground\":true,\"ticks\":\"\",\"zerolinecolor\":\"white\"},\"yaxis\":{\"backgroundcolor\":\"#E5ECF6\",\"gridcolor\":\"white\",\"gridwidth\":2,\"linecolor\":\"white\",\"showbackground\":true,\"ticks\":\"\",\"zerolinecolor\":\"white\"},\"zaxis\":{\"backgroundcolor\":\"#E5ECF6\",\"gridcolor\":\"white\",\"gridwidth\":2,\"linecolor\":\"white\",\"showbackground\":true,\"ticks\":\"\",\"zerolinecolor\":\"white\"}},\"shapedefaults\":{\"line\":{\"color\":\"#2a3f5f\"}},\"ternary\":{\"aaxis\":{\"gridcolor\":\"white\",\"linecolor\":\"white\",\"ticks\":\"\"},\"baxis\":{\"gridcolor\":\"white\",\"linecolor\":\"white\",\"ticks\":\"\"},\"bgcolor\":\"#E5ECF6\",\"caxis\":{\"gridcolor\":\"white\",\"linecolor\":\"white\",\"ticks\":\"\"}},\"title\":{\"x\":0.05},\"xaxis\":{\"automargin\":true,\"gridcolor\":\"white\",\"linecolor\":\"white\",\"ticks\":\"\",\"title\":{\"standoff\":15},\"zerolinecolor\":\"white\",\"zerolinewidth\":2},\"yaxis\":{\"automargin\":true,\"gridcolor\":\"white\",\"linecolor\":\"white\",\"ticks\":\"\",\"title\":{\"standoff\":15},\"zerolinecolor\":\"white\",\"zerolinewidth\":2}}},\"title\":{\"font\":{\"color\":\"#D9D9D9\"}},\"xaxis\":{\"gridcolor\":\"#434343\",\"showgrid\":true,\"tickfont\":{\"color\":\"#C2C2C2\"},\"title\":{\"font\":{\"color\":\"#D9D9D9\"},\"text\":\"\"},\"zerolinecolor\":\"#666570\"},\"yaxis\":{\"gridcolor\":\"#434343\",\"showgrid\":true,\"tickfont\":{\"color\":\"#C2C2C2\"},\"title\":{\"font\":{\"color\":\"#D9D9D9\"},\"text\":\"\"},\"zerolinecolor\":\"#666570\"}},                        {\"showLink\": true, \"linkText\": \"Export to plot.ly\", \"plotlyServerURL\": \"https://plot.ly\", \"responsive\": true}                    ).then(function(){\n",
       "                            \n",
       "var gd = document.getElementById('7192e87f-64cc-4840-b353-7730a1adf4e2');\n",
       "var x = new MutationObserver(function (mutations, observer) {{\n",
       "        var display = window.getComputedStyle(gd).display;\n",
       "        if (!display || display === 'none') {{\n",
       "            console.log([gd, 'removed!']);\n",
       "            Plotly.purge(gd);\n",
       "            observer.disconnect();\n",
       "        }}\n",
       "}});\n",
       "\n",
       "// Listen for the removal of the full notebook cells\n",
       "var notebookContainer = gd.closest('#notebook-container');\n",
       "if (notebookContainer) {{\n",
       "    x.observe(notebookContainer, {childList: true});\n",
       "}}\n",
       "\n",
       "// Listen for the clearing of the current output cell\n",
       "var outputEl = gd.closest('.output');\n",
       "if (outputEl) {{\n",
       "    x.observe(outputEl, {childList: true});\n",
       "}}\n",
       "\n",
       "                        })                };                });            </script>        </div>"
      ]
     },
     "metadata": {}
    }
   ],
   "metadata": {
    "ExecuteTime": {
     "end_time": "2021-04-16T00:54:21.160249Z",
     "start_time": "2021-04-16T00:54:19.878782Z"
    },
    "execution": {
     "iopub.execute_input": "2021-09-04T16:15:09.202619Z",
     "iopub.status.busy": "2021-09-04T16:15:09.202332Z",
     "iopub.status.idle": "2021-09-04T16:15:09.815525Z",
     "shell.execute_reply": "2021-09-04T16:15:09.814712Z",
     "shell.execute_reply.started": "2021-09-04T16:15:09.202588Z"
    }
   }
  },
  {
   "cell_type": "code",
   "execution_count": 54,
   "source": [
    "Xp.join(df[[\"title\"]]).iplot(kind=\"scatter3d\", x=\"p1\", y=\"p2\", z=\"p3\", mode=\"markers\", categories=\"cl\", text=\"title\", theme=\"solar\")"
   ],
   "outputs": [
    {
     "output_type": "display_data",
     "data": {
      "application/vnd.plotly.v1+json": {
       "config": {
        "linkText": "Export to plot.ly",
        "plotlyServerURL": "https://plot.ly",
        "showLink": true
       },
       "data": [
        {
         "marker": {
          "color": "rgba(255, 153, 51, 1.0)",
          "line": {
           "width": 1.3
          },
          "opacity": 0.8,
          "size": 12,
          "symbol": "circle"
         },
         "mode": "markers",
         "name": "2",
         "text": [
          "'The Hobbit: The Desolation of Smaug' Trailer Is Finally Here",
          "Amazon Takes on Captain America and Blocks Preorders of Disney Titles",
          "NFL Mascot Apologizes for Insensitive Tweet About Suicide",
          "Why Leprechauns Shouldn't Use Social Media",
          "Must Reads: Artisanal Toast, No More Open Internet and More",
          "A 'Boyhood' vs. 'Birdman' Oscar showdown is taking shape already",
          "McCain: U.S. Had 'Won' in Iraq Until Obama Pulled Troops",
          "SEC Suspends Trading of Cynk, the Mysterious Tech Company Briefly Worth $6 Billion",
          "Lyft Won't Back Down After Threats by New York City Regulators",
          "'Fault in Our Stars' author sends books to Ferguson library after director's AMA",
          "China's Online Population Rises by 51 Million in 2012",
          "Google's 'Pay Per Gaze' and the Future of Connected Advertising",
          "Discovery Communications Invests in 24/7 TV Channel for Dogs",
          "Ferry Capsizes in Bangladesh With Hundreds on Board",
          "British Movie Villains Take Center Stage in New Jaguar Super Bowl Ad",
          "Kim Jong-Un's Life Parodied in New 'Draw My Life' Video",
          "Taylor Swift's New Song 'Out of the Woods' Is Already No. 1 on iTunes",
          "Popular YouTube Star PewDiePie Cuts Comments",
          "6 Rules to Live by When Starting a Subscription Business",
          "'Offline' Beer Glass Stops Antisocial Phone Use in Bars",
          "San Francisco 49ers drop Ray McDonald following sexual assault investigation",
          "'Breaking Bad' Vs. 'Homeland': Battle of the Sauls",
          "The Facebook Graveyard: 10 Products the Site Killed",
          "Discuss the Culture of Startups in Our #StartupDiversity Twitter Chat",
          "Twitter Adds Adobe Social, Visible Technologies as Partners",
          "Anti-Selfie Short Film Tells Us Your Behavior Makes Celebs Really Sad",
          "See the Trailer for the Wachowskis' Space Epic, 'Jupiter Ascending'",
          "Airport Scanners No Longer Show Graphic Body Images, TSA Says",
          "Yahoo May Bring Ads to Tumblr Blogs -- With Permission",
          "Google Debuts 'Art Talks' Series to Reveal Stories Behind Masterpieces",
          "Star of Syfy's Zombie Show 'Z Nation' Explains Why It's Not 'The Walking Dead'",
          "Kitchensurfing Raises $15 Million to Bring Private Chefs to Your Home",
          "Adobe's Photoshop Express Now on Windows Phone",
          "14 Freaky Photos From the Frigid 49ers-Packers Game",
          "Carrier Alerts Help Consumers Avoid 'Bill Shock'",
          "Viral Video Recap: Your Chance to Crush Stuff With Schwarzenegger and More",
          "J.J. Abrams' Bad Robot Releases Cryptic 'Stranger' Teaser",
          "France Considering an 'Internet Tax' on Personal Data",
          "8 Places That Are Pricier in Times Square Than the Rest of NYC",
          "Foursquare CEO on Splitting Its App: 'At First, We Thought It Was Crazy'",
          "Outbox Makes Your Snail Mail Digital",
          "This Year May Be the Slowest Start to the U.S. Tornado Season, Ever",
          "AirTHC Lets Colorado Tourists Book Weed-Friendly Rentals",
          "Denis Leary Is Heading Back to TV in 'Sex&Drugs&Rock&Roll' for FX",
          "Project Wing vs. Prime Air: Google's Drones Soar Above Amazon's",
          "30 Overused Buzzwords in Digital Marketing",
          "Google Glass Developers Strive for Hit Apps",
          "Wisdom Teeth Surgery Drugs Take #IceBucketChallenge to Next Level",
          "Must Reads: CNN's MH370 Complex, Motherless on Mother's Day and More"
         ],
         "textfont": {
          "color": "#D9D9D9"
         },
         "type": "scatter3d",
         "x": [
          1.3840585947036743,
          0.7095082998275757,
          -0.8347377181053162,
          -0.6874758005142212,
          -0.6794062256813049,
          0.30363476276397705,
          0.2009676694869995,
          0.5177438855171204,
          1.0283149480819702,
          0.3524029850959778,
          -0.6727305054664612,
          -0.7071247100830078,
          -0.2762534022331238,
          -0.4763646423816681,
          0.21277856826782227,
          -0.4964278042316437,
          -0.01465221680700779,
          0.08321192860603333,
          0.6149671673774719,
          -0.013615836389362812,
          0.15294864773750305,
          -0.5371783971786499,
          -0.3796737492084503,
          0.07775665819644928,
          -1.1706140041351318,
          0.10813607275485992,
          0.11904256790876389,
          -0.5197018980979919,
          -1.0636975765228271,
          0.33010855317115784,
          0.260817289352417,
          -1.2579771280288696,
          -0.4834536015987396,
          0.26845458149909973,
          -0.6744973659515381,
          -0.021772297099232674,
          -1.2666963338851929,
          -1.0978456735610962,
          0.007381638512015343,
          -0.3918960988521576,
          -0.5807894468307495,
          -0.5852766633033752,
          0.06369395554065704,
          0.001202028477564454,
          -0.21072018146514893,
          -0.28654229640960693,
          -0.33977368474006653,
          -0.42438939213752747,
          0.5030241012573242
         ],
         "y": [
          -0.4373643696308136,
          -1.3015979528427124,
          -1.1532765626907349,
          -0.5445942282676697,
          -0.7905316948890686,
          0.01814279519021511,
          -0.28331121802330017,
          -0.7047143578529358,
          0.038221683353185654,
          -1.3849828243255615,
          -0.3355429172515869,
          -0.8103354573249817,
          -0.18373404443264008,
          -1.3971866369247437,
          -0.5962997674942017,
          -0.9360513687133789,
          -0.4125136137008667,
          -0.6967082619667053,
          0.03427086025476456,
          -0.7991141080856323,
          -2.060065746307373,
          -0.6066194772720337,
          -1.2376906871795654,
          -0.23317381739616394,
          -0.665212869644165,
          -0.8044497966766357,
          0.03686618432402611,
          -0.35919347405433655,
          -0.17985105514526367,
          -0.16767571866512299,
          -0.6882428526878357,
          -0.2190079391002655,
          -0.04760541021823883,
          -0.5298682451248169,
          -0.6307991743087769,
          -0.6312928199768066,
          -1.3032997846603394,
          -0.40931135416030884,
          -0.0895097553730011,
          -1.2823394536972046,
          -0.8936049342155457,
          -0.1763046532869339,
          -0.6790484189987183,
          -0.8289922475814819,
          -0.4336005747318268,
          -0.2393323928117752,
          -0.19360962510108948,
          -0.7488168478012085,
          -0.7302912473678589
         ],
         "z": [
          -0.029458915814757347,
          -0.36361321806907654,
          0.8978951573371887,
          -0.005997671280056238,
          -0.9600052237510681,
          0.7472952604293823,
          -0.22373740375041962,
          -0.6986705660820007,
          0.677722692489624,
          0.5864312052726746,
          -0.08079532533884048,
          -0.2305150330066681,
          0.21512097120285034,
          -1.3427097797393799,
          0.6021471619606018,
          -0.6936784982681274,
          0.15165983140468597,
          -0.361795037984848,
          -0.793928325176239,
          -0.5534825325012207,
          0.9224728941917419,
          1.8251550197601318,
          0.6549949049949646,
          0.9079868793487549,
          0.8076992630958557,
          1.196816325187683,
          1.078545331954956,
          0.7610828876495361,
          -0.36101454496383667,
          -0.7230583429336548,
          -1.0983455181121826,
          0.4304959177970886,
          0.14989864826202393,
          1.1982349157333374,
          0.10492007434368134,
          0.0982578694820404,
          1.2269235849380493,
          0.2351294457912445,
          -0.2953251600265503,
          -0.5007339119911194,
          -1.4573360681533813,
          -0.21086765825748444,
          0.3276892900466919,
          -0.7147822380065918,
          -0.6326425075531006,
          -0.17967888712882996,
          -0.7006815075874329,
          -0.4929761588573456,
          -1.3963055610656738
         ]
        },
        {
         "marker": {
          "color": "rgba(55, 128, 191, 1.0)",
          "line": {
           "width": 1.3
          },
          "opacity": 0.8,
          "size": 12,
          "symbol": "circle"
         },
         "mode": "markers",
         "name": "1",
         "text": [
          "Gripping 'Game of Thrones' Season 4 Trailers Revealed on Vine",
          "Uber is expanding its carpooling service to New York City",
          "Singer Jessie J to Unveil New Single at UK-Based Facebook Live Event",
          "'Minecraft' is getting a story-based spinoff game",
          "10 Android games worth paying for",
          "How to turn your entire team into brand evangelists",
          "Stella Young dies: 'I'm not your inspiration, thank you very much'"
         ],
         "textfont": {
          "color": "#D9D9D9"
         },
         "type": "scatter3d",
         "x": [
          3.3712430000305176,
          3.7397992610931396,
          4.243227958679199,
          3.682429313659668,
          2.3114840984344482,
          3.8837239742279053,
          4.204517364501953
         ],
         "y": [
          0.804111897945404,
          0.06843861937522888,
          0.08793068677186966,
          -0.24219171702861786,
          1.2812069654464722,
          0.2858092784881592,
          -1.169860601425171
         ],
         "z": [
          0.7535890936851501,
          -0.5076364278793335,
          -0.051885541528463364,
          0.33661553263664246,
          0.5813404321670532,
          -0.5325750708580017,
          0.13865125179290771
         ]
        },
        {
         "marker": {
          "color": "rgba(50, 171, 96, 1.0)",
          "line": {
           "width": 1.3
          },
          "opacity": 0.8,
          "size": 12,
          "symbol": "circle"
         },
         "mode": "markers",
         "name": "0",
         "text": [
          "Viral Video Recap: Talking Cats, Flying Dogs and More",
          "Larry Page: Tech Is 'Not a Zero-Sum Game' ",
          "Someone, Please, Get Marco Rubio a Glass of Water",
          "4 Tips for Navigating Your Desktop Like a Boss",
          "'Got Talent' and 'The X Factor' Launch YouTube Channels for Best Videos",
          "This Software Will Let Anyone Create Virtual Reality Games",
          "This Smart Lighter Will Help You Quit Smoking",
          "Did Dove Rip Off This Popular Vine Video?",
          "Amazon Puts Gay Twist on Long-Running Kindle Campaign",
          "10 Online Grocery Services for You to Check Out",
          "5 Can't-Miss Apps: 'Angry Birds Epic' and More",
          "Holy Huskies! UConn Takes 2014 NCAA Men's Basketball Title",
          "Glasses Tricks for Every 4 Eyes",
          "The True Test of Nerd Knowledge",
          "Online Retailers Likely to Skip New Credit Card Surcharge",
          "15 Kids Who Clearly Dressed Themselves",
          "U.S. Navy to Deploy Laser Weapon This Summer",
          "TV Ad Campaign Tries to Put a Friendly Face on DNA Testing",
          "Pussy Riot Visits NYC Jail to Support Occupy Wall Street Hero",
          "15 Captivating Photos of the Government Shutdown",
          "AOL Still Relies on Dial-Up Profit as Its Media Shift Continues",
          "Is This the Greatest Vine of All Time?",
          "Twitter Unveils Exclusive Feature For Verified Users",
          "The Stray Rover on the Far Side of Mars ",
          "Mindy Kaling Tells the Harvard Law Graduating Class They're All Nerds",
          "Indestructible Soccer Ball Brings Sport to Kids Who Need It Most",
          "9 Gift Ideas for Foodies",
          "BatKid Rises: Adorable Make-a-Wish Hero Gets Epic Movie Trailer ",
          "Giphy Wants to Make GIFs More Legit",
          "5 Upcoming Events To Re-Engage You With Your Work",
          "By Popular Demand: Quora Adds Traffic-Tracking Tool for Writers",
          "Google Starts Scanning All Android Apps For Malware",
          "Apple Pay Will Work Outside the U.S., But There's a Catch",
          "50+ Events in Game Design, Business Development and More",
          "Pornhub Gets a Record Label, Wants You to Sing its Anthem",
          "Sometimes Game Glitches Are Just Perfect",
          "This Is What It Looks Like to Get Smashed in the Color Run",
          "James Franco Announces Comedy Central Roast in Instagram Video ",
          "How to Identify a Wannabe Thought Leader",
          "Kid Just Wanted 1 Like on YouTube -- Now He's Reddit's Newest Celeb",
          "Knitted Food Photography Looks Good Enough to Eat",
          "Airbnb vs. New York: A Fight Over What It Means to Share",
          "How to Survive Armageddon With Pinterest",
          "Watch the 'True Blood' Season 6 Trailer "
         ],
         "textfont": {
          "color": "#D9D9D9"
         },
         "type": "scatter3d",
         "x": [
          -0.7089464664459229,
          -0.9526349902153015,
          -0.9970094561576843,
          -0.19487044215202332,
          -0.03810959681868553,
          0.8684632182121277,
          -0.11586504429578781,
          -0.7958372831344604,
          -0.601543664932251,
          -0.2061343640089035,
          -0.16528958082199097,
          -1.1288726329803467,
          -0.5182385444641113,
          -1.131271481513977,
          0.16576501727104187,
          -0.6946994662284851,
          -0.7139737606048584,
          -0.21783548593521118,
          0.10767491161823273,
          -0.28000056743621826,
          0.24306538701057434,
          -0.3135438859462738,
          -0.6816320419311523,
          0.5179460644721985,
          -0.6643319725990295,
          -0.6306656002998352,
          -0.6294897794723511,
          0.38803914189338684,
          -0.9255277514457703,
          -1.1585423946380615,
          -0.6798613667488098,
          -0.44446226954460144,
          -0.18009337782859802,
          -0.30220988392829895,
          0.009534523822367191,
          0.3807390332221985,
          0.46242332458496094,
          -0.07498767971992493,
          -0.8660043478012085,
          -0.30908721685409546,
          -0.7427963614463806,
          -0.4374801516532898,
          -0.8841208219528198,
          -0.3429737985134125
         ],
         "y": [
          0.36518993973731995,
          0.3145787715911865,
          0.4411735534667969,
          0.4694703221321106,
          1.5009212493896484,
          0.9408518671989441,
          0.518608033657074,
          1.2544589042663574,
          0.24762459099292755,
          0.2143375128507614,
          1.0985966920852661,
          0.28668200969696045,
          0.8354824185371399,
          0.798793613910675,
          0.4220333695411682,
          0.5901182889938354,
          0.029034970328211784,
          1.0776952505111694,
          0.44249483942985535,
          0.6052976846694946,
          0.8465761542320251,
          1.4588136672973633,
          -0.036983780562877655,
          1.3032176494598389,
          -0.05249834433197975,
          0.13647907972335815,
          2.0823183059692383,
          0.6433695554733276,
          0.07022339105606079,
          0.7868361473083496,
          0.15496303141117096,
          0.3781448006629944,
          0.5036794543266296,
          0.45735687017440796,
          0.3064518868923187,
          0.2006792426109314,
          1.249898910522461,
          0.8557721972465515,
          0.2060462385416031,
          1.1891332864761353,
          0.5127389430999756,
          1.2908867597579956,
          0.8096156716346741,
          0.7865605354309082
         ],
         "z": [
          0.42381587624549866,
          -0.33959686756134033,
          -0.20698612928390503,
          -0.6024519801139832,
          1.1261674165725708,
          0.5781193375587463,
          -1.4731355905532837,
          -0.19170740246772766,
          -0.3499612808227539,
          0.13756169378757477,
          0.7638242840766907,
          0.47265323996543884,
          0.7057266235351562,
          0.45408573746681213,
          -0.1452423334121704,
          0.4969039261341095,
          0.28552117943763733,
          0.24235662817955017,
          -0.8628101348876953,
          1.1833486557006836,
          0.07479264587163925,
          -0.19551505148410797,
          -0.08929246664047241,
          -0.5921037197113037,
          0.583372950553894,
          -0.3881246745586395,
          -1.752591848373413,
          -0.023916345089673996,
          -0.5735413432121277,
          -0.5927259922027588,
          -0.2757885456085205,
          0.41633936762809753,
          0.3345847725868225,
          -0.7157467603683472,
          0.49555251002311707,
          -1.1462205648422241,
          0.8471867442131042,
          -0.7489057183265686,
          -0.4310854375362396,
          0.8376789093017578,
          -0.14480270445346832,
          -0.35304486751556396,
          0.8691056370735168,
          -0.5539354085922241
         ]
        }
       ],
       "layout": {
        "legend": {
         "bgcolor": "#151516",
         "font": {
          "color": "#D9D9D9"
         }
        },
        "paper_bgcolor": "#151516",
        "plot_bgcolor": "#151516",
        "scene": {
         "xaxis": {
          "gridcolor": "#434343",
          "showgrid": true,
          "tickfont": {
           "color": "#C2C2C2"
          },
          "title": {
           "font": {
            "color": "#D9D9D9"
           },
           "text": ""
          },
          "zerolinecolor": "#666570"
         },
         "yaxis": {
          "gridcolor": "#434343",
          "showgrid": true,
          "tickfont": {
           "color": "#C2C2C2"
          },
          "title": {
           "font": {
            "color": "#D9D9D9"
           },
           "text": ""
          },
          "zerolinecolor": "#666570"
         },
         "zaxis": {
          "gridcolor": "#434343",
          "showgrid": true,
          "tickfont": {
           "color": "#C2C2C2"
          },
          "title": {
           "font": {
            "color": "#D9D9D9"
           },
           "text": ""
          },
          "zerolinecolor": "#666570"
         }
        },
        "template": {
         "data": {
          "bar": [
           {
            "error_x": {
             "color": "#2a3f5f"
            },
            "error_y": {
             "color": "#2a3f5f"
            },
            "marker": {
             "line": {
              "color": "#E5ECF6",
              "width": 0.5
             },
             "pattern": {
              "fillmode": "overlay",
              "size": 10,
              "solidity": 0.2
             }
            },
            "type": "bar"
           }
          ],
          "barpolar": [
           {
            "marker": {
             "line": {
              "color": "#E5ECF6",
              "width": 0.5
             },
             "pattern": {
              "fillmode": "overlay",
              "size": 10,
              "solidity": 0.2
             }
            },
            "type": "barpolar"
           }
          ],
          "carpet": [
           {
            "aaxis": {
             "endlinecolor": "#2a3f5f",
             "gridcolor": "white",
             "linecolor": "white",
             "minorgridcolor": "white",
             "startlinecolor": "#2a3f5f"
            },
            "baxis": {
             "endlinecolor": "#2a3f5f",
             "gridcolor": "white",
             "linecolor": "white",
             "minorgridcolor": "white",
             "startlinecolor": "#2a3f5f"
            },
            "type": "carpet"
           }
          ],
          "choropleth": [
           {
            "colorbar": {
             "outlinewidth": 0,
             "ticks": ""
            },
            "type": "choropleth"
           }
          ],
          "contour": [
           {
            "colorbar": {
             "outlinewidth": 0,
             "ticks": ""
            },
            "colorscale": [
             [
              0,
              "#0d0887"
             ],
             [
              0.1111111111111111,
              "#46039f"
             ],
             [
              0.2222222222222222,
              "#7201a8"
             ],
             [
              0.3333333333333333,
              "#9c179e"
             ],
             [
              0.4444444444444444,
              "#bd3786"
             ],
             [
              0.5555555555555556,
              "#d8576b"
             ],
             [
              0.6666666666666666,
              "#ed7953"
             ],
             [
              0.7777777777777778,
              "#fb9f3a"
             ],
             [
              0.8888888888888888,
              "#fdca26"
             ],
             [
              1,
              "#f0f921"
             ]
            ],
            "type": "contour"
           }
          ],
          "contourcarpet": [
           {
            "colorbar": {
             "outlinewidth": 0,
             "ticks": ""
            },
            "type": "contourcarpet"
           }
          ],
          "heatmap": [
           {
            "colorbar": {
             "outlinewidth": 0,
             "ticks": ""
            },
            "colorscale": [
             [
              0,
              "#0d0887"
             ],
             [
              0.1111111111111111,
              "#46039f"
             ],
             [
              0.2222222222222222,
              "#7201a8"
             ],
             [
              0.3333333333333333,
              "#9c179e"
             ],
             [
              0.4444444444444444,
              "#bd3786"
             ],
             [
              0.5555555555555556,
              "#d8576b"
             ],
             [
              0.6666666666666666,
              "#ed7953"
             ],
             [
              0.7777777777777778,
              "#fb9f3a"
             ],
             [
              0.8888888888888888,
              "#fdca26"
             ],
             [
              1,
              "#f0f921"
             ]
            ],
            "type": "heatmap"
           }
          ],
          "heatmapgl": [
           {
            "colorbar": {
             "outlinewidth": 0,
             "ticks": ""
            },
            "colorscale": [
             [
              0,
              "#0d0887"
             ],
             [
              0.1111111111111111,
              "#46039f"
             ],
             [
              0.2222222222222222,
              "#7201a8"
             ],
             [
              0.3333333333333333,
              "#9c179e"
             ],
             [
              0.4444444444444444,
              "#bd3786"
             ],
             [
              0.5555555555555556,
              "#d8576b"
             ],
             [
              0.6666666666666666,
              "#ed7953"
             ],
             [
              0.7777777777777778,
              "#fb9f3a"
             ],
             [
              0.8888888888888888,
              "#fdca26"
             ],
             [
              1,
              "#f0f921"
             ]
            ],
            "type": "heatmapgl"
           }
          ],
          "histogram": [
           {
            "marker": {
             "pattern": {
              "fillmode": "overlay",
              "size": 10,
              "solidity": 0.2
             }
            },
            "type": "histogram"
           }
          ],
          "histogram2d": [
           {
            "colorbar": {
             "outlinewidth": 0,
             "ticks": ""
            },
            "colorscale": [
             [
              0,
              "#0d0887"
             ],
             [
              0.1111111111111111,
              "#46039f"
             ],
             [
              0.2222222222222222,
              "#7201a8"
             ],
             [
              0.3333333333333333,
              "#9c179e"
             ],
             [
              0.4444444444444444,
              "#bd3786"
             ],
             [
              0.5555555555555556,
              "#d8576b"
             ],
             [
              0.6666666666666666,
              "#ed7953"
             ],
             [
              0.7777777777777778,
              "#fb9f3a"
             ],
             [
              0.8888888888888888,
              "#fdca26"
             ],
             [
              1,
              "#f0f921"
             ]
            ],
            "type": "histogram2d"
           }
          ],
          "histogram2dcontour": [
           {
            "colorbar": {
             "outlinewidth": 0,
             "ticks": ""
            },
            "colorscale": [
             [
              0,
              "#0d0887"
             ],
             [
              0.1111111111111111,
              "#46039f"
             ],
             [
              0.2222222222222222,
              "#7201a8"
             ],
             [
              0.3333333333333333,
              "#9c179e"
             ],
             [
              0.4444444444444444,
              "#bd3786"
             ],
             [
              0.5555555555555556,
              "#d8576b"
             ],
             [
              0.6666666666666666,
              "#ed7953"
             ],
             [
              0.7777777777777778,
              "#fb9f3a"
             ],
             [
              0.8888888888888888,
              "#fdca26"
             ],
             [
              1,
              "#f0f921"
             ]
            ],
            "type": "histogram2dcontour"
           }
          ],
          "mesh3d": [
           {
            "colorbar": {
             "outlinewidth": 0,
             "ticks": ""
            },
            "type": "mesh3d"
           }
          ],
          "parcoords": [
           {
            "line": {
             "colorbar": {
              "outlinewidth": 0,
              "ticks": ""
             }
            },
            "type": "parcoords"
           }
          ],
          "pie": [
           {
            "automargin": true,
            "type": "pie"
           }
          ],
          "scatter": [
           {
            "marker": {
             "colorbar": {
              "outlinewidth": 0,
              "ticks": ""
             }
            },
            "type": "scatter"
           }
          ],
          "scatter3d": [
           {
            "line": {
             "colorbar": {
              "outlinewidth": 0,
              "ticks": ""
             }
            },
            "marker": {
             "colorbar": {
              "outlinewidth": 0,
              "ticks": ""
             }
            },
            "type": "scatter3d"
           }
          ],
          "scattercarpet": [
           {
            "marker": {
             "colorbar": {
              "outlinewidth": 0,
              "ticks": ""
             }
            },
            "type": "scattercarpet"
           }
          ],
          "scattergeo": [
           {
            "marker": {
             "colorbar": {
              "outlinewidth": 0,
              "ticks": ""
             }
            },
            "type": "scattergeo"
           }
          ],
          "scattergl": [
           {
            "marker": {
             "colorbar": {
              "outlinewidth": 0,
              "ticks": ""
             }
            },
            "type": "scattergl"
           }
          ],
          "scattermapbox": [
           {
            "marker": {
             "colorbar": {
              "outlinewidth": 0,
              "ticks": ""
             }
            },
            "type": "scattermapbox"
           }
          ],
          "scatterpolar": [
           {
            "marker": {
             "colorbar": {
              "outlinewidth": 0,
              "ticks": ""
             }
            },
            "type": "scatterpolar"
           }
          ],
          "scatterpolargl": [
           {
            "marker": {
             "colorbar": {
              "outlinewidth": 0,
              "ticks": ""
             }
            },
            "type": "scatterpolargl"
           }
          ],
          "scatterternary": [
           {
            "marker": {
             "colorbar": {
              "outlinewidth": 0,
              "ticks": ""
             }
            },
            "type": "scatterternary"
           }
          ],
          "surface": [
           {
            "colorbar": {
             "outlinewidth": 0,
             "ticks": ""
            },
            "colorscale": [
             [
              0,
              "#0d0887"
             ],
             [
              0.1111111111111111,
              "#46039f"
             ],
             [
              0.2222222222222222,
              "#7201a8"
             ],
             [
              0.3333333333333333,
              "#9c179e"
             ],
             [
              0.4444444444444444,
              "#bd3786"
             ],
             [
              0.5555555555555556,
              "#d8576b"
             ],
             [
              0.6666666666666666,
              "#ed7953"
             ],
             [
              0.7777777777777778,
              "#fb9f3a"
             ],
             [
              0.8888888888888888,
              "#fdca26"
             ],
             [
              1,
              "#f0f921"
             ]
            ],
            "type": "surface"
           }
          ],
          "table": [
           {
            "cells": {
             "fill": {
              "color": "#EBF0F8"
             },
             "line": {
              "color": "white"
             }
            },
            "header": {
             "fill": {
              "color": "#C8D4E3"
             },
             "line": {
              "color": "white"
             }
            },
            "type": "table"
           }
          ]
         },
         "layout": {
          "annotationdefaults": {
           "arrowcolor": "#2a3f5f",
           "arrowhead": 0,
           "arrowwidth": 1
          },
          "autotypenumbers": "strict",
          "coloraxis": {
           "colorbar": {
            "outlinewidth": 0,
            "ticks": ""
           }
          },
          "colorscale": {
           "diverging": [
            [
             0,
             "#8e0152"
            ],
            [
             0.1,
             "#c51b7d"
            ],
            [
             0.2,
             "#de77ae"
            ],
            [
             0.3,
             "#f1b6da"
            ],
            [
             0.4,
             "#fde0ef"
            ],
            [
             0.5,
             "#f7f7f7"
            ],
            [
             0.6,
             "#e6f5d0"
            ],
            [
             0.7,
             "#b8e186"
            ],
            [
             0.8,
             "#7fbc41"
            ],
            [
             0.9,
             "#4d9221"
            ],
            [
             1,
             "#276419"
            ]
           ],
           "sequential": [
            [
             0,
             "#0d0887"
            ],
            [
             0.1111111111111111,
             "#46039f"
            ],
            [
             0.2222222222222222,
             "#7201a8"
            ],
            [
             0.3333333333333333,
             "#9c179e"
            ],
            [
             0.4444444444444444,
             "#bd3786"
            ],
            [
             0.5555555555555556,
             "#d8576b"
            ],
            [
             0.6666666666666666,
             "#ed7953"
            ],
            [
             0.7777777777777778,
             "#fb9f3a"
            ],
            [
             0.8888888888888888,
             "#fdca26"
            ],
            [
             1,
             "#f0f921"
            ]
           ],
           "sequentialminus": [
            [
             0,
             "#0d0887"
            ],
            [
             0.1111111111111111,
             "#46039f"
            ],
            [
             0.2222222222222222,
             "#7201a8"
            ],
            [
             0.3333333333333333,
             "#9c179e"
            ],
            [
             0.4444444444444444,
             "#bd3786"
            ],
            [
             0.5555555555555556,
             "#d8576b"
            ],
            [
             0.6666666666666666,
             "#ed7953"
            ],
            [
             0.7777777777777778,
             "#fb9f3a"
            ],
            [
             0.8888888888888888,
             "#fdca26"
            ],
            [
             1,
             "#f0f921"
            ]
           ]
          },
          "colorway": [
           "#636efa",
           "#EF553B",
           "#00cc96",
           "#ab63fa",
           "#FFA15A",
           "#19d3f3",
           "#FF6692",
           "#B6E880",
           "#FF97FF",
           "#FECB52"
          ],
          "font": {
           "color": "#2a3f5f"
          },
          "geo": {
           "bgcolor": "white",
           "lakecolor": "white",
           "landcolor": "#E5ECF6",
           "showlakes": true,
           "showland": true,
           "subunitcolor": "white"
          },
          "hoverlabel": {
           "align": "left"
          },
          "hovermode": "closest",
          "mapbox": {
           "style": "light"
          },
          "paper_bgcolor": "white",
          "plot_bgcolor": "#E5ECF6",
          "polar": {
           "angularaxis": {
            "gridcolor": "white",
            "linecolor": "white",
            "ticks": ""
           },
           "bgcolor": "#E5ECF6",
           "radialaxis": {
            "gridcolor": "white",
            "linecolor": "white",
            "ticks": ""
           }
          },
          "scene": {
           "xaxis": {
            "backgroundcolor": "#E5ECF6",
            "gridcolor": "white",
            "gridwidth": 2,
            "linecolor": "white",
            "showbackground": true,
            "ticks": "",
            "zerolinecolor": "white"
           },
           "yaxis": {
            "backgroundcolor": "#E5ECF6",
            "gridcolor": "white",
            "gridwidth": 2,
            "linecolor": "white",
            "showbackground": true,
            "ticks": "",
            "zerolinecolor": "white"
           },
           "zaxis": {
            "backgroundcolor": "#E5ECF6",
            "gridcolor": "white",
            "gridwidth": 2,
            "linecolor": "white",
            "showbackground": true,
            "ticks": "",
            "zerolinecolor": "white"
           }
          },
          "shapedefaults": {
           "line": {
            "color": "#2a3f5f"
           }
          },
          "ternary": {
           "aaxis": {
            "gridcolor": "white",
            "linecolor": "white",
            "ticks": ""
           },
           "baxis": {
            "gridcolor": "white",
            "linecolor": "white",
            "ticks": ""
           },
           "bgcolor": "#E5ECF6",
           "caxis": {
            "gridcolor": "white",
            "linecolor": "white",
            "ticks": ""
           }
          },
          "title": {
           "x": 0.05
          },
          "xaxis": {
           "automargin": true,
           "gridcolor": "white",
           "linecolor": "white",
           "ticks": "",
           "title": {
            "standoff": 15
           },
           "zerolinecolor": "white",
           "zerolinewidth": 2
          },
          "yaxis": {
           "automargin": true,
           "gridcolor": "white",
           "linecolor": "white",
           "ticks": "",
           "title": {
            "standoff": 15
           },
           "zerolinecolor": "white",
           "zerolinewidth": 2
          }
         }
        },
        "title": {
         "font": {
          "color": "#D9D9D9"
         }
        }
       }
      },
      "text/html": [
       "<div>                            <div id=\"1bd5f6db-bcd0-4166-bf49-7e15fb0937e9\" class=\"plotly-graph-div\" style=\"height:525px; width:100%;\"></div>            <script type=\"text/javascript\">                require([\"plotly\"], function(Plotly) {                    window.PLOTLYENV=window.PLOTLYENV || {};\n",
       "                    window.PLOTLYENV.BASE_URL='https://plot.ly';                                    if (document.getElementById(\"1bd5f6db-bcd0-4166-bf49-7e15fb0937e9\")) {                    Plotly.newPlot(                        \"1bd5f6db-bcd0-4166-bf49-7e15fb0937e9\",                        [{\"marker\":{\"color\":\"rgba(255, 153, 51, 1.0)\",\"line\":{\"width\":1.3},\"opacity\":0.8,\"size\":12,\"symbol\":\"circle\"},\"mode\":\"markers\",\"name\":\"2\",\"text\":[\"'The Hobbit: The Desolation of Smaug' Trailer Is Finally Here\",\"Amazon Takes on Captain America and Blocks Preorders of Disney Titles\",\"NFL Mascot Apologizes for Insensitive Tweet About Suicide\",\"Why Leprechauns Shouldn't Use Social Media\",\"Must Reads: Artisanal Toast, No More Open Internet and More\",\"A 'Boyhood' vs. 'Birdman' Oscar showdown is taking shape already\",\"McCain: U.S. Had 'Won' in Iraq Until Obama Pulled Troops\",\"SEC Suspends Trading of Cynk, the Mysterious Tech Company Briefly Worth $6 Billion\",\"Lyft Won't Back Down After Threats by New York City Regulators\",\"'Fault in Our Stars' author sends books to Ferguson library after director's AMA\",\"China's Online Population Rises by 51 Million in 2012\",\"Google's 'Pay Per Gaze' and the Future of Connected Advertising\",\"Discovery Communications Invests in 24/7 TV Channel for Dogs\",\"Ferry Capsizes in Bangladesh With Hundreds on Board\",\"British Movie Villains Take Center Stage in New Jaguar Super Bowl Ad\",\"Kim Jong-Un's Life Parodied in New 'Draw My Life' Video\",\"Taylor Swift's New Song 'Out of the Woods' Is Already No. 1 on iTunes\",\"Popular YouTube Star PewDiePie Cuts Comments\",\"6 Rules to Live by When Starting a Subscription Business\",\"'Offline' Beer Glass Stops Antisocial Phone Use in Bars\",\"San Francisco 49ers drop Ray McDonald following sexual assault investigation\",\"'Breaking Bad' Vs. 'Homeland': Battle of the Sauls\",\"The Facebook Graveyard: 10 Products the Site Killed\",\"Discuss the Culture of Startups in Our #StartupDiversity Twitter Chat\",\"Twitter Adds Adobe Social, Visible Technologies as Partners\",\"Anti-Selfie Short Film Tells Us Your Behavior Makes Celebs Really Sad\",\"See the Trailer for the Wachowskis' Space Epic, 'Jupiter Ascending'\",\"Airport Scanners No Longer Show Graphic Body Images, TSA Says\",\"Yahoo May Bring Ads to Tumblr Blogs -- With Permission\",\"Google Debuts 'Art Talks' Series to Reveal Stories Behind Masterpieces\",\"Star of Syfy's Zombie Show 'Z Nation' Explains Why It's Not 'The Walking Dead'\",\"Kitchensurfing Raises $15 Million to Bring Private Chefs to Your Home\",\"Adobe's Photoshop Express Now on Windows Phone\",\"14 Freaky Photos From the Frigid 49ers-Packers Game\",\"Carrier Alerts Help Consumers Avoid 'Bill Shock'\",\"Viral Video Recap: Your Chance to Crush Stuff With Schwarzenegger and More\",\"J.J. Abrams' Bad Robot Releases Cryptic 'Stranger' Teaser\",\"France Considering an 'Internet Tax' on Personal Data\",\"8 Places That Are Pricier in Times Square Than the Rest of NYC\",\"Foursquare CEO on Splitting Its App: 'At First, We Thought It Was Crazy'\",\"Outbox Makes Your Snail Mail Digital\",\"This Year May Be the Slowest Start to the U.S. Tornado Season, Ever\",\"AirTHC Lets Colorado Tourists Book Weed-Friendly Rentals\",\"Denis Leary Is Heading Back to TV in 'Sex&Drugs&Rock&Roll' for FX\",\"Project Wing vs. Prime Air: Google's Drones Soar Above Amazon's\",\"30 Overused Buzzwords in Digital Marketing\",\"Google Glass Developers Strive for Hit Apps\",\"Wisdom Teeth Surgery Drugs Take #IceBucketChallenge to Next Level\",\"Must Reads: CNN's MH370 Complex, Motherless on Mother's Day and More\"],\"textfont\":{\"color\":\"#D9D9D9\"},\"type\":\"scatter3d\",\"x\":[1.3840585947036743,0.7095082998275757,-0.8347377181053162,-0.6874758005142212,-0.6794062256813049,0.30363476276397705,0.2009676694869995,0.5177438855171204,1.0283149480819702,0.3524029850959778,-0.6727305054664612,-0.7071247100830078,-0.2762534022331238,-0.4763646423816681,0.21277856826782227,-0.4964278042316437,-0.01465221680700779,0.08321192860603333,0.6149671673774719,-0.013615836389362812,0.15294864773750305,-0.5371783971786499,-0.3796737492084503,0.07775665819644928,-1.1706140041351318,0.10813607275485992,0.11904256790876389,-0.5197018980979919,-1.0636975765228271,0.33010855317115784,0.260817289352417,-1.2579771280288696,-0.4834536015987396,0.26845458149909973,-0.6744973659515381,-0.021772297099232674,-1.2666963338851929,-1.0978456735610962,0.007381638512015343,-0.3918960988521576,-0.5807894468307495,-0.5852766633033752,0.06369395554065704,0.001202028477564454,-0.21072018146514893,-0.28654229640960693,-0.33977368474006653,-0.42438939213752747,0.5030241012573242],\"y\":[-0.4373643696308136,-1.3015979528427124,-1.1532765626907349,-0.5445942282676697,-0.7905316948890686,0.01814279519021511,-0.28331121802330017,-0.7047143578529358,0.038221683353185654,-1.3849828243255615,-0.3355429172515869,-0.8103354573249817,-0.18373404443264008,-1.3971866369247437,-0.5962997674942017,-0.9360513687133789,-0.4125136137008667,-0.6967082619667053,0.03427086025476456,-0.7991141080856323,-2.060065746307373,-0.6066194772720337,-1.2376906871795654,-0.23317381739616394,-0.665212869644165,-0.8044497966766357,0.03686618432402611,-0.35919347405433655,-0.17985105514526367,-0.16767571866512299,-0.6882428526878357,-0.2190079391002655,-0.04760541021823883,-0.5298682451248169,-0.6307991743087769,-0.6312928199768066,-1.3032997846603394,-0.40931135416030884,-0.0895097553730011,-1.2823394536972046,-0.8936049342155457,-0.1763046532869339,-0.6790484189987183,-0.8289922475814819,-0.4336005747318268,-0.2393323928117752,-0.19360962510108948,-0.7488168478012085,-0.7302912473678589],\"z\":[-0.029458915814757347,-0.36361321806907654,0.8978951573371887,-0.005997671280056238,-0.9600052237510681,0.7472952604293823,-0.22373740375041962,-0.6986705660820007,0.677722692489624,0.5864312052726746,-0.08079532533884048,-0.2305150330066681,0.21512097120285034,-1.3427097797393799,0.6021471619606018,-0.6936784982681274,0.15165983140468597,-0.361795037984848,-0.793928325176239,-0.5534825325012207,0.9224728941917419,1.8251550197601318,0.6549949049949646,0.9079868793487549,0.8076992630958557,1.196816325187683,1.078545331954956,0.7610828876495361,-0.36101454496383667,-0.7230583429336548,-1.0983455181121826,0.4304959177970886,0.14989864826202393,1.1982349157333374,0.10492007434368134,0.0982578694820404,1.2269235849380493,0.2351294457912445,-0.2953251600265503,-0.5007339119911194,-1.4573360681533813,-0.21086765825748444,0.3276892900466919,-0.7147822380065918,-0.6326425075531006,-0.17967888712882996,-0.7006815075874329,-0.4929761588573456,-1.3963055610656738]},{\"marker\":{\"color\":\"rgba(55, 128, 191, 1.0)\",\"line\":{\"width\":1.3},\"opacity\":0.8,\"size\":12,\"symbol\":\"circle\"},\"mode\":\"markers\",\"name\":\"1\",\"text\":[\"Gripping 'Game of Thrones' Season 4 Trailers Revealed on Vine\",\"Uber is expanding its carpooling service to New York City\",\"Singer Jessie J to Unveil New Single at UK-Based Facebook Live Event\",\"'Minecraft' is getting a story-based spinoff game\",\"10 Android games worth paying for\",\"How to turn your entire team into brand evangelists\",\"Stella Young dies: 'I'm not your inspiration, thank you very much'\"],\"textfont\":{\"color\":\"#D9D9D9\"},\"type\":\"scatter3d\",\"x\":[3.3712430000305176,3.7397992610931396,4.243227958679199,3.682429313659668,2.3114840984344482,3.8837239742279053,4.204517364501953],\"y\":[0.804111897945404,0.06843861937522888,0.08793068677186966,-0.24219171702861786,1.2812069654464722,0.2858092784881592,-1.169860601425171],\"z\":[0.7535890936851501,-0.5076364278793335,-0.051885541528463364,0.33661553263664246,0.5813404321670532,-0.5325750708580017,0.13865125179290771]},{\"marker\":{\"color\":\"rgba(50, 171, 96, 1.0)\",\"line\":{\"width\":1.3},\"opacity\":0.8,\"size\":12,\"symbol\":\"circle\"},\"mode\":\"markers\",\"name\":\"0\",\"text\":[\"Viral Video Recap: Talking Cats, Flying Dogs and More\",\"Larry Page: Tech Is 'Not a Zero-Sum Game' \",\"Someone, Please, Get Marco Rubio a Glass of Water\",\"4 Tips for Navigating Your Desktop Like a Boss\",\"'Got Talent' and 'The X Factor' Launch YouTube Channels for Best Videos\",\"This Software Will Let Anyone Create Virtual Reality Games\",\"This Smart Lighter Will Help You Quit Smoking\",\"Did Dove Rip Off This Popular Vine Video?\",\"Amazon Puts Gay Twist on Long-Running Kindle Campaign\",\"10 Online Grocery Services for You to Check Out\",\"5 Can't-Miss Apps: 'Angry Birds Epic' and More\",\"Holy Huskies! UConn Takes 2014 NCAA Men's Basketball Title\",\"Glasses Tricks for Every 4 Eyes\",\"The True Test of Nerd Knowledge\",\"Online Retailers Likely to Skip New Credit Card Surcharge\",\"15 Kids Who Clearly Dressed Themselves\",\"U.S. Navy to Deploy Laser Weapon This Summer\",\"TV Ad Campaign Tries to Put a Friendly Face on DNA Testing\",\"Pussy Riot Visits NYC Jail to Support Occupy Wall Street Hero\",\"15 Captivating Photos of the Government Shutdown\",\"AOL Still Relies on Dial-Up Profit as Its Media Shift Continues\",\"Is This the Greatest Vine of All Time?\",\"Twitter Unveils Exclusive Feature For Verified Users\",\"The Stray Rover on the Far Side of Mars \",\"Mindy Kaling Tells the Harvard Law Graduating Class They're All Nerds\",\"Indestructible Soccer Ball Brings Sport to Kids Who Need It Most\",\"9 Gift Ideas for Foodies\",\"BatKid Rises: Adorable Make-a-Wish Hero Gets Epic Movie Trailer \",\"Giphy Wants to Make GIFs More Legit\",\"5 Upcoming Events To Re-Engage You With Your Work\",\"By Popular Demand: Quora Adds Traffic-Tracking Tool for Writers\",\"Google Starts Scanning All Android Apps For Malware\",\"Apple Pay Will Work Outside the U.S., But There's a Catch\",\"50+ Events in Game Design, Business Development and More\",\"Pornhub Gets a Record Label, Wants You to Sing its Anthem\",\"Sometimes Game Glitches Are Just Perfect\",\"This Is What It Looks Like to Get Smashed in the Color Run\",\"James Franco Announces Comedy Central Roast in Instagram Video \",\"How to Identify a Wannabe Thought Leader\",\"Kid Just Wanted 1 Like on YouTube -- Now He's Reddit's Newest Celeb\",\"Knitted Food Photography Looks Good Enough to Eat\",\"Airbnb vs. New York: A Fight Over What It Means to Share\",\"How to Survive Armageddon With Pinterest\",\"Watch the 'True Blood' Season 6 Trailer \"],\"textfont\":{\"color\":\"#D9D9D9\"},\"type\":\"scatter3d\",\"x\":[-0.7089464664459229,-0.9526349902153015,-0.9970094561576843,-0.19487044215202332,-0.03810959681868553,0.8684632182121277,-0.11586504429578781,-0.7958372831344604,-0.601543664932251,-0.2061343640089035,-0.16528958082199097,-1.1288726329803467,-0.5182385444641113,-1.131271481513977,0.16576501727104187,-0.6946994662284851,-0.7139737606048584,-0.21783548593521118,0.10767491161823273,-0.28000056743621826,0.24306538701057434,-0.3135438859462738,-0.6816320419311523,0.5179460644721985,-0.6643319725990295,-0.6306656002998352,-0.6294897794723511,0.38803914189338684,-0.9255277514457703,-1.1585423946380615,-0.6798613667488098,-0.44446226954460144,-0.18009337782859802,-0.30220988392829895,0.009534523822367191,0.3807390332221985,0.46242332458496094,-0.07498767971992493,-0.8660043478012085,-0.30908721685409546,-0.7427963614463806,-0.4374801516532898,-0.8841208219528198,-0.3429737985134125],\"y\":[0.36518993973731995,0.3145787715911865,0.4411735534667969,0.4694703221321106,1.5009212493896484,0.9408518671989441,0.518608033657074,1.2544589042663574,0.24762459099292755,0.2143375128507614,1.0985966920852661,0.28668200969696045,0.8354824185371399,0.798793613910675,0.4220333695411682,0.5901182889938354,0.029034970328211784,1.0776952505111694,0.44249483942985535,0.6052976846694946,0.8465761542320251,1.4588136672973633,-0.036983780562877655,1.3032176494598389,-0.05249834433197975,0.13647907972335815,2.0823183059692383,0.6433695554733276,0.07022339105606079,0.7868361473083496,0.15496303141117096,0.3781448006629944,0.5036794543266296,0.45735687017440796,0.3064518868923187,0.2006792426109314,1.249898910522461,0.8557721972465515,0.2060462385416031,1.1891332864761353,0.5127389430999756,1.2908867597579956,0.8096156716346741,0.7865605354309082],\"z\":[0.42381587624549866,-0.33959686756134033,-0.20698612928390503,-0.6024519801139832,1.1261674165725708,0.5781193375587463,-1.4731355905532837,-0.19170740246772766,-0.3499612808227539,0.13756169378757477,0.7638242840766907,0.47265323996543884,0.7057266235351562,0.45408573746681213,-0.1452423334121704,0.4969039261341095,0.28552117943763733,0.24235662817955017,-0.8628101348876953,1.1833486557006836,0.07479264587163925,-0.19551505148410797,-0.08929246664047241,-0.5921037197113037,0.583372950553894,-0.3881246745586395,-1.752591848373413,-0.023916345089673996,-0.5735413432121277,-0.5927259922027588,-0.2757885456085205,0.41633936762809753,0.3345847725868225,-0.7157467603683472,0.49555251002311707,-1.1462205648422241,0.8471867442131042,-0.7489057183265686,-0.4310854375362396,0.8376789093017578,-0.14480270445346832,-0.35304486751556396,0.8691056370735168,-0.5539354085922241]}],                        {\"legend\":{\"bgcolor\":\"#151516\",\"font\":{\"color\":\"#D9D9D9\"}},\"paper_bgcolor\":\"#151516\",\"plot_bgcolor\":\"#151516\",\"scene\":{\"xaxis\":{\"gridcolor\":\"#434343\",\"showgrid\":true,\"tickfont\":{\"color\":\"#C2C2C2\"},\"title\":{\"font\":{\"color\":\"#D9D9D9\"},\"text\":\"\"},\"zerolinecolor\":\"#666570\"},\"yaxis\":{\"gridcolor\":\"#434343\",\"showgrid\":true,\"tickfont\":{\"color\":\"#C2C2C2\"},\"title\":{\"font\":{\"color\":\"#D9D9D9\"},\"text\":\"\"},\"zerolinecolor\":\"#666570\"},\"zaxis\":{\"gridcolor\":\"#434343\",\"showgrid\":true,\"tickfont\":{\"color\":\"#C2C2C2\"},\"title\":{\"font\":{\"color\":\"#D9D9D9\"},\"text\":\"\"},\"zerolinecolor\":\"#666570\"}},\"template\":{\"data\":{\"bar\":[{\"error_x\":{\"color\":\"#2a3f5f\"},\"error_y\":{\"color\":\"#2a3f5f\"},\"marker\":{\"line\":{\"color\":\"#E5ECF6\",\"width\":0.5},\"pattern\":{\"fillmode\":\"overlay\",\"size\":10,\"solidity\":0.2}},\"type\":\"bar\"}],\"barpolar\":[{\"marker\":{\"line\":{\"color\":\"#E5ECF6\",\"width\":0.5},\"pattern\":{\"fillmode\":\"overlay\",\"size\":10,\"solidity\":0.2}},\"type\":\"barpolar\"}],\"carpet\":[{\"aaxis\":{\"endlinecolor\":\"#2a3f5f\",\"gridcolor\":\"white\",\"linecolor\":\"white\",\"minorgridcolor\":\"white\",\"startlinecolor\":\"#2a3f5f\"},\"baxis\":{\"endlinecolor\":\"#2a3f5f\",\"gridcolor\":\"white\",\"linecolor\":\"white\",\"minorgridcolor\":\"white\",\"startlinecolor\":\"#2a3f5f\"},\"type\":\"carpet\"}],\"choropleth\":[{\"colorbar\":{\"outlinewidth\":0,\"ticks\":\"\"},\"type\":\"choropleth\"}],\"contour\":[{\"colorbar\":{\"outlinewidth\":0,\"ticks\":\"\"},\"colorscale\":[[0.0,\"#0d0887\"],[0.1111111111111111,\"#46039f\"],[0.2222222222222222,\"#7201a8\"],[0.3333333333333333,\"#9c179e\"],[0.4444444444444444,\"#bd3786\"],[0.5555555555555556,\"#d8576b\"],[0.6666666666666666,\"#ed7953\"],[0.7777777777777778,\"#fb9f3a\"],[0.8888888888888888,\"#fdca26\"],[1.0,\"#f0f921\"]],\"type\":\"contour\"}],\"contourcarpet\":[{\"colorbar\":{\"outlinewidth\":0,\"ticks\":\"\"},\"type\":\"contourcarpet\"}],\"heatmap\":[{\"colorbar\":{\"outlinewidth\":0,\"ticks\":\"\"},\"colorscale\":[[0.0,\"#0d0887\"],[0.1111111111111111,\"#46039f\"],[0.2222222222222222,\"#7201a8\"],[0.3333333333333333,\"#9c179e\"],[0.4444444444444444,\"#bd3786\"],[0.5555555555555556,\"#d8576b\"],[0.6666666666666666,\"#ed7953\"],[0.7777777777777778,\"#fb9f3a\"],[0.8888888888888888,\"#fdca26\"],[1.0,\"#f0f921\"]],\"type\":\"heatmap\"}],\"heatmapgl\":[{\"colorbar\":{\"outlinewidth\":0,\"ticks\":\"\"},\"colorscale\":[[0.0,\"#0d0887\"],[0.1111111111111111,\"#46039f\"],[0.2222222222222222,\"#7201a8\"],[0.3333333333333333,\"#9c179e\"],[0.4444444444444444,\"#bd3786\"],[0.5555555555555556,\"#d8576b\"],[0.6666666666666666,\"#ed7953\"],[0.7777777777777778,\"#fb9f3a\"],[0.8888888888888888,\"#fdca26\"],[1.0,\"#f0f921\"]],\"type\":\"heatmapgl\"}],\"histogram\":[{\"marker\":{\"pattern\":{\"fillmode\":\"overlay\",\"size\":10,\"solidity\":0.2}},\"type\":\"histogram\"}],\"histogram2d\":[{\"colorbar\":{\"outlinewidth\":0,\"ticks\":\"\"},\"colorscale\":[[0.0,\"#0d0887\"],[0.1111111111111111,\"#46039f\"],[0.2222222222222222,\"#7201a8\"],[0.3333333333333333,\"#9c179e\"],[0.4444444444444444,\"#bd3786\"],[0.5555555555555556,\"#d8576b\"],[0.6666666666666666,\"#ed7953\"],[0.7777777777777778,\"#fb9f3a\"],[0.8888888888888888,\"#fdca26\"],[1.0,\"#f0f921\"]],\"type\":\"histogram2d\"}],\"histogram2dcontour\":[{\"colorbar\":{\"outlinewidth\":0,\"ticks\":\"\"},\"colorscale\":[[0.0,\"#0d0887\"],[0.1111111111111111,\"#46039f\"],[0.2222222222222222,\"#7201a8\"],[0.3333333333333333,\"#9c179e\"],[0.4444444444444444,\"#bd3786\"],[0.5555555555555556,\"#d8576b\"],[0.6666666666666666,\"#ed7953\"],[0.7777777777777778,\"#fb9f3a\"],[0.8888888888888888,\"#fdca26\"],[1.0,\"#f0f921\"]],\"type\":\"histogram2dcontour\"}],\"mesh3d\":[{\"colorbar\":{\"outlinewidth\":0,\"ticks\":\"\"},\"type\":\"mesh3d\"}],\"parcoords\":[{\"line\":{\"colorbar\":{\"outlinewidth\":0,\"ticks\":\"\"}},\"type\":\"parcoords\"}],\"pie\":[{\"automargin\":true,\"type\":\"pie\"}],\"scatter\":[{\"marker\":{\"colorbar\":{\"outlinewidth\":0,\"ticks\":\"\"}},\"type\":\"scatter\"}],\"scatter3d\":[{\"line\":{\"colorbar\":{\"outlinewidth\":0,\"ticks\":\"\"}},\"marker\":{\"colorbar\":{\"outlinewidth\":0,\"ticks\":\"\"}},\"type\":\"scatter3d\"}],\"scattercarpet\":[{\"marker\":{\"colorbar\":{\"outlinewidth\":0,\"ticks\":\"\"}},\"type\":\"scattercarpet\"}],\"scattergeo\":[{\"marker\":{\"colorbar\":{\"outlinewidth\":0,\"ticks\":\"\"}},\"type\":\"scattergeo\"}],\"scattergl\":[{\"marker\":{\"colorbar\":{\"outlinewidth\":0,\"ticks\":\"\"}},\"type\":\"scattergl\"}],\"scattermapbox\":[{\"marker\":{\"colorbar\":{\"outlinewidth\":0,\"ticks\":\"\"}},\"type\":\"scattermapbox\"}],\"scatterpolar\":[{\"marker\":{\"colorbar\":{\"outlinewidth\":0,\"ticks\":\"\"}},\"type\":\"scatterpolar\"}],\"scatterpolargl\":[{\"marker\":{\"colorbar\":{\"outlinewidth\":0,\"ticks\":\"\"}},\"type\":\"scatterpolargl\"}],\"scatterternary\":[{\"marker\":{\"colorbar\":{\"outlinewidth\":0,\"ticks\":\"\"}},\"type\":\"scatterternary\"}],\"surface\":[{\"colorbar\":{\"outlinewidth\":0,\"ticks\":\"\"},\"colorscale\":[[0.0,\"#0d0887\"],[0.1111111111111111,\"#46039f\"],[0.2222222222222222,\"#7201a8\"],[0.3333333333333333,\"#9c179e\"],[0.4444444444444444,\"#bd3786\"],[0.5555555555555556,\"#d8576b\"],[0.6666666666666666,\"#ed7953\"],[0.7777777777777778,\"#fb9f3a\"],[0.8888888888888888,\"#fdca26\"],[1.0,\"#f0f921\"]],\"type\":\"surface\"}],\"table\":[{\"cells\":{\"fill\":{\"color\":\"#EBF0F8\"},\"line\":{\"color\":\"white\"}},\"header\":{\"fill\":{\"color\":\"#C8D4E3\"},\"line\":{\"color\":\"white\"}},\"type\":\"table\"}]},\"layout\":{\"annotationdefaults\":{\"arrowcolor\":\"#2a3f5f\",\"arrowhead\":0,\"arrowwidth\":1},\"autotypenumbers\":\"strict\",\"coloraxis\":{\"colorbar\":{\"outlinewidth\":0,\"ticks\":\"\"}},\"colorscale\":{\"diverging\":[[0,\"#8e0152\"],[0.1,\"#c51b7d\"],[0.2,\"#de77ae\"],[0.3,\"#f1b6da\"],[0.4,\"#fde0ef\"],[0.5,\"#f7f7f7\"],[0.6,\"#e6f5d0\"],[0.7,\"#b8e186\"],[0.8,\"#7fbc41\"],[0.9,\"#4d9221\"],[1,\"#276419\"]],\"sequential\":[[0.0,\"#0d0887\"],[0.1111111111111111,\"#46039f\"],[0.2222222222222222,\"#7201a8\"],[0.3333333333333333,\"#9c179e\"],[0.4444444444444444,\"#bd3786\"],[0.5555555555555556,\"#d8576b\"],[0.6666666666666666,\"#ed7953\"],[0.7777777777777778,\"#fb9f3a\"],[0.8888888888888888,\"#fdca26\"],[1.0,\"#f0f921\"]],\"sequentialminus\":[[0.0,\"#0d0887\"],[0.1111111111111111,\"#46039f\"],[0.2222222222222222,\"#7201a8\"],[0.3333333333333333,\"#9c179e\"],[0.4444444444444444,\"#bd3786\"],[0.5555555555555556,\"#d8576b\"],[0.6666666666666666,\"#ed7953\"],[0.7777777777777778,\"#fb9f3a\"],[0.8888888888888888,\"#fdca26\"],[1.0,\"#f0f921\"]]},\"colorway\":[\"#636efa\",\"#EF553B\",\"#00cc96\",\"#ab63fa\",\"#FFA15A\",\"#19d3f3\",\"#FF6692\",\"#B6E880\",\"#FF97FF\",\"#FECB52\"],\"font\":{\"color\":\"#2a3f5f\"},\"geo\":{\"bgcolor\":\"white\",\"lakecolor\":\"white\",\"landcolor\":\"#E5ECF6\",\"showlakes\":true,\"showland\":true,\"subunitcolor\":\"white\"},\"hoverlabel\":{\"align\":\"left\"},\"hovermode\":\"closest\",\"mapbox\":{\"style\":\"light\"},\"paper_bgcolor\":\"white\",\"plot_bgcolor\":\"#E5ECF6\",\"polar\":{\"angularaxis\":{\"gridcolor\":\"white\",\"linecolor\":\"white\",\"ticks\":\"\"},\"bgcolor\":\"#E5ECF6\",\"radialaxis\":{\"gridcolor\":\"white\",\"linecolor\":\"white\",\"ticks\":\"\"}},\"scene\":{\"xaxis\":{\"backgroundcolor\":\"#E5ECF6\",\"gridcolor\":\"white\",\"gridwidth\":2,\"linecolor\":\"white\",\"showbackground\":true,\"ticks\":\"\",\"zerolinecolor\":\"white\"},\"yaxis\":{\"backgroundcolor\":\"#E5ECF6\",\"gridcolor\":\"white\",\"gridwidth\":2,\"linecolor\":\"white\",\"showbackground\":true,\"ticks\":\"\",\"zerolinecolor\":\"white\"},\"zaxis\":{\"backgroundcolor\":\"#E5ECF6\",\"gridcolor\":\"white\",\"gridwidth\":2,\"linecolor\":\"white\",\"showbackground\":true,\"ticks\":\"\",\"zerolinecolor\":\"white\"}},\"shapedefaults\":{\"line\":{\"color\":\"#2a3f5f\"}},\"ternary\":{\"aaxis\":{\"gridcolor\":\"white\",\"linecolor\":\"white\",\"ticks\":\"\"},\"baxis\":{\"gridcolor\":\"white\",\"linecolor\":\"white\",\"ticks\":\"\"},\"bgcolor\":\"#E5ECF6\",\"caxis\":{\"gridcolor\":\"white\",\"linecolor\":\"white\",\"ticks\":\"\"}},\"title\":{\"x\":0.05},\"xaxis\":{\"automargin\":true,\"gridcolor\":\"white\",\"linecolor\":\"white\",\"ticks\":\"\",\"title\":{\"standoff\":15},\"zerolinecolor\":\"white\",\"zerolinewidth\":2},\"yaxis\":{\"automargin\":true,\"gridcolor\":\"white\",\"linecolor\":\"white\",\"ticks\":\"\",\"title\":{\"standoff\":15},\"zerolinecolor\":\"white\",\"zerolinewidth\":2}}},\"title\":{\"font\":{\"color\":\"#D9D9D9\"}}},                        {\"showLink\": true, \"linkText\": \"Export to plot.ly\", \"plotlyServerURL\": \"https://plot.ly\", \"responsive\": true}                    ).then(function(){\n",
       "                            \n",
       "var gd = document.getElementById('1bd5f6db-bcd0-4166-bf49-7e15fb0937e9');\n",
       "var x = new MutationObserver(function (mutations, observer) {{\n",
       "        var display = window.getComputedStyle(gd).display;\n",
       "        if (!display || display === 'none') {{\n",
       "            console.log([gd, 'removed!']);\n",
       "            Plotly.purge(gd);\n",
       "            observer.disconnect();\n",
       "        }}\n",
       "}});\n",
       "\n",
       "// Listen for the removal of the full notebook cells\n",
       "var notebookContainer = gd.closest('#notebook-container');\n",
       "if (notebookContainer) {{\n",
       "    x.observe(notebookContainer, {childList: true});\n",
       "}}\n",
       "\n",
       "// Listen for the clearing of the current output cell\n",
       "var outputEl = gd.closest('.output');\n",
       "if (outputEl) {{\n",
       "    x.observe(outputEl, {childList: true});\n",
       "}}\n",
       "\n",
       "                        })                };                });            </script>        </div>"
      ]
     },
     "metadata": {}
    }
   ],
   "metadata": {
    "execution": {
     "iopub.execute_input": "2021-09-04T16:15:31.798161Z",
     "iopub.status.busy": "2021-09-04T16:15:31.797560Z",
     "iopub.status.idle": "2021-09-04T16:15:31.906702Z",
     "shell.execute_reply": "2021-09-04T16:15:31.905882Z",
     "shell.execute_reply.started": "2021-09-04T16:15:31.798106Z"
    },
    "tags": []
   }
  },
  {
   "cell_type": "code",
   "execution_count": 55,
   "source": [
    "df.groupby(\"cl\").mean().style.background_gradient(cmap='Blues')"
   ],
   "outputs": [
    {
     "output_type": "execute_result",
     "data": {
      "text/html": [
       "<style type=\"text/css\">\n",
       "#T_383c5_row0_col0 {\n",
       "  background-color: #4997c9;\n",
       "  color: #f1f1f1;\n",
       "}\n",
       "#T_383c5_row0_col1, #T_383c5_row0_col6, #T_383c5_row0_col7, #T_383c5_row0_col10, #T_383c5_row0_col11, #T_383c5_row0_col16, #T_383c5_row0_col17, #T_383c5_row1_col0, #T_383c5_row1_col2, #T_383c5_row1_col5, #T_383c5_row1_col9, #T_383c5_row1_col12, #T_383c5_row1_col18, #T_383c5_row1_col19, #T_383c5_row2_col4, #T_383c5_row2_col8, #T_383c5_row2_col13, #T_383c5_row2_col14, #T_383c5_row2_col15 {\n",
       "  background-color: #08306b;\n",
       "  color: #f1f1f1;\n",
       "}\n",
       "#T_383c5_row0_col2 {\n",
       "  background-color: #4f9bcb;\n",
       "  color: #f1f1f1;\n",
       "}\n",
       "#T_383c5_row0_col3, #T_383c5_row0_col4, #T_383c5_row0_col5, #T_383c5_row0_col8, #T_383c5_row0_col9, #T_383c5_row0_col13, #T_383c5_row0_col14, #T_383c5_row0_col15, #T_383c5_row0_col19, #T_383c5_row1_col3, #T_383c5_row1_col6, #T_383c5_row1_col10, #T_383c5_row1_col11, #T_383c5_row1_col16, #T_383c5_row1_col17, #T_383c5_row2_col0, #T_383c5_row2_col1, #T_383c5_row2_col2, #T_383c5_row2_col3, #T_383c5_row2_col7, #T_383c5_row2_col12, #T_383c5_row2_col18 {\n",
       "  background-color: #f7fbff;\n",
       "  color: #000000;\n",
       "}\n",
       "#T_383c5_row0_col12 {\n",
       "  background-color: #caddf0;\n",
       "  color: #000000;\n",
       "}\n",
       "#T_383c5_row0_col18 {\n",
       "  background-color: #edf4fc;\n",
       "  color: #000000;\n",
       "}\n",
       "#T_383c5_row1_col1 {\n",
       "  background-color: #b8d5ea;\n",
       "  color: #000000;\n",
       "}\n",
       "#T_383c5_row1_col4 {\n",
       "  background-color: #cadef0;\n",
       "  color: #000000;\n",
       "}\n",
       "#T_383c5_row1_col7 {\n",
       "  background-color: #d9e8f5;\n",
       "  color: #000000;\n",
       "}\n",
       "#T_383c5_row1_col8 {\n",
       "  background-color: #75b4d8;\n",
       "  color: #000000;\n",
       "}\n",
       "#T_383c5_row1_col13, #T_383c5_row1_col14 {\n",
       "  background-color: #74b3d8;\n",
       "  color: #000000;\n",
       "}\n",
       "#T_383c5_row1_col15 {\n",
       "  background-color: #8abfdd;\n",
       "  color: #000000;\n",
       "}\n",
       "#T_383c5_row2_col5 {\n",
       "  background-color: #7db8da;\n",
       "  color: #000000;\n",
       "}\n",
       "#T_383c5_row2_col6 {\n",
       "  background-color: #f1f7fd;\n",
       "  color: #000000;\n",
       "}\n",
       "#T_383c5_row2_col9 {\n",
       "  background-color: #4191c6;\n",
       "  color: #f1f1f1;\n",
       "}\n",
       "#T_383c5_row2_col10 {\n",
       "  background-color: #b9d6ea;\n",
       "  color: #000000;\n",
       "}\n",
       "#T_383c5_row2_col11 {\n",
       "  background-color: #d0e2f2;\n",
       "  color: #000000;\n",
       "}\n",
       "#T_383c5_row2_col16 {\n",
       "  background-color: #bad6eb;\n",
       "  color: #000000;\n",
       "}\n",
       "#T_383c5_row2_col17 {\n",
       "  background-color: #c1d9ed;\n",
       "  color: #000000;\n",
       "}\n",
       "#T_383c5_row2_col19 {\n",
       "  background-color: #e3eef8;\n",
       "  color: #000000;\n",
       "}\n",
       "</style>\n",
       "<table id=\"T_383c5_\">\n",
       "  <thead>\n",
       "    <tr>\n",
       "      <th class=\"blank level0\" >&nbsp;</th>\n",
       "      <th class=\"col_heading level0 col0\" >n_headers</th>\n",
       "      <th class=\"col_heading level0 col1\" >n_images</th>\n",
       "      <th class=\"col_heading level0 col2\" >n_videos</th>\n",
       "      <th class=\"col_heading level0 col3\" >n_paragraphs</th>\n",
       "      <th class=\"col_heading level0 col4\" >neg_title</th>\n",
       "      <th class=\"col_heading level0 col5\" >neu_title</th>\n",
       "      <th class=\"col_heading level0 col6\" >pos_title</th>\n",
       "      <th class=\"col_heading level0 col7\" >compound_title</th>\n",
       "      <th class=\"col_heading level0 col8\" >neg_text</th>\n",
       "      <th class=\"col_heading level0 col9\" >neu_text</th>\n",
       "      <th class=\"col_heading level0 col10\" >pos_text</th>\n",
       "      <th class=\"col_heading level0 col11\" >compound_text</th>\n",
       "      <th class=\"col_heading level0 col12\" >n_urls</th>\n",
       "      <th class=\"col_heading level0 col13\" >len_title</th>\n",
       "      <th class=\"col_heading level0 col14\" >n_words_title</th>\n",
       "      <th class=\"col_heading level0 col15\" >avg_len_words_title</th>\n",
       "      <th class=\"col_heading level0 col16\" >len_content</th>\n",
       "      <th class=\"col_heading level0 col17\" >n_words_content</th>\n",
       "      <th class=\"col_heading level0 col18\" >avg_len_words_content</th>\n",
       "      <th class=\"col_heading level0 col19\" >shares</th>\n",
       "    </tr>\n",
       "    <tr>\n",
       "      <th class=\"index_name level0\" >cl</th>\n",
       "      <th class=\"blank col0\" >&nbsp;</th>\n",
       "      <th class=\"blank col1\" >&nbsp;</th>\n",
       "      <th class=\"blank col2\" >&nbsp;</th>\n",
       "      <th class=\"blank col3\" >&nbsp;</th>\n",
       "      <th class=\"blank col4\" >&nbsp;</th>\n",
       "      <th class=\"blank col5\" >&nbsp;</th>\n",
       "      <th class=\"blank col6\" >&nbsp;</th>\n",
       "      <th class=\"blank col7\" >&nbsp;</th>\n",
       "      <th class=\"blank col8\" >&nbsp;</th>\n",
       "      <th class=\"blank col9\" >&nbsp;</th>\n",
       "      <th class=\"blank col10\" >&nbsp;</th>\n",
       "      <th class=\"blank col11\" >&nbsp;</th>\n",
       "      <th class=\"blank col12\" >&nbsp;</th>\n",
       "      <th class=\"blank col13\" >&nbsp;</th>\n",
       "      <th class=\"blank col14\" >&nbsp;</th>\n",
       "      <th class=\"blank col15\" >&nbsp;</th>\n",
       "      <th class=\"blank col16\" >&nbsp;</th>\n",
       "      <th class=\"blank col17\" >&nbsp;</th>\n",
       "      <th class=\"blank col18\" >&nbsp;</th>\n",
       "      <th class=\"blank col19\" >&nbsp;</th>\n",
       "    </tr>\n",
       "  </thead>\n",
       "  <tbody>\n",
       "    <tr>\n",
       "      <th id=\"T_383c5_level0_row0\" class=\"row_heading level0 row0\" >0</th>\n",
       "      <td id=\"T_383c5_row0_col0\" class=\"data row0 col0\" >0.409091</td>\n",
       "      <td id=\"T_383c5_row0_col1\" class=\"data row0 col1\" >1.863636</td>\n",
       "      <td id=\"T_383c5_row0_col2\" class=\"data row0 col2\" >1.659091</td>\n",
       "      <td id=\"T_383c5_row0_col3\" class=\"data row0 col3\" >1.000000</td>\n",
       "      <td id=\"T_383c5_row0_col4\" class=\"data row0 col4\" >0.031727</td>\n",
       "      <td id=\"T_383c5_row0_col5\" class=\"data row0 col5\" >0.787409</td>\n",
       "      <td id=\"T_383c5_row0_col6\" class=\"data row0 col6\" >0.180818</td>\n",
       "      <td id=\"T_383c5_row0_col7\" class=\"data row0 col7\" >0.228900</td>\n",
       "      <td id=\"T_383c5_row0_col8\" class=\"data row0 col8\" >0.037932</td>\n",
       "      <td id=\"T_383c5_row0_col9\" class=\"data row0 col9\" >0.812841</td>\n",
       "      <td id=\"T_383c5_row0_col10\" class=\"data row0 col10\" >0.149227</td>\n",
       "      <td id=\"T_383c5_row0_col11\" class=\"data row0 col11\" >0.342555</td>\n",
       "      <td id=\"T_383c5_row0_col12\" class=\"data row0 col12\" >0.477273</td>\n",
       "      <td id=\"T_383c5_row0_col13\" class=\"data row0 col13\" >50.272727</td>\n",
       "      <td id=\"T_383c5_row0_col14\" class=\"data row0 col14\" >8.909091</td>\n",
       "      <td id=\"T_383c5_row0_col15\" class=\"data row0 col15\" >4.808133</td>\n",
       "      <td id=\"T_383c5_row0_col16\" class=\"data row0 col16\" >2368.204545</td>\n",
       "      <td id=\"T_383c5_row0_col17\" class=\"data row0 col17\" >376.181818</td>\n",
       "      <td id=\"T_383c5_row0_col18\" class=\"data row0 col18\" >5.444431</td>\n",
       "      <td id=\"T_383c5_row0_col19\" class=\"data row0 col19\" >5.619359</td>\n",
       "    </tr>\n",
       "    <tr>\n",
       "      <th id=\"T_383c5_level0_row1\" class=\"row_heading level0 row1\" >1</th>\n",
       "      <td id=\"T_383c5_row1_col0\" class=\"data row1 col0\" >0.571429</td>\n",
       "      <td id=\"T_383c5_row1_col1\" class=\"data row1 col1\" >1.571429</td>\n",
       "      <td id=\"T_383c5_row1_col2\" class=\"data row1 col2\" >2.000000</td>\n",
       "      <td id=\"T_383c5_row1_col3\" class=\"data row1 col3\" >1.000000</td>\n",
       "      <td id=\"T_383c5_row1_col4\" class=\"data row1 col4\" >0.050286</td>\n",
       "      <td id=\"T_383c5_row1_col5\" class=\"data row1 col5\" >0.910429</td>\n",
       "      <td id=\"T_383c5_row1_col6\" class=\"data row1 col6\" >0.039286</td>\n",
       "      <td id=\"T_383c5_row1_col7\" class=\"data row1 col7\" >-0.053029</td>\n",
       "      <td id=\"T_383c5_row1_col8\" class=\"data row1 col8\" >0.045286</td>\n",
       "      <td id=\"T_383c5_row1_col9\" class=\"data row1 col9\" >0.940000</td>\n",
       "      <td id=\"T_383c5_row1_col10\" class=\"data row1 col10\" >0.014714</td>\n",
       "      <td id=\"T_383c5_row1_col11\" class=\"data row1 col11\" >-0.154000</td>\n",
       "      <td id=\"T_383c5_row1_col12\" class=\"data row1 col12\" >0.571429</td>\n",
       "      <td id=\"T_383c5_row1_col13\" class=\"data row1 col13\" >55.000000</td>\n",
       "      <td id=\"T_383c5_row1_col14\" class=\"data row1 col14\" >9.285714</td>\n",
       "      <td id=\"T_383c5_row1_col15\" class=\"data row1 col15\" >5.061173</td>\n",
       "      <td id=\"T_383c5_row1_col16\" class=\"data row1 col16\" >1851.857143</td>\n",
       "      <td id=\"T_383c5_row1_col17\" class=\"data row1 col17\" >292.285714</td>\n",
       "      <td id=\"T_383c5_row1_col18\" class=\"data row1 col18\" >5.496701</td>\n",
       "      <td id=\"T_383c5_row1_col19\" class=\"data row1 col19\" >48.483190</td>\n",
       "    </tr>\n",
       "    <tr>\n",
       "      <th id=\"T_383c5_level0_row2\" class=\"row_heading level0 row2\" >2</th>\n",
       "      <td id=\"T_383c5_row2_col0\" class=\"data row2 col0\" >0.163265</td>\n",
       "      <td id=\"T_383c5_row2_col1\" class=\"data row2 col1\" >1.448980</td>\n",
       "      <td id=\"T_383c5_row2_col2\" class=\"data row2 col2\" >1.183673</td>\n",
       "      <td id=\"T_383c5_row2_col3\" class=\"data row2 col3\" >1.000000</td>\n",
       "      <td id=\"T_383c5_row2_col4\" class=\"data row2 col4\" >0.112735</td>\n",
       "      <td id=\"T_383c5_row2_col5\" class=\"data row2 col5\" >0.843449</td>\n",
       "      <td id=\"T_383c5_row2_col6\" class=\"data row2 col6\" >0.043776</td>\n",
       "      <td id=\"T_383c5_row2_col7\" class=\"data row2 col7\" >-0.102865</td>\n",
       "      <td id=\"T_383c5_row2_col8\" class=\"data row2 col8\" >0.053388</td>\n",
       "      <td id=\"T_383c5_row2_col9\" class=\"data row2 col9\" >0.892551</td>\n",
       "      <td id=\"T_383c5_row2_col10\" class=\"data row2 col10\" >0.054082</td>\n",
       "      <td id=\"T_383c5_row2_col11\" class=\"data row2 col11\" >-0.056735</td>\n",
       "      <td id=\"T_383c5_row2_col12\" class=\"data row2 col12\" >0.448980</td>\n",
       "      <td id=\"T_383c5_row2_col13\" class=\"data row2 col13\" >60.142857</td>\n",
       "      <td id=\"T_383c5_row2_col14\" class=\"data row2 col14\" >9.693878</td>\n",
       "      <td id=\"T_383c5_row2_col15\" class=\"data row2 col15\" >5.406993</td>\n",
       "      <td id=\"T_383c5_row2_col16\" class=\"data row2 col16\" >2000.000000</td>\n",
       "      <td id=\"T_383c5_row2_col17\" class=\"data row2 col17\" >314.693878</td>\n",
       "      <td id=\"T_383c5_row2_col18\" class=\"data row2 col18\" >5.441537</td>\n",
       "      <td id=\"T_383c5_row2_col19\" class=\"data row2 col19\" >9.998596</td>\n",
       "    </tr>\n",
       "  </tbody>\n",
       "</table>\n"
      ],
      "text/plain": [
       "<pandas.io.formats.style.Styler at 0x7fa657454f10>"
      ]
     },
     "metadata": {},
     "execution_count": 55
    }
   ],
   "metadata": {
    "ExecuteTime": {
     "end_time": "2021-04-16T00:55:14.119001Z",
     "start_time": "2021-04-16T00:55:09.973281Z"
    },
    "execution": {
     "iopub.execute_input": "2021-09-04T16:15:52.383177Z",
     "iopub.status.busy": "2021-09-04T16:15:52.382920Z",
     "iopub.status.idle": "2021-09-04T16:15:52.898809Z",
     "shell.execute_reply": "2021-09-04T16:15:52.897689Z",
     "shell.execute_reply.started": "2021-09-04T16:15:52.383148Z"
    }
   }
  }
 ],
 "metadata": {
  "kernelspec": {
   "name": "python3",
   "display_name": "Python 3.9.1 64-bit ('venv': venv)"
  },
  "language_info": {
   "codemirror_mode": {
    "name": "ipython",
    "version": 3
   },
   "file_extension": ".py",
   "mimetype": "text/x-python",
   "name": "python",
   "nbconvert_exporter": "python",
   "pygments_lexer": "ipython3",
   "version": "3.9.1"
  },
  "toc-autonumbering": false,
  "toc-showcode": false,
  "toc-showmarkdowntxt": false,
  "interpreter": {
   "hash": "cbfba55dfc4cf98155506794edd6aecf0af75386b66b3e49c98ac37ae2b9007e"
  }
 },
 "nbformat": 4,
 "nbformat_minor": 4
}