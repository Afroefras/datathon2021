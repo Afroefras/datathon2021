{
 "cells": [
  {
   "cell_type": "markdown",
   "source": [
    "## Parameters "
   ],
   "metadata": {}
  },
  {
   "cell_type": "code",
   "execution_count": 1,
   "source": [
    "BASE_DIR = '/Descargas/datathon'\r\n",
    "ZIP_NAME = 'smart_destinations_v2.zip'"
   ],
   "outputs": [],
   "metadata": {}
  },
  {
   "cell_type": "markdown",
   "source": [
    "## Unzip"
   ],
   "metadata": {}
  },
  {
   "cell_type": "code",
   "execution_count": 2,
   "source": [
    "import zipfile\r\n",
    "from pathlib import Path\r\n",
    "\r\n",
    "BASE_DIR = Path(BASE_DIR)\r\n",
    "\r\n",
    "with zipfile.ZipFile(BASE_DIR.joinpath(ZIP_NAME), 'r') as zip_ref:\r\n",
    "    zip_ref.extractall(BASE_DIR)"
   ],
   "outputs": [],
   "metadata": {}
  },
  {
   "cell_type": "code",
   "execution_count": 3,
   "source": [
    "import os\r\n",
    "import pandas as pd\r\n",
    "import datetime as dt"
   ],
   "outputs": [],
   "metadata": {}
  },
  {
   "cell_type": "markdown",
   "source": [
    "## Append all files"
   ],
   "metadata": {}
  },
  {
   "cell_type": "code",
   "execution_count": 4,
   "source": [
    "csv_folder = '/Descargas/datathon/datos/CM04'\r\n",
    "files = os.listdir(csv_folder)\r\n",
    "df = []\r\n",
    "for f in files:\r\n",
    "   if f == \"directorio_aeropuertos.csv\":\r\n",
    "      continue\r\n",
    "   print(f)\r\n",
    "   csv_file = csv_folder + \"/\" + f\r\n",
    "   df.append(pd.read_csv(csv_file))\r\n",
    "df_full = pd.concat(df, ignore_index = True)"
   ],
   "outputs": [
    {
     "output_type": "stream",
     "name": "stdout",
     "text": [
      "maestro_cm04_2004.csv\n",
      "maestro_cm04_2005.csv\n",
      "maestro_cm04_2006.csv\n",
      "maestro_cm04_2007.csv\n",
      "maestro_cm04_2008.csv\n",
      "maestro_cm04_2009.csv\n",
      "maestro_cm04_2010.csv\n",
      "maestro_cm04_2011.csv\n",
      "maestro_cm04_2012.csv\n",
      "maestro_cm04_2013.csv\n",
      "maestro_cm04_2014.csv\n",
      "maestro_cm04_2015.csv\n",
      "maestro_cm04_2016.csv\n",
      "maestro_cm04_2017.csv\n",
      "maestro_cm04_2018.csv\n",
      "maestro_cm04_2019.csv\n",
      "maestro_cm04_202010.csv\n",
      "maestro_cm04_202011_202102.csv\n",
      "maestro_cm04_202104.csv\n",
      "maestro_cm04_202105.csv\n",
      "maestro_cm04_202106.csv\n",
      "maestro_cm04_202107.csv\n"
     ]
    }
   ],
   "metadata": {}
  },
  {
   "cell_type": "code",
   "execution_count": 5,
   "source": [
    "df_full"
   ],
   "outputs": [
    {
     "output_type": "execute_result",
     "data": {
      "text/html": [
       "<div>\n",
       "<style scoped>\n",
       "    .dataframe tbody tr th:only-of-type {\n",
       "        vertical-align: middle;\n",
       "    }\n",
       "\n",
       "    .dataframe tbody tr th {\n",
       "        vertical-align: top;\n",
       "    }\n",
       "\n",
       "    .dataframe thead th {\n",
       "        text-align: right;\n",
       "    }\n",
       "</style>\n",
       "<table border=\"1\" class=\"dataframe\">\n",
       "  <thead>\n",
       "    <tr style=\"text-align: right;\">\n",
       "      <th></th>\n",
       "      <th>indicador</th>\n",
       "      <th>servicio</th>\n",
       "      <th>movimiento</th>\n",
       "      <th>cod_origen</th>\n",
       "      <th>origen</th>\n",
       "      <th>pais_origen</th>\n",
       "      <th>lat_origen</th>\n",
       "      <th>lon_origen</th>\n",
       "      <th>cod_destino</th>\n",
       "      <th>pais_destino</th>\n",
       "      <th>destino</th>\n",
       "      <th>valor</th>\n",
       "      <th>fecha</th>\n",
       "    </tr>\n",
       "  </thead>\n",
       "  <tbody>\n",
       "    <tr>\n",
       "      <th>0</th>\n",
       "      <td>Pasajeros</td>\n",
       "      <td>Comercial</td>\n",
       "      <td>Llegada</td>\n",
       "      <td>ES</td>\n",
       "      <td>España</td>\n",
       "      <td>España</td>\n",
       "      <td>NaN</td>\n",
       "      <td>NaN</td>\n",
       "      <td>ES70</td>\n",
       "      <td>España</td>\n",
       "      <td>Canarias</td>\n",
       "      <td>522145.0</td>\n",
       "      <td>20041231</td>\n",
       "    </tr>\n",
       "    <tr>\n",
       "      <th>1</th>\n",
       "      <td>Pasajeros</td>\n",
       "      <td>Comercial</td>\n",
       "      <td>Llegada</td>\n",
       "      <td>ES</td>\n",
       "      <td>España</td>\n",
       "      <td>España</td>\n",
       "      <td>NaN</td>\n",
       "      <td>NaN</td>\n",
       "      <td>ES70</td>\n",
       "      <td>España</td>\n",
       "      <td>Canarias</td>\n",
       "      <td>452701.0</td>\n",
       "      <td>20041130</td>\n",
       "    </tr>\n",
       "    <tr>\n",
       "      <th>2</th>\n",
       "      <td>Pasajeros</td>\n",
       "      <td>Comercial</td>\n",
       "      <td>Llegada</td>\n",
       "      <td>ES</td>\n",
       "      <td>España</td>\n",
       "      <td>España</td>\n",
       "      <td>NaN</td>\n",
       "      <td>NaN</td>\n",
       "      <td>ES70</td>\n",
       "      <td>España</td>\n",
       "      <td>Canarias</td>\n",
       "      <td>527565.0</td>\n",
       "      <td>20041031</td>\n",
       "    </tr>\n",
       "    <tr>\n",
       "      <th>3</th>\n",
       "      <td>Pasajeros</td>\n",
       "      <td>Comercial</td>\n",
       "      <td>Llegada</td>\n",
       "      <td>ES</td>\n",
       "      <td>España</td>\n",
       "      <td>España</td>\n",
       "      <td>NaN</td>\n",
       "      <td>NaN</td>\n",
       "      <td>ES70</td>\n",
       "      <td>España</td>\n",
       "      <td>Canarias</td>\n",
       "      <td>568136.0</td>\n",
       "      <td>20040930</td>\n",
       "    </tr>\n",
       "    <tr>\n",
       "      <th>4</th>\n",
       "      <td>Pasajeros</td>\n",
       "      <td>Comercial</td>\n",
       "      <td>Llegada</td>\n",
       "      <td>ES</td>\n",
       "      <td>España</td>\n",
       "      <td>España</td>\n",
       "      <td>NaN</td>\n",
       "      <td>NaN</td>\n",
       "      <td>ES70</td>\n",
       "      <td>España</td>\n",
       "      <td>Canarias</td>\n",
       "      <td>740922.0</td>\n",
       "      <td>20040831</td>\n",
       "    </tr>\n",
       "    <tr>\n",
       "      <th>...</th>\n",
       "      <td>...</td>\n",
       "      <td>...</td>\n",
       "      <td>...</td>\n",
       "      <td>...</td>\n",
       "      <td>...</td>\n",
       "      <td>...</td>\n",
       "      <td>...</td>\n",
       "      <td>...</td>\n",
       "      <td>...</td>\n",
       "      <td>...</td>\n",
       "      <td>...</td>\n",
       "      <td>...</td>\n",
       "      <td>...</td>\n",
       "    </tr>\n",
       "    <tr>\n",
       "      <th>6028627</th>\n",
       "      <td>Operaciones</td>\n",
       "      <td>Otros servicios comerciales</td>\n",
       "      <td>Llegada</td>\n",
       "      <td>ES21</td>\n",
       "      <td>País Vasco</td>\n",
       "      <td>España</td>\n",
       "      <td>NaN</td>\n",
       "      <td>NaN</td>\n",
       "      <td>ES_GCXO</td>\n",
       "      <td>España</td>\n",
       "      <td>Aeropuerto de Tenerife Norte</td>\n",
       "      <td>NaN</td>\n",
       "      <td>20210731</td>\n",
       "    </tr>\n",
       "    <tr>\n",
       "      <th>6028628</th>\n",
       "      <td>Operaciones</td>\n",
       "      <td>Otros servicios comerciales</td>\n",
       "      <td>Llegada</td>\n",
       "      <td>ES21</td>\n",
       "      <td>País Vasco</td>\n",
       "      <td>España</td>\n",
       "      <td>NaN</td>\n",
       "      <td>NaN</td>\n",
       "      <td>ES_GCGM</td>\n",
       "      <td>España</td>\n",
       "      <td>Aeropuerto de La Gomera</td>\n",
       "      <td>NaN</td>\n",
       "      <td>20210731</td>\n",
       "    </tr>\n",
       "    <tr>\n",
       "      <th>6028629</th>\n",
       "      <td>Operaciones</td>\n",
       "      <td>Otros servicios comerciales</td>\n",
       "      <td>Llegada</td>\n",
       "      <td>ES21</td>\n",
       "      <td>País Vasco</td>\n",
       "      <td>España</td>\n",
       "      <td>NaN</td>\n",
       "      <td>NaN</td>\n",
       "      <td>ES_GCLA</td>\n",
       "      <td>España</td>\n",
       "      <td>Aeropuerto de La Palma</td>\n",
       "      <td>NaN</td>\n",
       "      <td>20210731</td>\n",
       "    </tr>\n",
       "    <tr>\n",
       "      <th>6028630</th>\n",
       "      <td>Operaciones</td>\n",
       "      <td>Otros servicios comerciales</td>\n",
       "      <td>Llegada</td>\n",
       "      <td>ES21</td>\n",
       "      <td>País Vasco</td>\n",
       "      <td>España</td>\n",
       "      <td>NaN</td>\n",
       "      <td>NaN</td>\n",
       "      <td>ES_GCLP</td>\n",
       "      <td>España</td>\n",
       "      <td>Aeropuerto de Gran Canaria</td>\n",
       "      <td>NaN</td>\n",
       "      <td>20210731</td>\n",
       "    </tr>\n",
       "    <tr>\n",
       "      <th>6028631</th>\n",
       "      <td>Operaciones</td>\n",
       "      <td>Otros servicios comerciales</td>\n",
       "      <td>Llegada</td>\n",
       "      <td>ES21</td>\n",
       "      <td>País Vasco</td>\n",
       "      <td>España</td>\n",
       "      <td>NaN</td>\n",
       "      <td>NaN</td>\n",
       "      <td>ES_GCTS</td>\n",
       "      <td>España</td>\n",
       "      <td>Aeropuerto de Tenerife Sur</td>\n",
       "      <td>NaN</td>\n",
       "      <td>20210731</td>\n",
       "    </tr>\n",
       "  </tbody>\n",
       "</table>\n",
       "<p>6028632 rows × 13 columns</p>\n",
       "</div>"
      ],
      "text/plain": [
       "           indicador                     servicio movimiento cod_origen  \\\n",
       "0          Pasajeros                    Comercial    Llegada         ES   \n",
       "1          Pasajeros                    Comercial    Llegada         ES   \n",
       "2          Pasajeros                    Comercial    Llegada         ES   \n",
       "3          Pasajeros                    Comercial    Llegada         ES   \n",
       "4          Pasajeros                    Comercial    Llegada         ES   \n",
       "...              ...                          ...        ...        ...   \n",
       "6028627  Operaciones  Otros servicios comerciales    Llegada       ES21   \n",
       "6028628  Operaciones  Otros servicios comerciales    Llegada       ES21   \n",
       "6028629  Operaciones  Otros servicios comerciales    Llegada       ES21   \n",
       "6028630  Operaciones  Otros servicios comerciales    Llegada       ES21   \n",
       "6028631  Operaciones  Otros servicios comerciales    Llegada       ES21   \n",
       "\n",
       "             origen pais_origen  lat_origen  lon_origen cod_destino  \\\n",
       "0            España      España         NaN         NaN        ES70   \n",
       "1            España      España         NaN         NaN        ES70   \n",
       "2            España      España         NaN         NaN        ES70   \n",
       "3            España      España         NaN         NaN        ES70   \n",
       "4            España      España         NaN         NaN        ES70   \n",
       "...             ...         ...         ...         ...         ...   \n",
       "6028627  País Vasco      España         NaN         NaN     ES_GCXO   \n",
       "6028628  País Vasco      España         NaN         NaN     ES_GCGM   \n",
       "6028629  País Vasco      España         NaN         NaN     ES_GCLA   \n",
       "6028630  País Vasco      España         NaN         NaN     ES_GCLP   \n",
       "6028631  País Vasco      España         NaN         NaN     ES_GCTS   \n",
       "\n",
       "        pais_destino                       destino     valor     fecha  \n",
       "0             España                      Canarias  522145.0  20041231  \n",
       "1             España                      Canarias  452701.0  20041130  \n",
       "2             España                      Canarias  527565.0  20041031  \n",
       "3             España                      Canarias  568136.0  20040930  \n",
       "4             España                      Canarias  740922.0  20040831  \n",
       "...              ...                           ...       ...       ...  \n",
       "6028627       España  Aeropuerto de Tenerife Norte       NaN  20210731  \n",
       "6028628       España       Aeropuerto de La Gomera       NaN  20210731  \n",
       "6028629       España        Aeropuerto de La Palma       NaN  20210731  \n",
       "6028630       España    Aeropuerto de Gran Canaria       NaN  20210731  \n",
       "6028631       España    Aeropuerto de Tenerife Sur       NaN  20210731  \n",
       "\n",
       "[6028632 rows x 13 columns]"
      ]
     },
     "metadata": {},
     "execution_count": 5
    }
   ],
   "metadata": {}
  },
  {
   "cell_type": "code",
   "execution_count": 6,
   "source": [
    "#Municipios incluidos\r\n",
    "df_full[\"cod_destino\"].unique()"
   ],
   "outputs": [
    {
     "output_type": "execute_result",
     "data": {
      "text/plain": [
       "array(['ES70', 'ES_GCFV', 'ES_GCLP', 'ES_GCRR', 'ES_GCHI', 'ES_GCGM',\n",
       "       'ES_GCLA', 'ES_GCTS', 'ES_GCXO'], dtype=object)"
      ]
     },
     "metadata": {},
     "execution_count": 6
    }
   ],
   "metadata": {}
  },
  {
   "cell_type": "code",
   "execution_count": 7,
   "source": [
    "#Eliminamos NA \r\n",
    "df2 = df_full[df_full['valor'].notna()]"
   ],
   "outputs": [],
   "metadata": {}
  },
  {
   "cell_type": "code",
   "execution_count": 8,
   "source": [
    "#Formato de fecha\r\n",
    "df3 = df2[['fecha']].copy(deep=True)\r\n",
    "df3['fecha'] = pd.to_datetime(df3['fecha'], format='%Y%m%d')"
   ],
   "outputs": [],
   "metadata": {}
  },
  {
   "cell_type": "code",
   "execution_count": 9,
   "source": [
    "df3"
   ],
   "outputs": [
    {
     "output_type": "execute_result",
     "data": {
      "text/html": [
       "<div>\n",
       "<style scoped>\n",
       "    .dataframe tbody tr th:only-of-type {\n",
       "        vertical-align: middle;\n",
       "    }\n",
       "\n",
       "    .dataframe tbody tr th {\n",
       "        vertical-align: top;\n",
       "    }\n",
       "\n",
       "    .dataframe thead th {\n",
       "        text-align: right;\n",
       "    }\n",
       "</style>\n",
       "<table border=\"1\" class=\"dataframe\">\n",
       "  <thead>\n",
       "    <tr style=\"text-align: right;\">\n",
       "      <th></th>\n",
       "      <th>fecha</th>\n",
       "    </tr>\n",
       "  </thead>\n",
       "  <tbody>\n",
       "    <tr>\n",
       "      <th>0</th>\n",
       "      <td>2004-12-31</td>\n",
       "    </tr>\n",
       "    <tr>\n",
       "      <th>1</th>\n",
       "      <td>2004-11-30</td>\n",
       "    </tr>\n",
       "    <tr>\n",
       "      <th>2</th>\n",
       "      <td>2004-10-31</td>\n",
       "    </tr>\n",
       "    <tr>\n",
       "      <th>3</th>\n",
       "      <td>2004-09-30</td>\n",
       "    </tr>\n",
       "    <tr>\n",
       "      <th>4</th>\n",
       "      <td>2004-08-31</td>\n",
       "    </tr>\n",
       "    <tr>\n",
       "      <th>...</th>\n",
       "      <td>...</td>\n",
       "    </tr>\n",
       "    <tr>\n",
       "      <th>5913513</th>\n",
       "      <td>2021-01-31</td>\n",
       "    </tr>\n",
       "    <tr>\n",
       "      <th>5913515</th>\n",
       "      <td>2020-11-30</td>\n",
       "    </tr>\n",
       "    <tr>\n",
       "      <th>5913524</th>\n",
       "      <td>2021-02-28</td>\n",
       "    </tr>\n",
       "    <tr>\n",
       "      <th>5913532</th>\n",
       "      <td>2021-02-28</td>\n",
       "    </tr>\n",
       "    <tr>\n",
       "      <th>5913573</th>\n",
       "      <td>2021-01-31</td>\n",
       "    </tr>\n",
       "  </tbody>\n",
       "</table>\n",
       "<p>984907 rows × 1 columns</p>\n",
       "</div>"
      ],
      "text/plain": [
       "             fecha\n",
       "0       2004-12-31\n",
       "1       2004-11-30\n",
       "2       2004-10-31\n",
       "3       2004-09-30\n",
       "4       2004-08-31\n",
       "...            ...\n",
       "5913513 2021-01-31\n",
       "5913515 2020-11-30\n",
       "5913524 2021-02-28\n",
       "5913532 2021-02-28\n",
       "5913573 2021-01-31\n",
       "\n",
       "[984907 rows x 1 columns]"
      ]
     },
     "metadata": {},
     "execution_count": 9
    }
   ],
   "metadata": {}
  },
  {
   "cell_type": "code",
   "execution_count": 10,
   "source": [
    "#reemplazamos columna de fecha\r\n",
    "df2 = df2.assign(fecha=df3['fecha'])"
   ],
   "outputs": [],
   "metadata": {}
  },
  {
   "cell_type": "code",
   "execution_count": 11,
   "source": [
    "#creamos columna de año mes\r\n",
    "df2['Year'] = [x.strftime('%Y') for x in df2['fecha'].tolist()]\r\n",
    "df2['Month'] = [x.strftime('%m') for x in df2['fecha'].tolist()]"
   ],
   "outputs": [],
   "metadata": {}
  },
  {
   "cell_type": "code",
   "execution_count": 14,
   "source": [
    "import matplotlib.pyplot as plt\r\n",
    "import matplotlib as mpl\r\n",
    "\r\n",
    "df2 = df2.loc[(df2['destino'] == \"Canarias\")]\r\n",
    "df2 = df2.loc[(df2['Year'] != '2020')]\r\n",
    "\r\n",
    "pd.pivot_table(df2[df2.indicador == 'Pasajeros'], values = \"valor\", index = ('Month'), columns = 'indicador', aggfunc = 'mean').plot()"
   ],
   "outputs": [
    {
     "output_type": "execute_result",
     "data": {
      "text/plain": [
       "<AxesSubplot:xlabel='Month'>"
      ]
     },
     "metadata": {},
     "execution_count": 14
    },
    {
     "output_type": "display_data",
     "data": {
      "image/png": "[encoded data removed]",
      "text/plain": [
       "<Figure size 432x288 with 1 Axes>"
      ]
     },
     "metadata": {
      "needs_background": "light"
     }
    }
   ],
   "metadata": {}
  }
 ],
 "metadata": {
  "orig_nbformat": 4,
  "language_info": {
   "name": "python",
   "version": "3.9.7",
   "mimetype": "text/x-python",
   "codemirror_mode": {
    "name": "ipython",
    "version": 3
   },
   "pygments_lexer": "ipython3",
   "nbconvert_exporter": "python",
   "file_extension": ".py"
  },
  "kernelspec": {
   "name": "python3",
   "display_name": "Python 3.9.7 64-bit ('venv': venv)"
  },
  "interpreter": {
   "hash": "69ac8a3723bc3ca9809cbdf606475c85ce184fd1c97a3f50ad4e0dde9fec02cb"
  }
 },
 "nbformat": 4,
 "nbformat_minor": 2
}